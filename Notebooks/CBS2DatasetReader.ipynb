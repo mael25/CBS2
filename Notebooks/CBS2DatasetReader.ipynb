{
 "cells": [
  {
   "cell_type": "markdown",
   "id": "260f5e7b",
   "metadata": {
    "jupyter": {
     "outputs_hidden": false
    },
    "pycharm": {
     "name": "#%%\n"
    }
   },
   "source": [
    "# Data inspector"
   ]
  },
  {
   "cell_type": "markdown",
   "id": "e9e1e9a8",
   "metadata": {},
   "source": [
    "## 0. Imports"
   ]
  },
  {
   "cell_type": "code",
   "execution_count": 1,
   "id": "4f3947ca",
   "metadata": {
    "collapsed": false,
    "jupyter": {
     "outputs_hidden": false
    },
    "pycharm": {
     "name": "#%%\n"
    }
   },
   "outputs": [
    {
     "name": "stdout",
     "output_type": "stream",
     "text": [
      "/storage2/mwildi/CBS2\n"
     ]
    }
   ],
   "source": [
    "#To be at project directory root and not in the Notebooks folder\n",
    "%cd /storage2/mwildi/CBS2\n",
    "\n",
    "#Imports\n",
    "import lmdb\n",
    "import numpy as np\n",
    "import matplotlib.pyplot as plt\n",
    "import pandas as pd\n",
    "from PIL import Image\n",
    "import os\n",
    "from tqdm import tqdm\n",
    "import random\n",
    "from collections import Counter\n",
    "import cv2"
   ]
  },
  {
   "cell_type": "markdown",
   "id": "afdce5de",
   "metadata": {},
   "source": [
    "## 1. Read dataset"
   ]
  },
  {
   "cell_type": "code",
   "execution_count": 2,
   "id": "30425ea4",
   "metadata": {
    "collapsed": false,
    "jupyter": {
     "outputs_hidden": false
    },
    "pycharm": {
     "name": "#%%\n"
    }
   },
   "outputs": [
    {
     "name": "stdout",
     "output_type": "stream",
     "text": [
      "Found 1 repetitions\n",
      "['lbc/dataset/111121/main/yyymqvfchi']\n"
     ]
    }
   ],
   "source": [
    "dataset_path = \"lbc/dataset/111121/main\"\n",
    "repetitions = [x[0] for x in os.walk(dataset_path)][1:]\n",
    "print('Found {} repetitions'.format(len(repetitions)))\n",
    "print(repetitions)\n",
    "#train_paths = [x[0] for x in os.walk(dataset_path + os.path.sep + 'train')][1:]\n",
    "#val_paths = [x[0] for x in os.walk(dataset_path + os.path.sep + 'val')][1:]\n",
    "#print('Found {} train episodes and {} val episodes'.format(len(train_paths), len(val_paths)))\n",
    "#print(val_paths)"
   ]
  },
  {
   "cell_type": "markdown",
   "id": "85ad29c3",
   "metadata": {},
   "source": [
    "### 1.1 Decode dataset"
   ]
  },
  {
   "cell_type": "code",
   "execution_count": 58,
   "id": "dec88939",
   "metadata": {
    "collapsed": false,
    "jupyter": {
     "outputs_hidden": false
    },
    "pycharm": {
     "name": "#%%\n"
    }
   },
   "outputs": [],
   "source": [
    "def decode_dataset(path):\n",
    "    lmdb_env = lmdb.open(path)\n",
    "    lmdb_txn = lmdb_env.begin()\n",
    "    lmdb_cursor = lmdb_txn.cursor()\n",
    "\n",
    "    out = dict()\n",
    "    for key, value in tqdm(lmdb_cursor):\n",
    "        out[key.decode(\"utf-8\")] = value\n",
    "\n",
    "    lmdb_cursor.close()\n",
    "    return out\n",
    "\n",
    "'''def decode_dataset(paths):\n",
    "    outout = dict()\n",
    "    n_episodes = len(paths)\n",
    "    for i, path in enumerate(paths):\n",
    "        print('ep.{}/{}'.format(i+1, n_episodes))\n",
    "        lmdb_env = lmdb.open(path)\n",
    "        lmdb_txn = lmdb_env.begin()\n",
    "        lmdb_cursor = lmdb_txn.cursor()\n",
    "        \n",
    "        for key, value in tqdm(lmdb_cursor):\n",
    "            out[key.decode(\"utf-8\")] = value\n",
    "            \n",
    "        lmdb_cursor.close()\n",
    "    return out'''\n",
    "\n",
    "def decode_step_data(step_data, kind):\n",
    "    if kind == 'tls':\n",
    "        return np.frombuffer(step_data, dtype=np.uint8)\n",
    "    if kind.find('wide_rgb') == -1:\n",
    "        return np.frombuffer(step_data, dtype=np.float32)\n",
    "    else:\n",
    "        img = np.frombuffer(step_data, dtype=np.uint8)\n",
    "        img = img.reshape((240, -1, 3))\n",
    "        return img\n",
    "        \n",
    "\n",
    "def decode_step(dataset, step):\n",
    "    data = {'lbl':None, 'loc':None, 'rot': None, 'spd':None, 'cmd':None, 'wide_rgb_0':None, 'wide_rgb_1':None, 'wide_rgb_2':None, 'tls':None}\n",
    "\n",
    "    for t in data.keys():\n",
    "        d = dataset[\"{}_{:05d}\".format(t, step)]\n",
    "        data[t] = decode_step_data(d, kind=t)\n",
    "\n",
    "    return data"
   ]
  },
  {
   "cell_type": "code",
   "execution_count": 59,
   "id": "794212f6-7e04-4f67-a12a-22bf1ce82ba4",
   "metadata": {
    "collapsed": false,
    "jupyter": {
     "outputs_hidden": false
    },
    "pycharm": {
     "name": "#%%\n"
    }
   },
   "outputs": [
    {
     "name": "stderr",
     "output_type": "stream",
     "text": [
      "3619it [00:00, 32750.25it/s]"
     ]
    },
    {
     "name": "stdout",
     "output_type": "stream",
     "text": [
      "201 frames found\n"
     ]
    },
    {
     "name": "stderr",
     "output_type": "stream",
     "text": [
      "\n"
     ]
    }
   ],
   "source": [
    "rep = decode_dataset(repetitions[0])\n",
    "import math\n",
    "total_frames = math.floor(len(rep)/18)\n",
    "print(f'{total_frames} frames found')"
   ]
  },
  {
   "cell_type": "code",
   "execution_count": 62,
   "id": "20b014b0-cb66-4b97-b363-adfef96128ec",
   "metadata": {
    "collapsed": false,
    "jupyter": {
     "outputs_hidden": false
    },
    "pycharm": {
     "name": "#%%\n"
    }
   },
   "outputs": [],
   "source": [
    "step_data = decode_step(dataset=rep, step=122)\n",
    "bv0=step_data['wide_rgb_2']"
   ]
  },
  {
   "cell_type": "code",
   "execution_count": 63,
   "id": "3c2b7bf2-3753-44d9-8c04-32f62ba2e415",
   "metadata": {},
   "outputs": [
    {
     "name": "stdout",
     "output_type": "stream",
     "text": [
      "TLS: True\n"
     ]
    },
    {
     "data": {
      "image/png": "[encoded data removed]",
      "text/plain": [
       "<Figure size 432x288 with 1 Axes>"
      ]
     },
     "metadata": {
      "needs_background": "light"
     },
     "output_type": "display_data"
    }
   ],
   "source": [
    "plt.imshow(cv2.cvtColor(bv0, cv2.COLOR_BGR2RGB))\n",
    "print('TLS: {}'.format('True'))\n",
    "# 2: Green\n"
   ]
  },
  {
   "cell_type": "code",
   "execution_count": 33,
   "id": "d7e4d435-7f53-469e-832c-b3de3aa1f97b",
   "metadata": {},
   "outputs": [],
   "source": [
    "import cv2\n",
    "import numpy as np\n",
    "import glob\n",
    " \n",
    "img_array = []\n",
    "for i in range(300):\n",
    "    step_data = decode_step(dataset=rep, step=i)\n",
    "    img = step_data['wide_rgb_0']\n",
    "    height, width, _ = img.shape\n",
    "    size = (width,height)\n",
    "    img_array.append(img)\n",
    "out = cv2.VideoWriter('video.avi',cv2.VideoWriter_fourcc(*'DIVX'), 15, size)\n",
    " \n",
    "for i in range(len(img_array)):\n",
    "    out.write(img_array[i])\n",
    "out.release()"
   ]
  },
  {
   "cell_type": "code",
   "execution_count": 4,
   "id": "7db8280f",
   "metadata": {
    "collapsed": false,
    "jupyter": {
     "outputs_hidden": false
    },
    "pycharm": {
     "name": "#%%\n"
    }
   },
   "outputs": [],
   "source": [
    "import math\n",
    "def get_red_tl():\n",
    "    is_red_tl = []\n",
    "    speed = []\n",
    "    for i in range(int(dataset['len'].decode())):\n",
    "        is_red_tl.append(decode_frame(i)['trafficlights'])\n",
    "    c = Counter(is_red_tl)\n",
    "    n_red_frames = c[0]\n",
    "    n_frames = sum(c.values())\n",
    "    \n",
    "    level_changes = 0\n",
    "    for i,tl in enumerate(is_red_tl):\n",
    "        if (i != 0 and tl != old_tl):\n",
    "            level_changes += 1\n",
    "        old_tl = tl\n",
    "    red_lights = math.floor(level_changes/2)\n",
    "    infos = [red_lights, n_red_frames, n_frames]\n",
    "    \n",
    "    return infos\n",
    "\n",
    "def get_red_tl_by_cmd():\n",
    "    is_red_tl = []\n",
    "    speed = []\n",
    "    for i in range(int(dataset['len'].decode())):\n",
    "        if decode_frame(i)['trafficlights']:\n",
    "            cmd = int(decode_frame(i)['measurements'][18])\n",
    "            is_red_tl.append(cmd)\n",
    "        else:\n",
    "            is_red_tl.append(0)\n",
    "    c = Counter(is_red_tl)\n",
    "    print(c)\n",
    "    no_red = c[0]\n",
    "    red_l = c[1]\n",
    "    red_r = c[2]\n",
    "    red_s = c[3]\n",
    "    red_f = c[4]\n",
    "    n_frames = sum(c.values())\n",
    "    n_red_frames = n_frames - no_red\n",
    "    \n",
    "    level_changes = 0\n",
    "    for i,tl in enumerate(is_red_tl):\n",
    "        if (i != 0 and tl != old_tl):\n",
    "            level_changes += 1\n",
    "        old_tl = tl\n",
    "    red_lights = math.floor(level_changes/2)\n",
    "    infos = [red_lights, n_red_frames, n_frames, red_l, red_r, red_s, red_f]\n",
    "    \n",
    "    return infos"
   ]
  },
  {
   "cell_type": "code",
   "execution_count": 5,
   "id": "07bc182a",
   "metadata": {
    "collapsed": false,
    "jupyter": {
     "outputs_hidden": false
    },
    "pycharm": {
     "name": "#%%\n"
    }
   },
   "outputs": [],
   "source": [
    "path_list = val_paths\n",
    "filename = 'val2.txt'\n",
    "#ox, oy, oz, ori_ox, ori_oy, vx, vy, vz, _, _, _, _, _, _, ax, ay, az, cmd, steer, throttle, brake, manual, gear  = measurement"
   ]
  },
  {
   "cell_type": "code",
   "execution_count": null,
   "id": "01a2ed8c",
   "metadata": {
    "collapsed": false,
    "jupyter": {
     "outputs_hidden": false
    },
    "pycharm": {
     "name": "#%%\n"
    }
   },
   "outputs": [],
   "source": [
    "n_episodes = len(path_list)\n",
    "episodes_tl_infos = np.zeros((n_episodes, 3))\n",
    "with open(filename,\"w\") as savefile:     \n",
    "    for i, path in enumerate(path_list):\n",
    "        print('ep.{}/{}'.format(i, n_episodes))\n",
    "        dataset = decode_dataset(path)\n",
    "        print(len(dataset))\n",
    "        if len(dataset) != 0:\n",
    "            \n",
    "            #row = get_red_tl()\n",
    "            row = get_red_tl_by_cmd()\n",
    "            print(row)\n",
    "            np.savetxt(savefile, row, fmt='%i', delimiter=\",\")"
   ]
  },
  {
   "cell_type": "code",
   "execution_count": null,
   "id": "5a78b140",
   "metadata": {
    "collapsed": false,
    "jupyter": {
     "outputs_hidden": false
    },
    "pycharm": {
     "name": "#%%\n"
    }
   },
   "outputs": [],
   "source": [
    "#save_tl_data(train_paths,'test.txt')"
   ]
  },
  {
   "cell_type": "code",
   "execution_count": null,
   "id": "e7a86a61",
   "metadata": {
    "collapsed": false,
    "jupyter": {
     "outputs_hidden": false
    },
    "pycharm": {
     "name": "#%%\n"
    }
   },
   "outputs": [],
   "source": [
    "#save_tl_data(train_paths, 'val.txt')"
   ]
  },
  {
   "cell_type": "code",
   "execution_count": 85,
   "id": "2f796c8a",
   "metadata": {
    "collapsed": false,
    "jupyter": {
     "outputs_hidden": false
    },
    "pycharm": {
     "name": "#%%\n"
    }
   },
   "outputs": [],
   "source": [
    "def retrieve_tl_infos(filename):\n",
    "    retrieved = np.fromfile(filename, sep='\\n').astype(int).reshape(-1,3)\n",
    "    print('Retrieved {} episodes'.format(retrieved.shape[0]))\n",
    "    red_lights = retrieved[:,0]\n",
    "    n_red_frames = retrieved[:,1]\n",
    "    n_frames = retrieved[:,2]\n",
    "    return red_lights, n_red_frames, n_frames\n",
    "\n",
    "def retrieve_tl_infos_cmd(filename):\n",
    "    retrieved = np.fromfile(filename, sep='\\n').astype(int).reshape(-1,7)\n",
    "    print('Retrieved {} episodes'.format(retrieved.shape[0]))\n",
    "    #print(retrieved)\n",
    "    retrieved = np.sum(retrieved, axis=0) # Sum over all epsisodes\n",
    "    total_infractions = retrieved[0]\n",
    "    total_frames = retrieved[1] # Store total number of frames to compute rates PER FRAME\n",
    "    rates = 100*retrieved[3:]/total_frames # Compute rates\n",
    "    return total_frames, rates"
   ]
  },
  {
   "cell_type": "code",
   "execution_count": 89,
   "id": "69ac8b2b",
   "metadata": {
    "collapsed": false,
    "jupyter": {
     "outputs_hidden": false
    },
    "pycharm": {
     "name": "#%%\n"
    }
   },
   "outputs": [
    {
     "name": "stdout",
     "output_type": "stream",
     "text": [
      "Retrieved 142 episodes\n",
      "Retrieved 33 episodes\n",
      "[ 8.5656737   2.29778437  8.05152126 81.08502067]\n",
      "100.0\n"
     ]
    },
    {
     "data": {
      "image/png": "[encoded data removed]",
      "text/plain": [
       "<Figure size 864x504 with 1 Axes>"
      ]
     },
     "metadata": {
      "needs_background": "light"
     },
     "output_type": "display_data"
    }
   ],
   "source": [
    "red_lights_t, percentages_t = retrieve_tl_infos_cmd('test_s.txt')\n",
    "red_lights_v, percentages_v = retrieve_tl_infos_cmd('val_s.txt')\n",
    "\n",
    "print(percentages)\n",
    "print(sum(percentages)) #Should be 100%\n",
    "legends = ['Left', 'Right', 'Straight', 'Follow lane']\n",
    "x_title = 'Dataset'\n",
    "plot_labels = ['Training', 'Validation']\n",
    "\n",
    "metrics = pd.DataFrame(np.array([percentages_t, percentages_v]), columns=legends)\n",
    "ax = metrics.plot(kind='bar', figsize=(12, 7), legend=True, fontsize=16)\n",
    "ax.set_xlabel(x_title)\n",
    "x = np.arange(len(plot_labels))\n",
    "ax.set_xticks(x)\n",
    "ax.set_xticklabels(plot_labels, fontsize=16, rotation='horizontal')\n",
    "ax.set_ylabel(\"Ratio $red_{cmd}$ / $red_{total}$ [%]\", fontsize=16)\n",
    "plt.title(\"Frames with red light by directional command\", fontsize=20, weight='bold')\n",
    "plt.savefig('command_rtl_comp.png')\n",
    "\n",
    "#red_lights, n_red_frames, n_frames, red_l, red_r, red_s, red_f = retrieve_tl_infos('test.txt')\n",
    "#red_lights, n_red_frames, n_frames, red_l, red_r, red_s, red_f = retrieve_tl_infos('val.txt')"
   ]
  },
  {
   "cell_type": "code",
   "execution_count": 67,
   "id": "44aa3160",
   "metadata": {
    "collapsed": false,
    "jupyter": {
     "outputs_hidden": false
    },
    "pycharm": {
     "name": "#%%\n"
    }
   },
   "outputs": [
    {
     "ename": "NameError",
     "evalue": "name 'n_red_frames_t' is not defined",
     "output_type": "error",
     "traceback": [
      "\u001b[0;31m---------------------------------------------------------------------------\u001b[0m",
      "\u001b[0;31mNameError\u001b[0m                                 Traceback (most recent call last)",
      "\u001b[0;32m<ipython-input-67-7b847cb5134b>\u001b[0m in \u001b[0;36m<module>\u001b[0;34m\u001b[0m\n\u001b[0;32m----> 1\u001b[0;31m \u001b[0mprint\u001b[0m\u001b[0;34m(\u001b[0m\u001b[0mlen\u001b[0m\u001b[0;34m(\u001b[0m\u001b[0mn_red_frames_t\u001b[0m\u001b[0;34m)\u001b[0m\u001b[0;34m/\u001b[0m\u001b[0msum\u001b[0m\u001b[0;34m(\u001b[0m\u001b[0mn_frames_t\u001b[0m\u001b[0;34m)\u001b[0m\u001b[0;34m)\u001b[0m\u001b[0;34m\u001b[0m\u001b[0m\n\u001b[0m\u001b[1;32m      2\u001b[0m \u001b[0mprint\u001b[0m\u001b[0;34m(\u001b[0m\u001b[0msum\u001b[0m\u001b[0;34m(\u001b[0m\u001b[0mn_red_frames_v\u001b[0m\u001b[0;34m)\u001b[0m\u001b[0;34m/\u001b[0m\u001b[0msum\u001b[0m\u001b[0;34m(\u001b[0m\u001b[0mn_frames_v\u001b[0m\u001b[0;34m)\u001b[0m\u001b[0;34m)\u001b[0m\u001b[0;34m\u001b[0m\u001b[0m\n",
      "\u001b[0;31mNameError\u001b[0m: name 'n_red_frames_t' is not defined"
     ]
    }
   ],
   "source": [
    "print(len(n_red_frames_t)/sum(n_frames_t))\n",
    "print(sum(n_red_frames_v)/sum(n_frames_v))"
   ]
  },
  {
   "cell_type": "code",
   "execution_count": null,
   "id": "2a471b1a",
   "metadata": {
    "collapsed": false,
    "jupyter": {
     "outputs_hidden": false
    },
    "pycharm": {
     "name": "#%%\n"
    }
   },
   "outputs": [],
   "source": [
    "n_red_frames_t"
   ]
  },
  {
   "cell_type": "code",
   "execution_count": null,
   "id": "4b37a99a",
   "metadata": {
    "collapsed": false,
    "jupyter": {
     "outputs_hidden": false
    },
    "pycharm": {
     "name": "#%%\n"
    }
   },
   "outputs": [],
   "source": [
    "avg_tl = np.mean(tl)\n",
    "avg_rate = np.mean(tl_frames_percentage)\n",
    "print(avg_tl, avg_rate)"
   ]
  },
  {
   "cell_type": "code",
   "execution_count": null,
   "id": "4b8f009d",
   "metadata": {
    "collapsed": false,
    "jupyter": {
     "outputs_hidden": false
    },
    "pycharm": {
     "name": "#%%\n"
    }
   },
   "outputs": [],
   "source": [
    "import seaborn as sns\n",
    "plt.figure(figsize=(10, 8))\n",
    "ax = sns.boxplot(data=[tl_t.astype('float'), tl_v.astype('float')])\n",
    "ax = sns.boxplot(..., labels=[\"Metric\", \"Length\"])\n",
    "plt.ylabel(\"Red traffic lights per episode\", size=14)\n",
    "plt.xlabel(\"Dataset\", size=14)\n",
    "plt.title(\"Repartition of red traffic lights in train and val dataset\", size=18)\n",
    "plt.savefig(\"comprtl.png\")"
   ]
  },
  {
   "cell_type": "code",
   "execution_count": null,
   "id": "e7aac2f9",
   "metadata": {
    "collapsed": false,
    "jupyter": {
     "outputs_hidden": false
    },
    "pycharm": {
     "name": "#%%\n"
    }
   },
   "outputs": [],
   "source": [
    "data = [tl_t, tl_t]\n",
    "fig7, ax7 = plt.subplots()\n",
    "ax7.set_title('Multiple Samples with Different sizes')\n",
    "ax7.boxplot(data)\n",
    "ax7.legend(labels=['dsdssd','dssd'])\n",
    "plt.show()"
   ]
  },
  {
   "cell_type": "code",
   "execution_count": null,
   "id": "07eca673",
   "metadata": {
    "collapsed": false,
    "jupyter": {
     "outputs_hidden": false
    },
    "pycharm": {
     "name": "#%%\n"
    }
   },
   "outputs": [],
   "source": [
    "tl_perc_t"
   ]
  },
  {
   "cell_type": "markdown",
   "id": "ac8caa82",
   "metadata": {},
   "source": [
    "### 1.2 Explore dataset"
   ]
  },
  {
   "cell_type": "markdown",
   "id": "2b2e58dc",
   "metadata": {},
   "source": [
    "### 1.2 Inspect traffic lights state"
   ]
  },
  {
   "cell_type": "code",
   "execution_count": null,
   "id": "fab9e4ab",
   "metadata": {
    "collapsed": false,
    "jupyter": {
     "outputs_hidden": false
    },
    "pycharm": {
     "name": "#%%\n"
    }
   },
   "outputs": [],
   "source": [
    "is_red_tl = []\n",
    "speed = []\n",
    "for i in range(int(out['len'].decode())):\n",
    "    is_red_tl.append(decode_frame(i)['trafficlights'])\n",
    "    meas = decode_frame(i)['measurements']\n",
    "    # Measurements: [ox, oy, oz, ori_ox, ori_oy, vx, vy, vz, _, _, _, _, _, _, ax, ay, az, cmd, steer, throttle, brake, manual, gear]\n",
    "    vel = meas[5:8]\n",
    "    speed.append(np.linalg.norm(vel))\n",
    "\n",
    "c = Counter(is_red_tl)\n",
    "total = sum(c.values())\n",
    "mapping = {1: 'Red', 0:'Green/Yellow/None'}\n",
    "print([\"{}: {} ({})%\".format(mapping.get(k, k), round(v / total * 100, 1), v) for k, v in c.items()])"
   ]
  },
  {
   "cell_type": "code",
   "execution_count": null,
   "id": "5c11ff08",
   "metadata": {
    "collapsed": false,
    "jupyter": {
     "outputs_hidden": false
    },
    "pycharm": {
     "name": "#%%\n"
    }
   },
   "outputs": [],
   "source": [
    "fig,ax=plt.subplots()\n",
    "ax.plot(range(len(is_red_tl)),is_red_tl, 'r--')\n",
    "ax.set_xlabel(\"Frame\")\n",
    "ax.set_ylabel(\"Red light\", color='red')\n",
    "\n",
    "ax2=ax.twinx()\n",
    "ax2.plot(range(len(is_red_tl)), speed, 'b')\n",
    "ax2.set_ylabel(\"Speed [m/s]\", color='blue')\n",
    "plt.show()"
   ]
  },
  {
   "cell_type": "code",
   "execution_count": null,
   "id": "03db78a5",
   "metadata": {
    "collapsed": false,
    "jupyter": {
     "outputs_hidden": false
    },
    "pycharm": {
     "name": "#%%\n"
    }
   },
   "outputs": [],
   "source": [
    "frames_with_red = []\n",
    "for i in range(len(is_red_tl)):\n",
    "    if(is_red_tl[i]==1):\n",
    "        frames_with_red.append(i)\n",
    "frames_with_red"
   ]
  },
  {
   "cell_type": "code",
   "execution_count": null,
   "id": "94449893",
   "metadata": {
    "collapsed": false,
    "jupyter": {
     "outputs_hidden": false
    },
    "pycharm": {
     "name": "#%%\n"
    }
   },
   "outputs": [],
   "source": [
    "frame_of_interest = decode_frame(700)"
   ]
  },
  {
   "cell_type": "code",
   "execution_count": null,
   "id": "e04bfc36",
   "metadata": {
    "collapsed": false,
    "jupyter": {
     "outputs_hidden": false
    },
    "pycharm": {
     "name": "#%%\n"
    }
   },
   "outputs": [],
   "source": [
    "rgb=frame_of_interest['rgb']\n",
    "resized = cv2.resize(rgb, (int(rgb.shape[1]/2), int(rgb.shape[0]/2)), interpolation = cv2.INTER_AREA)\n",
    "cv2.imwrite('a.png', cv2.cvtColor(resized, cv2.COLOR_RGB2BGR))"
   ]
  },
  {
   "cell_type": "code",
   "execution_count": null,
   "id": "354515f6",
   "metadata": {
    "collapsed": false,
    "jupyter": {
     "outputs_hidden": false
    },
    "pycharm": {
     "name": "#%%\n"
    }
   },
   "outputs": [],
   "source": [
    "plt.imshow(frame_of_interest['segmentation'][:,:,0]==12) # Carla TL semantic seg channel"
   ]
  },
  {
   "cell_type": "code",
   "execution_count": null,
   "id": "60fa488d",
   "metadata": {
    "collapsed": false,
    "jupyter": {
     "outputs_hidden": false
    },
    "pycharm": {
     "name": "#%%\n"
    }
   },
   "outputs": [],
   "source": [
    "plt.imshow(rgb)\n",
    "plt.axis('off')\n",
    "plt.savefig('rgb.png', bbox_inches='tight', pad_inches=0)"
   ]
  },
  {
   "cell_type": "code",
   "execution_count": null,
   "id": "3410f7b6",
   "metadata": {
    "collapsed": false,
    "jupyter": {
     "outputs_hidden": false
    },
    "pycharm": {
     "name": "#%%\n"
    }
   },
   "outputs": [],
   "source": [
    "a=frame_of_interest['segmentation'][:, :, 0]\n",
    "plt.imshow(a)\n",
    "plt.axis('off')\n",
    "plt.savefig('seg.png', bbox_inches='tight', pad_inches=0)"
   ]
  },
  {
   "cell_type": "code",
   "execution_count": null,
   "id": "3b417686",
   "metadata": {
    "collapsed": false,
    "jupyter": {
     "outputs_hidden": false
    },
    "pycharm": {
     "name": "#%%\n"
    }
   },
   "outputs": [],
   "source": [
    "bv=frame_of_interest['birdview']\n",
    "print(bv.shape[0:2])\n",
    "b=np.zeros(bv.shape[0:2])\n",
    "for k in range(bv.shape[2]):\n",
    "    b[bv[:,:,k] != 0] = k\n",
    "    #mask[..., i][seg == i] = 1\n",
    "plt.imshow(b)\n",
    "plt.axis('off')\n",
    "plt.savefig('bv.png', bbox_inches='tight', pad_inches=0)"
   ]
  },
  {
   "cell_type": "code",
   "execution_count": null,
   "id": "3662600a",
   "metadata": {
    "collapsed": false,
    "jupyter": {
     "outputs_hidden": false
    },
    "pycharm": {
     "name": "#%%\n"
    }
   },
   "outputs": [],
   "source": [
    "# Red Traffic light birdview binary mask\n",
    "plt.imshow(frame_of_interest['birdview'][:,:,2])\n",
    "plt.axis('off')\n",
    "plt.savefig('bvtl.png', bbox_inches='tight', pad_inches=0)"
   ]
  },
  {
   "cell_type": "code",
   "execution_count": null,
   "id": "3f1d2ad0",
   "metadata": {
    "collapsed": false,
    "jupyter": {
     "outputs_hidden": false
    },
    "pycharm": {
     "name": "#%%\n"
    }
   },
   "outputs": [],
   "source": [
    "def draw_frame(frame, i):\n",
    "    font                   = cv2.FONT_HERSHEY_SIMPLEX\n",
    "    bottomLeftCornerOfText = (int(0.1*frame.shape[0]), int(0.9*frame.shape[0]))\n",
    "    fontScale              = 1\n",
    "    fontColor              = [0,255,0]\n",
    "    fontColor2              = [255,0,0]\n",
    "    lineType               = 2\n",
    "    printed_frame = cv2.putText(frame.copy(),'Frame: '+str(i), \n",
    "            bottomLeftCornerOfText, font, fontScale, fontColor, lineType);\n",
    "    return printed_frame\n",
    "\n",
    "video = cv2.VideoWriter('videos/dataset_23_09_overview.avi', 0, 10, (384, 160))\n",
    "for i in range(int(out['len'].decode())):\n",
    "    drawn_frame = draw_frame(decode_frame(i)['rgb'], i)\n",
    "    video.write(drawn_frame)\n",
    "video.release()"
   ]
  },
  {
   "cell_type": "code",
   "execution_count": null,
   "id": "7fb49370",
   "metadata": {
    "collapsed": false,
    "jupyter": {
     "outputs_hidden": false
    },
    "pycharm": {
     "name": "#%%\n"
    }
   },
   "outputs": [],
   "source": [
    "#from IPython.core.display import Video\n",
    "#Video(\"videos/dataset_23_09_overview.mp4\", embed=True)"
   ]
  },
  {
   "cell_type": "markdown",
   "id": "729e5c59",
   "metadata": {},
   "source": [
    "## 2. Waypoints computation"
   ]
  },
  {
   "cell_type": "markdown",
   "id": "389a5d22",
   "metadata": {},
   "source": [
    "### 2.1 Tools for transformations"
   ]
  },
  {
   "cell_type": "code",
   "execution_count": null,
   "id": "1df729e8",
   "metadata": {
    "collapsed": false,
    "jupyter": {
     "outputs_hidden": false
    },
    "pycharm": {
     "name": "#%%\n"
    }
   },
   "outputs": [],
   "source": [
    "class Location():\n",
    "    def __init__(self, x, y, z):\n",
    "        self.x = x\n",
    "        self.y = y\n",
    "        self.z = z\n",
    "\n",
    "    def __repr__(self,):\n",
    "        return self.__str__()\n",
    "\n",
    "    def __str__(self,):\n",
    "        return \"Location(x={}, y={}, z={})\".format(self.x, self.y, self.z)\n",
    "\n",
    "class Rotation():\n",
    "    def __init__(self, p, y, r):\n",
    "        self.pitch = p\n",
    "        self.yaw = y\n",
    "        self.roll = r\n",
    "\n",
    "    def __repr__(self,):\n",
    "        return self.__str__()\n",
    "\n",
    "    def __str__(self):\n",
    "        return \"Rotation(pitch={}, yaw={}, roll={})\".format(self.pitch, self.yaw, self.roll)\n",
    "\n",
    "class Transform():\n",
    "    def __init__(self, loc, rot):\n",
    "        self.location = loc\n",
    "        self.rotation = rot\n",
    "\n",
    "    def __repr__(self,):\n",
    "        return self.__str__()\n",
    "\n",
    "    def __str__(self,):\n",
    "        return \"Transform({}, {})\".format(self.location, self.rotation)"
   ]
  },
  {
   "cell_type": "markdown",
   "id": "0b7da42f",
   "metadata": {},
   "source": [
    "### 2.2 Compute waypoints"
   ]
  },
  {
   "cell_type": "code",
   "execution_count": null,
   "id": "19fcdc16",
   "metadata": {
    "collapsed": false,
    "jupyter": {
     "outputs_hidden": false
    },
    "pycharm": {
     "name": "#%%\n"
    }
   },
   "outputs": [],
   "source": [
    "def project_vehicle(x, y, z, ori_x, ori_y, ori_z):\n",
    "    pos = np.array([x,y,z])\n",
    "    ori = np.array([ori_x, ori_y, ori_z])\n",
    "    ori /= np.linalg.norm(ori)  # Make unit vector\n",
    "\n",
    "    new_pos = pos + 4 * ori\n",
    "    return converter.convert(np.array([new_pos]))\n",
    "\n",
    "def interpolate_waypoints(points):\n",
    "    points = points[:, :2]\n",
    "\n",
    "    # Fit cubic function through points\n",
    "    z = np.polyfit(points[:, 0], points[:, 1], 2)\n",
    "    p = np.poly1d(z)\n",
    "\n",
    "    # Keep interpolating until we have 5 points\n",
    "    while points.shape[0] < 5:\n",
    "        points_2 = np.vstack([points[0], points[:-1]])\n",
    "        max_id = np.argmax(np.linalg.norm(points-points_2, axis=1))\n",
    "        _x = np.mean([points[max_id], points_2[max_id]], axis=0)[0]\n",
    "        points = np.insert(points, max_id, np.array([_x, p(_x)]), 0)\n",
    "\n",
    "    return points\n",
    "\n",
    "def get_waypoints(REF_FRAME, world_x, world_y, world_z, ori_x, ori_y, ori_z, GAP=5):\n",
    "    if decode_frame(REF_FRAME)['trafficlights']:\n",
    "        vehicle_proj = project_vehicle(world_x, world_y, world_z, ori_x, ori_y, ori_z)\n",
    "        output = np.array([vehicle_proj[0] for _ in range(5)])\n",
    "        return output\n",
    "\n",
    "    output = []\n",
    "    for i in range(REF_FRAME, (REF_FRAME + (N_STEP+1+BUFFER*GAP)), GAP):\n",
    "        if len(output) == N_STEP:\n",
    "            break\n",
    "\n",
    "        x, y, z = decode_frame(i)['measurements'][:3]\n",
    "        image_coords = converter.convert(np.array([[x, y, z]]))\n",
    "        if len(image_coords) > 0:\n",
    "            output.append(image_coords[0])\n",
    "\n",
    "    if len(output) < 2:\n",
    "        # First try with smaller GAP\n",
    "        if GAP == 5:\n",
    "            return get_waypoints(REF_FRAME, world_x, world_y, world_z, ori_x, ori_y, ori_z, GAP=1)\n",
    "\n",
    "        vehicle_proj = project_vehicle(world_x, world_y, world_z, ori_x, ori_y, ori_z)\n",
    "        output = np.array([vehicle_proj[0] for _ in range(5)])\n",
    "        return output\n",
    "\n",
    "    if len(output) >= 2 and len(output) < 5:\n",
    "        return interpolate_waypoints(np.array(output))\n",
    "\n",
    "    return np.array(output)"
   ]
  },
  {
   "cell_type": "code",
   "execution_count": null,
   "id": "233a4dfd",
   "metadata": {
    "collapsed": false,
    "jupyter": {
     "outputs_hidden": false
    },
    "pycharm": {
     "name": "#%%\n"
    }
   },
   "outputs": [],
   "source": [
    "# REF_FRAME = 800\n",
    "N_STEP = 5\n",
    "BUFFER = 40\n",
    "N_DATASET_CATEGORIES = 9 #(used to be 7)\n",
    "\n",
    "np.set_printoptions(suppress=True)\n",
    "\n",
    "all_wp = []\n",
    "#N = int((len(out)-1)/7)\n",
    "N = int((len(out)-1)/N_DATASET_CATEGORIES) - 1\n",
    "for frame in tqdm(range(N - (N_STEP * BUFFER) - 1)):\n",
    "        # Extract world coordinates from dataset\n",
    "        world_coords = decode_frame(frame)['measurements']\n",
    "        world_x, world_y, world_z, ori_x, ori_y, ori_z, _, _, _, cam_x, cam_y, cam_z, cam_yaw, cam_roll, cam_pitch = world_coords[:15]\n",
    "\n",
    "        sensor_transform = Transform(Location(cam_x, cam_y, cam_z), Rotation(cam_yaw, cam_roll, cam_pitch))\n",
    "        converter = CoordinateConverter(sensor_transform, fov=120)\n",
    "\n",
    "        image_coord_wp = get_waypoints(frame, world_x, world_y, world_z, ori_x, ori_y, ori_z)\n",
    "\n",
    "        all_wp.append(image_coord_wp[:, :2])"
   ]
  },
  {
   "cell_type": "markdown",
   "id": "af9bfa35",
   "metadata": {},
   "source": [
    "## 3. Image processing"
   ]
  },
  {
   "cell_type": "markdown",
   "id": "4d406cae",
   "metadata": {},
   "source": [
    "### 3.1 Segmentation from 2D to ND "
   ]
  },
  {
   "cell_type": "code",
   "execution_count": null,
   "id": "c9ece8d8",
   "metadata": {
    "collapsed": false,
    "jupyter": {
     "outputs_hidden": false
    },
    "pycharm": {
     "name": "#%%\n"
    }
   },
   "outputs": [],
   "source": [
    "N_CLASSES = 13\n",
    "N_CLASSES_COMBINED = 6\n",
    "KEEP_CLASSES = {4,6,7,10,12}\n",
    "N_TRAFFIC_LIGHT_STATES = 1\n",
    "\n",
    "def seg2D_to_ND_combined(seg, tl_info):\n",
    "    seg = seg[:, :, 0]  # CARLA stores segmentation values in R channel\n",
    "    mask = np.zeros((*seg.shape, N_CLASSES_COMBINED + N_TRAFFIC_LIGHT_STATES))\n",
    "\n",
    "    for i, seg_class in enumerate(KEEP_CLASSES):\n",
    "        mask[..., i][seg == seg_class] = 1\n",
    "\n",
    "    TO_COMBINE = set(range(N_CLASSES))-KEEP_CLASSES\n",
    "    for i in TO_COMBINE:\n",
    "        mask[..., len(KEEP_CLASSES)] += seg==i\n",
    "\n",
    "    if tl_info == 0:\n",
    "        return mask\n",
    "\n",
    "    # Select channel and set binary mask, 12 is traffic sign class\n",
    "    mask[..., N_CLASSES_COMBINED][seg == 12] = 1\n",
    "\n",
    "    return mask\n",
    "\n",
    "def seg2D_to_ND(seg, tl_info, combine=False):\n",
    "    \"\"\"Converts 2D segmentation image to ND array with N boolean masks.\n",
    "    Where N corresponds to number of segmentation classes.\"\"\"\n",
    "    if combine:\n",
    "        return seg2D_to_ND_combined(seg, tl_info)\n",
    "\n",
    "    seg = seg[:, :, 0]  # CARLA stores segmentation values in R channel\n",
    "    mask = np.zeros((*seg.shape, N_CLASSES + N_TRAFFIC_LIGHT_STATES))\n",
    "\n",
    "    for i in range(N_CLASSES):\n",
    "        mask[..., i][seg == i] = 1\n",
    "\n",
    "    if tl_info == 0:\n",
    "        return mask\n",
    "\n",
    "    # Select channel and set binary mask, 12 is traffic sign class\n",
    "    mask[..., N_CLASSES][seg == 12] = 1\n",
    "\n",
    "    return mask\n",
    "\n",
    "\n",
    "#UNUSED\n",
    "def seg2D_to_ND_new(seg, tl_info, combine=False):\n",
    "    \"\"\"Converts 2D segmentation image to ND array with N boolean masks.\n",
    "    Where N corresponds to number of segmentation classes.\"\"\"\n",
    "    if combine:\n",
    "        return seg2D_to_ND_combined(seg, tl_info)\n",
    "\n",
    "    seg = seg[:, :, 0]  # CARLA stores segmentation values in R channel\n",
    "    mask = np.zeros((*seg.shape, N_CLASSES))\n",
    "\n",
    "    # Do not add traffic light state yet\n",
    "    for i in range(N_CLASSES-1):\n",
    "        mask[..., i][seg == i] = 1\n",
    "\n",
    "    # Add traffic light state, 12 is traffic sign class\n",
    "    mask[..., 12][seg == 12] = tl_info\n",
    "\n",
    "    return mask"
   ]
  },
  {
   "cell_type": "code",
   "execution_count": null,
   "id": "05ec70aa",
   "metadata": {
    "collapsed": false,
    "jupyter": {
     "outputs_hidden": false
    },
    "pycharm": {
     "name": "#%%\n"
    }
   },
   "outputs": [],
   "source": [
    "N_CLASSES=5\n",
    "a= np.random.randint(N_CLASSES, size=(10,4))\n",
    "a"
   ]
  },
  {
   "cell_type": "code",
   "execution_count": null,
   "id": "a02095ff",
   "metadata": {
    "collapsed": false,
    "jupyter": {
     "outputs_hidden": false
    },
    "pycharm": {
     "name": "#%%\n"
    }
   },
   "outputs": [],
   "source": [
    "mask = np.zeros((*a.shape, N_CLASSES))\n",
    "mask.shape\n",
    "\n",
    "# Do not add traffic light state yet\n",
    "for i in range(N_CLASSES):\n",
    "    mask[..., i][a == i] = 5\n",
    "    print(mask[:,:,i])"
   ]
  },
  {
   "cell_type": "code",
   "execution_count": null,
   "id": "82767ca3",
   "metadata": {
    "collapsed": false,
    "jupyter": {
     "outputs_hidden": false
    },
    "pycharm": {
     "name": "#%%\n"
    }
   },
   "outputs": [],
   "source": [
    "mask[:,:, 3]"
   ]
  },
  {
   "cell_type": "code",
   "execution_count": null,
   "id": "7fad62de",
   "metadata": {
    "collapsed": false,
    "jupyter": {
     "outputs_hidden": false
    },
    "pycharm": {
     "name": "#%%\n"
    }
   },
   "outputs": [],
   "source": [
    "tc = seg2D_to_ND_combined(decode_frame(N)['segmentation'], decode_frame(N)['trafficlights'])\n",
    "plt.imshow(tc[..., -2])\n",
    "plt.show()\n",
    "tc.shape"
   ]
  },
  {
   "cell_type": "code",
   "execution_count": null,
   "id": "52100ff1",
   "metadata": {
    "collapsed": false,
    "jupyter": {
     "outputs_hidden": false
    },
    "pycharm": {
     "name": "#%%\n"
    }
   },
   "outputs": [],
   "source": [
    "t = seg2D_to_ND(decode_frame(N)['segmentation'], decode_frame(N)['trafficlights'], combine=False)\n",
    "plt.imshow(t[..., -2])\n",
    "plt.show()\n",
    "t.shape"
   ]
  },
  {
   "cell_type": "markdown",
   "id": "fb35427a",
   "metadata": {},
   "source": [
    "### 3.2 Down-scaling"
   ]
  },
  {
   "cell_type": "code",
   "execution_count": null,
   "id": "5f056822",
   "metadata": {
    "collapsed": false,
    "jupyter": {
     "outputs_hidden": false
    },
    "pycharm": {
     "name": "#%%\n"
    }
   },
   "outputs": [],
   "source": [
    "def down_scale(img):\n",
    "    new_shape = (img.shape[0]//2, img.shape[1]//2)\n",
    "    img = np.moveaxis(img, 1, 0)\n",
    "    img = cv2.resize(img.astype(np.float32), new_shape)\n",
    "    img = np.moveaxis(img, 1, 0)\n",
    "\n",
    "    return img"
   ]
  },
  {
   "cell_type": "markdown",
   "id": "efab0bb2",
   "metadata": {},
   "source": [
    "### 3.3 Augmentation sequence"
   ]
  },
  {
   "cell_type": "code",
   "execution_count": null,
   "id": "1274fd14",
   "metadata": {
    "collapsed": false,
    "jupyter": {
     "outputs_hidden": false
    },
    "pycharm": {
     "name": "#%%\n"
    }
   },
   "outputs": [],
   "source": [
    "import imgaug.augmenters as iaa\n",
    "import imgaug as ia\n",
    "from imgaug.augmentables import Keypoint, KeypointsOnImage\n",
    "\n",
    "#def affine(image):\n",
    "#    aug = iaa.Affine(translate_px={\"x\": (-30, 30), \"y\": (0, -5)}, scale={\"x\": (1, 1.15), \"y\": (1, 1.15)}, mode='reflect')\n",
    "#    return aug(images=image)\n",
    "\n",
    "# def dropout(image):\n",
    "#     aug = iaa.Dropout(p=(0, 0.1), per_channel=0.5)\n",
    "#     return aug(images=image)\n",
    "\n",
    "# def blur(image):\n",
    "#     aug = iaa.MotionBlur(k=5, angle=[-90, 0, 90])\n",
    "#     return aug(images=image)\n",
    "\n",
    "sometimes = lambda aug: iaa.Sometimes(0.33, aug)\n",
    "# seq = iaa.Affine(translate_px={\"x\": (-15, 15), \"y\": (0, -5)}, scale={\"x\": (1, 1.15), \"y\": (1, 1.15)}, mode='reflect')\n",
    "seq = iaa.Sequential(\n",
    "        [\n",
    "            sometimes(\n",
    "                iaa.Affine(\n",
    "                    translate_px={\"x\": (-15, 15), \"y\": (0, -5)},\n",
    "                    scale={\"x\": (1, 1.15), \"y\": (1, 1.15)},\n",
    "                    mode='reflect')\n",
    "            ),\n",
    "            sometimes(\n",
    "                iaa.Dropout(\n",
    "                    p=(0, 0.1),\n",
    "                    per_channel=0.5)\n",
    "            ),\n",
    "            sometimes(\n",
    "                iaa.MotionBlur(\n",
    "                    k=(3,5),\n",
    "                    angle=[-90, 0, 90])\n",
    "            )\n",
    "        ],\n",
    "    random_order=True)"
   ]
  },
  {
   "cell_type": "code",
   "execution_count": null,
   "id": "e3afe782",
   "metadata": {
    "collapsed": false,
    "jupyter": {
     "outputs_hidden": false
    },
    "pycharm": {
     "name": "#%%\n"
    }
   },
   "outputs": [],
   "source": [
    "# Create Keypoint objects from waypoints so that we can apply to them the same augmentation sequence as the image\n",
    "def points_to_keypoints(points, shape):\n",
    "    kps = KeypointsOnImage([\n",
    "        Keypoint(x=points[0][0], y=points[0][1]),\n",
    "        Keypoint(x=points[1][0], y=points[1][1]),\n",
    "        Keypoint(x=points[2][0], y=points[2][1]),\n",
    "        Keypoint(x=points[3][0], y=points[3][1]),\n",
    "        Keypoint(x=points[4][0], y=points[4][1])\n",
    "        ], shape=shape)\n",
    "\n",
    "    return kps\n",
    "\n",
    "# Apply augmentation sequence to both image and waypoints\n",
    "def augment_image(image, points, redo=0):\n",
    "    if redo >= 5:\n",
    "        print(\"J\")\n",
    "        return image, points\n",
    "\n",
    "    image_aug, p_aug = seq(image=down_scale(image), keypoints=points_to_keypoints(points/2, (80, 192)))\n",
    "    temp = p_aug.to_xy_array()\n",
    "    if not np.all((temp[:, 0] <= 192) & (temp[:, 1] <= 80)):\n",
    "        return augment_image(image, points, redo=redo+1)\n",
    "\n",
    "    return image_aug, temp"
   ]
  },
  {
   "cell_type": "code",
   "execution_count": null,
   "id": "445dfa3b",
   "metadata": {
    "collapsed": false,
    "jupyter": {
     "outputs_hidden": false
    },
    "pycharm": {
     "name": "#%%\n"
    }
   },
   "outputs": [],
   "source": [
    "# view image (before/after) augmentation\n",
    "\n",
    "# def plot_augmentation(original, augmented):\n",
    "#     plt.figure(figsize=(12,6))\n",
    "#     plt.title(\"Original\")\n",
    "#     plt.imshow(original)\n",
    "#     plt.show()\n",
    "\n",
    "#     plt.figure(figsize=(12,6))\n",
    "#     plt.title(\"Augmented\")\n",
    "#     plt.imshow(augmented)\n",
    "#     plt.show()\n",
    "    \n",
    "# # Intermediate overview\n",
    "# b = decode_frame(1)['segmentation']\n",
    "# b = seg2D_to_ND(b, 0)\n",
    "# b = down_scale(b)\n",
    "\n",
    "# plot_augmentation(b[:, :, 6:9], seq(image=b)[:, : ,6:9])"
   ]
  },
  {
   "cell_type": "code",
   "execution_count": null,
   "id": "2878e300",
   "metadata": {
    "collapsed": false,
    "jupyter": {
     "outputs_hidden": false
    },
    "pycharm": {
     "name": "#%%\n"
    }
   },
   "outputs": [],
   "source": [
    "# view waypoints after augmentation\n",
    "\n",
    "# for i in range(0, 500, 100):\n",
    "#     temp_img = decode_frame(i)['segmentation']\n",
    "#     temp_img = seg2D_to_ND(temp_img, 0)\n",
    "#     img_aug, points_aug = augment_image(temp_img, all_wp[i])\n",
    "#     plt.scatter(points_aug[:, 0], points_aug[:, 1])\n",
    "#     plt.show()"
   ]
  },
  {
   "cell_type": "code",
   "execution_count": null,
   "id": "61371211",
   "metadata": {
    "collapsed": false,
    "jupyter": {
     "outputs_hidden": false
    },
    "pycharm": {
     "name": "#%%\n"
    }
   },
   "outputs": [],
   "source": [
    "imgs, new_kps = seq(images=[down_scale(decode_frame(i)['segmentation'][:, :, 0]) for i in range(245, 255, 10)], keypoints=[points_to_keypoints(all_wp[i]/2, (80, 192)) for i in range(0, 100, 10)])\n",
    "for img, new_kp in zip(imgs, new_kps):\n",
    "    plt.imshow(img)\n",
    "    points_temp = new_kp.to_xy_array()\n",
    "    plt.scatter(points_temp[:, 0], points_temp[:, 1])\n",
    "    plt.show()"
   ]
  },
  {
   "cell_type": "markdown",
   "id": "dcee03e5",
   "metadata": {},
   "source": [
    "## 4. Final results"
   ]
  },
  {
   "cell_type": "markdown",
   "id": "7f8c1749",
   "metadata": {},
   "source": [
    "### 4.1 View final results"
   ]
  },
  {
   "cell_type": "code",
   "execution_count": null,
   "id": "5190f9f1",
   "metadata": {
    "collapsed": false,
    "jupyter": {
     "outputs_hidden": false
    },
    "pycharm": {
     "name": "#%%\n"
    }
   },
   "outputs": [],
   "source": [
    "def plot_results(ref_frame_id, next_frame_id, locations):\n",
    "    plt.title(\"NEXT FRAME ({})\".format(next_frame_id))\n",
    "    plt.imshow(decode_frame(next_frame_id)['segmentation'][:, :, 0])\n",
    "    plt.show()\n",
    "\n",
    "    plt.figure(figsize=(20,12))\n",
    "    plt.title(\"REF FRAME ({}) WITH PROJECTIONS\".format(ref_frame_id))\n",
    "    plt.imshow(decode_frame(ref_frame_id)['segmentation'][:, :, 0])\n",
    "    for i, location in enumerate(locations):\n",
    "        plt.scatter(location[:, 0], location[:, 1], label=\"projection {}\".format(i))\n",
    "\n",
    "    plt.legend()\n",
    "    plt.show()"
   ]
  },
  {
   "cell_type": "code",
   "execution_count": null,
   "id": "1fdac1b0",
   "metadata": {
    "collapsed": false,
    "jupyter": {
     "outputs_hidden": false
    },
    "pycharm": {
     "name": "#%%\n"
    }
   },
   "outputs": [],
   "source": [
    "#plot_results(N, i, [all_wp[N]])\n",
    "plot_results(155, 160, [all_wp[155]])\n",
    "# plt.imshow(down_scale(decode_frame(N)['segmentation'][:, :, 0]))\n",
    "# temp_wp = all_wp[N].copy()\n",
    "\n",
    "# temp_wp /= 2\n",
    "# # temp_wp[:, 0] /= 2\n",
    "# # temp_wp[:, 1] /= 2\n",
    "\n",
    "# plt.scatter(temp_wp[:, 0], temp_wp[:, 1], s=1)\n",
    "# plt.scatter(temp_wp[:, 0], temp_wp[:, 1]-2, s=1)\n",
    "# plt.show()"
   ]
  },
  {
   "cell_type": "markdown",
   "id": "7e5fa8dd",
   "metadata": {},
   "source": [
    "### 4.2 Save final results"
   ]
  },
  {
   "cell_type": "code",
   "execution_count": null,
   "id": "489254fb",
   "metadata": {
    "collapsed": false,
    "jupyter": {
     "outputs_hidden": false
    }
   },
   "outputs": [],
   "source": [
    "R = 1\n",
    "\n",
    "#video = cv2.VideoWriter('imgs_noise_test/test_video_noise_2.avi', 0, 10, (192, 80))\n",
    "video = cv2.VideoWriter('noise/test_video_noise_2.avi', 0, 10, (192, 80))\n",
    "\n",
    "for i, wp in tqdm(enumerate(all_wp)):\n",
    "    # Down-scaling image (x0.5)\n",
    "    img = down_scale(decode_frame(i)['segmentation'][:, :, 0])\n",
    "    # Accordingly down-scaling waypoints (x0.5)\n",
    "    for x, y in wp:\n",
    "        x = int(x/2)\n",
    "        y = int(y/2)\n",
    "        img[y - R: y + R + 1, x - R: x + R + 1] = 12\n",
    "    \n",
    "    norm_image = cv2.normalize(img, None, alpha=0, beta=250, norm_type=cv2.NORM_MINMAX, dtype=cv2.CV_8UC1)\n",
    "    imgC = cv2.applyColorMap(norm_image, cv2.COLORMAP_JET)\n",
    "    #plt.imshow(imgC)\n",
    "    #plt.show()\n",
    "    video.write(imgC)\n",
    "    #cv2.imwrite('imgs_noise_test/frame_{}.png'.format(i),  imgC)\n",
    "    cv2.imwrite('noise/frame_{}.png'.format(i),  imgC)\n",
    "    \n",
    "video.release()"
   ]
  },
  {
   "cell_type": "markdown",
   "id": "76a825e7",
   "metadata": {},
   "source": [
    "## 5. Playground"
   ]
  },
  {
   "cell_type": "code",
   "execution_count": null,
   "id": "9a81319f",
   "metadata": {
    "collapsed": false,
    "jupyter": {
     "outputs_hidden": false
    },
    "pycharm": {
     "name": "#%%\n"
    }
   },
   "outputs": [],
   "source": [
    "PIXEL_OFFSET = 10\n",
    "\n",
    "def draw_msra_gaussian(heatmap, center, sigma):\n",
    "    tmp_size = sigma * 3\n",
    "    mu_x = int(center[0] + 0.5)\n",
    "    mu_y = int(center[1] + 0.5)\n",
    "    w, h = heatmap.shape[0], heatmap.shape[1]\n",
    "    ul = [int(mu_x - tmp_size), int(mu_y - tmp_size)]\n",
    "    br = [int(mu_x + tmp_size + 1), int(mu_y + tmp_size + 1)]\n",
    "    if ul[0] >= h or ul[1] >= w or br[0] < 0 or br[1] < 0:\n",
    "        return heatmap\n",
    "    size = 2 * tmp_size + 1\n",
    "    x = np.arange(0, size, 1, np.float32)\n",
    "    y = x[:, np.newaxis]\n",
    "    x0 = y0 = size // 2\n",
    "    g = np.exp(- ((x - x0) ** 2 + (y - y0) ** 2) / (2 * sigma ** 2))\n",
    "    g_x = max(0, -ul[0]), min(br[0], h) - ul[0]\n",
    "    g_y = max(0, -ul[1]), min(br[1], w) - ul[1]\n",
    "    img_x = max(0, ul[0]), min(br[0], h)\n",
    "    img_y = max(0, ul[1]), min(br[1], w)\n",
    "    heatmap[img_y[0]:img_y[1], img_x[0]:img_x[1]] = np.maximum(\n",
    "      heatmap[img_y[0]:img_y[1], img_x[0]:img_x[1]],\n",
    "      g[g_y[0]:g_y[1], g_x[0]:g_x[1]])\n",
    "    return heatmap\n",
    "\n",
    "\n",
    "def world_to_pixel(\n",
    "        x,y,ox,oy,ori_ox, ori_oy,\n",
    "        pixels_per_meter=5, offset=(-80,160), size=320, angle_jitter=15):\n",
    "    pixel_dx, pixel_dy = (x-ox)*pixels_per_meter, (y-oy)*pixels_per_meter\n",
    "\n",
    "    pixel_x = pixel_dx*ori_ox+pixel_dy*ori_oy\n",
    "    pixel_y = -pixel_dx*ori_oy+pixel_dy*ori_ox\n",
    "\n",
    "    pixel_x = size-pixel_x\n",
    "\n",
    "    return np.array([pixel_x, pixel_y]) + offset\n",
    "\n",
    "def test_get_item(bird_view, segmentation, tl_info, measurement, segs=False):\n",
    "    crop_x_jitter = 5\n",
    "    crop_y_jitter = 0\n",
    "    angle_jitter =  5\n",
    "    img_size = 320\n",
    "    crop_size = 192\n",
    "    crop_size_y = 80\n",
    "    down_ratio = 4\n",
    "    gap = 5\n",
    "    gaussian_radius = 1.0\n",
    "    n_step = 5\n",
    "    segmentation = seg2D_to_ND(segmentation, tl_info, combine=False)\n",
    "    rgb_image = None\n",
    "\n",
    "    ox, oy, oz, ori_ox, ori_oy, vx, vy, vz, _, _, _, _, _, _, ax, ay, az, cmd, steer, throttle, brake, manual, gear  = measurement\n",
    "    speed = np.linalg.norm([vx,vy,vz])\n",
    "\n",
    "    oangle = np.arctan2(ori_oy, ori_ox)\n",
    "    delta_angle = np.random.randint(-angle_jitter,angle_jitter+1)\n",
    "    dx = np.random.randint(-crop_x_jitter,crop_x_jitter+1)\n",
    "    dy = np.random.randint(0,crop_y_jitter+1) - PIXEL_OFFSET\n",
    "\n",
    "    o_camx = ox + ori_ox*2\n",
    "    o_camy = oy + ori_oy*2\n",
    "\n",
    "#     if segs:\n",
    "    pixel_ox = 192\n",
    "    pixel_oy = 130\n",
    "\n",
    "    # RANDOM WARPING\n",
    "    segmentation = cv2.warpAffine(\n",
    "            segmentation,\n",
    "            cv2.getRotationMatrix2D((pixel_ox,pixel_oy), delta_angle, 1.0),\n",
    "            segmentation.shape[1::-1], flags=cv2.INTER_LINEAR)\n",
    "\n",
    "    center_x, center_y = pixel_ox, pixel_oy-crop_size_y//2\n",
    "    segmentation = segmentation[\n",
    "            dy+center_y-crop_size_y//2:dy+center_y+crop_size_y//2,\n",
    "            dx+center_x-crop_size//2:dx+center_x+crop_size//2]\n",
    "\n",
    "    angle = np.arctan2(ori_oy, ori_ox) + np.deg2rad(delta_angle)\n",
    "    ori_ox, ori_oy = np.cos(angle), np.sin(angle)\n",
    "\n",
    "    locations = []\n",
    "    orientations = []\n",
    "\n",
    "    # LOCATION MODIFICATION\n",
    "    for dt in range(gap, gap*(n_step+1), gap):\n",
    "        f_measurement = decode_frame(N+dt)['measurements']\n",
    "        x, y, z, ori_x, ori_y = f_measurement[:5]\n",
    "#         x, y, z, ori_x, ori_y, ori_z = f_measurement[:6]\n",
    "#         rot, loc = rotation(ori_x, ori_y, ori_z), np.array([x, y, z])\n",
    "#         inv_m = get_inv_matrix(rot, loc)\n",
    "\n",
    "        pixel_y, pixel_x = world_to_pixel(x,y,ox,oy,ori_ox,ori_oy,size=160, offset=(-80,192))\n",
    "        pixel_x = pixel_x - (384-crop_size)//2\n",
    "        pixel_y = crop_size_y - (160-pixel_y)+70\n",
    "\n",
    "        pixel_x -= dx\n",
    "        pixel_y -= dy\n",
    "\n",
    "        angle = np.arctan2(ori_y, ori_x) - np.arctan2(ori_oy, ori_ox)\n",
    "        ori_dx, ori_dy = np.cos(angle), np.sin(angle)\n",
    "\n",
    "        locations.append([x, y, z])\n",
    "        orientations.append([ori_dx, ori_dy])\n",
    "\n",
    "\n",
    "    # Create mask\n",
    "    output_size = crop_size // down_ratio\n",
    "    heatmap_mask = np.zeros((n_step, output_size, output_size), dtype=np.float32)\n",
    "    regression_offset = np.zeros((n_step,2), np.float32)\n",
    "    indices = np.zeros((n_step), dtype=np.int64)\n",
    "\n",
    "    for i, (pixel_x, pixel_y, _) in enumerate(locations):\n",
    "        center = np.array(\n",
    "                [pixel_x / down_ratio, pixel_y / down_ratio],\n",
    "                dtype=np.float32)\n",
    "        center = np.clip(center, 0, output_size-1)\n",
    "        center_int = np.rint(center)\n",
    "\n",
    "        draw_msra_gaussian(heatmap_mask[i], center_int, gaussian_radius)\n",
    "        regression_offset[i] = center - center_int\n",
    "        indices[i] = center_int[1] * output_size + center_int[0]\n",
    "    out = []\n",
    "    out.append([segmentation, bird_view, np.array(locations), cmd, speed])\n",
    "#     else:\n",
    "    pixel_ox = 160\n",
    "    pixel_oy = 260\n",
    "\n",
    "\n",
    "    # RANDOM WARPING\n",
    "    bird_view = cv2.warpAffine(\n",
    "            bird_view,\n",
    "            cv2.getRotationMatrix2D((pixel_ox,pixel_oy), delta_angle, 1.0),\n",
    "            bird_view.shape[1::-1], flags=cv2.INTER_LINEAR)\n",
    "\n",
    "\n",
    "    # RANDOM CROPPING\n",
    "    center_x, center_y = 160, 260-crop_size//2\n",
    "    bird_view = bird_view[\n",
    "            dy+center_y-crop_size//2:dy+center_y+crop_size//2,\n",
    "            dx+center_x-crop_size//2:dx+center_x+crop_size//2]\n",
    "\n",
    "    angle = np.arctan2(ori_oy, ori_ox) + np.deg2rad(delta_angle)\n",
    "    ori_ox, ori_oy = np.cos(angle), np.sin(angle)\n",
    "\n",
    "    locations = []\n",
    "    orientations = []\n",
    "\n",
    "    # LOCATION MODIFICATION\n",
    "    for dt in range(gap, gap*(n_step+1), gap):\n",
    "        f_measurement = decode_frame(N+dt)['measurements']\n",
    "        x, y, z, ori_x, ori_y = f_measurement[:5]\n",
    "\n",
    "#         x, y, z, ori_x, ori_y, ori_z = f_measurement[:6]\n",
    "#         rot, loc = rotation(ori_x, ori_y, ori_z), np.array([x, y, z])\n",
    "#         inv_m = get_inv_matrix(rot, loc)\n",
    "\n",
    "        pixel_y, pixel_x = world_to_pixel(x,y,ox,oy,ori_ox,ori_oy,size=img_size)\n",
    "        pixel_x = pixel_x - (img_size-crop_size)//2\n",
    "        pixel_y = crop_size - (img_size-pixel_y)+70\n",
    "\n",
    "        pixel_x -= dx\n",
    "        pixel_y -= dy\n",
    "\n",
    "        angle = np.arctan2(ori_y, ori_x) - np.arctan2(ori_oy, ori_ox)\n",
    "        ori_dx, ori_dy = np.cos(angle), np.sin(angle)\n",
    "\n",
    "        locations.append([x, y, z])\n",
    "        orientations.append([ori_dx, ori_dy])\n",
    "\n",
    "\n",
    "    # Create mask\n",
    "    output_size = crop_size // down_ratio\n",
    "    heatmap_mask = np.zeros((n_step, output_size, output_size), dtype=np.float32)\n",
    "    regression_offset = np.zeros((n_step,2), np.float32)\n",
    "    indices = np.zeros((n_step), dtype=np.int64)\n",
    "\n",
    "    for i, (pixel_x, pixel_y, _) in enumerate(locations):\n",
    "        center = np.array(\n",
    "                [pixel_x / down_ratio, pixel_y / down_ratio],\n",
    "                dtype=np.float32)\n",
    "        center = np.clip(center, 0, output_size-1)\n",
    "        center_int = np.rint(center)\n",
    "\n",
    "        draw_msra_gaussian(heatmap_mask[i], center_int, gaussian_radius)\n",
    "        regression_offset[i] = center - center_int\n",
    "        indices[i] = center_int[1] * output_size + center_int[0]\n",
    "\n",
    "    out.append([segmentation, bird_view, np.array(locations), cmd, speed])\n",
    "    return np.array(out)"
   ]
  },
  {
   "cell_type": "code",
   "execution_count": null,
   "id": "6b8c23cb",
   "metadata": {
    "collapsed": false,
    "jupyter": {
     "outputs_hidden": false
    },
    "pycharm": {
     "name": "#%%\n"
    }
   },
   "outputs": [],
   "source": [
    "N_FIG = 6\n",
    "out_temp = []\n",
    "for i in range(N_FIG):\n",
    "    N = i + 10\n",
    "    temp = test_get_item(decode_frame(N)['birdview'], decode_frame(N)['segmentation'], decode_frame(N)['trafficlights'], decode_frame(N)['measurements'])\n",
    "    out_temp.append(temp)\n",
    "\n",
    "out_temp = np.array(out_temp)"
   ]
  },
  {
   "cell_type": "code",
   "execution_count": null,
   "id": "409bf0be",
   "metadata": {
    "collapsed": false,
    "jupyter": {
     "outputs_hidden": false
    },
    "pycharm": {
     "name": "#%%\n"
    }
   },
   "outputs": [],
   "source": [
    "REF_FRAME = 0\n",
    "NEXT_FRAME = 2"
   ]
  },
  {
   "cell_type": "code",
   "execution_count": null,
   "id": "5579d89a",
   "metadata": {
    "collapsed": false,
    "jupyter": {
     "outputs_hidden": false
    },
    "pycharm": {
     "name": "#%%\n"
    }
   },
   "outputs": [],
   "source": [
    "# Extract world coordinates from dataset\n",
    "world_coords = decode_frame(REF_FRAME)['measurements']\n",
    "world_x, world_y, world_z, _, _, _, _, _, cam_x, cam_y, cam_z, cam_yaw, cam_roll, cam_pitch = world_coords[:14]\n",
    "\n",
    "print(\"CURRENT LOCATION:\", world_x, world_y, world_z)\n",
    "# Get sensor transform\n",
    "sensor_transform = Transform(Location(cam_x, cam_y, cam_z), Rotation(cam_yaw, cam_roll, cam_pitch))"
   ]
  },
  {
   "cell_type": "code",
   "execution_count": null,
   "id": "aeb2c7c1",
   "metadata": {
    "collapsed": false,
    "jupyter": {
     "outputs_hidden": false
    },
    "pycharm": {
     "name": "#%%\n"
    }
   },
   "outputs": [],
   "source": [
    "plt.figure(figsize=(12,60))\n",
    "\n",
    "for i in range(N_FIG):\n",
    "    # NEW SEG\n",
    "    plt.subplot(N_FIG, 2, (i*2)+1)\n",
    "    plt.imshow(out_temp[i][0][0][..., 6:9])\n",
    "    plt.scatter(out_temp[i][0][2][:,0], out_temp[i][0][2][:,1])\n",
    "\n",
    "    # OLD BIRDVIEW\n",
    "    plt.subplot(N_FIG, 2, (i*2)+2)\n",
    "    plt.imshow(out_temp[i][1][1][:, :, :3])\n",
    "    plt.scatter(out_temp[i][1][2][:,0], out_temp[i][1][2][:,1])\n",
    "\n",
    "plt.show()"
   ]
  },
  {
   "cell_type": "code",
   "execution_count": null,
   "id": "5ef408e1",
   "metadata": {
    "pycharm": {
     "name": "#%%\n"
    }
   },
   "outputs": [],
   "source": [
    "plt.figure(figsize=(12,20))\n",
    "\n",
    "for i in range(N_FIG):\n",
    "    # NEW SEG\n",
    "    plt.subplot(N_FIG, 2, (i*2)+1)\n",
    "    plt.imshow(out_temp[i][0][0][..., 6:9])\n",
    "    plt.scatter(out_temp[i][0][2][:,0], out_temp[i][0][2][:,1])\n",
    "\n",
    "    # OLD BIRDVIEW\n",
    "    plt.subplot(N_FIG, 2, (i*2)+2)\n",
    "    plt.imshow(out_temp[i][1][1][:, :, :3])\n",
    "    plt.scatter(out_temp[i][1][2][:,0], out_temp[i][1][2][:,1])\n",
    "\n",
    "plt.show()"
   ]
  },
  {
   "cell_type": "code",
   "execution_count": null,
   "id": "e86a0868",
   "metadata": {
    "collapsed": false,
    "jupyter": {
     "outputs_hidden": false
    }
   },
   "outputs": [],
   "source": [
    "# Segemetnation tests\n",
    "\n",
    "for i in range(1000):\n",
    "    temp_img = decode_frame(i)['segmentation']\n",
    "    temp_tl = decode_frame(i)['trafficlights']\n",
    "    \n",
    "    if temp_tl:\n",
    "        print(i)\n",
    "        break\n",
    "    \n",
    "\n",
    "temp_img = decode_frame(759)['segmentation']\n",
    "temp_tl = decode_frame(759)['trafficlights']\n",
    "\n",
    "plt.title(\"Original\")\n",
    "plt.imshow(temp_img[:, :, 0])\n",
    "plt.show()\n",
    "\n",
    "plt.title(\"OLD TL state channel\")\n",
    "plt.imshow(seg2D_to_ND(temp_img, 1)[:, :, 13:14])\n",
    "plt.show()\n",
    "\n",
    "plt.title(\"OLD TL channel\")\n",
    "plt.imshow(seg2D_to_ND(temp_img, 1)[:, :, 12:13])\n",
    "plt.show()\n",
    "\n",
    "\n",
    "\n",
    "plt.title(\"NEW TL (state) channel\")\n",
    "plt.imshow(seg2D_to_ND_new(temp_img, 0)[:, :, 12:13])\n",
    "plt.show()\n",
    "\n",
    "\n",
    "plt.imshow(seg2D_to_ND_new(temp_img, 0)[:, :, 10:13])\n",
    "plt.show()"
   ]
  }
 ],
 "metadata": {
  "kernelspec": {
   "display_name": "Python 3 (ipykernel)",
   "language": "python",
   "name": "python3"
  },
  "language_info": {
   "codemirror_mode": {
    "name": "ipython",
    "version": 3
   },
   "file_extension": ".py",
   "mimetype": "text/x-python",
   "name": "python",
   "nbconvert_exporter": "python",
   "pygments_lexer": "ipython3",
   "version": "3.7.9"
  }
 },
 "nbformat": 4,
 "nbformat_minor": 5
}
