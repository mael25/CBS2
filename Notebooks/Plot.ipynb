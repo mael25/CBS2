{
 "cells": [
  {
   "cell_type": "code",
   "execution_count": 1,
   "id": "d9e45cd7-d1e6-411d-9780-516738561d66",
   "metadata": {},
   "outputs": [
    {
     "name": "stdout",
     "output_type": "stream",
     "text": [
      "/storage2/mwildi/CBS2\n"
     ]
    }
   ],
   "source": [
    "import csv\n",
    "import numpy as np\n",
    "import pandas as pd\n",
    "from tabulate import tabulate\n",
    "from itertools import product\n",
    "from collections import defaultdict\n",
    "import matplotlib.pyplot as plt\n",
    "%cd /storage2/mwildi/CBS2"
   ]
  },
  {
   "cell_type": "code",
   "execution_count": 2,
   "id": "8db53078-cc01-4e43-83d1-d624b35ff7d3",
   "metadata": {},
   "outputs": [],
   "source": [
    "#Plots data inside data_per_model\n",
    "def plotter(data_per_model, main_title, legends, x_ticks, x_description, y_description, savepath):\n",
    "    assert(len(legends)==data_per_model.shape[0])\n",
    "    assert(len(x_ticks)==data_per_model.shape[1])\n",
    "\n",
    "    metrics = pd.DataFrame(np.array([data_per_model[:,i] for i in range(len(x_ticks))]), columns=legends)\n",
    "    ax = metrics.plot(kind='bar', figsize=(12, 7), legend=True, fontsize=16)\n",
    "    ax.set_xlabel(x_description)\n",
    "    x = np.arange(len(x_ticks))\n",
    "    ax.set_xticks(x)\n",
    "    ax.set_xticklabels(x_ticks, fontsize=16, rotation='horizontal')\n",
    "    ax.set_ylabel(y_description, fontsize=16)\n",
    "    plt.title(main_title, fontsize=20, weight='bold')\n",
    "    plt.savefig(savepath)"
   ]
  },
  {
   "cell_type": "code",
   "execution_count": 3,
   "id": "619cbbc8-1a39-4aff-be14-0f59ab8b44e6",
   "metadata": {},
   "outputs": [],
   "source": [
    "#####################################################################################\n",
    "# Parsing code adapted from World on Rails scripts/view_nocrash_results\n",
    "#####################################################################################\n",
    "\n",
    "def parse_results(path):\n",
    "    \n",
    "    TOWNS = ['Town01', 'Town02']\n",
    "    TRAFFICS = ['empty', 'regular', 'dense']\n",
    "    WEATHERS = {\n",
    "        1: 'train', 3: 'train', 6: 'train', 8: 'train',\n",
    "        10: 'test', 14: 'test',\n",
    "    }\n",
    "    #METRICS = ['sr', 'rc', 'l', 'nb', 'nc', 'ncv', 'ncw', 'rcwc']\n",
    "    METRICS = ['Success Rate', 'Route Completion', 'Lights Ran ph', 'No Block', 'No Collision', 'No Collision Veh', 'No Collision Walk', 'RC When Collided']\n",
    "\n",
    "    finished = defaultdict(lambda: [])\n",
    "\n",
    "    with open(path+'.csv', 'r') as file:\n",
    "        log = csv.DictReader(file)\n",
    "        for row in log:\n",
    "            finished[(\n",
    "                row['town'],\n",
    "                int(row['traffic']),\n",
    "                WEATHERS[int(row['weather'])],\n",
    "            )].append((\n",
    "                float(row['route_completion']),\n",
    "                int(row['lights_ran']),\n",
    "                float(row['duration']),\n",
    "                float(row['outside_lane']),\n",
    "                str(row['collision']),\n",
    "                str(row['collision_vehicle']),\n",
    "                str(row['collision_walker']),\n",
    "                str(row['in_route']),\n",
    "                str(row['blocked'])\n",
    "            ))\n",
    "\n",
    "    all_stats=dict()\n",
    "    \n",
    "    for town, weather_set in product(TOWNS, set(WEATHERS.values())):\n",
    "\n",
    "        all_stats[town+weather_set] = {}\n",
    "        \n",
    "        for metric in METRICS:\n",
    "            stat= ['N/A']*len(TRAFFICS)\n",
    "\n",
    "            for traffic_idx, traffic in enumerate(TRAFFICS):\n",
    "                runs = finished[town,TRAFFICS.index(traffic),weather_set]\n",
    "\n",
    "                if len(runs) > 0:\n",
    "                    route_completion, lights_ran, duration, outside_lane, collision, collision_vehicle, collision_walker, in_route, blocked = zip(*runs)\n",
    "                    mean_lights_ran = np.array(lights_ran)/np.array(duration)*3600\n",
    "\n",
    "                    if metric == 'Success Rate': # Success Rate\n",
    "                        stat[traffic_idx] = np.round(100*np.mean(np.array(route_completion)==100), 2)\n",
    "                    elif metric == 'Route Completion': # Route Completion\n",
    "                        stat[traffic_idx] = np.round(np.mean(route_completion), 2)\n",
    "                    elif metric == 'Lights Ran ph': # Lights Ran per hour\n",
    "                        stat[traffic_idx] = np.round(np.mean(mean_lights_ran), 2)\n",
    "                    elif metric == 'No Block': # No block\n",
    "                        stat[traffic_idx] = np.round(100*blocked.count('SUCCESS')/len(blocked), 2)\n",
    "                    elif metric == 'No Collision': # No Collision\n",
    "                        stat[traffic_idx] = round(100*collision.count('SUCCESS')/len(collision), 2)\n",
    "                    elif metric == 'No Collision Veh': # No Collision vehicle\n",
    "                        stat[traffic_idx] = np.round(100*collision_vehicle.count('SUCCESS')/len(collision_vehicle), 2)\n",
    "                    elif metric == 'No Collision Walk': # No Collision walker\n",
    "                        stat[traffic_idx] = np.round(100*collision_walker.count('SUCCESS')/len(collision_walker), 2)\n",
    "                    elif metric == 'RC When Collided': # Route completion when collided\n",
    "                        collided = [True if x=='FAILURE' else False for x in collision]\n",
    "                        stat[traffic_idx] = np.round(np.mean(np.array(route_completion)[collided]), 2)\n",
    "\n",
    "                all_stats[town+weather_set][metric] = stat\n",
    "                \n",
    "    return all_stats"
   ]
  },
  {
   "cell_type": "code",
   "execution_count": 4,
   "id": "2f78dad3-f0e4-4b15-85b1-120b9c4fa8d2",
   "metadata": {},
   "outputs": [],
   "source": [
    "original=parse_results('results/final/nc_original')\n",
    "ppm=parse_results('results/final/nc_ppm')\n",
    "fpn=parse_results('results/final/nc_ppm')"
   ]
  },
  {
   "cell_type": "code",
   "execution_count": 5,
   "id": "c7bd0e7e-faa1-4e86-a98d-03fc5e0a2043",
   "metadata": {},
   "outputs": [
    {
     "data": {
      "text/plain": [
       "{'Town01test': {'Success Rate': [32.0, 30.0, 4.0],\n",
       "  'Route Completion': [57.56, 62.4, 35.4],\n",
       "  'Lights Ran ph': [37.0, 41.1, 46.03],\n",
       "  'No Block': [58.0, 76.0, 90.0],\n",
       "  'No Collision': [74.0, 56.0, 14.0],\n",
       "  'No Collision Veh': [100.0, 86.0, 36.0],\n",
       "  'No Collision Walk': [100.0, 98.0, 98.0],\n",
       "  'RC When Collided': [51.52, 55.47, 34.04]},\n",
       " 'Town01train': {'Success Rate': [31.0, 28.0, 5.0],\n",
       "  'Route Completion': [54.56, 56.3, 39.19],\n",
       "  'Lights Ran ph': [29.49, 32.86, 35.43],\n",
       "  'No Block': [60.0, 79.0, 93.0],\n",
       "  'No Collision': [76.0, 55.0, 18.0],\n",
       "  'No Collision Veh': [100.0, 87.0, 39.0],\n",
       "  'No Collision Walk': [100.0, 99.0, 96.0],\n",
       "  'RC When Collided': [35.9, 42.44, 34.88]},\n",
       " 'Town02test': {'Success Rate': [22.0, 20.0, 6.0],\n",
       "  'Route Completion': [46.8, 49.29, 39.53],\n",
       "  'Lights Ran ph': [43.78, 46.34, 52.47],\n",
       "  'No Block': [62.0, 80.0, 92.0],\n",
       "  'No Collision': [82.0, 64.0, 32.0],\n",
       "  'No Collision Veh': [100.0, 88.0, 58.0],\n",
       "  'No Collision Walk': [100.0, 100.0, 98.0],\n",
       "  'RC When Collided': [48.94, 45.5, 38.24]},\n",
       " 'Town02train': {'Success Rate': ['N/A', 'N/A', 'N/A'],\n",
       "  'Route Completion': ['N/A', 'N/A', 'N/A'],\n",
       "  'Lights Ran ph': ['N/A', 'N/A', 'N/A'],\n",
       "  'No Block': ['N/A', 'N/A', 'N/A'],\n",
       "  'No Collision': ['N/A', 'N/A', 'N/A'],\n",
       "  'No Collision Veh': ['N/A', 'N/A', 'N/A'],\n",
       "  'No Collision Walk': ['N/A', 'N/A', 'N/A'],\n",
       "  'RC When Collided': ['N/A', 'N/A', 'N/A']}}"
      ]
     },
     "execution_count": 5,
     "metadata": {},
     "output_type": "execute_result"
    }
   ],
   "source": [
    "ppm"
   ]
  },
  {
   "cell_type": "code",
   "execution_count": 9,
   "id": "afcea629-1fd6-415c-ab87-584e3074fc96",
   "metadata": {},
   "outputs": [],
   "source": [
    "#['Success Rate', 'Route Completion', 'Lights Ran ph', 'No Block', 'No Collision', 'No Collision Veh', 'No Collision Walk', 'RC When Collided']\n",
    "main_title = 'Directional command at intersection'\n",
    "y_description = '[%] of dataset intersection frames'\n",
    "savepath = 'Notebooks/plots/dataset/dataset_cmd.png'\n",
    "\n",
    "plot_traffic=None\n",
    "plot_config='Town02test'\n",
    "plot_metric='Lights Ran ph'"
   ]
  },
  {
   "cell_type": "code",
   "execution_count": 10,
   "id": "26880f08-590b-4b6d-bc36-4bf271fe233a",
   "metadata": {},
   "outputs": [
    {
     "name": "stdout",
     "output_type": "stream",
     "text": [
      "[[42.61 67.03 66.4 ]\n",
      " [43.78 46.34 52.47]\n",
      " [43.78 46.34 52.47]]\n"
     ]
    }
   ],
   "source": [
    "legends = ['Original', 'PPM', 'FPN']\n",
    "#Comparison according to traffic\n",
    "if plot_traffic == None:\n",
    "    x_ticks = ['Empty', 'Regular', 'Dense']\n",
    "    x_description = 'Traffic condition (in '+plot_config+')'\n",
    "    data_original = original[plot_config][plot_metric]\n",
    "    data_ppm = ppm[plot_config][plot_metric]\n",
    "    data_fpn = fpn[plot_config][plot_metric]\n",
    "#Comparison according to train/test\n",
    "else:\n",
    "    configs = ['Town01train', 'Town02test']\n",
    "    traffics= ['empty', 'regular', 'dense']\n",
    "    x_ticks = ['Train', 'Test']\n",
    "    x_description = 'Town and weather configuration (in '+plot_traffic+')'\n",
    "    data_original = [original[config][plot_metric][traffics.index(plot_traffic)] for config in configs]\n",
    "    data_ppm = [ppm[config][plot_metric][traffics.index(plot_traffic)] for config in configs]\n",
    "    data_fpn = [fpn[config][plot_metric][traffics.index(plot_traffic)] for config in configs]  \n",
    "\n",
    "data_per_model = np.vstack((data_original, data_ppm, data_fpn))\n",
    "print(data_per_model)"
   ]
  },
  {
   "cell_type": "code",
   "execution_count": 11,
   "id": "519dde22-bed1-429c-9c77-edf10690cf4d",
   "metadata": {},
   "outputs": [
    {
     "data": {
      "image/png": "[encoded data removed]",
      "text/plain": [
       "<Figure size 864x504 with 1 Axes>"
      ]
     },
     "metadata": {
      "needs_background": "light"
     },
     "output_type": "display_data"
    }
   ],
   "source": [
    "plotter(data_per_model, main_title, legends, x_ticks, x_description, y_description, savepath)"
   ]
  },
  {
   "cell_type": "code",
   "execution_count": null,
   "id": "c2691c28-03c1-4a3b-ae26-615ba08b3a6b",
   "metadata": {},
   "outputs": [],
   "source": []
  },
  {
   "cell_type": "code",
   "execution_count": null,
   "id": "a3ce954a-d5b4-4050-bfe3-1ce75a51de25",
   "metadata": {},
   "outputs": [],
   "source": []
  }
 ],
 "metadata": {
  "kernelspec": {
   "display_name": "Python 3 (ipykernel)",
   "language": "python",
   "name": "python3"
  },
  "language_info": {
   "codemirror_mode": {
    "name": "ipython",
    "version": 3
   },
   "file_extension": ".py",
   "mimetype": "text/x-python",
   "name": "python",
   "nbconvert_exporter": "python",
   "pygments_lexer": "ipython3",
   "version": "3.7.9"
  }
 },
 "nbformat": 4,
 "nbformat_minor": 5
}
