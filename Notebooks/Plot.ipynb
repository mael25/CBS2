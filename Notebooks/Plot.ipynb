{
 "cells": [
  {
   "cell_type": "code",
   "execution_count": 1,
   "id": "d9e45cd7-d1e6-411d-9780-516738561d66",
   "metadata": {},
   "outputs": [
    {
     "name": "stdout",
     "output_type": "stream",
     "text": [
      "/storage2/mwildi/CBS2\n"
     ]
    }
   ],
   "source": [
    "import csv\n",
    "import numpy as np\n",
    "import pandas as pd\n",
    "from tabulate import tabulate\n",
    "from itertools import product\n",
    "from collections import defaultdict\n",
    "import matplotlib.pyplot as plt\n",
    "%cd /storage2/mwildi/CBS2"
   ]
  },
  {
   "cell_type": "code",
   "execution_count": 2,
   "id": "8db53078-cc01-4e43-83d1-d624b35ff7d3",
   "metadata": {},
   "outputs": [],
   "source": [
    "#Plots data inside data_per_model\n",
    "def plotter(data_per_model, main_title, legends, x_ticks, x_description, y_description, savepath):\n",
    "    assert(len(legends)==data_per_model.shape[0])\n",
    "    assert(len(x_ticks)==data_per_model.shape[1])\n",
    "\n",
    "    metrics = pd.DataFrame(np.array([data_per_model[:,i] for i in range(len(x_ticks))]), columns=legends)\n",
    "    ax = metrics.plot(kind='bar', figsize=(7, 4), legend=True\n",
    "                      , fontsize=16, zorder=3)\n",
    "    ax.set_xlabel(x_description)\n",
    "    x = np.arange(len(x_ticks))\n",
    "    ax.set_xticks(x)\n",
    "    ax.set_xticklabels(x_ticks, fontsize=16, rotation='horizontal')\n",
    "    ax.set_ylabel(y_description, fontsize=16)\n",
    "    ax.grid(axis='y', zorder=0)\n",
    "    plt.title(main_title, fontsize=20, weight='bold')\n",
    "    plt.savefig(savepath)"
   ]
  },
  {
   "cell_type": "code",
   "execution_count": 6,
   "id": "619cbbc8-1a39-4aff-be14-0f59ab8b44e6",
   "metadata": {},
   "outputs": [],
   "source": [
    "#####################################################################################\n",
    "# Parsing code adapted from World on Rails scripts/view_nocrash_results\n",
    "#####################################################################################\n",
    "\n",
    "def parse_results(path):\n",
    "    \n",
    "    TOWNS = ['Town01', 'Town02']\n",
    "    TRAFFICS = ['empty', 'regular', 'dense']\n",
    "    WEATHERS = {\n",
    "        1: 'train', 3: 'train', 6: 'train', 8: 'train',\n",
    "        10: 'test', 14: 'test',\n",
    "    }\n",
    "    #METRICS = ['sr', 'rc', 'l', 'nb', 'nc', 'ncv', 'ncw', 'rcwc']\n",
    "    METRICS = ['Success', 'Route Completion', 'Lights Ran per hour', 'No Block', 'No Collision', 'No Collision Vehicle', 'No Collision Walker', 'No Collision Obstacle', 'RC When Collided', 'In Lane']\n",
    "\n",
    "    finished = defaultdict(lambda: [])\n",
    "\n",
    "    with open(path+'.csv', 'r') as file:\n",
    "        log = csv.DictReader(file)\n",
    "        for row in log:\n",
    "            finished[(\n",
    "                row['town'],\n",
    "                int(row['traffic']),\n",
    "                WEATHERS[int(row['weather'])],\n",
    "            )].append((\n",
    "                float(row['route_completion']),\n",
    "                int(row['lights_ran']),\n",
    "                float(row['duration']),\n",
    "                float(row['outside_lane']),\n",
    "                str(row['collision']),\n",
    "                str(row['collision_vehicle']),\n",
    "                str(row['collision_walker']),\n",
    "                str(row['in_route']),\n",
    "                str(row['blocked'])\n",
    "            ))\n",
    "\n",
    "    all_stats=dict()\n",
    "    \n",
    "    for town, weather_set in product(TOWNS, set(WEATHERS.values())):\n",
    "\n",
    "        all_stats[town+weather_set] = {}\n",
    "        \n",
    "        for metric in METRICS:\n",
    "            stat= ['N/A']*len(TRAFFICS)\n",
    "\n",
    "            for traffic_idx, traffic in enumerate(TRAFFICS):\n",
    "                runs = finished[town,TRAFFICS.index(traffic),weather_set]\n",
    "\n",
    "                if len(runs) > 0:\n",
    "                    route_completion, lights_ran, duration, outside_lane, collision, collision_vehicle, collision_walker, in_route, blocked = zip(*runs)\n",
    "                    mean_lights_ran = np.array(lights_ran)/np.array(duration)*3600\n",
    "\n",
    "                    if metric == 'Success': # Success Rate\n",
    "                        stat[traffic_idx] = np.round(100*np.mean(np.array(route_completion)==100), 2)\n",
    "                    elif metric == 'Route Completion': # Route Completion\n",
    "                        stat[traffic_idx] = np.round(np.mean(route_completion), 2)\n",
    "                    elif metric == 'Lights Ran per hour': # Lights Ran per hour\n",
    "                        stat[traffic_idx] = np.round(np.mean(mean_lights_ran), 2)\n",
    "                    elif metric == 'No Block': # No block\n",
    "                        stat[traffic_idx] = np.round(100*blocked.count('SUCCESS')/len(blocked), 2)\n",
    "                    elif metric == 'No Collision': # No Collision\n",
    "                        stat[traffic_idx] = round(100*collision.count('SUCCESS')/len(collision), 2)\n",
    "                    elif metric == 'No Collision Vehicle': # No Collision vehicle\n",
    "                        stat[traffic_idx] = np.round(100*collision_vehicle.count('SUCCESS')/len(collision_vehicle), 2)\n",
    "                    elif metric == 'No Collision Walker': # No Collision walker\n",
    "                        stat[traffic_idx] = np.round(100*collision_walker.count('SUCCESS')/len(collision_walker), 2)\n",
    "                    elif metric == 'No Collision Obstacle': # In Lane\n",
    "                        stat[traffic_idx] = np.round(100 - 100*(collision.count('FAILURE')/len(collision) - \n",
    "                                                               collision_vehicle.count('FAILURE')/len(collision_vehicle) -\n",
    "                                                               collision_walker.count('FAILURE')/len(collision_walker)), 2)\n",
    "                    elif metric == 'RC When Collided': # Route completion when collided\n",
    "                        collided = [True if x=='FAILURE' else False for x in collision]\n",
    "                        stat[traffic_idx] = np.round(np.mean(np.array(route_completion)[collided]), 2)\n",
    "                    elif metric == 'In Lane': # In Lane\n",
    "                        stat[traffic_idx] = np.round(100 - np.mean(outside_lane), 2)\n",
    "                        \n",
    "\n",
    "                all_stats[town+weather_set][metric] = stat\n",
    "                \n",
    "    return all_stats"
   ]
  },
  {
   "cell_type": "code",
   "execution_count": 7,
   "id": "2f78dad3-f0e4-4b15-85b1-120b9c4fa8d2",
   "metadata": {},
   "outputs": [],
   "source": [
    "original=parse_results('results/final/l2_original')\n",
    "ppm=parse_results('results/final/l2_ppm')\n",
    "fpn=parse_results('results/final/l2_fpn')"
   ]
  },
  {
   "cell_type": "code",
   "execution_count": 40,
   "id": "afcea629-1fd6-415c-ab87-584e3074fc96",
   "metadata": {},
   "outputs": [],
   "source": [
    "#['Success', 'Route Completion', 'Lights Ran per hour', 'No Block', 'No Collision', 'No Collision Vehicle', 'No Collision Walker', 'No Collision Obstacle', 'RC When Collided', 'In Lane']\n",
    "main_title = 'Directional command at intersection'\n",
    "y_description = 'Y label'\n",
    "savepath = 'Notebooks/plots/dataset/dataset_cmd.png'\n",
    "\n",
    "plot_metric='Lights Ran per hour'\n",
    "plot_metric='No Block'\n",
    "#plot_metric='Route Completion'\n",
    "#plot_metric='No Collision'\n",
    "#plot_metric='Lights Ran per hour'\n",
    "plot_type=1"
   ]
  },
  {
   "cell_type": "code",
   "execution_count": 41,
   "id": "26880f08-590b-4b6d-bc36-4bf271fe233a",
   "metadata": {},
   "outputs": [
    {
     "data": {
      "image/png": "[encoded data removed]",
      "text/plain": [
       "<Figure size 504x288 with 1 Axes>"
      ]
     },
     "metadata": {
      "needs_background": "light"
     },
     "output_type": "display_data"
    },
    {
     "data": {
      "image/png": "[encoded data removed]",
      "text/plain": [
       "<Figure size 504x288 with 1 Axes>"
      ]
     },
     "metadata": {
      "needs_background": "light"
     },
     "output_type": "display_data"
    },
    {
     "data": {
      "image/png": "[encoded data removed]",
      "text/plain": [
       "<Figure size 504x288 with 1 Axes>"
      ]
     },
     "metadata": {
      "needs_background": "light"
     },
     "output_type": "display_data"
    }
   ],
   "source": [
    "legends = ['Original', 'PPM', 'FPN']\n",
    "#CONFIGS = ['Town01train', 'Town01test', 'Town02train', 'Town02test']\n",
    "CONFIGS = ['Town01train']\n",
    "TRAFFICS = ['empty', 'regular', 'dense']\n",
    "#Comparison according to traffic\n",
    "if plot_type == 0:\n",
    "    for plot_config in CONFIGS:\n",
    "        x_ticks = ['Empty', 'Regular', 'Dense']\n",
    "        x_description = 'Traffic condition (in '+plot_config+')'\n",
    "        data_original = original[plot_config][plot_metric]\n",
    "        data_ppm = ppm[plot_config][plot_metric]\n",
    "        data_fpn = fpn[plot_config][plot_metric]\n",
    "        data_per_model = np.vstack((data_original, data_ppm, data_fpn))\n",
    "        plotter(data_per_model, plot_metric+' Rate', legends, x_ticks, x_description, y_description, savepath)\n",
    "#Comparison according to train/test\n",
    "else:\n",
    "    for plot_traffic in TRAFFICS:\n",
    "        x_ticks = CONFIGS\n",
    "        x_description = 'Town-weather configuration (in '+plot_traffic+' traffic)'\n",
    "        data_original = [original[config][plot_metric][TRAFFICS.index(plot_traffic)] for config in CONFIGS]\n",
    "        data_ppm = [ppm[config][plot_metric][TRAFFICS.index(plot_traffic)] for config in CONFIGS]\n",
    "        data_fpn = [fpn[config][plot_metric][TRAFFICS.index(plot_traffic)] for config in CONFIGS]  \n",
    "        data_per_model = np.vstack((data_original, data_ppm, data_fpn))\n",
    "        plotter(data_per_model, plot_metric+' Rate', legends, x_ticks, x_description, y_description, savepath)"
   ]
  },
  {
   "cell_type": "code",
   "execution_count": 39,
   "id": "a3ce954a-d5b4-4050-bfe3-1ce75a51de25",
   "metadata": {},
   "outputs": [
    {
     "data": {
      "text/plain": [
       "{'Town01test': {'Success': ['N/A', 'N/A', 'N/A'],\n",
       "  'Route Completion': ['N/A', 'N/A', 'N/A'],\n",
       "  'Lights Ran per hour': ['N/A', 'N/A', 'N/A'],\n",
       "  'No Block': ['N/A', 'N/A', 'N/A'],\n",
       "  'No Collision': ['N/A', 'N/A', 'N/A'],\n",
       "  'No Collision Vehicle': ['N/A', 'N/A', 'N/A'],\n",
       "  'No Collision Walker': ['N/A', 'N/A', 'N/A'],\n",
       "  'No Collision Obstacle': ['N/A', 'N/A', 'N/A'],\n",
       "  'RC When Collided': ['N/A', 'N/A', 'N/A'],\n",
       "  'In Lane': ['N/A', 'N/A', 'N/A']},\n",
       " 'Town01train': {'Success': [16.0, 27.0, 10.0],\n",
       "  'Route Completion': [44.53, 53.24, 42.9],\n",
       "  'Lights Ran per hour': [1.15, 2.12, 2.51],\n",
       "  'No Block': [32.0, 52.0, 80.0],\n",
       "  'No Collision': [94.0, 86.0, 35.0],\n",
       "  'No Collision Vehicle': [100.0, 92.0, 41.0],\n",
       "  'No Collision Walker': [100.0, 100.0, 100.0],\n",
       "  'No Collision Obstacle': [94.0, 94.0, 94.0],\n",
       "  'RC When Collided': [46.28, 46.33, 38.49],\n",
       "  'In Lane': [91.86, 91.56, 91.88]},\n",
       " 'Town02test': {'Success': [4.0, 6.25, 'N/A'],\n",
       "  'Route Completion': [37.0, 44.09, 'N/A'],\n",
       "  'Lights Ran per hour': [7.74, 13.98, 'N/A'],\n",
       "  'No Block': [40.0, 81.25, 'N/A'],\n",
       "  'No Collision': [98.0, 78.12, 'N/A'],\n",
       "  'No Collision Vehicle': [100.0, 84.38, 'N/A'],\n",
       "  'No Collision Walker': [100.0, 100.0, 'N/A'],\n",
       "  'No Collision Obstacle': [98.0, 93.75, 'N/A'],\n",
       "  'RC When Collided': [28.06, 34.49, 'N/A'],\n",
       "  'In Lane': [95.32, 91.66, 'N/A']},\n",
       " 'Town02train': {'Success': ['N/A', 'N/A', 'N/A'],\n",
       "  'Route Completion': ['N/A', 'N/A', 'N/A'],\n",
       "  'Lights Ran per hour': ['N/A', 'N/A', 'N/A'],\n",
       "  'No Block': ['N/A', 'N/A', 'N/A'],\n",
       "  'No Collision': ['N/A', 'N/A', 'N/A'],\n",
       "  'No Collision Vehicle': ['N/A', 'N/A', 'N/A'],\n",
       "  'No Collision Walker': ['N/A', 'N/A', 'N/A'],\n",
       "  'No Collision Obstacle': ['N/A', 'N/A', 'N/A'],\n",
       "  'RC When Collided': ['N/A', 'N/A', 'N/A'],\n",
       "  'In Lane': ['N/A', 'N/A', 'N/A']}}"
      ]
     },
     "execution_count": 39,
     "metadata": {},
     "output_type": "execute_result"
    }
   ],
   "source": [
    "fpn"
   ]
  },
  {
   "cell_type": "code",
   "execution_count": null,
   "id": "111c1a4b-9d59-4f7b-85ef-3412194844e3",
   "metadata": {},
   "outputs": [],
   "source": []
  }
 ],
 "metadata": {
  "kernelspec": {
   "display_name": "Python 3 (ipykernel)",
   "language": "python",
   "name": "python3"
  },
  "language_info": {
   "codemirror_mode": {
    "name": "ipython",
    "version": 3
   },
   "file_extension": ".py",
   "mimetype": "text/x-python",
   "name": "python",
   "nbconvert_exporter": "python",
   "pygments_lexer": "ipython3",
   "version": "3.7.9"
  }
 },
 "nbformat": 4,
 "nbformat_minor": 5
}
