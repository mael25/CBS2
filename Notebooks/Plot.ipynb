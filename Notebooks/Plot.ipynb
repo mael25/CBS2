{
 "cells": [
  {
   "cell_type": "code",
   "execution_count": 125,
   "id": "d9e45cd7-d1e6-411d-9780-516738561d66",
   "metadata": {},
   "outputs": [
    {
     "name": "stdout",
     "output_type": "stream",
     "text": [
      "/storage2/mwildi/CBS2\n"
     ]
    }
   ],
   "source": [
    "import csv\n",
    "import numpy as np\n",
    "import pandas as pd\n",
    "from tabulate import tabulate\n",
    "from itertools import product\n",
    "from collections import defaultdict\n",
    "import matplotlib.pyplot as plt\n",
    "%cd /storage2/mwildi/CBS2"
   ]
  },
  {
   "cell_type": "code",
   "execution_count": 202,
   "id": "8db53078-cc01-4e43-83d1-d624b35ff7d3",
   "metadata": {},
   "outputs": [],
   "source": [
    "#Plots data inside data_per_model\n",
    "def plotter(data_per_model, main_title, legends, x_ticks, x_description, y_description, savepath):\n",
    "    assert(len(legends)==data_per_model.shape[0])\n",
    "    assert(len(x_ticks)==data_per_model.shape[1])\n",
    "\n",
    "    metrics = pd.DataFrame(np.array([data_per_model[:,i] for i in range(len(x_ticks))]), columns=legends)\n",
    "    ax = metrics.plot(kind='bar', figsize=(12, 7), legend=True, fontsize=16)\n",
    "    ax.set_xlabel(x_description)\n",
    "    x = np.arange(len(x_ticks))\n",
    "    ax.set_xticks(x)\n",
    "    ax.set_xticklabels(x_ticks, fontsize=16, rotation='horizontal')\n",
    "    ax.set_ylabel(y_description, fontsize=16)\n",
    "    plt.title(main_title, fontsize=20, weight='bold')\n",
    "    plt.savefig(savepath)"
   ]
  },
  {
   "cell_type": "code",
   "execution_count": 258,
   "id": "619cbbc8-1a39-4aff-be14-0f59ab8b44e6",
   "metadata": {},
   "outputs": [],
   "source": [
    "#####################################################################################\n",
    "# Parsing code adapted from World on Rails scripts/view_nocrash_results\n",
    "#####################################################################################\n",
    "\n",
    "def parse_results(path, traffic=None, metric_out=None):\n",
    "    TOWNS = ['Town01', 'Town02']\n",
    "    TRAFFICS = ['empty', 'regular', 'dense']\n",
    "    WEATHERS = {\n",
    "        1: 'train', 3: 'train', 6: 'train', 8: 'train',\n",
    "        10: 'test', 14: 'test',\n",
    "    }\n",
    "    METRICS = ['Success Rate', 'Route Completion', 'Lights Ran ph', 'No Block', 'No Collision', \n",
    "               'No Collision Veh', 'No Collision Walk', 'RC When Collided']\n",
    "\n",
    "    if traffic=='empty':\n",
    "        TRAFFICS = ['empty']\n",
    "    elif traffic=='regular':\n",
    "        TRAFFICS = ['regular']\n",
    "    elif traffic=='dense':\n",
    "        TRAFFICS = ['dense']\n",
    "\n",
    "    finished = defaultdict(lambda: [])\n",
    "\n",
    "    with open(path+'.csv', 'r') as file:\n",
    "        log = csv.DictReader(file)\n",
    "        for row in log:\n",
    "            finished[(\n",
    "                row['town'],\n",
    "                int(row['traffic']),\n",
    "                WEATHERS[int(row['weather'])],\n",
    "            )].append((\n",
    "                float(row['route_completion']),\n",
    "                int(row['lights_ran']),\n",
    "                float(row['duration']),\n",
    "                float(row['outside_lane']),\n",
    "                str(row['collision']),\n",
    "                str(row['collision_vehicle']),\n",
    "                str(row['collision_walker']),\n",
    "                str(row['in_route']),\n",
    "                str(row['blocked'])\n",
    "            ))\n",
    "\n",
    "    all_stats=dict()\n",
    "    \n",
    "    for town, weather_set in product(TOWNS, set(WEATHERS.values())):\n",
    "\n",
    "        output = \"\\n\"\n",
    "        output += \"\\033[1m========= Results of {}, weather {} \\033[1m=========\\033[0m\\n\".format(\n",
    "                town, weather_set)\n",
    "        output += \"\\n\"\n",
    "        list_statistics = [['Traffic', *TRAFFICS], [metric_out]+['N/A']*len(TRAFFICS),['Duration']+['N/A']*len(TRAFFICS)]\n",
    "\n",
    "        all_stats[town+weather_set] = {}\n",
    "        \n",
    "        for metric in METRICS:\n",
    "            stat= ['N/A']*len(TRAFFICS)\n",
    "\n",
    "            for traffic_idx, traffic in enumerate(TRAFFICS):\n",
    "                runs = finished[town,TRAFFICS.index(traffic),weather_set]\n",
    "\n",
    "                if len(runs) > 0:\n",
    "                    route_completion, lights_ran, duration, outside_lane, collision, collision_vehicle, collision_walker, in_route, blocked = zip(*runs)\n",
    "                    mean_lights_ran = np.array(lights_ran)/np.array(duration)*3600\n",
    "\n",
    "                    if metric == 'Success Rate':\n",
    "                        stat[traffic_idx] = np.round(100*np.mean(np.array(route_completion)==100), 2)\n",
    "                    elif metric == 'Route Completion':\n",
    "                        stat[traffic_idx] = np.round(np.mean(route_completion), 2)\n",
    "                    elif metric == 'Lights Ran ph':\n",
    "                        stat[traffic_idx] = np.round(np.mean(mean_lights_ran), 2)\n",
    "                    elif metric == 'No Block':\n",
    "                        stat[traffic_idx] = np.round(100*blocked.count('SUCCESS')/len(blocked), 2)\n",
    "                    elif metric == 'No Collision':\n",
    "                        stat[traffic_idx] = round(100*collision.count('SUCCESS')/len(collision), 2)\n",
    "                    elif metric == 'No Collision Veh':\n",
    "                        stat[traffic_idx] = np.round(100*collision_vehicle.count('SUCCESS')/len(collision_vehicle), 2)\n",
    "                    elif metric == 'No Collision Walk':\n",
    "                        stat[traffic_idx] = np.round(100*collision_walker.count('SUCCESS')/len(collision_walker), 2)\n",
    "                    elif metric == 'RC When Collided':\n",
    "                        collided = [True if x=='FAILURE' else False for x in collision]\n",
    "                        stat[traffic_idx] = np.round(np.mean(np.array(route_completion)[collided]), 2)\n",
    "\n",
    "                    if metric == metric_out:\n",
    "                        list_statistics[1][traffic_idx+1] = \"{}%\".format(stat[traffic_idx])\n",
    "                    list_statistics[2][traffic_idx+1] = \"{}s\".format(round(np.mean(duration), 2))\n",
    "                    \n",
    "                all_stats[town+weather_set][metric] = stat\n",
    "        output += tabulate(list_statistics, tablefmt='fancy_grid')\n",
    "        output += \"\\n\"\n",
    "        if metric_out is not None:\n",
    "            print(output)\n",
    "    return all_stats"
   ]
  },
  {
   "cell_type": "code",
   "execution_count": 279,
   "id": "afcea629-1fd6-415c-ab87-584e3074fc96",
   "metadata": {},
   "outputs": [],
   "source": [
    "main_title = 'Directional command at intersection'\n",
    "y_description = '[%] of dataset intersection frames'\n",
    "savepath = 'Notebooks/plots/dataset/dataset_cmd.png'\n",
    "\n",
    "plot_traffic=None\n",
    "plot_config='Town02test'\n",
    "plot_metric='No Block'"
   ]
  },
  {
   "cell_type": "code",
   "execution_count": 280,
   "id": "66bdd320-b640-4eb0-8beb-62352d8e990f",
   "metadata": {},
   "outputs": [],
   "source": [
    "original=parse_results('results/final/test_original', plot_traffic)\n",
    "ppm=parse_results('results/final/test_ppm', plot_traffic)\n",
    "fpn=parse_results('results/final/test_ppm', plot_traffic)"
   ]
  },
  {
   "cell_type": "code",
   "execution_count": 281,
   "id": "9a3ac8a1-fcf8-4505-b319-48acc36e8f3f",
   "metadata": {},
   "outputs": [],
   "source": [
    "#original"
   ]
  },
  {
   "cell_type": "code",
   "execution_count": 284,
   "id": "26880f08-590b-4b6d-bc36-4bf271fe233a",
   "metadata": {},
   "outputs": [
    {
     "name": "stdout",
     "output_type": "stream",
     "text": [
      "[[52. 96. 98.]\n",
      " [62. 80. 92.]\n",
      " [62. 80. 92.]]\n"
     ]
    }
   ],
   "source": [
    "legends = ['Original', 'PPM', 'FPN']\n",
    "#Comparison according to traffic\n",
    "if plot_traffic == None:\n",
    "    x_ticks = ['Empty', 'Regular', 'Dense']\n",
    "    x_description = 'Traffic condition'\n",
    "    data_original = original[plot_config][plot_metric]\n",
    "    data_ppm = ppm[plot_config][plot_metric]\n",
    "    data_fpn = fpn[plot_config][plot_metric]\n",
    "#Comparison according to train/test\n",
    "else:\n",
    "    configs = ['Town02test', 'Town02test']\n",
    "    x_ticks = ['Train', 'Test']\n",
    "    x_description = 'Town and weather configuration'\n",
    "    data_original = [original[config][plot_metric][0] for config in configs]\n",
    "    data_ppm = [ppm[config][plot_metric][0] for config in configs]\n",
    "    data_fpn = [fpn[config][plot_metric][0] for config in configs]  \n",
    "\n",
    "data_per_model = np.vstack((data_original, data_ppm, data_fpn))\n",
    "print(data_per_model)"
   ]
  },
  {
   "cell_type": "code",
   "execution_count": 268,
   "id": "519dde22-bed1-429c-9c77-edf10690cf4d",
   "metadata": {},
   "outputs": [
    {
     "data": {
      "image/png": "[encoded data removed]",
      "text/plain": [
       "<Figure size 864x504 with 1 Axes>"
      ]
     },
     "metadata": {
      "needs_background": "light"
     },
     "output_type": "display_data"
    }
   ],
   "source": [
    "plotter(data_per_model, main_title, legends, x_ticks, x_description, y_description, savepath)"
   ]
  },
  {
   "cell_type": "code",
   "execution_count": null,
   "id": "c2691c28-03c1-4a3b-ae26-615ba08b3a6b",
   "metadata": {},
   "outputs": [],
   "source": []
  }
 ],
 "metadata": {
  "kernelspec": {
   "display_name": "Python 3 (ipykernel)",
   "language": "python",
   "name": "python3"
  },
  "language_info": {
   "codemirror_mode": {
    "name": "ipython",
    "version": 3
   },
   "file_extension": ".py",
   "mimetype": "text/x-python",
   "name": "python",
   "nbconvert_exporter": "python",
   "pygments_lexer": "ipython3",
   "version": "3.7.9"
  }
 },
 "nbformat": 4,
 "nbformat_minor": 5
}
