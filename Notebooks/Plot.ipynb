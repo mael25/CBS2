{
 "cells": [
  {
   "cell_type": "code",
   "execution_count": 98,
   "id": "d9e45cd7-d1e6-411d-9780-516738561d66",
   "metadata": {},
   "outputs": [
    {
     "name": "stdout",
     "output_type": "stream",
     "text": [
      "/storage2/mwildi/CBS2\n"
     ]
    }
   ],
   "source": [
    "import csv\n",
    "import numpy as np\n",
    "from tabulate import tabulate\n",
    "from itertools import product\n",
    "from collections import defaultdict\n",
    "\n",
    "%cd /storage2/mwildi/CBS2\n",
    "#####################################################################################\n",
    "# Parsing code adapted from World on Rails scripts/view_nocrash_results\n",
    "#####################################################################################\n",
    "\n",
    "def parse_results(path, traffic=None, metric_out=None):\n",
    "    TOWNS = ['Town01', 'Town02']\n",
    "    TRAFFICS = ['empty', 'regular', 'dense']\n",
    "    WEATHERS = {\n",
    "        1: 'train', 3: 'train', 6: 'train', 8: 'train',\n",
    "        10: 'test', 14: 'test',\n",
    "    }\n",
    "    METRICS = ['Success Rate', 'Route Completion', 'Lights Ran', 'No Block', 'No Collision', 'No Collision Veh', 'No Collision Walk']\n",
    "\n",
    "    if traffic=='empty':\n",
    "        TRAFFICS = ['empty']\n",
    "    elif traffic=='regular':\n",
    "        TRAFFICS = ['regular']\n",
    "    elif traffic=='dense':\n",
    "        TRAFFICS = ['dense']\n",
    "\n",
    "    finished = defaultdict(lambda: [])\n",
    "\n",
    "    with open(path+'.csv', 'r') as file:\n",
    "        log = csv.DictReader(file)\n",
    "        for row in log:\n",
    "            finished[(\n",
    "                row['town'],\n",
    "                int(row['traffic']),\n",
    "                WEATHERS[int(row['weather'])],\n",
    "            )].append((\n",
    "                float(row['route_completion']),\n",
    "                int(row['lights_ran']),\n",
    "                float(row['duration']),\n",
    "                float(row['outside_lane']),\n",
    "                str(row['collision']),\n",
    "                str(row['collision_vehicle']),\n",
    "                str(row['collision_walker']),\n",
    "                str(row['in_route']),\n",
    "                str(row['blocked'])\n",
    "            ))\n",
    "\n",
    "    all_stats=dict()\n",
    "    \n",
    "    for town, weather_set in product(TOWNS, set(WEATHERS.values())):\n",
    "\n",
    "        output = \"\\n\"\n",
    "        output += \"\\033[1m========= Results of {}, weather {} \\033[1m=========\\033[0m\\n\".format(\n",
    "                town, weather_set)\n",
    "        output += \"\\n\"\n",
    "        list_statistics = [['Traffic', *TRAFFICS], [metric_out]+['N/A']*len(TRAFFICS),['Duration']+['N/A']*len(TRAFFICS)]\n",
    "\n",
    "        all_stats[town+weather_set] = {}\n",
    "        \n",
    "        for metric in METRICS:\n",
    "            stat= ['N/A']*len(TRAFFICS)\n",
    "\n",
    "            for traffic_idx, traffic in enumerate(TRAFFICS):\n",
    "                runs = finished[town,TRAFFICS.index(traffic),weather_set]\n",
    "\n",
    "                if len(runs) > 0:\n",
    "                    route_completion, lights_ran, duration, outside_lane, collision, collision_vehicle, collision_walker, in_route, blocked = zip(*runs)\n",
    "                    mean_lights_ran = np.array(lights_ran)/np.array(duration)*3600\n",
    "\n",
    "                    if metric == 'Success Rate':\n",
    "                        stat[traffic_idx] = np.round(100*np.mean(np.array(route_completion)==100), 2)\n",
    "                    elif metric == 'Route Completion':\n",
    "                        stat[traffic_idx] = np.round(np.mean(route_completion), 2)\n",
    "                    elif metric == 'Lights Ran ph':\n",
    "                        stat[traffic_idx] = np.round(np.mean(mean_lights_ran), 2)\n",
    "                    elif metric == 'No Block':\n",
    "                        stat[traffic_idx] = np.round(100*blocked.count('SUCCESS')/len(blocked), 2)\n",
    "                    elif metric == 'No Collision':\n",
    "                        stat[traffic_idx] = round(100*collision.count('SUCCESS')/len(collision), 2)\n",
    "                    elif metric == 'No Collision Veh':\n",
    "                        stat[traffic_idx] = np.round(100*collision_vehicle.count('SUCCESS')/len(collision_vehicle), 2)\n",
    "                    elif metric == 'No Collision Walk':\n",
    "                        stat[traffic_idx] = np.round(100*collision_walker.count('SUCCESS')/len(collision_walker), 2)\n",
    "\n",
    "                    if metric == metric_out:\n",
    "                        list_statistics[1][traffic_idx+1] = \"{}%\".format(stat[traffic_idx])\n",
    "                    list_statistics[2][traffic_idx+1] = \"{}s\".format(round(np.mean(duration), 2))\n",
    "                    \n",
    "                all_stats[town+weather_set][metric] = stat\n",
    "        output += tabulate(list_statistics, tablefmt='fancy_grid')\n",
    "        output += \"\\n\"\n",
    "        if metric_out is not None:\n",
    "            print(output)\n",
    "    return all_stats"
   ]
  },
  {
   "cell_type": "code",
   "execution_count": 101,
   "id": "66bdd320-b640-4eb0-8beb-62352d8e990f",
   "metadata": {},
   "outputs": [],
   "source": [
    "d=parse_results('results/final/test_original')"
   ]
  },
  {
   "cell_type": "code",
   "execution_count": 102,
   "id": "84b7f1c2-a379-417b-88d2-58094904590e",
   "metadata": {},
   "outputs": [
    {
     "data": {
      "text/plain": [
       "{'Town01test': {'Success Rate': ['N/A', 'N/A', 'N/A'],\n",
       "  'Route Completion': ['N/A', 'N/A', 'N/A'],\n",
       "  'Lights Ran': ['N/A', 'N/A', 'N/A'],\n",
       "  'No Block': ['N/A', 'N/A', 'N/A'],\n",
       "  'No Collision': ['N/A', 'N/A', 'N/A'],\n",
       "  'No Collision Veh': ['N/A', 'N/A', 'N/A'],\n",
       "  'No Collision Walk': ['N/A', 'N/A', 'N/A']},\n",
       " 'Town01train': {'Success Rate': ['N/A', 'N/A', 'N/A'],\n",
       "  'Route Completion': ['N/A', 'N/A', 'N/A'],\n",
       "  'Lights Ran': ['N/A', 'N/A', 'N/A'],\n",
       "  'No Block': ['N/A', 'N/A', 'N/A'],\n",
       "  'No Collision': ['N/A', 'N/A', 'N/A'],\n",
       "  'No Collision Veh': ['N/A', 'N/A', 'N/A'],\n",
       "  'No Collision Walk': ['N/A', 'N/A', 'N/A']},\n",
       " 'Town02test': {'Success Rate': [20.0, 28.0, 12.0],\n",
       "  'Route Completion': [51.41, 67.74, 50.97],\n",
       "  'Lights Ran': ['N/A', 'N/A', 'N/A'],\n",
       "  'No Block': [52.0, 96.0, 98.0],\n",
       "  'No Collision': [84.0, 54.0, 22.0],\n",
       "  'No Collision Veh': [100.0, 82.0, 44.0],\n",
       "  'No Collision Walk': [100.0, 100.0, 100.0]},\n",
       " 'Town02train': {'Success Rate': ['N/A', 'N/A', 'N/A'],\n",
       "  'Route Completion': ['N/A', 'N/A', 'N/A'],\n",
       "  'Lights Ran': ['N/A', 'N/A', 'N/A'],\n",
       "  'No Block': ['N/A', 'N/A', 'N/A'],\n",
       "  'No Collision': ['N/A', 'N/A', 'N/A'],\n",
       "  'No Collision Veh': ['N/A', 'N/A', 'N/A'],\n",
       "  'No Collision Walk': ['N/A', 'N/A', 'N/A']}}"
      ]
     },
     "execution_count": 102,
     "metadata": {},
     "output_type": "execute_result"
    }
   ],
   "source": [
    "d"
   ]
  }
 ],
 "metadata": {
  "kernelspec": {
   "display_name": "Python 3 (ipykernel)",
   "language": "python",
   "name": "python3"
  },
  "language_info": {
   "codemirror_mode": {
    "name": "ipython",
    "version": 3
   },
   "file_extension": ".py",
   "mimetype": "text/x-python",
   "name": "python",
   "nbconvert_exporter": "python",
   "pygments_lexer": "ipython3",
   "version": "3.7.9"
  }
 },
 "nbformat": 4,
 "nbformat_minor": 5
}
