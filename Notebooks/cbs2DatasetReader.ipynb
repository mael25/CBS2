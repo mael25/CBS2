{
 "cells": [
  {
   "cell_type": "markdown",
   "id": "260f5e7b",
   "metadata": {
    "jupyter": {
     "outputs_hidden": false
    },
    "pycharm": {
     "name": "#%%\n"
    },
    "tags": []
   },
   "source": [
    "# Data inspector"
   ]
  },
  {
   "cell_type": "markdown",
   "id": "42722421-1ca1-4a0c-8bb6-2b5288c24409",
   "metadata": {
    "jupyter": {
     "outputs_hidden": false
    },
    "pycharm": {
     "name": "#%%\n"
    },
    "tags": []
   },
   "source": [
    "#### Some functions are taken from https://github.com/thomasvanorden/LBS/tree/segmentation"
   ]
  },
  {
   "cell_type": "markdown",
   "id": "e9e1e9a8",
   "metadata": {},
   "source": [
    "## 0. Imports"
   ]
  },
  {
   "cell_type": "code",
   "execution_count": 5,
   "id": "4f3947ca",
   "metadata": {
    "collapsed": false,
    "jupyter": {
     "outputs_hidden": false
    },
    "pycharm": {
     "name": "#%%\n"
    }
   },
   "outputs": [
    {
     "name": "stdout",
     "output_type": "stream",
     "text": [
      "/storage2/mwildi/CBS2\n"
     ]
    }
   ],
   "source": [
    "#To be at project directory root and not in the Notebooks folder\n",
    "%cd /storage2/mwildi/CBS2\n",
    "\n",
    "#Imports\n",
    "import lmdb\n",
    "import math\n",
    "import numpy as np\n",
    "import matplotlib.pyplot as plt\n",
    "import pandas as pd\n",
    "from PIL import Image\n",
    "import os\n",
    "from tqdm import tqdm\n",
    "import random\n",
    "from collections import Counter\n",
    "import cv2\n",
    "import glob"
   ]
  },
  {
   "cell_type": "markdown",
   "id": "afdce5de",
   "metadata": {},
   "source": [
    "## 1. Dataset"
   ]
  },
  {
   "cell_type": "code",
   "execution_count": 6,
   "id": "30425ea4",
   "metadata": {
    "collapsed": false,
    "jupyter": {
     "outputs_hidden": false
    },
    "pycharm": {
     "name": "#%%\n"
    }
   },
   "outputs": [
    {
     "name": "stdout",
     "output_type": "stream",
     "text": [
      "Found 0 train episodes and 0 val episodes\n"
     ]
    }
   ],
   "source": [
    "dataset_path = \"dataset/split\"\n",
    "#repetitions = [x[0] for x in os.walk(dataset_path)][1:]\n",
    "#print('Found {} repetitions'.format(len(repetitions)))\n",
    "#print(repetitions)\n",
    "paths_t = [x[0] for x in os.walk(dataset_path + os.path.sep + 'train')][1:]\n",
    "paths_v = [x[0] for x in os.walk(dataset_path + os.path.sep + 'val')][1:]\n",
    "print('Found {} train episodes and {} val episodes'.format(len(paths_t), len(paths_v)))"
   ]
  },
  {
   "cell_type": "markdown",
   "id": "85ad29c3",
   "metadata": {},
   "source": [
    "### 1.1 Decode dataset"
   ]
  },
  {
   "cell_type": "code",
   "execution_count": 7,
   "id": "dec88939",
   "metadata": {
    "collapsed": false,
    "jupyter": {
     "outputs_hidden": false
    },
    "pycharm": {
     "name": "#%%\n"
    }
   },
   "outputs": [],
   "source": [
    "# Used to extract the dataset into the global dict 'dataset'\n",
    "def decode_dataset(path):\n",
    "    lmdb_env = lmdb.open(path)\n",
    "    lmdb_txn = lmdb_env.begin()\n",
    "    lmdb_cursor = lmdb_txn.cursor()\n",
    "\n",
    "    out = dict()\n",
    "    for key, value in tqdm(lmdb_cursor):\n",
    "        out[key.decode(\"utf-8\")] = value\n",
    "\n",
    "    lmdb_cursor.close()\n",
    "    return out\n",
    "\n",
    "# Will decode the frame at the given timestep from the global variable dataset\n",
    "def decode_frame(step):\n",
    "    data = {'rgb':None, 'segmentation': None, 'birdview': None, 'loc': None, 'rot': None, 'spd': None, 'cmd': None, 'trafficlights': None, 'cam_location': None, 'cam_rotation': None}\n",
    "\n",
    "    for t in data.keys():\n",
    "        d = dataset[\"{}_{:04d}\".format(t, step)]\n",
    "        data[t] = decode_data(d, kind=t)\n",
    "\n",
    "    return data\n",
    "\n",
    "# Used by 'decode_frame' to convert the data in the appropriate format\n",
    "def decode_data(data, kind='rgb'):\n",
    "    if kind == 'loc' or kind == 'rot' or kind == 'spd' or kind == 'cmd' or kind == 'cam_location' or kind == 'cam_rotation':\n",
    "        return np.frombuffer(data, dtype=np.float32)\n",
    "\n",
    "    img = np.frombuffer(data, dtype=np.uint8)\n",
    "\n",
    "    if kind == 'trafficlights':\n",
    "        return int.from_bytes(data, 'little')\n",
    "    elif kind == 'rgb':\n",
    "        img = img.reshape((160, 384, 3))\n",
    "    elif kind == 'segmentation':\n",
    "        img = img.reshape((160, 384))\n",
    "    elif kind == 'birdview':\n",
    "        img = img.reshape((96, 96, -1))\n",
    "        \n",
    "    else:\n",
    "        raise ValueError(\"Not known type {}. Choose from: rgb, birdview, segmentation.\".format(kind)) \n",
    "\n",
    "    return img"
   ]
  },
  {
   "cell_type": "markdown",
   "id": "d85f6b44-2966-4738-8753-1f9a413d3c9c",
   "metadata": {},
   "source": [
    "### 1.2 Information on dataset"
   ]
  },
  {
   "cell_type": "code",
   "execution_count": 43,
   "id": "7db8280f",
   "metadata": {
    "collapsed": false,
    "jupyter": {
     "outputs_hidden": false
    },
    "pycharm": {
     "name": "#%%\n"
    }
   },
   "outputs": [],
   "source": [
    "def get_episode_info():\n",
    "    cmds = []\n",
    "    is_red_tl = []\n",
    "    for i in range(int(dataset['len'].decode())):\n",
    "        is_red_tl.append(decode_frame(i)['trafficlights'])\n",
    "        cmds.append(int(decode_frame(i)['cmd'])+1)\n",
    "        \n",
    "    counter_cmds = Counter(cmds)\n",
    "    count_left = counter_cmds[1]\n",
    "    count_right = counter_cmds[2]\n",
    "    count_straight = counter_cmds[3]\n",
    "    count_follow = counter_cmds[4]\n",
    "    \n",
    "    counter_is_red_tl = Counter(is_red_tl)\n",
    "    count_red = counter_is_red_tl[0]\n",
    "    count_frames = sum(counter_is_red_tl.values())\n",
    "    \n",
    "    infos = [count_frames, count_left, count_right, count_straight, count_follow, count_red]\n",
    "    return infos\n",
    "\n",
    "def save_dataset_info(path_list, filename):\n",
    "    global dataset\n",
    "    n_episodes = len(path_list)\n",
    "    with open(filename,\"w\") as savefile:     \n",
    "        for i, path in enumerate(path_list):\n",
    "            dataset = decode_dataset(path)\n",
    "            if len(dataset) != 0:\n",
    "                row = get_episode_info()\n",
    "                np.savetxt(savefile, row, fmt='%i', delimiter=\",\")\n",
    "                \n",
    "def retrieve_dataset_info(filename):\n",
    "    retrieved = np.fromfile(filename, sep='\\n').astype(int).reshape(-1,6)\n",
    "    print('Retrieved {} episodes'.format(retrieved.shape[0]))\n",
    "    retrieved = np.sum(retrieved, axis=0)\n",
    "    \n",
    "    total_frames = retrieved[0] # Total frames\n",
    "    total_intersection_frames = retrieved[0]-retrieved[4] # Total frames (excluding 'follow lane ones')\n",
    "\n",
    "    rates_cmd = 100 * retrieved[1:4] / total_intersection_frames # Mean Left, Right, Straight (we do not care about follow)\n",
    "    rate_intersection = 100 * (1 - retrieved[4] / total_frames)\n",
    "    rate_red = 100 * retrieved[5] / total_frames\n",
    "    rates_inter_and_red = np.hstack((rate_intersection, rate_red)) # Mean red TL frames\n",
    "    return rates_cmd, rates_inter_and_red"
   ]
  },
  {
   "cell_type": "markdown",
   "id": "9f580491-f14c-41b1-8920-c8a49921da55",
   "metadata": {},
   "source": [
    "### 1.3 Retrieve and plots"
   ]
  },
  {
   "cell_type": "code",
   "execution_count": 51,
   "id": "07bc182a",
   "metadata": {
    "collapsed": false,
    "jupyter": {
     "outputs_hidden": false
    },
    "pycharm": {
     "name": "#%%\n"
    }
   },
   "outputs": [
    {
     "name": "stdout",
     "output_type": "stream",
     "text": [
      "Retrieved 151 episodes\n",
      "Retrieved 35 episodes\n"
     ]
    }
   ],
   "source": [
    "info_file_t = 'Notebooks/final_train.txt'\n",
    "info_file_v = 'Notebooks/final_val.txt'\n",
    "dataset = dict()\n",
    "\n",
    "#save_dataset_info(paths_t, info_file_t)\n",
    "#save_dataset_info(paths_v, info_file_v)\n",
    "\n",
    "cmd_rates_t, rates_inter_and_red_t = retrieve_dataset_info(info_file_t)\n",
    "cmd_rates_v, rates_inter_and_red_v = retrieve_dataset_info(info_file_v)\n",
    "cmd_rates = np.vstack((cmd_rates_t, cmd_rates_v))\n",
    "rates_inter_and_red = np.vstack((rates_inter_and_red_t, rates_inter_and_red_v))\n",
    "\n",
    "assert(np.mean(np.sum(cmd_rates_t)==100.0)) #Should be 100%"
   ]
  },
  {
   "cell_type": "code",
   "execution_count": 69,
   "id": "69ac8b2b",
   "metadata": {
    "collapsed": false,
    "jupyter": {
     "outputs_hidden": false
    },
    "pycharm": {
     "name": "#%%\n"
    }
   },
   "outputs": [
    {
     "data": {
      "image/png": "[encoded data removed]",
      "text/plain": [
       "<Figure size 864x504 with 1 Axes>"
      ]
     },
     "metadata": {
      "needs_background": "light"
     },
     "output_type": "display_data"
    }
   ],
   "source": [
    "legends = ['Training', 'Validation']\n",
    "x_title = 'Directional command'\n",
    "plot_labels = ['Left', 'Right', 'Straight']\n",
    "\n",
    "metrics = pd.DataFrame(np.array([cmd_rates[:,i] for i in range(3)]), columns=legends)\n",
    "ax = metrics.plot(kind='bar', figsize=(12, 7), legend=True, fontsize=16)\n",
    "ax.set_xlabel(x_title)\n",
    "x = np.arange(len(plot_labels))\n",
    "ax.set_xticks(x)\n",
    "ax.set_xticklabels(plot_labels, fontsize=16, rotation='horizontal')\n",
    "ax.set_ylabel(\"[%] of dataset intersection frames\", fontsize=16)\n",
    "plt.title(\"Directional command at intersection\", fontsize=20, weight='bold')\n",
    "plt.savefig('Notebooks/plots/dataset/dataset_cmd.png')\n"
   ]
  },
  {
   "cell_type": "code",
   "execution_count": 73,
   "id": "46fd65f1-684e-4464-85c0-29eb9641837e",
   "metadata": {
    "collapsed": false,
    "jupyter": {
     "outputs_hidden": false
    },
    "pycharm": {
     "name": "#%%\n"
    }
   },
   "outputs": [
    {
     "data": {
      "image/png": "[encoded data removed]",
      "text/plain": [
       "<Figure size 864x504 with 1 Axes>"
      ]
     },
     "metadata": {
      "needs_background": "light"
     },
     "output_type": "display_data"
    }
   ],
   "source": [
    "legends = ['Training', 'Validation']\n",
    "#x_title = 'Dataset'\n",
    "plot_labels = ['Intersection', 'Red traffic light']\n",
    "\n",
    "metrics = pd.DataFrame(np.array([rates_inter_and_red[:,i] for i in range(2)]), columns=legends)\n",
    "ax = metrics.plot(kind='bar', figsize=(12, 7), legend=True, fontsize=16)\n",
    "#ax.set_xlabel(x_title)\n",
    "x = np.arange(len(plot_labels))\n",
    "ax.set_xticks(x)\n",
    "ax.set_xticklabels(plot_labels, fontsize=16, rotation='horizontal')\n",
    "ax.set_ylabel(\"[%] of dataset frames\", fontsize=16)\n",
    "plt.title(\"Occurance of intersections and red traffic lights\", fontsize=20, weight='bold')\n",
    "plt.savefig('Notebooks/plots/dataset/dataset_red.png')"
   ]
  },
  {
   "cell_type": "code",
   "execution_count": 71,
   "id": "04ca8d56-8c97-4876-a314-f9ae80eca5c6",
   "metadata": {
    "collapsed": false,
    "jupyter": {
     "outputs_hidden": false
    },
    "pycharm": {
     "name": "#%%\n"
    }
   },
   "outputs": [],
   "source": [
    "from pathlib import Path\n",
    "import torch\n",
    "import lmdb\n",
    "import os\n",
    "import glob\n",
    "import numpy as np\n",
    "import cv2\n",
    "import math\n",
    "import random\n",
    "\n",
    "PIXEL_OFFSET = 10\n",
    "N_TRAFFIC_LIGHT_STATES = 1\n",
    "SEG_CLASSES = {4, 6, 7, 10, 18}  # pedestrians, roadlines, roads, vehicles, tl\n",
    "\n",
    "buffer = 40\n",
    "n_step = 5\n",
    "gap= 5\n",
    "\n",
    "\n",
    "def project_vehicle(converter, x, y, z, ori_x, ori_y, ori_z):\n",
    "    pos = np.array([x, y, z])\n",
    "    ori = np.array([ori_x, ori_y, ori_z])\n",
    "    ori /= np.linalg.norm(ori)  # Make unit vector\n",
    "\n",
    "    #new_pos = pos + 4 * ori\n",
    "    fwd_2d_angle = np.deg2rad(ori_y) #yaw to rad\n",
    "    new_pos = pos + 5.5 * np.array([np.cos(fwd_2d_angle), np.sin(fwd_2d_angle), 0])\n",
    "    new_pos_cam_coords = converter.convert(np.array([new_pos]))\n",
    "    if(new_pos_cam_coords.shape[0] == 0):\n",
    "        return np.array([[192, 147, 0]]) # In the center of the image, almost at the bottom --> stop waypoint\n",
    "    return new_pos_cam_coords\n",
    "\n",
    "\n",
    "def interpolate_waypoints(points):\n",
    "    points = points[:, :2]\n",
    "\n",
    "    # Fit first or second function through points\n",
    "    n_degree = 2 if points.shape[0] > 2 else 1\n",
    "    z = np.polyfit(points[:, 0], points[:, 1], n_degree)\n",
    "    p = np.poly1d(z)\n",
    "\n",
    "    # Keep interpolating until we have n_step points\n",
    "    while points.shape[0] < 5:\n",
    "        points_2 = np.vstack([points[0], points[:-1]])\n",
    "        max_id = np.argmax(np.linalg.norm(points - points_2, axis=1))\n",
    "        _x = np.mean([points[max_id], points_2[max_id]], axis=0)[0]\n",
    "        points = np.insert(points, max_id, np.array([_x, p(_x)]), 0)\n",
    "\n",
    "    return points\n",
    "\n",
    "def get_waypoints(converter, index, world_x, world_y, world_z, ori_x, ori_y, ori_z):\n",
    "    global buffer\n",
    "    global n_step\n",
    "    global gap\n",
    "    \n",
    "\n",
    "    tl = decode_frame(index)['trafficlights']\n",
    "    speed = decode_frame(index)['spd'][0]\n",
    "\n",
    "    output = []\n",
    "    #if tl or vehicle or walker:\n",
    "    #if tl:\n",
    "    if speed < 0.005:\n",
    "        vehicle_proj = project_vehicle(converter, world_x, world_y, world_z, ori_x, ori_y, ori_z)\n",
    "        output = np.array([vehicle_proj[0] for _ in range(n_step)])\n",
    "        if tl:\n",
    "            return output, 3 # Traffic light --> stop\n",
    "        else:\n",
    "            return output, 4 # TObstacle --> stop\n",
    "\n",
    "    for i in range(index, (index + (n_step + 1 + buffer * gap)), gap):\n",
    "        if len(output) == n_step:\n",
    "            break\n",
    "\n",
    "        x, y, z = decode_frame(i)['loc']\n",
    "        image_coords = converter.convert(np.array([[x, y, z]]))\n",
    "        if len(image_coords) > 0:\n",
    "            output.append(image_coords[0])\n",
    "\n",
    "    if len(output) < 2:\n",
    "        # First try with smaller GAP\n",
    "        if gap > 1:\n",
    "            gap = 1\n",
    "            return get_waypoints(converter, index, world_x, world_y, world_z,ori_x, ori_y, ori_z)\n",
    "\n",
    "        vehicle_proj = project_vehicle(converter, world_x, world_y, world_z, ori_x,ori_y, ori_z)\n",
    "        output = np.array([vehicle_proj[0] for _ in range(n_step)])\n",
    "        #return output, True\n",
    "        return output, 2 # Less than two waypoints --> stop\n",
    "\n",
    "    if 2 <= len(output) < n_step:\n",
    "        return interpolate_waypoints(converter, np.array(output)), 1 # Interpolation\n",
    "    #return np.array(output), False\n",
    "    return np.array(output), 0 # All waypoints ok\n",
    "\n",
    "    "
   ]
  },
  {
   "cell_type": "code",
   "execution_count": null,
   "id": "e06dd481-df55-483b-b8da-b7484388f94f",
   "metadata": {
    "collapsed": false,
    "jupyter": {
     "outputs_hidden": false
    },
    "pycharm": {
     "name": "#%%\n"
    }
   },
   "outputs": [],
   "source": [
    "from image_utils import CoordinateConverter, Location, Rotation, Transform \n",
    "\n",
    "font = cv2.FONT_HERSHEY_SIMPLEX\n",
    "#dataset = decode_dataset(train_paths[478])\n",
    "debug_paths = [x[0] for x in os.walk('dataset/test' + os.path.sep + '89')][1:]\n",
    "print(debug_paths)\n",
    "\n",
    "\n",
    "img_array=[]\n",
    "tls_array=[]\n",
    "\n",
    "\n",
    "for p in debug_paths[:10]: \n",
    "    dataset = decode_dataset(p)\n",
    "    N = int(dataset['len'].decode())\n",
    "    print(N)\n",
    "    title_img = np.zeros(shape=(160, 384, 3), dtype=np.uint8)\n",
    "    size = (384,160)\n",
    "    cv2.putText(title_img, p, (50,50), font, 0.3, (0, 255, 255), 1, cv2.LINE_8)\n",
    "    for i in range(15):\n",
    "        img_array.append(title_img)\n",
    "    try:\n",
    "        for i in range(N):\n",
    "            frame = decode_frame(i)\n",
    "            img = frame['rgb']\n",
    "            if img is not None:\n",
    "                height, width, layers = img.shape\n",
    "                size = (width,height)\n",
    "                world_x, world_y, world_z = frame['loc']\n",
    "                ori_x, ori_y, ori_z = frame['rot']\n",
    "                speed = frame['spd'][0]\n",
    "                speed = np.abs(speed)\n",
    "                cmd = int(frame['cmd'][0])\n",
    "                cam_x, cam_y, cam_z = frame['cam_location']\n",
    "                cam_pitch, cam_yaw, cam_roll = frame['cam_rotation']\n",
    "\n",
    "                sensor_transform = Transform(Location(cam_x, cam_y, cam_z), Rotation(cam_pitch, cam_yaw, cam_roll))\n",
    "                #print('Cam {} {} {} {} {} {}'.format(cam_x, cam_y, cam_z, cam_pitch, cam_yaw, cam_roll))\n",
    "                converter = CoordinateConverter(sensor_transform, fov=120)\n",
    "\n",
    "                image_coord_wp, method = get_waypoints(converter,i, world_x, world_y, world_z, ori_x, ori_y, ori_z)\n",
    "                method = {\n",
    "                    0: 'wp:ok', 1: 'wp:interp', 2: 'wp:<2',\n",
    "                    3: 'TL Stop', 4: 'Obs Stop'}.get(method)\n",
    "                cmd = {\n",
    "                    0: 'LEFT', 1: 'RIGHT',\n",
    "                    2: 'STRAIGHT', 3: 'FOLLOW'}.get(cmd)\n",
    "\n",
    "                for coords in image_coord_wp:\n",
    "                    c = coords[:2]\n",
    "                    cv2.circle(img, (int(c[0]), int(c[1])), 1, (255,0,0), 5)\n",
    "\n",
    "                tls = frame['trafficlights']\n",
    "                \n",
    "                \n",
    "                img = cv2.putText(img, f'red:{tls}  spd:{speed:.2f} {method} {cmd} ', (10,10), font, 0.3, (0, 255, 255), 1, cv2.LINE_8)\n",
    "                img_array.append(img)\n",
    "\n",
    "    except:\n",
    "        print('Next episode')\n",
    "out = cv2.VideoWriter('dataset_episode.mp4',0x7634706d, 8, size)\n",
    "for i in range(len(img_array)):\n",
    "    out.write(img_array[i])\n",
    "out.release()\n",
    "print('Finished')"
   ]
  },
  {
   "cell_type": "code",
   "execution_count": null,
   "id": "68546b3b-f228-4013-90f6-dbc9db70fd01",
   "metadata": {
    "collapsed": false,
    "jupyter": {
     "outputs_hidden": false
    },
    "pycharm": {
     "name": "#%%\n"
    }
   },
   "outputs": [],
   "source": [
    "rgb = decode_frame(900)['rgb']\n",
    "plt.imshow(rgb)"
   ]
  },
  {
   "cell_type": "code",
   "execution_count": null,
   "id": "a8f79f84-896d-4d59-af7b-b5054e8fad5e",
   "metadata": {
    "collapsed": false,
    "jupyter": {
     "outputs_hidden": false
    },
    "pycharm": {
     "name": "#%%\n"
    }
   },
   "outputs": [],
   "source": [
    "seg = decode_frame(900)['segmentation']\n",
    "plt.imshow(seg==18)"
   ]
  },
  {
   "cell_type": "code",
   "execution_count": null,
   "id": "3c394ebc-c6d6-4a80-9095-582dddf3e852",
   "metadata": {
    "collapsed": false,
    "jupyter": {
     "outputs_hidden": false
    },
    "pycharm": {
     "name": "#%%\n"
    }
   },
   "outputs": [],
   "source": [
    "dataset.keys()\n"
   ]
  },
  {
   "cell_type": "code",
   "execution_count": null,
   "id": "cb941784-b8b4-4f8c-95a6-f7aa5dd2ab89",
   "metadata": {
    "collapsed": false,
    "jupyter": {
     "outputs_hidden": false
    },
    "pycharm": {
     "name": "#%%\n"
    }
   },
   "outputs": [],
   "source": [
    "seg = decode_frame(550)['segmentation']\n",
    "print(np.unique(seg))\n",
    "print(seg[50:100,230:250])\n",
    "plt.imshow(seg)"
   ]
  }
 ],
 "metadata": {
  "kernelspec": {
   "display_name": "Python 3 (ipykernel)",
   "language": "python",
   "name": "python3"
  },
  "language_info": {
   "codemirror_mode": {
    "name": "ipython",
    "version": 3
   },
   "file_extension": ".py",
   "mimetype": "text/x-python",
   "name": "python",
   "nbconvert_exporter": "python",
   "pygments_lexer": "ipython3",
   "version": "3.7.9"
  }
 },
 "nbformat": 4,
 "nbformat_minor": 5
}
