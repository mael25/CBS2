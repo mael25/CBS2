{
 "cells": [
  {
   "cell_type": "markdown",
   "id": "260f5e7b",
   "metadata": {
    "jupyter": {
     "outputs_hidden": false
    },
    "pycharm": {
     "name": "#%%\n"
    }
   },
   "source": [
    "# Data inspector"
   ]
  },
  {
   "cell_type": "markdown",
   "id": "e9e1e9a8",
   "metadata": {},
   "source": [
    "## 0. Imports"
   ]
  },
  {
   "cell_type": "code",
   "execution_count": 1,
   "id": "4f3947ca",
   "metadata": {
    "collapsed": false,
    "jupyter": {
     "outputs_hidden": false
    },
    "pycharm": {
     "name": "#%%\n"
    }
   },
   "outputs": [
    {
     "name": "stdout",
     "output_type": "stream",
     "text": [
      "/storage2/mwildi/CBS2\n"
     ]
    }
   ],
   "source": [
    "#To be at project directory root and not in the Notebooks folder\n",
    "%cd /storage2/mwildi/CBS2\n",
    "\n",
    "#Imports\n",
    "import lmdb\n",
    "import math\n",
    "import numpy as np\n",
    "import matplotlib.pyplot as plt\n",
    "import pandas as pd\n",
    "from PIL import Image\n",
    "import os\n",
    "from tqdm import tqdm\n",
    "import random\n",
    "from collections import Counter\n",
    "import cv2\n",
    "import glob"
   ]
  },
  {
   "cell_type": "markdown",
   "id": "afdce5de",
   "metadata": {},
   "source": [
    "## 1. Read dataset"
   ]
  },
  {
   "cell_type": "code",
   "execution_count": 2,
   "id": "30425ea4",
   "metadata": {
    "collapsed": false,
    "jupyter": {
     "outputs_hidden": false
    },
    "pycharm": {
     "name": "#%%\n"
    }
   },
   "outputs": [
    {
     "name": "stdout",
     "output_type": "stream",
     "text": [
      "Found 0 repetitions\n",
      "Found 0 train episodes and 0 val episodes\n"
     ]
    }
   ],
   "source": [
    "dataset_path = \"dataset/13dec\"\n",
    "repetitions = [x[0] for x in os.walk(dataset_path)][1:]\n",
    "print('Found {} repetitions'.format(len(repetitions)))\n",
    "#print(repetitions)\n",
    "train_paths = [x[0] for x in os.walk(dataset_path + os.path.sep + 'train')][1:]\n",
    "val_paths = [x[0] for x in os.walk(dataset_path + os.path.sep + 'val')][1:]\n",
    "print('Found {} train episodes and {} val episodes'.format(len(train_paths), len(val_paths)))\n",
    "#print(val_paths)"
   ]
  },
  {
   "cell_type": "markdown",
   "id": "85ad29c3",
   "metadata": {},
   "source": [
    "### 1.1 Decode dataset"
   ]
  },
  {
   "cell_type": "code",
   "execution_count": 3,
   "id": "dec88939",
   "metadata": {
    "collapsed": false,
    "jupyter": {
     "outputs_hidden": false
    },
    "pycharm": {
     "name": "#%%\n"
    }
   },
   "outputs": [],
   "source": [
    "def decode_dataset(path):\n",
    "    lmdb_env = lmdb.open(path)\n",
    "    lmdb_txn = lmdb_env.begin()\n",
    "    lmdb_cursor = lmdb_txn.cursor()\n",
    "\n",
    "    out = dict()\n",
    "    for key, value in tqdm(lmdb_cursor):\n",
    "        out[key.decode(\"utf-8\")] = value\n",
    "\n",
    "    lmdb_cursor.close()\n",
    "    return out\n",
    "\n",
    "def decode_data(data, kind='rgb'):\n",
    "    if kind == 'loc' or kind == 'rot' or kind == 'spd' or kind == 'cmd' or kind == 'cam_location' or kind == 'cam_rotation':\n",
    "        return np.frombuffer(data, dtype=np.float32)\n",
    "\n",
    "    img = np.frombuffer(data, dtype=np.uint8)\n",
    "\n",
    "    if kind == 'trafficlights':\n",
    "        #return np.frombuffer(data, dtype=np.int8)\n",
    "        return int.from_bytes(data, 'little')\n",
    "    elif kind == 'rgb':\n",
    "        img = img.reshape((160, 384, 3))\n",
    "    elif kind == 'segmentation':\n",
    "        img = img.reshape((160, 384))\n",
    "    elif kind == 'birdview':\n",
    "        img = img.reshape((96, 96, -1))\n",
    "        \n",
    "    else:\n",
    "        # raise ValueError(f\"Not known type {kind}. Choose from: rgb, birdview, segmentation.\")\n",
    "        raise ValueError(\"Not known type {}. Choose from: rgb, birdview, segmentation.\".format(kind)) \n",
    "\n",
    "    return img\n",
    "\n",
    "def decode_frame(step):\n",
    "    data = {'rgb':None, 'segmentation': None, 'birdview': None, 'loc': None, 'rot': None, 'spd': None, 'cmd': None, 'trafficlights': None, 'cam_location': None, 'cam_rotation': None}\n",
    "\n",
    "    for t in data.keys():\n",
    "        d = dataset[\"{}_{:04d}\".format(t, step)]\n",
    "        data[t] = decode_data(d, kind=t)\n",
    "\n",
    "    return data"
   ]
  },
  {
   "cell_type": "code",
   "execution_count": 30,
   "id": "7db8280f",
   "metadata": {
    "collapsed": false,
    "jupyter": {
     "outputs_hidden": false
    },
    "pycharm": {
     "name": "#%%\n"
    }
   },
   "outputs": [],
   "source": [
    "def get_red_tl():\n",
    "    is_red_tl = []\n",
    "    speed = []\n",
    "    for i in range(int(dataset['len'].decode())):\n",
    "        is_red_tl.append(decode_frame(i)['trafficlights'])\n",
    "    c = Counter(is_red_tl)\n",
    "    n_red_frames = c[0]\n",
    "    n_frames = sum(c.values())\n",
    "    \n",
    "    level_changes = 0\n",
    "    for i,tl in enumerate(is_red_tl):\n",
    "        if (i != 0 and tl != old_tl):\n",
    "            level_changes += 1\n",
    "        old_tl = tl\n",
    "    red_lights = math.floor(level_changes/2)\n",
    "    infos = [red_lights, n_red_frames, n_frames]\n",
    "    \n",
    "    return infos\n",
    "\n",
    "def get_red_tl_by_cmd():\n",
    "    is_red_tl = []\n",
    "    speed = []\n",
    "    for i in range(int(dataset['len'].decode())):\n",
    "        if decode_frame(i)['trafficlights']:\n",
    "            cmd = int(decode_frame(i)['cmd'])\n",
    "            is_red_tl.append(cmd)\n",
    "        else:\n",
    "            is_red_tl.append(0)\n",
    "    c = Counter(is_red_tl)\n",
    "    #print(c)\n",
    "    no_red = c[0]\n",
    "    red_l = c[1]\n",
    "    red_r = c[2]\n",
    "    red_s = c[3]\n",
    "    red_f = c[4]\n",
    "    n_frames = sum(c.values())\n",
    "    n_red_frames = n_frames - no_red\n",
    "    \n",
    "    level_changes = 0\n",
    "    for i,tl in enumerate(is_red_tl):\n",
    "        if (i != 0 and tl != old_tl):\n",
    "            level_changes += 1\n",
    "        old_tl = tl\n",
    "    red_lights = math.floor(level_changes/2)\n",
    "    infos = [red_lights, n_red_frames, n_frames, red_l, red_r, red_s, red_f]\n",
    "    \n",
    "    return infos"
   ]
  },
  {
   "cell_type": "code",
   "execution_count": 17,
   "id": "07bc182a",
   "metadata": {
    "collapsed": false,
    "jupyter": {
     "outputs_hidden": false
    },
    "pycharm": {
     "name": "#%%\n"
    }
   },
   "outputs": [],
   "source": [
    "path_list = train_paths\n",
    "filename = 'val2.txt'\n",
    "#ox, oy, oz, ori_ox, ori_oy, vx, vy, vz, _, _, _, _, _, _, ax, ay, az, cmd, steer, throttle, brake, manual, gear  = measurement"
   ]
  },
  {
   "cell_type": "code",
   "execution_count": 18,
   "id": "01a2ed8c",
   "metadata": {
    "collapsed": false,
    "jupyter": {
     "outputs_hidden": false
    },
    "pycharm": {
     "name": "#%%\n"
    }
   },
   "outputs": [
    {
     "name": "stderr",
     "output_type": "stream",
     "text": [
      "3281it [00:00, 180706.35it/s]\n"
     ]
    },
    {
     "ename": "KeyError",
     "evalue": "'wide_rgb_0_00000'",
     "output_type": "error",
     "traceback": [
      "\u001b[0;31m---------------------------------------------------------------------------\u001b[0m",
      "\u001b[0;31mKeyError\u001b[0m                                  Traceback (most recent call last)",
      "\u001b[0;32m/tmp/ipykernel_1712169/931117564.py\u001b[0m in \u001b[0;36m<module>\u001b[0;34m\u001b[0m\n\u001b[1;32m      8\u001b[0m         \u001b[0;32mif\u001b[0m \u001b[0mlen\u001b[0m\u001b[0;34m(\u001b[0m\u001b[0mdataset\u001b[0m\u001b[0;34m)\u001b[0m \u001b[0;34m!=\u001b[0m \u001b[0;36m0\u001b[0m\u001b[0;34m:\u001b[0m\u001b[0;34m\u001b[0m\u001b[0;34m\u001b[0m\u001b[0m\n\u001b[1;32m      9\u001b[0m             \u001b[0;31m#row = get_red_tl()\u001b[0m\u001b[0;34m\u001b[0m\u001b[0;34m\u001b[0m\u001b[0;34m\u001b[0m\u001b[0m\n\u001b[0;32m---> 10\u001b[0;31m             \u001b[0mrow\u001b[0m \u001b[0;34m=\u001b[0m \u001b[0mget_red_tl_by_cmd\u001b[0m\u001b[0;34m(\u001b[0m\u001b[0;34m)\u001b[0m\u001b[0;34m\u001b[0m\u001b[0;34m\u001b[0m\u001b[0m\n\u001b[0m\u001b[1;32m     11\u001b[0m             \u001b[0;31m#print(row)\u001b[0m\u001b[0;34m\u001b[0m\u001b[0;34m\u001b[0m\u001b[0;34m\u001b[0m\u001b[0m\n\u001b[1;32m     12\u001b[0m             \u001b[0mnp\u001b[0m\u001b[0;34m.\u001b[0m\u001b[0msavetxt\u001b[0m\u001b[0;34m(\u001b[0m\u001b[0msavefile\u001b[0m\u001b[0;34m,\u001b[0m \u001b[0mrow\u001b[0m\u001b[0;34m,\u001b[0m \u001b[0mfmt\u001b[0m\u001b[0;34m=\u001b[0m\u001b[0;34m'%i'\u001b[0m\u001b[0;34m,\u001b[0m \u001b[0mdelimiter\u001b[0m\u001b[0;34m=\u001b[0m\u001b[0;34m\",\"\u001b[0m\u001b[0;34m)\u001b[0m\u001b[0;34m\u001b[0m\u001b[0;34m\u001b[0m\u001b[0m\n",
      "\u001b[0;32m/tmp/ipykernel_1712169/3849746350.py\u001b[0m in \u001b[0;36mget_red_tl_by_cmd\u001b[0;34m()\u001b[0m\n\u001b[1;32m     22\u001b[0m     \u001b[0mspeed\u001b[0m \u001b[0;34m=\u001b[0m \u001b[0;34m[\u001b[0m\u001b[0;34m]\u001b[0m\u001b[0;34m\u001b[0m\u001b[0;34m\u001b[0m\u001b[0m\n\u001b[1;32m     23\u001b[0m     \u001b[0;32mfor\u001b[0m \u001b[0mi\u001b[0m \u001b[0;32min\u001b[0m \u001b[0mrange\u001b[0m\u001b[0;34m(\u001b[0m\u001b[0mint\u001b[0m\u001b[0;34m(\u001b[0m\u001b[0mdataset\u001b[0m\u001b[0;34m[\u001b[0m\u001b[0;34m'len'\u001b[0m\u001b[0;34m]\u001b[0m\u001b[0;34m.\u001b[0m\u001b[0mdecode\u001b[0m\u001b[0;34m(\u001b[0m\u001b[0;34m)\u001b[0m\u001b[0;34m)\u001b[0m\u001b[0;34m)\u001b[0m\u001b[0;34m:\u001b[0m\u001b[0;34m\u001b[0m\u001b[0;34m\u001b[0m\u001b[0m\n\u001b[0;32m---> 24\u001b[0;31m         \u001b[0;32mif\u001b[0m \u001b[0mdecode_frame\u001b[0m\u001b[0;34m(\u001b[0m\u001b[0mi\u001b[0m\u001b[0;34m)\u001b[0m\u001b[0;34m[\u001b[0m\u001b[0;34m'trafficlights'\u001b[0m\u001b[0;34m]\u001b[0m\u001b[0;34m:\u001b[0m\u001b[0;34m\u001b[0m\u001b[0;34m\u001b[0m\u001b[0m\n\u001b[0m\u001b[1;32m     25\u001b[0m             \u001b[0mcmd\u001b[0m \u001b[0;34m=\u001b[0m \u001b[0mint\u001b[0m\u001b[0;34m(\u001b[0m\u001b[0mdecode_frame\u001b[0m\u001b[0;34m(\u001b[0m\u001b[0mi\u001b[0m\u001b[0;34m)\u001b[0m\u001b[0;34m[\u001b[0m\u001b[0;34m'cmd'\u001b[0m\u001b[0;34m]\u001b[0m\u001b[0;34m)\u001b[0m\u001b[0;34m\u001b[0m\u001b[0;34m\u001b[0m\u001b[0m\n\u001b[1;32m     26\u001b[0m             \u001b[0mis_red_tl\u001b[0m\u001b[0;34m.\u001b[0m\u001b[0mappend\u001b[0m\u001b[0;34m(\u001b[0m\u001b[0mcmd\u001b[0m\u001b[0;34m)\u001b[0m\u001b[0;34m\u001b[0m\u001b[0;34m\u001b[0m\u001b[0m\n",
      "\u001b[0;32m/tmp/ipykernel_1712169/183383284.py\u001b[0m in \u001b[0;36mdecode_frame\u001b[0;34m(step)\u001b[0m\n\u001b[1;32m     41\u001b[0m     \u001b[0;32mfor\u001b[0m \u001b[0mt\u001b[0m \u001b[0;32min\u001b[0m \u001b[0mdata\u001b[0m\u001b[0;34m.\u001b[0m\u001b[0mkeys\u001b[0m\u001b[0;34m(\u001b[0m\u001b[0;34m)\u001b[0m\u001b[0;34m:\u001b[0m\u001b[0;34m\u001b[0m\u001b[0;34m\u001b[0m\u001b[0m\n\u001b[1;32m     42\u001b[0m         \u001b[0;31m# d = out[f\"{t}_{step:04d}\"]\u001b[0m\u001b[0;34m\u001b[0m\u001b[0;34m\u001b[0m\u001b[0;34m\u001b[0m\u001b[0m\n\u001b[0;32m---> 43\u001b[0;31m         \u001b[0md\u001b[0m \u001b[0;34m=\u001b[0m \u001b[0mdataset\u001b[0m\u001b[0;34m[\u001b[0m\u001b[0;34m\"{}_{:05d}\"\u001b[0m\u001b[0;34m.\u001b[0m\u001b[0mformat\u001b[0m\u001b[0;34m(\u001b[0m\u001b[0mt\u001b[0m\u001b[0;34m,\u001b[0m \u001b[0mstep\u001b[0m\u001b[0;34m)\u001b[0m\u001b[0;34m]\u001b[0m\u001b[0;34m\u001b[0m\u001b[0;34m\u001b[0m\u001b[0m\n\u001b[0m\u001b[1;32m     44\u001b[0m         \u001b[0mdata\u001b[0m\u001b[0;34m[\u001b[0m\u001b[0mt\u001b[0m\u001b[0;34m]\u001b[0m \u001b[0;34m=\u001b[0m \u001b[0mdecode_data\u001b[0m\u001b[0;34m(\u001b[0m\u001b[0md\u001b[0m\u001b[0;34m,\u001b[0m \u001b[0mkind\u001b[0m\u001b[0;34m=\u001b[0m\u001b[0mt\u001b[0m\u001b[0;34m)\u001b[0m\u001b[0;34m\u001b[0m\u001b[0;34m\u001b[0m\u001b[0m\n\u001b[1;32m     45\u001b[0m \u001b[0;34m\u001b[0m\u001b[0m\n",
      "\u001b[0;31mKeyError\u001b[0m: 'wide_rgb_0_00000'"
     ]
    }
   ],
   "source": [
    "n_episodes = len(path_list)\n",
    "episodes_tl_infos = np.zeros((n_episodes, 3))\n",
    "with open(filename,\"w\") as savefile:     \n",
    "    for i, path in enumerate(path_list):\n",
    "        #print('ep.{}/{}'.format(i, n_episodes))\n",
    "        dataset = decode_dataset(path)\n",
    "        #print(len(dataset))\n",
    "        if len(dataset) != 0:\n",
    "            #row = get_red_tl()\n",
    "            row = get_red_tl_by_cmd()\n",
    "            #print(row)\n",
    "            np.savetxt(savefile, row, fmt='%i', delimiter=\",\")"
   ]
  },
  {
   "cell_type": "code",
   "execution_count": null,
   "id": "2f796c8a",
   "metadata": {
    "collapsed": false,
    "jupyter": {
     "outputs_hidden": false
    },
    "pycharm": {
     "name": "#%%\n"
    }
   },
   "outputs": [],
   "source": [
    "def retrieve_tl_infos(filename):\n",
    "    retrieved = np.fromfile(filename, sep='\\n').astype(int).reshape(-1,3)\n",
    "    print('Retrieved {} episodes'.format(retrieved.shape[0]))\n",
    "    red_lights = retrieved[:,0]\n",
    "    n_red_frames = retrieved[:,1]\n",
    "    n_frames = retrieved[:,2]\n",
    "    return red_lights, n_red_frames, n_frames\n",
    "\n",
    "def retrieve_tl_infos_cmd(filename):\n",
    "    retrieved = np.fromfile(filename, sep='\\n').astype(int).reshape(-1,7)\n",
    "    print('Retrieved {} episodes'.format(retrieved.shape[0]))\n",
    "    #print(retrieved)\n",
    "    retrieved = np.sum(retrieved, axis=0) # Sum over all epsisodes\n",
    "    total_infractions = retrieved[0]\n",
    "    total_frames = retrieved[1] # Store total number of frames to compute rates PER FRAME\n",
    "    rates = 100*retrieved[3:]/total_frames if total_frames > 0 else 0*retrieved[3:] # Compute rates\n",
    "    return total_frames, rates, retrieved"
   ]
  },
  {
   "cell_type": "code",
   "execution_count": null,
   "id": "69ac8b2b",
   "metadata": {
    "collapsed": false,
    "jupyter": {
     "outputs_hidden": false
    },
    "pycharm": {
     "name": "#%%\n"
    }
   },
   "outputs": [],
   "source": [
    "red_lights_t, percentages_t, frames_repartition = retrieve_tl_infos_cmd('val2.txt')\n",
    "red_lights_v, percentages_v, frames_repartition = retrieve_tl_infos_cmd('val2.txt')\n",
    "\n",
    "#print(percentages_v)\n",
    "print(sum(percentages_v)) #Should be 100%\n",
    "legends = ['Left', 'Right', 'Straight', 'Follow lane']\n",
    "x_title = 'Dataset'\n",
    "plot_labels = ['Training', 'Validation']\n",
    "\n",
    "metrics = pd.DataFrame(np.array([percentages_t, percentages_v]), columns=legends)\n",
    "ax = metrics.plot(kind='bar', figsize=(12, 7), legend=True, fontsize=16)\n",
    "ax.set_xlabel(x_title)\n",
    "x = np.arange(len(plot_labels))\n",
    "ax.set_xticks(x)\n",
    "ax.set_xticklabels(plot_labels, fontsize=16, rotation='horizontal')\n",
    "ax.set_ylabel(\"Ratio $red_{cmd}$ / $red_{total}$ [%]\", fontsize=16)\n",
    "plt.title(\"Frames with red light by directional command\", fontsize=20, weight='bold')\n",
    "plt.savefig('command_rtl_comp.png')\n",
    "\n",
    "total_frames, rates, retrieved = retrieve_tl_infos_cmd('val2.txt')\n",
    "red_lights, n_red_frames, n_frames = retrieve_tl_infos('val2.txt')"
   ]
  },
  {
   "cell_type": "code",
   "execution_count": null,
   "id": "49506ea1-1f2f-4342-a5af-1f5f1e813f20",
   "metadata": {
    "collapsed": false,
    "jupyter": {
     "outputs_hidden": false
    },
    "pycharm": {
     "name": "#%%\n"
    }
   },
   "outputs": [],
   "source": [
    "retrieved[3:]"
   ]
  },
  {
   "cell_type": "code",
   "execution_count": 4,
   "id": "04ca8d56-8c97-4876-a314-f9ae80eca5c6",
   "metadata": {
    "collapsed": false,
    "jupyter": {
     "outputs_hidden": false
    },
    "pycharm": {
     "name": "#%%\n"
    }
   },
   "outputs": [],
   "source": [
    "from pathlib import Path\n",
    "import torch\n",
    "import lmdb\n",
    "import os\n",
    "import glob\n",
    "import numpy as np\n",
    "import cv2\n",
    "import math\n",
    "import random\n",
    "\n",
    "PIXEL_OFFSET = 10\n",
    "N_TRAFFIC_LIGHT_STATES = 1\n",
    "SEG_CLASSES = {4, 6, 7, 10, 18}  # pedestrians, roadlines, roads, vehicles, tl\n",
    "\n",
    "buffer = 40\n",
    "n_step = 5\n",
    "gap= 5\n",
    "\n",
    "\n",
    "def project_vehicle(converter, x, y, z, ori_x, ori_y, ori_z):\n",
    "    pos = np.array([x, y, z])\n",
    "    ori = np.array([ori_x, ori_y, ori_z])\n",
    "    ori /= np.linalg.norm(ori)  # Make unit vector\n",
    "\n",
    "    #new_pos = pos + 4 * ori\n",
    "    fwd_2d_angle = np.deg2rad(ori_y) #yaw to rad\n",
    "    new_pos = pos + 5.5 * np.array([np.cos(fwd_2d_angle), np.sin(fwd_2d_angle), 0])\n",
    "    new_pos_cam_coords = converter.convert(np.array([new_pos]))\n",
    "    if(new_pos_cam_coords.shape[0] == 0):\n",
    "        return np.array([[192, 147, 0]]) # In the center of the image, almost at the bottom --> stop waypoint\n",
    "    return new_pos_cam_coords\n",
    "\n",
    "\n",
    "def interpolate_waypoints(points):\n",
    "    points = points[:, :2]\n",
    "\n",
    "    # Fit first or second function through points\n",
    "    n_degree = 2 if points.shape[0] > 2 else 1\n",
    "    z = np.polyfit(points[:, 0], points[:, 1], n_degree)\n",
    "    p = np.poly1d(z)\n",
    "\n",
    "    # Keep interpolating until we have n_step points\n",
    "    while points.shape[0] < 5:\n",
    "        points_2 = np.vstack([points[0], points[:-1]])\n",
    "        max_id = np.argmax(np.linalg.norm(points - points_2, axis=1))\n",
    "        _x = np.mean([points[max_id], points_2[max_id]], axis=0)[0]\n",
    "        points = np.insert(points, max_id, np.array([_x, p(_x)]), 0)\n",
    "\n",
    "    return points\n",
    "\n",
    "def get_waypoints(converter, index, world_x, world_y, world_z, ori_x, ori_y, ori_z):\n",
    "    global buffer\n",
    "    global n_step\n",
    "    global gap\n",
    "    \n",
    "\n",
    "    tl = decode_frame(index)['trafficlights']\n",
    "    speed = decode_frame(index)['spd'][0]\n",
    "\n",
    "    output = []\n",
    "    #if tl or vehicle or walker:\n",
    "    #if tl:\n",
    "    if speed < 0.005:\n",
    "        vehicle_proj = project_vehicle(converter, world_x, world_y, world_z, ori_x, ori_y, ori_z)\n",
    "        output = np.array([vehicle_proj[0] for _ in range(n_step)])\n",
    "        return output, 3 # Traffic light --> stop\n",
    "\n",
    "    for i in range(index, (index + (n_step + 1 + buffer * gap)), gap):\n",
    "        if len(output) == n_step:\n",
    "            break\n",
    "\n",
    "        x, y, z = decode_frame(i)['loc']\n",
    "        image_coords = converter.convert(np.array([[x, y, z]]))\n",
    "        if len(image_coords) > 0:\n",
    "            output.append(image_coords[0])\n",
    "\n",
    "    if len(output) < 2:\n",
    "        # First try with smaller GAP\n",
    "        if gap > 1:\n",
    "            gap = 1\n",
    "            return get_waypoints(converter, index, world_x, world_y, world_z,ori_x, ori_y, ori_z)\n",
    "\n",
    "        vehicle_proj = project_vehicle(converter, world_x, world_y, world_z, ori_x,ori_y, ori_z)\n",
    "        output = np.array([vehicle_proj[0] for _ in range(n_step)])\n",
    "        #return output, True\n",
    "        return output, 2 # Less than two waypoints --> stop\n",
    "\n",
    "    if 2 <= len(output) < n_step:\n",
    "        return interpolate_waypoints(converter, np.array(output)), 1 # Interpolation\n",
    "    #return np.array(output), False\n",
    "    return np.array(output), 0 # All waypoints ok\n",
    "\n",
    "    "
   ]
  },
  {
   "cell_type": "code",
   "execution_count": 10,
   "id": "e06dd481-df55-483b-b8da-b7484388f94f",
   "metadata": {
    "collapsed": false,
    "jupyter": {
     "outputs_hidden": false
    },
    "pycharm": {
     "name": "#%%\n"
    }
   },
   "outputs": [
    {
     "name": "stdout",
     "output_type": "stream",
     "text": [
      "['dataset/test/nice_example/yfdwjnhxkh']\n"
     ]
    },
    {
     "name": "stderr",
     "output_type": "stream",
     "text": [
      "10831it [00:00, 178774.26it/s]"
     ]
    },
    {
     "name": "stdout",
     "output_type": "stream",
     "text": [
      "1083\n"
     ]
    },
    {
     "name": "stderr",
     "output_type": "stream",
     "text": [
      "\n"
     ]
    },
    {
     "name": "stdout",
     "output_type": "stream",
     "text": [
      "Next episode\n",
      "Finished\n"
     ]
    }
   ],
   "source": [
    "from image_utils import CoordinateConverter, Location, Rotation, Transform \n",
    "\n",
    "font = cv2.FONT_HERSHEY_SIMPLEX\n",
    "#dataset = decode_dataset(train_paths[478])\n",
    "debug_paths = [x[0] for x in os.walk('dataset/test' + os.path.sep + 'nice_example')][1:]\n",
    "print(debug_paths)\n",
    "\n",
    "\n",
    "img_array=[]\n",
    "tls_array=[]\n",
    "\n",
    "\n",
    "for p in debug_paths: \n",
    "    dataset = decode_dataset(p)\n",
    "    N = int(dataset['len'].decode())\n",
    "    print(N)\n",
    "    title_img = np.zeros(shape=(160, 384, 3), dtype=np.uint8)\n",
    "    size = (384,160)\n",
    "    cv2.putText(title_img, p, (50,50), font, 0.3, (0, 255, 255), 1, cv2.LINE_8)\n",
    "    for i in range(15):\n",
    "        img_array.append(title_img)\n",
    "    try:\n",
    "        for i in range(N):\n",
    "            frame = decode_frame(i)\n",
    "            img = frame['rgb']\n",
    "            if img is not None:\n",
    "                height, width, layers = img.shape\n",
    "                size = (width,height)\n",
    "                world_x, world_y, world_z = frame['loc']\n",
    "                ori_x, ori_y, ori_z = frame['rot']\n",
    "                speed = frame['spd'][0]\n",
    "                speed = np.abs(speed)\n",
    "                cmd = int(frame['cmd'][0])\n",
    "                cam_x, cam_y, cam_z = frame['cam_location']\n",
    "                cam_pitch, cam_yaw, cam_roll = frame['cam_rotation']\n",
    "\n",
    "                sensor_transform = Transform(Location(cam_x, cam_y, cam_z), Rotation(cam_pitch, cam_yaw, cam_roll))\n",
    "                #print('Cam {} {} {} {} {} {}'.format(cam_x, cam_y, cam_z, cam_pitch, cam_yaw, cam_roll))\n",
    "                converter = CoordinateConverter(sensor_transform, fov=120)\n",
    "\n",
    "                image_coord_wp, method = get_waypoints(converter,i, world_x, world_y, world_z, ori_x, ori_y, ori_z)\n",
    "                method = {\n",
    "                    0: 'wp:ok', 1: 'wp:interp', 2: 'wp:<2',\n",
    "                    3: 'Stop'}.get(method)\n",
    "                cmd = {\n",
    "                    0: 'LEFT', 1: 'RIGHT',\n",
    "                    2: 'STRAIGHT', 3: 'FOLLOW'}.get(cmd)\n",
    "                \n",
    "#                 hazard = {\n",
    "#                     1: 'NAVIGATING', 2: 'VEHICLE',\n",
    "#                     3: 'REDLIGHT', 4: 'PEDESTRIAN'}.get(hazard)\n",
    "                \n",
    "\n",
    "                for coords in image_coord_wp:\n",
    "                    c = coords[:2]\n",
    "                    cv2.circle(img, (int(c[0]), int(c[1])), 1, (255,0,0), 5)\n",
    "\n",
    "                tls = frame['trafficlights']\n",
    "                \n",
    "                \n",
    "                img = cv2.putText(img, f'red:{tls}  spd:{speed:.2f} {method} {cmd} ', (10,10), font, 0.3, (0, 255, 255), 1, cv2.LINE_8)\n",
    "                img_array.append(img)\n",
    "\n",
    "    except:\n",
    "        print('Next episode')\n",
    "out = cv2.VideoWriter('dataset_episode.mp4',0x7634706d, 8, size)\n",
    "for i in range(len(img_array)):\n",
    "    out.write(img_array[i])\n",
    "out.release()\n",
    "print('Finished')"
   ]
  },
  {
   "cell_type": "code",
   "execution_count": null,
   "id": "2356001a-6934-40c1-a03a-1a39cb3ed000",
   "metadata": {
    "collapsed": false,
    "jupyter": {
     "outputs_hidden": false
    },
    "pycharm": {
     "name": "#%%\n"
    }
   },
   "outputs": [],
   "source": [
    "a=np.zeros((img.shape))\n",
    "img\n",
    "['dataset/test/tls/kxyerwadko', 'dataset/test/tls/uwmkxroush', 'dataset/test/tls/mjpmfuhskp', 'dataset/test/tls/ohlwoeicbn', 'dataset/test/tls/suhrwichaj']"
   ]
  },
  {
   "cell_type": "code",
   "execution_count": 128,
   "id": "8ad7e5a3-3958-4d5c-ac2c-bf1961910c90",
   "metadata": {
    "collapsed": false,
    "jupyter": {
     "outputs_hidden": false
    },
    "pycharm": {
     "name": "#%%\n"
    }
   },
   "outputs": [
    {
     "ename": "KeyError",
     "evalue": "'rgb_0420'",
     "output_type": "error",
     "traceback": [
      "\u001b[0;31m---------------------------------------------------------------------------\u001b[0m",
      "\u001b[0;31mKeyError\u001b[0m                                  Traceback (most recent call last)",
      "\u001b[0;32m/tmp/ipykernel_1712169/4046582530.py\u001b[0m in \u001b[0;36m<module>\u001b[0;34m\u001b[0m\n\u001b[0;32m----> 1\u001b[0;31m \u001b[0mdecode_frame\u001b[0m\u001b[0;34m(\u001b[0m\u001b[0;36m420\u001b[0m\u001b[0;34m)\u001b[0m\u001b[0;34m\u001b[0m\u001b[0;34m\u001b[0m\u001b[0m\n\u001b[0m",
      "\u001b[0;32m/tmp/ipykernel_1712169/691478991.py\u001b[0m in \u001b[0;36mdecode_frame\u001b[0;34m(step)\u001b[0m\n\u001b[1;32m     37\u001b[0m \u001b[0;34m\u001b[0m\u001b[0m\n\u001b[1;32m     38\u001b[0m     \u001b[0;32mfor\u001b[0m \u001b[0mt\u001b[0m \u001b[0;32min\u001b[0m \u001b[0mdata\u001b[0m\u001b[0;34m.\u001b[0m\u001b[0mkeys\u001b[0m\u001b[0;34m(\u001b[0m\u001b[0;34m)\u001b[0m\u001b[0;34m:\u001b[0m\u001b[0;34m\u001b[0m\u001b[0;34m\u001b[0m\u001b[0m\n\u001b[0;32m---> 39\u001b[0;31m         \u001b[0md\u001b[0m \u001b[0;34m=\u001b[0m \u001b[0mdataset\u001b[0m\u001b[0;34m[\u001b[0m\u001b[0;34m\"{}_{:04d}\"\u001b[0m\u001b[0;34m.\u001b[0m\u001b[0mformat\u001b[0m\u001b[0;34m(\u001b[0m\u001b[0mt\u001b[0m\u001b[0;34m,\u001b[0m \u001b[0mstep\u001b[0m\u001b[0;34m)\u001b[0m\u001b[0;34m]\u001b[0m\u001b[0;34m\u001b[0m\u001b[0;34m\u001b[0m\u001b[0m\n\u001b[0m\u001b[1;32m     40\u001b[0m         \u001b[0mdata\u001b[0m\u001b[0;34m[\u001b[0m\u001b[0mt\u001b[0m\u001b[0;34m]\u001b[0m \u001b[0;34m=\u001b[0m \u001b[0mdecode_data\u001b[0m\u001b[0;34m(\u001b[0m\u001b[0md\u001b[0m\u001b[0;34m,\u001b[0m \u001b[0mkind\u001b[0m\u001b[0;34m=\u001b[0m\u001b[0mt\u001b[0m\u001b[0;34m)\u001b[0m\u001b[0;34m\u001b[0m\u001b[0;34m\u001b[0m\u001b[0m\n\u001b[1;32m     41\u001b[0m \u001b[0;34m\u001b[0m\u001b[0m\n",
      "\u001b[0;31mKeyError\u001b[0m: 'rgb_0420'"
     ]
    }
   ],
   "source": [
    "decode_frame(420)"
   ]
  },
  {
   "cell_type": "code",
   "execution_count": null,
   "id": "68546b3b-f228-4013-90f6-dbc9db70fd01",
   "metadata": {
    "collapsed": false,
    "jupyter": {
     "outputs_hidden": false
    },
    "pycharm": {
     "name": "#%%\n"
    }
   },
   "outputs": [],
   "source": [
    "rgb = decode_frame(10)['rgb']\n",
    "plt.imshow(rgb)"
   ]
  },
  {
   "cell_type": "code",
   "execution_count": 129,
   "id": "3c394ebc-c6d6-4a80-9095-582dddf3e852",
   "metadata": {
    "collapsed": false,
    "jupyter": {
     "outputs_hidden": false
    },
    "pycharm": {
     "name": "#%%\n"
    }
   },
   "outputs": [
    {
     "data": {
      "text/plain": [
       "dict_keys(['birdview_0000', 'birdview_0001', 'birdview_0002', 'birdview_0003', 'birdview_0004', 'birdview_0005', 'birdview_0006', 'birdview_0007', 'birdview_0008', 'birdview_0009', 'birdview_0010', 'birdview_0011', 'birdview_0012', 'birdview_0013', 'birdview_0014', 'birdview_0015', 'birdview_0016', 'birdview_0017', 'birdview_0018', 'birdview_0019', 'birdview_0020', 'birdview_0021', 'birdview_0022', 'birdview_0023', 'birdview_0024', 'birdview_0025', 'birdview_0026', 'birdview_0027', 'birdview_0028', 'birdview_0029', 'birdview_0030', 'birdview_0031', 'birdview_0032', 'birdview_0033', 'birdview_0034', 'birdview_0035', 'birdview_0036', 'birdview_0037', 'birdview_0038', 'birdview_0039', 'birdview_0040', 'birdview_0041', 'birdview_0042', 'birdview_0043', 'birdview_0044', 'birdview_0045', 'birdview_0046', 'birdview_0047', 'birdview_0048', 'birdview_0049', 'birdview_0050', 'birdview_0051', 'birdview_0052', 'birdview_0053', 'birdview_0054', 'birdview_0055', 'birdview_0056', 'birdview_0057', 'birdview_0058', 'birdview_0059', 'birdview_0060', 'birdview_0061', 'birdview_0062', 'birdview_0063', 'birdview_0064', 'birdview_0065', 'birdview_0066', 'birdview_0067', 'birdview_0068', 'birdview_0069', 'birdview_0070', 'birdview_0071', 'birdview_0072', 'birdview_0073', 'birdview_0074', 'birdview_0075', 'birdview_0076', 'birdview_0077', 'birdview_0078', 'birdview_0079', 'birdview_0080', 'birdview_0081', 'birdview_0082', 'birdview_0083', 'birdview_0084', 'birdview_0085', 'birdview_0086', 'birdview_0087', 'birdview_0088', 'birdview_0089', 'birdview_0090', 'birdview_0091', 'birdview_0092', 'birdview_0093', 'birdview_0094', 'birdview_0095', 'birdview_0096', 'birdview_0097', 'birdview_0098', 'birdview_0099', 'birdview_0100', 'birdview_0101', 'birdview_0102', 'birdview_0103', 'birdview_0104', 'birdview_0105', 'birdview_0106', 'birdview_0107', 'birdview_0108', 'birdview_0109', 'birdview_0110', 'birdview_0111', 'birdview_0112', 'birdview_0113', 'birdview_0114', 'birdview_0115', 'birdview_0116', 'birdview_0117', 'birdview_0118', 'birdview_0119', 'birdview_0120', 'birdview_0121', 'birdview_0122', 'birdview_0123', 'birdview_0124', 'birdview_0125', 'birdview_0126', 'birdview_0127', 'birdview_0128', 'birdview_0129', 'birdview_0130', 'birdview_0131', 'birdview_0132', 'birdview_0133', 'birdview_0134', 'birdview_0135', 'birdview_0136', 'birdview_0137', 'birdview_0138', 'birdview_0139', 'birdview_0140', 'birdview_0141', 'birdview_0142', 'birdview_0143', 'birdview_0144', 'birdview_0145', 'birdview_0146', 'birdview_0147', 'birdview_0148', 'birdview_0149', 'birdview_0150', 'birdview_0151', 'birdview_0152', 'birdview_0153', 'birdview_0154', 'birdview_0155', 'birdview_0156', 'birdview_0157', 'birdview_0158', 'birdview_0159', 'birdview_0160', 'birdview_0161', 'birdview_0162', 'birdview_0163', 'birdview_0164', 'birdview_0165', 'birdview_0166', 'birdview_0167', 'birdview_0168', 'birdview_0169', 'birdview_0170', 'birdview_0171', 'birdview_0172', 'birdview_0173', 'birdview_0174', 'birdview_0175', 'birdview_0176', 'birdview_0177', 'birdview_0178', 'birdview_0179', 'birdview_0180', 'birdview_0181', 'birdview_0182', 'birdview_0183', 'birdview_0184', 'birdview_0185', 'birdview_0186', 'birdview_0187', 'birdview_0188', 'birdview_0189', 'birdview_0190', 'birdview_0191', 'birdview_0192', 'birdview_0193', 'birdview_0194', 'birdview_0195', 'birdview_0196', 'birdview_0197', 'birdview_0198', 'birdview_0199', 'birdview_0200', 'birdview_0201', 'birdview_0202', 'birdview_0203', 'birdview_0204', 'birdview_0205', 'birdview_0206', 'birdview_0207', 'birdview_0208', 'birdview_0209', 'birdview_0210', 'birdview_0211', 'birdview_0212', 'birdview_0213', 'birdview_0214', 'birdview_0215', 'birdview_0216', 'birdview_0217', 'birdview_0218', 'birdview_0219', 'birdview_0220', 'birdview_0221', 'birdview_0222', 'birdview_0223', 'birdview_0224', 'birdview_0225', 'birdview_0226', 'birdview_0227', 'birdview_0228', 'birdview_0229', 'birdview_0230', 'birdview_0231', 'birdview_0232', 'birdview_0233', 'birdview_0234', 'birdview_0235', 'birdview_0236', 'birdview_0237', 'birdview_0238', 'birdview_0239', 'birdview_0240', 'birdview_0241', 'birdview_0242', 'birdview_0243', 'birdview_0244', 'birdview_0245', 'birdview_0246', 'birdview_0247', 'birdview_0248', 'birdview_0249', 'birdview_0250', 'birdview_0251', 'birdview_0252', 'birdview_0253', 'birdview_0254', 'birdview_0255', 'birdview_0256', 'birdview_0257', 'birdview_0258', 'birdview_0259', 'birdview_0260', 'birdview_0261', 'birdview_0262', 'birdview_0263', 'birdview_0264', 'birdview_0265', 'birdview_0266', 'birdview_0267', 'birdview_0268', 'birdview_0269', 'birdview_0270', 'birdview_0271', 'birdview_0272', 'birdview_0273', 'birdview_0274', 'birdview_0275', 'birdview_0276', 'birdview_0277', 'birdview_0278', 'birdview_0279', 'birdview_0280', 'birdview_0281', 'birdview_0282', 'birdview_0283', 'birdview_0284', 'birdview_0285', 'birdview_0286', 'birdview_0287', 'birdview_0288', 'birdview_0289', 'birdview_0290', 'birdview_0291', 'birdview_0292', 'birdview_0293', 'birdview_0294', 'birdview_0295', 'birdview_0296', 'birdview_0297', 'birdview_0298', 'birdview_0299', 'birdview_0300', 'birdview_0301', 'birdview_0302', 'birdview_0303', 'birdview_0304', 'birdview_0305', 'birdview_0306', 'birdview_0307', 'birdview_0308', 'birdview_0309', 'birdview_0310', 'birdview_0311', 'birdview_0312', 'birdview_0313', 'birdview_0314', 'birdview_0315', 'birdview_0316', 'birdview_0317', 'birdview_0318', 'birdview_0319', 'birdview_0320', 'birdview_0321', 'birdview_0322', 'birdview_0323', 'birdview_0324', 'birdview_0325', 'birdview_0326', 'birdview_0327', 'birdview_0328', 'birdview_0329', 'birdview_0330', 'birdview_0331', 'birdview_0332', 'birdview_0333', 'birdview_0334', 'birdview_0335', 'birdview_0336', 'birdview_0337', 'birdview_0338', 'birdview_0339', 'birdview_0340', 'birdview_0341', 'birdview_0342', 'birdview_0343', 'birdview_0344', 'birdview_0345', 'birdview_0346', 'birdview_0347', 'birdview_0348', 'birdview_0349', 'birdview_0350', 'birdview_0351', 'birdview_0352', 'birdview_0353', 'birdview_0354', 'birdview_0355', 'birdview_0356', 'birdview_0357', 'birdview_0358', 'birdview_0359', 'birdview_0360', 'birdview_0361', 'birdview_0362', 'birdview_0363', 'birdview_0364', 'birdview_0365', 'birdview_0366', 'birdview_0367', 'birdview_0368', 'birdview_0369', 'birdview_0370', 'birdview_0371', 'birdview_0372', 'birdview_0373', 'birdview_0374', 'birdview_0375', 'birdview_0376', 'birdview_0377', 'birdview_0378', 'birdview_0379', 'birdview_0380', 'birdview_0381', 'birdview_0382', 'birdview_0383', 'birdview_0384', 'birdview_0385', 'birdview_0386', 'birdview_0387', 'birdview_0388', 'birdview_0389', 'birdview_0390', 'birdview_0391', 'birdview_0392', 'birdview_0393', 'birdview_0394', 'birdview_0395', 'birdview_0396', 'birdview_0397', 'birdview_0398', 'birdview_0399', 'birdview_0400', 'cam_location_0000', 'cam_location_0001', 'cam_location_0002', 'cam_location_0003', 'cam_location_0004', 'cam_location_0005', 'cam_location_0006', 'cam_location_0007', 'cam_location_0008', 'cam_location_0009', 'cam_location_0010', 'cam_location_0011', 'cam_location_0012', 'cam_location_0013', 'cam_location_0014', 'cam_location_0015', 'cam_location_0016', 'cam_location_0017', 'cam_location_0018', 'cam_location_0019', 'cam_location_0020', 'cam_location_0021', 'cam_location_0022', 'cam_location_0023', 'cam_location_0024', 'cam_location_0025', 'cam_location_0026', 'cam_location_0027', 'cam_location_0028', 'cam_location_0029', 'cam_location_0030', 'cam_location_0031', 'cam_location_0032', 'cam_location_0033', 'cam_location_0034', 'cam_location_0035', 'cam_location_0036', 'cam_location_0037', 'cam_location_0038', 'cam_location_0039', 'cam_location_0040', 'cam_location_0041', 'cam_location_0042', 'cam_location_0043', 'cam_location_0044', 'cam_location_0045', 'cam_location_0046', 'cam_location_0047', 'cam_location_0048', 'cam_location_0049', 'cam_location_0050', 'cam_location_0051', 'cam_location_0052', 'cam_location_0053', 'cam_location_0054', 'cam_location_0055', 'cam_location_0056', 'cam_location_0057', 'cam_location_0058', 'cam_location_0059', 'cam_location_0060', 'cam_location_0061', 'cam_location_0062', 'cam_location_0063', 'cam_location_0064', 'cam_location_0065', 'cam_location_0066', 'cam_location_0067', 'cam_location_0068', 'cam_location_0069', 'cam_location_0070', 'cam_location_0071', 'cam_location_0072', 'cam_location_0073', 'cam_location_0074', 'cam_location_0075', 'cam_location_0076', 'cam_location_0077', 'cam_location_0078', 'cam_location_0079', 'cam_location_0080', 'cam_location_0081', 'cam_location_0082', 'cam_location_0083', 'cam_location_0084', 'cam_location_0085', 'cam_location_0086', 'cam_location_0087', 'cam_location_0088', 'cam_location_0089', 'cam_location_0090', 'cam_location_0091', 'cam_location_0092', 'cam_location_0093', 'cam_location_0094', 'cam_location_0095', 'cam_location_0096', 'cam_location_0097', 'cam_location_0098', 'cam_location_0099', 'cam_location_0100', 'cam_location_0101', 'cam_location_0102', 'cam_location_0103', 'cam_location_0104', 'cam_location_0105', 'cam_location_0106', 'cam_location_0107', 'cam_location_0108', 'cam_location_0109', 'cam_location_0110', 'cam_location_0111', 'cam_location_0112', 'cam_location_0113', 'cam_location_0114', 'cam_location_0115', 'cam_location_0116', 'cam_location_0117', 'cam_location_0118', 'cam_location_0119', 'cam_location_0120', 'cam_location_0121', 'cam_location_0122', 'cam_location_0123', 'cam_location_0124', 'cam_location_0125', 'cam_location_0126', 'cam_location_0127', 'cam_location_0128', 'cam_location_0129', 'cam_location_0130', 'cam_location_0131', 'cam_location_0132', 'cam_location_0133', 'cam_location_0134', 'cam_location_0135', 'cam_location_0136', 'cam_location_0137', 'cam_location_0138', 'cam_location_0139', 'cam_location_0140', 'cam_location_0141', 'cam_location_0142', 'cam_location_0143', 'cam_location_0144', 'cam_location_0145', 'cam_location_0146', 'cam_location_0147', 'cam_location_0148', 'cam_location_0149', 'cam_location_0150', 'cam_location_0151', 'cam_location_0152', 'cam_location_0153', 'cam_location_0154', 'cam_location_0155', 'cam_location_0156', 'cam_location_0157', 'cam_location_0158', 'cam_location_0159', 'cam_location_0160', 'cam_location_0161', 'cam_location_0162', 'cam_location_0163', 'cam_location_0164', 'cam_location_0165', 'cam_location_0166', 'cam_location_0167', 'cam_location_0168', 'cam_location_0169', 'cam_location_0170', 'cam_location_0171', 'cam_location_0172', 'cam_location_0173', 'cam_location_0174', 'cam_location_0175', 'cam_location_0176', 'cam_location_0177', 'cam_location_0178', 'cam_location_0179', 'cam_location_0180', 'cam_location_0181', 'cam_location_0182', 'cam_location_0183', 'cam_location_0184', 'cam_location_0185', 'cam_location_0186', 'cam_location_0187', 'cam_location_0188', 'cam_location_0189', 'cam_location_0190', 'cam_location_0191', 'cam_location_0192', 'cam_location_0193', 'cam_location_0194', 'cam_location_0195', 'cam_location_0196', 'cam_location_0197', 'cam_location_0198', 'cam_location_0199', 'cam_location_0200', 'cam_location_0201', 'cam_location_0202', 'cam_location_0203', 'cam_location_0204', 'cam_location_0205', 'cam_location_0206', 'cam_location_0207', 'cam_location_0208', 'cam_location_0209', 'cam_location_0210', 'cam_location_0211', 'cam_location_0212', 'cam_location_0213', 'cam_location_0214', 'cam_location_0215', 'cam_location_0216', 'cam_location_0217', 'cam_location_0218', 'cam_location_0219', 'cam_location_0220', 'cam_location_0221', 'cam_location_0222', 'cam_location_0223', 'cam_location_0224', 'cam_location_0225', 'cam_location_0226', 'cam_location_0227', 'cam_location_0228', 'cam_location_0229', 'cam_location_0230', 'cam_location_0231', 'cam_location_0232', 'cam_location_0233', 'cam_location_0234', 'cam_location_0235', 'cam_location_0236', 'cam_location_0237', 'cam_location_0238', 'cam_location_0239', 'cam_location_0240', 'cam_location_0241', 'cam_location_0242', 'cam_location_0243', 'cam_location_0244', 'cam_location_0245', 'cam_location_0246', 'cam_location_0247', 'cam_location_0248', 'cam_location_0249', 'cam_location_0250', 'cam_location_0251', 'cam_location_0252', 'cam_location_0253', 'cam_location_0254', 'cam_location_0255', 'cam_location_0256', 'cam_location_0257', 'cam_location_0258', 'cam_location_0259', 'cam_location_0260', 'cam_location_0261', 'cam_location_0262', 'cam_location_0263', 'cam_location_0264', 'cam_location_0265', 'cam_location_0266', 'cam_location_0267', 'cam_location_0268', 'cam_location_0269', 'cam_location_0270', 'cam_location_0271', 'cam_location_0272', 'cam_location_0273', 'cam_location_0274', 'cam_location_0275', 'cam_location_0276', 'cam_location_0277', 'cam_location_0278', 'cam_location_0279', 'cam_location_0280', 'cam_location_0281', 'cam_location_0282', 'cam_location_0283', 'cam_location_0284', 'cam_location_0285', 'cam_location_0286', 'cam_location_0287', 'cam_location_0288', 'cam_location_0289', 'cam_location_0290', 'cam_location_0291', 'cam_location_0292', 'cam_location_0293', 'cam_location_0294', 'cam_location_0295', 'cam_location_0296', 'cam_location_0297', 'cam_location_0298', 'cam_location_0299', 'cam_location_0300', 'cam_location_0301', 'cam_location_0302', 'cam_location_0303', 'cam_location_0304', 'cam_location_0305', 'cam_location_0306', 'cam_location_0307', 'cam_location_0308', 'cam_location_0309', 'cam_location_0310', 'cam_location_0311', 'cam_location_0312', 'cam_location_0313', 'cam_location_0314', 'cam_location_0315', 'cam_location_0316', 'cam_location_0317', 'cam_location_0318', 'cam_location_0319', 'cam_location_0320', 'cam_location_0321', 'cam_location_0322', 'cam_location_0323', 'cam_location_0324', 'cam_location_0325', 'cam_location_0326', 'cam_location_0327', 'cam_location_0328', 'cam_location_0329', 'cam_location_0330', 'cam_location_0331', 'cam_location_0332', 'cam_location_0333', 'cam_location_0334', 'cam_location_0335', 'cam_location_0336', 'cam_location_0337', 'cam_location_0338', 'cam_location_0339', 'cam_location_0340', 'cam_location_0341', 'cam_location_0342', 'cam_location_0343', 'cam_location_0344', 'cam_location_0345', 'cam_location_0346', 'cam_location_0347', 'cam_location_0348', 'cam_location_0349', 'cam_location_0350', 'cam_location_0351', 'cam_location_0352', 'cam_location_0353', 'cam_location_0354', 'cam_location_0355', 'cam_location_0356', 'cam_location_0357', 'cam_location_0358', 'cam_location_0359', 'cam_location_0360', 'cam_location_0361', 'cam_location_0362', 'cam_location_0363', 'cam_location_0364', 'cam_location_0365', 'cam_location_0366', 'cam_location_0367', 'cam_location_0368', 'cam_location_0369', 'cam_location_0370', 'cam_location_0371', 'cam_location_0372', 'cam_location_0373', 'cam_location_0374', 'cam_location_0375', 'cam_location_0376', 'cam_location_0377', 'cam_location_0378', 'cam_location_0379', 'cam_location_0380', 'cam_location_0381', 'cam_location_0382', 'cam_location_0383', 'cam_location_0384', 'cam_location_0385', 'cam_location_0386', 'cam_location_0387', 'cam_location_0388', 'cam_location_0389', 'cam_location_0390', 'cam_location_0391', 'cam_location_0392', 'cam_location_0393', 'cam_location_0394', 'cam_location_0395', 'cam_location_0396', 'cam_location_0397', 'cam_location_0398', 'cam_location_0399', 'cam_location_0400', 'cam_rotation_0000', 'cam_rotation_0001', 'cam_rotation_0002', 'cam_rotation_0003', 'cam_rotation_0004', 'cam_rotation_0005', 'cam_rotation_0006', 'cam_rotation_0007', 'cam_rotation_0008', 'cam_rotation_0009', 'cam_rotation_0010', 'cam_rotation_0011', 'cam_rotation_0012', 'cam_rotation_0013', 'cam_rotation_0014', 'cam_rotation_0015', 'cam_rotation_0016', 'cam_rotation_0017', 'cam_rotation_0018', 'cam_rotation_0019', 'cam_rotation_0020', 'cam_rotation_0021', 'cam_rotation_0022', 'cam_rotation_0023', 'cam_rotation_0024', 'cam_rotation_0025', 'cam_rotation_0026', 'cam_rotation_0027', 'cam_rotation_0028', 'cam_rotation_0029', 'cam_rotation_0030', 'cam_rotation_0031', 'cam_rotation_0032', 'cam_rotation_0033', 'cam_rotation_0034', 'cam_rotation_0035', 'cam_rotation_0036', 'cam_rotation_0037', 'cam_rotation_0038', 'cam_rotation_0039', 'cam_rotation_0040', 'cam_rotation_0041', 'cam_rotation_0042', 'cam_rotation_0043', 'cam_rotation_0044', 'cam_rotation_0045', 'cam_rotation_0046', 'cam_rotation_0047', 'cam_rotation_0048', 'cam_rotation_0049', 'cam_rotation_0050', 'cam_rotation_0051', 'cam_rotation_0052', 'cam_rotation_0053', 'cam_rotation_0054', 'cam_rotation_0055', 'cam_rotation_0056', 'cam_rotation_0057', 'cam_rotation_0058', 'cam_rotation_0059', 'cam_rotation_0060', 'cam_rotation_0061', 'cam_rotation_0062', 'cam_rotation_0063', 'cam_rotation_0064', 'cam_rotation_0065', 'cam_rotation_0066', 'cam_rotation_0067', 'cam_rotation_0068', 'cam_rotation_0069', 'cam_rotation_0070', 'cam_rotation_0071', 'cam_rotation_0072', 'cam_rotation_0073', 'cam_rotation_0074', 'cam_rotation_0075', 'cam_rotation_0076', 'cam_rotation_0077', 'cam_rotation_0078', 'cam_rotation_0079', 'cam_rotation_0080', 'cam_rotation_0081', 'cam_rotation_0082', 'cam_rotation_0083', 'cam_rotation_0084', 'cam_rotation_0085', 'cam_rotation_0086', 'cam_rotation_0087', 'cam_rotation_0088', 'cam_rotation_0089', 'cam_rotation_0090', 'cam_rotation_0091', 'cam_rotation_0092', 'cam_rotation_0093', 'cam_rotation_0094', 'cam_rotation_0095', 'cam_rotation_0096', 'cam_rotation_0097', 'cam_rotation_0098', 'cam_rotation_0099', 'cam_rotation_0100', 'cam_rotation_0101', 'cam_rotation_0102', 'cam_rotation_0103', 'cam_rotation_0104', 'cam_rotation_0105', 'cam_rotation_0106', 'cam_rotation_0107', 'cam_rotation_0108', 'cam_rotation_0109', 'cam_rotation_0110', 'cam_rotation_0111', 'cam_rotation_0112', 'cam_rotation_0113', 'cam_rotation_0114', 'cam_rotation_0115', 'cam_rotation_0116', 'cam_rotation_0117', 'cam_rotation_0118', 'cam_rotation_0119', 'cam_rotation_0120', 'cam_rotation_0121', 'cam_rotation_0122', 'cam_rotation_0123', 'cam_rotation_0124', 'cam_rotation_0125', 'cam_rotation_0126', 'cam_rotation_0127', 'cam_rotation_0128', 'cam_rotation_0129', 'cam_rotation_0130', 'cam_rotation_0131', 'cam_rotation_0132', 'cam_rotation_0133', 'cam_rotation_0134', 'cam_rotation_0135', 'cam_rotation_0136', 'cam_rotation_0137', 'cam_rotation_0138', 'cam_rotation_0139', 'cam_rotation_0140', 'cam_rotation_0141', 'cam_rotation_0142', 'cam_rotation_0143', 'cam_rotation_0144', 'cam_rotation_0145', 'cam_rotation_0146', 'cam_rotation_0147', 'cam_rotation_0148', 'cam_rotation_0149', 'cam_rotation_0150', 'cam_rotation_0151', 'cam_rotation_0152', 'cam_rotation_0153', 'cam_rotation_0154', 'cam_rotation_0155', 'cam_rotation_0156', 'cam_rotation_0157', 'cam_rotation_0158', 'cam_rotation_0159', 'cam_rotation_0160', 'cam_rotation_0161', 'cam_rotation_0162', 'cam_rotation_0163', 'cam_rotation_0164', 'cam_rotation_0165', 'cam_rotation_0166', 'cam_rotation_0167', 'cam_rotation_0168', 'cam_rotation_0169', 'cam_rotation_0170', 'cam_rotation_0171', 'cam_rotation_0172', 'cam_rotation_0173', 'cam_rotation_0174', 'cam_rotation_0175', 'cam_rotation_0176', 'cam_rotation_0177', 'cam_rotation_0178', 'cam_rotation_0179', 'cam_rotation_0180', 'cam_rotation_0181', 'cam_rotation_0182', 'cam_rotation_0183', 'cam_rotation_0184', 'cam_rotation_0185', 'cam_rotation_0186', 'cam_rotation_0187', 'cam_rotation_0188', 'cam_rotation_0189', 'cam_rotation_0190', 'cam_rotation_0191', 'cam_rotation_0192', 'cam_rotation_0193', 'cam_rotation_0194', 'cam_rotation_0195', 'cam_rotation_0196', 'cam_rotation_0197', 'cam_rotation_0198', 'cam_rotation_0199', 'cam_rotation_0200', 'cam_rotation_0201', 'cam_rotation_0202', 'cam_rotation_0203', 'cam_rotation_0204', 'cam_rotation_0205', 'cam_rotation_0206', 'cam_rotation_0207', 'cam_rotation_0208', 'cam_rotation_0209', 'cam_rotation_0210', 'cam_rotation_0211', 'cam_rotation_0212', 'cam_rotation_0213', 'cam_rotation_0214', 'cam_rotation_0215', 'cam_rotation_0216', 'cam_rotation_0217', 'cam_rotation_0218', 'cam_rotation_0219', 'cam_rotation_0220', 'cam_rotation_0221', 'cam_rotation_0222', 'cam_rotation_0223', 'cam_rotation_0224', 'cam_rotation_0225', 'cam_rotation_0226', 'cam_rotation_0227', 'cam_rotation_0228', 'cam_rotation_0229', 'cam_rotation_0230', 'cam_rotation_0231', 'cam_rotation_0232', 'cam_rotation_0233', 'cam_rotation_0234', 'cam_rotation_0235', 'cam_rotation_0236', 'cam_rotation_0237', 'cam_rotation_0238', 'cam_rotation_0239', 'cam_rotation_0240', 'cam_rotation_0241', 'cam_rotation_0242', 'cam_rotation_0243', 'cam_rotation_0244', 'cam_rotation_0245', 'cam_rotation_0246', 'cam_rotation_0247', 'cam_rotation_0248', 'cam_rotation_0249', 'cam_rotation_0250', 'cam_rotation_0251', 'cam_rotation_0252', 'cam_rotation_0253', 'cam_rotation_0254', 'cam_rotation_0255', 'cam_rotation_0256', 'cam_rotation_0257', 'cam_rotation_0258', 'cam_rotation_0259', 'cam_rotation_0260', 'cam_rotation_0261', 'cam_rotation_0262', 'cam_rotation_0263', 'cam_rotation_0264', 'cam_rotation_0265', 'cam_rotation_0266', 'cam_rotation_0267', 'cam_rotation_0268', 'cam_rotation_0269', 'cam_rotation_0270', 'cam_rotation_0271', 'cam_rotation_0272', 'cam_rotation_0273', 'cam_rotation_0274', 'cam_rotation_0275', 'cam_rotation_0276', 'cam_rotation_0277', 'cam_rotation_0278', 'cam_rotation_0279', 'cam_rotation_0280', 'cam_rotation_0281', 'cam_rotation_0282', 'cam_rotation_0283', 'cam_rotation_0284', 'cam_rotation_0285', 'cam_rotation_0286', 'cam_rotation_0287', 'cam_rotation_0288', 'cam_rotation_0289', 'cam_rotation_0290', 'cam_rotation_0291', 'cam_rotation_0292', 'cam_rotation_0293', 'cam_rotation_0294', 'cam_rotation_0295', 'cam_rotation_0296', 'cam_rotation_0297', 'cam_rotation_0298', 'cam_rotation_0299', 'cam_rotation_0300', 'cam_rotation_0301', 'cam_rotation_0302', 'cam_rotation_0303', 'cam_rotation_0304', 'cam_rotation_0305', 'cam_rotation_0306', 'cam_rotation_0307', 'cam_rotation_0308', 'cam_rotation_0309', 'cam_rotation_0310', 'cam_rotation_0311', 'cam_rotation_0312', 'cam_rotation_0313', 'cam_rotation_0314', 'cam_rotation_0315', 'cam_rotation_0316', 'cam_rotation_0317', 'cam_rotation_0318', 'cam_rotation_0319', 'cam_rotation_0320', 'cam_rotation_0321', 'cam_rotation_0322', 'cam_rotation_0323', 'cam_rotation_0324', 'cam_rotation_0325', 'cam_rotation_0326', 'cam_rotation_0327', 'cam_rotation_0328', 'cam_rotation_0329', 'cam_rotation_0330', 'cam_rotation_0331', 'cam_rotation_0332', 'cam_rotation_0333', 'cam_rotation_0334', 'cam_rotation_0335', 'cam_rotation_0336', 'cam_rotation_0337', 'cam_rotation_0338', 'cam_rotation_0339', 'cam_rotation_0340', 'cam_rotation_0341', 'cam_rotation_0342', 'cam_rotation_0343', 'cam_rotation_0344', 'cam_rotation_0345', 'cam_rotation_0346', 'cam_rotation_0347', 'cam_rotation_0348', 'cam_rotation_0349', 'cam_rotation_0350', 'cam_rotation_0351', 'cam_rotation_0352', 'cam_rotation_0353', 'cam_rotation_0354', 'cam_rotation_0355', 'cam_rotation_0356', 'cam_rotation_0357', 'cam_rotation_0358', 'cam_rotation_0359', 'cam_rotation_0360', 'cam_rotation_0361', 'cam_rotation_0362', 'cam_rotation_0363', 'cam_rotation_0364', 'cam_rotation_0365', 'cam_rotation_0366', 'cam_rotation_0367', 'cam_rotation_0368', 'cam_rotation_0369', 'cam_rotation_0370', 'cam_rotation_0371', 'cam_rotation_0372', 'cam_rotation_0373', 'cam_rotation_0374', 'cam_rotation_0375', 'cam_rotation_0376', 'cam_rotation_0377', 'cam_rotation_0378', 'cam_rotation_0379', 'cam_rotation_0380', 'cam_rotation_0381', 'cam_rotation_0382', 'cam_rotation_0383', 'cam_rotation_0384', 'cam_rotation_0385', 'cam_rotation_0386', 'cam_rotation_0387', 'cam_rotation_0388', 'cam_rotation_0389', 'cam_rotation_0390', 'cam_rotation_0391', 'cam_rotation_0392', 'cam_rotation_0393', 'cam_rotation_0394', 'cam_rotation_0395', 'cam_rotation_0396', 'cam_rotation_0397', 'cam_rotation_0398', 'cam_rotation_0399', 'cam_rotation_0400', 'cmd_0000', 'cmd_0001', 'cmd_0002', 'cmd_0003', 'cmd_0004', 'cmd_0005', 'cmd_0006', 'cmd_0007', 'cmd_0008', 'cmd_0009', 'cmd_0010', 'cmd_0011', 'cmd_0012', 'cmd_0013', 'cmd_0014', 'cmd_0015', 'cmd_0016', 'cmd_0017', 'cmd_0018', 'cmd_0019', 'cmd_0020', 'cmd_0021', 'cmd_0022', 'cmd_0023', 'cmd_0024', 'cmd_0025', 'cmd_0026', 'cmd_0027', 'cmd_0028', 'cmd_0029', 'cmd_0030', 'cmd_0031', 'cmd_0032', 'cmd_0033', 'cmd_0034', 'cmd_0035', 'cmd_0036', 'cmd_0037', 'cmd_0038', 'cmd_0039', 'cmd_0040', 'cmd_0041', 'cmd_0042', 'cmd_0043', 'cmd_0044', 'cmd_0045', 'cmd_0046', 'cmd_0047', 'cmd_0048', 'cmd_0049', 'cmd_0050', 'cmd_0051', 'cmd_0052', 'cmd_0053', 'cmd_0054', 'cmd_0055', 'cmd_0056', 'cmd_0057', 'cmd_0058', 'cmd_0059', 'cmd_0060', 'cmd_0061', 'cmd_0062', 'cmd_0063', 'cmd_0064', 'cmd_0065', 'cmd_0066', 'cmd_0067', 'cmd_0068', 'cmd_0069', 'cmd_0070', 'cmd_0071', 'cmd_0072', 'cmd_0073', 'cmd_0074', 'cmd_0075', 'cmd_0076', 'cmd_0077', 'cmd_0078', 'cmd_0079', 'cmd_0080', 'cmd_0081', 'cmd_0082', 'cmd_0083', 'cmd_0084', 'cmd_0085', 'cmd_0086', 'cmd_0087', 'cmd_0088', 'cmd_0089', 'cmd_0090', 'cmd_0091', 'cmd_0092', 'cmd_0093', 'cmd_0094', 'cmd_0095', 'cmd_0096', 'cmd_0097', 'cmd_0098', 'cmd_0099', 'cmd_0100', 'cmd_0101', 'cmd_0102', 'cmd_0103', 'cmd_0104', 'cmd_0105', 'cmd_0106', 'cmd_0107', 'cmd_0108', 'cmd_0109', 'cmd_0110', 'cmd_0111', 'cmd_0112', 'cmd_0113', 'cmd_0114', 'cmd_0115', 'cmd_0116', 'cmd_0117', 'cmd_0118', 'cmd_0119', 'cmd_0120', 'cmd_0121', 'cmd_0122', 'cmd_0123', 'cmd_0124', 'cmd_0125', 'cmd_0126', 'cmd_0127', 'cmd_0128', 'cmd_0129', 'cmd_0130', 'cmd_0131', 'cmd_0132', 'cmd_0133', 'cmd_0134', 'cmd_0135', 'cmd_0136', 'cmd_0137', 'cmd_0138', 'cmd_0139', 'cmd_0140', 'cmd_0141', 'cmd_0142', 'cmd_0143', 'cmd_0144', 'cmd_0145', 'cmd_0146', 'cmd_0147', 'cmd_0148', 'cmd_0149', 'cmd_0150', 'cmd_0151', 'cmd_0152', 'cmd_0153', 'cmd_0154', 'cmd_0155', 'cmd_0156', 'cmd_0157', 'cmd_0158', 'cmd_0159', 'cmd_0160', 'cmd_0161', 'cmd_0162', 'cmd_0163', 'cmd_0164', 'cmd_0165', 'cmd_0166', 'cmd_0167', 'cmd_0168', 'cmd_0169', 'cmd_0170', 'cmd_0171', 'cmd_0172', 'cmd_0173', 'cmd_0174', 'cmd_0175', 'cmd_0176', 'cmd_0177', 'cmd_0178', 'cmd_0179', 'cmd_0180', 'cmd_0181', 'cmd_0182', 'cmd_0183', 'cmd_0184', 'cmd_0185', 'cmd_0186', 'cmd_0187', 'cmd_0188', 'cmd_0189', 'cmd_0190', 'cmd_0191', 'cmd_0192', 'cmd_0193', 'cmd_0194', 'cmd_0195', 'cmd_0196', 'cmd_0197', 'cmd_0198', 'cmd_0199', 'cmd_0200', 'cmd_0201', 'cmd_0202', 'cmd_0203', 'cmd_0204', 'cmd_0205', 'cmd_0206', 'cmd_0207', 'cmd_0208', 'cmd_0209', 'cmd_0210', 'cmd_0211', 'cmd_0212', 'cmd_0213', 'cmd_0214', 'cmd_0215', 'cmd_0216', 'cmd_0217', 'cmd_0218', 'cmd_0219', 'cmd_0220', 'cmd_0221', 'cmd_0222', 'cmd_0223', 'cmd_0224', 'cmd_0225', 'cmd_0226', 'cmd_0227', 'cmd_0228', 'cmd_0229', 'cmd_0230', 'cmd_0231', 'cmd_0232', 'cmd_0233', 'cmd_0234', 'cmd_0235', 'cmd_0236', 'cmd_0237', 'cmd_0238', 'cmd_0239', 'cmd_0240', 'cmd_0241', 'cmd_0242', 'cmd_0243', 'cmd_0244', 'cmd_0245', 'cmd_0246', 'cmd_0247', 'cmd_0248', 'cmd_0249', 'cmd_0250', 'cmd_0251', 'cmd_0252', 'cmd_0253', 'cmd_0254', 'cmd_0255', 'cmd_0256', 'cmd_0257', 'cmd_0258', 'cmd_0259', 'cmd_0260', 'cmd_0261', 'cmd_0262', 'cmd_0263', 'cmd_0264', 'cmd_0265', 'cmd_0266', 'cmd_0267', 'cmd_0268', 'cmd_0269', 'cmd_0270', 'cmd_0271', 'cmd_0272', 'cmd_0273', 'cmd_0274', 'cmd_0275', 'cmd_0276', 'cmd_0277', 'cmd_0278', 'cmd_0279', 'cmd_0280', 'cmd_0281', 'cmd_0282', 'cmd_0283', 'cmd_0284', 'cmd_0285', 'cmd_0286', 'cmd_0287', 'cmd_0288', 'cmd_0289', 'cmd_0290', 'cmd_0291', 'cmd_0292', 'cmd_0293', 'cmd_0294', 'cmd_0295', 'cmd_0296', 'cmd_0297', 'cmd_0298', 'cmd_0299', 'cmd_0300', 'cmd_0301', 'cmd_0302', 'cmd_0303', 'cmd_0304', 'cmd_0305', 'cmd_0306', 'cmd_0307', 'cmd_0308', 'cmd_0309', 'cmd_0310', 'cmd_0311', 'cmd_0312', 'cmd_0313', 'cmd_0314', 'cmd_0315', 'cmd_0316', 'cmd_0317', 'cmd_0318', 'cmd_0319', 'cmd_0320', 'cmd_0321', 'cmd_0322', 'cmd_0323', 'cmd_0324', 'cmd_0325', 'cmd_0326', 'cmd_0327', 'cmd_0328', 'cmd_0329', 'cmd_0330', 'cmd_0331', 'cmd_0332', 'cmd_0333', 'cmd_0334', 'cmd_0335', 'cmd_0336', 'cmd_0337', 'cmd_0338', 'cmd_0339', 'cmd_0340', 'cmd_0341', 'cmd_0342', 'cmd_0343', 'cmd_0344', 'cmd_0345', 'cmd_0346', 'cmd_0347', 'cmd_0348', 'cmd_0349', 'cmd_0350', 'cmd_0351', 'cmd_0352', 'cmd_0353', 'cmd_0354', 'cmd_0355', 'cmd_0356', 'cmd_0357', 'cmd_0358', 'cmd_0359', 'cmd_0360', 'cmd_0361', 'cmd_0362', 'cmd_0363', 'cmd_0364', 'cmd_0365', 'cmd_0366', 'cmd_0367', 'cmd_0368', 'cmd_0369', 'cmd_0370', 'cmd_0371', 'cmd_0372', 'cmd_0373', 'cmd_0374', 'cmd_0375', 'cmd_0376', 'cmd_0377', 'cmd_0378', 'cmd_0379', 'cmd_0380', 'cmd_0381', 'cmd_0382', 'cmd_0383', 'cmd_0384', 'cmd_0385', 'cmd_0386', 'cmd_0387', 'cmd_0388', 'cmd_0389', 'cmd_0390', 'cmd_0391', 'cmd_0392', 'cmd_0393', 'cmd_0394', 'cmd_0395', 'cmd_0396', 'cmd_0397', 'cmd_0398', 'cmd_0399', 'cmd_0400', 'len', 'loc_0000', 'loc_0001', 'loc_0002', 'loc_0003', 'loc_0004', 'loc_0005', 'loc_0006', 'loc_0007', 'loc_0008', 'loc_0009', 'loc_0010', 'loc_0011', 'loc_0012', 'loc_0013', 'loc_0014', 'loc_0015', 'loc_0016', 'loc_0017', 'loc_0018', 'loc_0019', 'loc_0020', 'loc_0021', 'loc_0022', 'loc_0023', 'loc_0024', 'loc_0025', 'loc_0026', 'loc_0027', 'loc_0028', 'loc_0029', 'loc_0030', 'loc_0031', 'loc_0032', 'loc_0033', 'loc_0034', 'loc_0035', 'loc_0036', 'loc_0037', 'loc_0038', 'loc_0039', 'loc_0040', 'loc_0041', 'loc_0042', 'loc_0043', 'loc_0044', 'loc_0045', 'loc_0046', 'loc_0047', 'loc_0048', 'loc_0049', 'loc_0050', 'loc_0051', 'loc_0052', 'loc_0053', 'loc_0054', 'loc_0055', 'loc_0056', 'loc_0057', 'loc_0058', 'loc_0059', 'loc_0060', 'loc_0061', 'loc_0062', 'loc_0063', 'loc_0064', 'loc_0065', 'loc_0066', 'loc_0067', 'loc_0068', 'loc_0069', 'loc_0070', 'loc_0071', 'loc_0072', 'loc_0073', 'loc_0074', 'loc_0075', 'loc_0076', 'loc_0077', 'loc_0078', 'loc_0079', 'loc_0080', 'loc_0081', 'loc_0082', 'loc_0083', 'loc_0084', 'loc_0085', 'loc_0086', 'loc_0087', 'loc_0088', 'loc_0089', 'loc_0090', 'loc_0091', 'loc_0092', 'loc_0093', 'loc_0094', 'loc_0095', 'loc_0096', 'loc_0097', 'loc_0098', 'loc_0099', 'loc_0100', 'loc_0101', 'loc_0102', 'loc_0103', 'loc_0104', 'loc_0105', 'loc_0106', 'loc_0107', 'loc_0108', 'loc_0109', 'loc_0110', 'loc_0111', 'loc_0112', 'loc_0113', 'loc_0114', 'loc_0115', 'loc_0116', 'loc_0117', 'loc_0118', 'loc_0119', 'loc_0120', 'loc_0121', 'loc_0122', 'loc_0123', 'loc_0124', 'loc_0125', 'loc_0126', 'loc_0127', 'loc_0128', 'loc_0129', 'loc_0130', 'loc_0131', 'loc_0132', 'loc_0133', 'loc_0134', 'loc_0135', 'loc_0136', 'loc_0137', 'loc_0138', 'loc_0139', 'loc_0140', 'loc_0141', 'loc_0142', 'loc_0143', 'loc_0144', 'loc_0145', 'loc_0146', 'loc_0147', 'loc_0148', 'loc_0149', 'loc_0150', 'loc_0151', 'loc_0152', 'loc_0153', 'loc_0154', 'loc_0155', 'loc_0156', 'loc_0157', 'loc_0158', 'loc_0159', 'loc_0160', 'loc_0161', 'loc_0162', 'loc_0163', 'loc_0164', 'loc_0165', 'loc_0166', 'loc_0167', 'loc_0168', 'loc_0169', 'loc_0170', 'loc_0171', 'loc_0172', 'loc_0173', 'loc_0174', 'loc_0175', 'loc_0176', 'loc_0177', 'loc_0178', 'loc_0179', 'loc_0180', 'loc_0181', 'loc_0182', 'loc_0183', 'loc_0184', 'loc_0185', 'loc_0186', 'loc_0187', 'loc_0188', 'loc_0189', 'loc_0190', 'loc_0191', 'loc_0192', 'loc_0193', 'loc_0194', 'loc_0195', 'loc_0196', 'loc_0197', 'loc_0198', 'loc_0199', 'loc_0200', 'loc_0201', 'loc_0202', 'loc_0203', 'loc_0204', 'loc_0205', 'loc_0206', 'loc_0207', 'loc_0208', 'loc_0209', 'loc_0210', 'loc_0211', 'loc_0212', 'loc_0213', 'loc_0214', 'loc_0215', 'loc_0216', 'loc_0217', 'loc_0218', 'loc_0219', 'loc_0220', 'loc_0221', 'loc_0222', 'loc_0223', 'loc_0224', 'loc_0225', 'loc_0226', 'loc_0227', 'loc_0228', 'loc_0229', 'loc_0230', 'loc_0231', 'loc_0232', 'loc_0233', 'loc_0234', 'loc_0235', 'loc_0236', 'loc_0237', 'loc_0238', 'loc_0239', 'loc_0240', 'loc_0241', 'loc_0242', 'loc_0243', 'loc_0244', 'loc_0245', 'loc_0246', 'loc_0247', 'loc_0248', 'loc_0249', 'loc_0250', 'loc_0251', 'loc_0252', 'loc_0253', 'loc_0254', 'loc_0255', 'loc_0256', 'loc_0257', 'loc_0258', 'loc_0259', 'loc_0260', 'loc_0261', 'loc_0262', 'loc_0263', 'loc_0264', 'loc_0265', 'loc_0266', 'loc_0267', 'loc_0268', 'loc_0269', 'loc_0270', 'loc_0271', 'loc_0272', 'loc_0273', 'loc_0274', 'loc_0275', 'loc_0276', 'loc_0277', 'loc_0278', 'loc_0279', 'loc_0280', 'loc_0281', 'loc_0282', 'loc_0283', 'loc_0284', 'loc_0285', 'loc_0286', 'loc_0287', 'loc_0288', 'loc_0289', 'loc_0290', 'loc_0291', 'loc_0292', 'loc_0293', 'loc_0294', 'loc_0295', 'loc_0296', 'loc_0297', 'loc_0298', 'loc_0299', 'loc_0300', 'loc_0301', 'loc_0302', 'loc_0303', 'loc_0304', 'loc_0305', 'loc_0306', 'loc_0307', 'loc_0308', 'loc_0309', 'loc_0310', 'loc_0311', 'loc_0312', 'loc_0313', 'loc_0314', 'loc_0315', 'loc_0316', 'loc_0317', 'loc_0318', 'loc_0319', 'loc_0320', 'loc_0321', 'loc_0322', 'loc_0323', 'loc_0324', 'loc_0325', 'loc_0326', 'loc_0327', 'loc_0328', 'loc_0329', 'loc_0330', 'loc_0331', 'loc_0332', 'loc_0333', 'loc_0334', 'loc_0335', 'loc_0336', 'loc_0337', 'loc_0338', 'loc_0339', 'loc_0340', 'loc_0341', 'loc_0342', 'loc_0343', 'loc_0344', 'loc_0345', 'loc_0346', 'loc_0347', 'loc_0348', 'loc_0349', 'loc_0350', 'loc_0351', 'loc_0352', 'loc_0353', 'loc_0354', 'loc_0355', 'loc_0356', 'loc_0357', 'loc_0358', 'loc_0359', 'loc_0360', 'loc_0361', 'loc_0362', 'loc_0363', 'loc_0364', 'loc_0365', 'loc_0366', 'loc_0367', 'loc_0368', 'loc_0369', 'loc_0370', 'loc_0371', 'loc_0372', 'loc_0373', 'loc_0374', 'loc_0375', 'loc_0376', 'loc_0377', 'loc_0378', 'loc_0379', 'loc_0380', 'loc_0381', 'loc_0382', 'loc_0383', 'loc_0384', 'loc_0385', 'loc_0386', 'loc_0387', 'loc_0388', 'loc_0389', 'loc_0390', 'loc_0391', 'loc_0392', 'loc_0393', 'loc_0394', 'loc_0395', 'loc_0396', 'loc_0397', 'loc_0398', 'loc_0399', 'loc_0400', 'rgb_0000', 'rgb_0001', 'rgb_0002', 'rgb_0003', 'rgb_0004', 'rgb_0005', 'rgb_0006', 'rgb_0007', 'rgb_0008', 'rgb_0009', 'rgb_0010', 'rgb_0011', 'rgb_0012', 'rgb_0013', 'rgb_0014', 'rgb_0015', 'rgb_0016', 'rgb_0017', 'rgb_0018', 'rgb_0019', 'rgb_0020', 'rgb_0021', 'rgb_0022', 'rgb_0023', 'rgb_0024', 'rgb_0025', 'rgb_0026', 'rgb_0027', 'rgb_0028', 'rgb_0029', 'rgb_0030', 'rgb_0031', 'rgb_0032', 'rgb_0033', 'rgb_0034', 'rgb_0035', 'rgb_0036', 'rgb_0037', 'rgb_0038', 'rgb_0039', 'rgb_0040', 'rgb_0041', 'rgb_0042', 'rgb_0043', 'rgb_0044', 'rgb_0045', 'rgb_0046', 'rgb_0047', 'rgb_0048', 'rgb_0049', 'rgb_0050', 'rgb_0051', 'rgb_0052', 'rgb_0053', 'rgb_0054', 'rgb_0055', 'rgb_0056', 'rgb_0057', 'rgb_0058', 'rgb_0059', 'rgb_0060', 'rgb_0061', 'rgb_0062', 'rgb_0063', 'rgb_0064', 'rgb_0065', 'rgb_0066', 'rgb_0067', 'rgb_0068', 'rgb_0069', 'rgb_0070', 'rgb_0071', 'rgb_0072', 'rgb_0073', 'rgb_0074', 'rgb_0075', 'rgb_0076', 'rgb_0077', 'rgb_0078', 'rgb_0079', 'rgb_0080', 'rgb_0081', 'rgb_0082', 'rgb_0083', 'rgb_0084', 'rgb_0085', 'rgb_0086', 'rgb_0087', 'rgb_0088', 'rgb_0089', 'rgb_0090', 'rgb_0091', 'rgb_0092', 'rgb_0093', 'rgb_0094', 'rgb_0095', 'rgb_0096', 'rgb_0097', 'rgb_0098', 'rgb_0099', 'rgb_0100', 'rgb_0101', 'rgb_0102', 'rgb_0103', 'rgb_0104', 'rgb_0105', 'rgb_0106', 'rgb_0107', 'rgb_0108', 'rgb_0109', 'rgb_0110', 'rgb_0111', 'rgb_0112', 'rgb_0113', 'rgb_0114', 'rgb_0115', 'rgb_0116', 'rgb_0117', 'rgb_0118', 'rgb_0119', 'rgb_0120', 'rgb_0121', 'rgb_0122', 'rgb_0123', 'rgb_0124', 'rgb_0125', 'rgb_0126', 'rgb_0127', 'rgb_0128', 'rgb_0129', 'rgb_0130', 'rgb_0131', 'rgb_0132', 'rgb_0133', 'rgb_0134', 'rgb_0135', 'rgb_0136', 'rgb_0137', 'rgb_0138', 'rgb_0139', 'rgb_0140', 'rgb_0141', 'rgb_0142', 'rgb_0143', 'rgb_0144', 'rgb_0145', 'rgb_0146', 'rgb_0147', 'rgb_0148', 'rgb_0149', 'rgb_0150', 'rgb_0151', 'rgb_0152', 'rgb_0153', 'rgb_0154', 'rgb_0155', 'rgb_0156', 'rgb_0157', 'rgb_0158', 'rgb_0159', 'rgb_0160', 'rgb_0161', 'rgb_0162', 'rgb_0163', 'rgb_0164', 'rgb_0165', 'rgb_0166', 'rgb_0167', 'rgb_0168', 'rgb_0169', 'rgb_0170', 'rgb_0171', 'rgb_0172', 'rgb_0173', 'rgb_0174', 'rgb_0175', 'rgb_0176', 'rgb_0177', 'rgb_0178', 'rgb_0179', 'rgb_0180', 'rgb_0181', 'rgb_0182', 'rgb_0183', 'rgb_0184', 'rgb_0185', 'rgb_0186', 'rgb_0187', 'rgb_0188', 'rgb_0189', 'rgb_0190', 'rgb_0191', 'rgb_0192', 'rgb_0193', 'rgb_0194', 'rgb_0195', 'rgb_0196', 'rgb_0197', 'rgb_0198', 'rgb_0199', 'rgb_0200', 'rgb_0201', 'rgb_0202', 'rgb_0203', 'rgb_0204', 'rgb_0205', 'rgb_0206', 'rgb_0207', 'rgb_0208', 'rgb_0209', 'rgb_0210', 'rgb_0211', 'rgb_0212', 'rgb_0213', 'rgb_0214', 'rgb_0215', 'rgb_0216', 'rgb_0217', 'rgb_0218', 'rgb_0219', 'rgb_0220', 'rgb_0221', 'rgb_0222', 'rgb_0223', 'rgb_0224', 'rgb_0225', 'rgb_0226', 'rgb_0227', 'rgb_0228', 'rgb_0229', 'rgb_0230', 'rgb_0231', 'rgb_0232', 'rgb_0233', 'rgb_0234', 'rgb_0235', 'rgb_0236', 'rgb_0237', 'rgb_0238', 'rgb_0239', 'rgb_0240', 'rgb_0241', 'rgb_0242', 'rgb_0243', 'rgb_0244', 'rgb_0245', 'rgb_0246', 'rgb_0247', 'rgb_0248', 'rgb_0249', 'rgb_0250', 'rgb_0251', 'rgb_0252', 'rgb_0253', 'rgb_0254', 'rgb_0255', 'rgb_0256', 'rgb_0257', 'rgb_0258', 'rgb_0259', 'rgb_0260', 'rgb_0261', 'rgb_0262', 'rgb_0263', 'rgb_0264', 'rgb_0265', 'rgb_0266', 'rgb_0267', 'rgb_0268', 'rgb_0269', 'rgb_0270', 'rgb_0271', 'rgb_0272', 'rgb_0273', 'rgb_0274', 'rgb_0275', 'rgb_0276', 'rgb_0277', 'rgb_0278', 'rgb_0279', 'rgb_0280', 'rgb_0281', 'rgb_0282', 'rgb_0283', 'rgb_0284', 'rgb_0285', 'rgb_0286', 'rgb_0287', 'rgb_0288', 'rgb_0289', 'rgb_0290', 'rgb_0291', 'rgb_0292', 'rgb_0293', 'rgb_0294', 'rgb_0295', 'rgb_0296', 'rgb_0297', 'rgb_0298', 'rgb_0299', 'rgb_0300', 'rgb_0301', 'rgb_0302', 'rgb_0303', 'rgb_0304', 'rgb_0305', 'rgb_0306', 'rgb_0307', 'rgb_0308', 'rgb_0309', 'rgb_0310', 'rgb_0311', 'rgb_0312', 'rgb_0313', 'rgb_0314', 'rgb_0315', 'rgb_0316', 'rgb_0317', 'rgb_0318', 'rgb_0319', 'rgb_0320', 'rgb_0321', 'rgb_0322', 'rgb_0323', 'rgb_0324', 'rgb_0325', 'rgb_0326', 'rgb_0327', 'rgb_0328', 'rgb_0329', 'rgb_0330', 'rgb_0331', 'rgb_0332', 'rgb_0333', 'rgb_0334', 'rgb_0335', 'rgb_0336', 'rgb_0337', 'rgb_0338', 'rgb_0339', 'rgb_0340', 'rgb_0341', 'rgb_0342', 'rgb_0343', 'rgb_0344', 'rgb_0345', 'rgb_0346', 'rgb_0347', 'rgb_0348', 'rgb_0349', 'rgb_0350', 'rgb_0351', 'rgb_0352', 'rgb_0353', 'rgb_0354', 'rgb_0355', 'rgb_0356', 'rgb_0357', 'rgb_0358', 'rgb_0359', 'rgb_0360', 'rgb_0361', 'rgb_0362', 'rgb_0363', 'rgb_0364', 'rgb_0365', 'rgb_0366', 'rgb_0367', 'rgb_0368', 'rgb_0369', 'rgb_0370', 'rgb_0371', 'rgb_0372', 'rgb_0373', 'rgb_0374', 'rgb_0375', 'rgb_0376', 'rgb_0377', 'rgb_0378', 'rgb_0379', 'rgb_0380', 'rgb_0381', 'rgb_0382', 'rgb_0383', 'rgb_0384', 'rgb_0385', 'rgb_0386', 'rgb_0387', 'rgb_0388', 'rgb_0389', 'rgb_0390', 'rgb_0391', 'rgb_0392', 'rgb_0393', 'rgb_0394', 'rgb_0395', 'rgb_0396', 'rgb_0397', 'rgb_0398', 'rgb_0399', 'rgb_0400', 'rot_0000', 'rot_0001', 'rot_0002', 'rot_0003', 'rot_0004', 'rot_0005', 'rot_0006', 'rot_0007', 'rot_0008', 'rot_0009', 'rot_0010', 'rot_0011', 'rot_0012', 'rot_0013', 'rot_0014', 'rot_0015', 'rot_0016', 'rot_0017', 'rot_0018', 'rot_0019', 'rot_0020', 'rot_0021', 'rot_0022', 'rot_0023', 'rot_0024', 'rot_0025', 'rot_0026', 'rot_0027', 'rot_0028', 'rot_0029', 'rot_0030', 'rot_0031', 'rot_0032', 'rot_0033', 'rot_0034', 'rot_0035', 'rot_0036', 'rot_0037', 'rot_0038', 'rot_0039', 'rot_0040', 'rot_0041', 'rot_0042', 'rot_0043', 'rot_0044', 'rot_0045', 'rot_0046', 'rot_0047', 'rot_0048', 'rot_0049', 'rot_0050', 'rot_0051', 'rot_0052', 'rot_0053', 'rot_0054', 'rot_0055', 'rot_0056', 'rot_0057', 'rot_0058', 'rot_0059', 'rot_0060', 'rot_0061', 'rot_0062', 'rot_0063', 'rot_0064', 'rot_0065', 'rot_0066', 'rot_0067', 'rot_0068', 'rot_0069', 'rot_0070', 'rot_0071', 'rot_0072', 'rot_0073', 'rot_0074', 'rot_0075', 'rot_0076', 'rot_0077', 'rot_0078', 'rot_0079', 'rot_0080', 'rot_0081', 'rot_0082', 'rot_0083', 'rot_0084', 'rot_0085', 'rot_0086', 'rot_0087', 'rot_0088', 'rot_0089', 'rot_0090', 'rot_0091', 'rot_0092', 'rot_0093', 'rot_0094', 'rot_0095', 'rot_0096', 'rot_0097', 'rot_0098', 'rot_0099', 'rot_0100', 'rot_0101', 'rot_0102', 'rot_0103', 'rot_0104', 'rot_0105', 'rot_0106', 'rot_0107', 'rot_0108', 'rot_0109', 'rot_0110', 'rot_0111', 'rot_0112', 'rot_0113', 'rot_0114', 'rot_0115', 'rot_0116', 'rot_0117', 'rot_0118', 'rot_0119', 'rot_0120', 'rot_0121', 'rot_0122', 'rot_0123', 'rot_0124', 'rot_0125', 'rot_0126', 'rot_0127', 'rot_0128', 'rot_0129', 'rot_0130', 'rot_0131', 'rot_0132', 'rot_0133', 'rot_0134', 'rot_0135', 'rot_0136', 'rot_0137', 'rot_0138', 'rot_0139', 'rot_0140', 'rot_0141', 'rot_0142', 'rot_0143', 'rot_0144', 'rot_0145', 'rot_0146', 'rot_0147', 'rot_0148', 'rot_0149', 'rot_0150', 'rot_0151', 'rot_0152', 'rot_0153', 'rot_0154', 'rot_0155', 'rot_0156', 'rot_0157', 'rot_0158', 'rot_0159', 'rot_0160', 'rot_0161', 'rot_0162', 'rot_0163', 'rot_0164', 'rot_0165', 'rot_0166', 'rot_0167', 'rot_0168', 'rot_0169', 'rot_0170', 'rot_0171', 'rot_0172', 'rot_0173', 'rot_0174', 'rot_0175', 'rot_0176', 'rot_0177', 'rot_0178', 'rot_0179', 'rot_0180', 'rot_0181', 'rot_0182', 'rot_0183', 'rot_0184', 'rot_0185', 'rot_0186', 'rot_0187', 'rot_0188', 'rot_0189', 'rot_0190', 'rot_0191', 'rot_0192', 'rot_0193', 'rot_0194', 'rot_0195', 'rot_0196', 'rot_0197', 'rot_0198', 'rot_0199', 'rot_0200', 'rot_0201', 'rot_0202', 'rot_0203', 'rot_0204', 'rot_0205', 'rot_0206', 'rot_0207', 'rot_0208', 'rot_0209', 'rot_0210', 'rot_0211', 'rot_0212', 'rot_0213', 'rot_0214', 'rot_0215', 'rot_0216', 'rot_0217', 'rot_0218', 'rot_0219', 'rot_0220', 'rot_0221', 'rot_0222', 'rot_0223', 'rot_0224', 'rot_0225', 'rot_0226', 'rot_0227', 'rot_0228', 'rot_0229', 'rot_0230', 'rot_0231', 'rot_0232', 'rot_0233', 'rot_0234', 'rot_0235', 'rot_0236', 'rot_0237', 'rot_0238', 'rot_0239', 'rot_0240', 'rot_0241', 'rot_0242', 'rot_0243', 'rot_0244', 'rot_0245', 'rot_0246', 'rot_0247', 'rot_0248', 'rot_0249', 'rot_0250', 'rot_0251', 'rot_0252', 'rot_0253', 'rot_0254', 'rot_0255', 'rot_0256', 'rot_0257', 'rot_0258', 'rot_0259', 'rot_0260', 'rot_0261', 'rot_0262', 'rot_0263', 'rot_0264', 'rot_0265', 'rot_0266', 'rot_0267', 'rot_0268', 'rot_0269', 'rot_0270', 'rot_0271', 'rot_0272', 'rot_0273', 'rot_0274', 'rot_0275', 'rot_0276', 'rot_0277', 'rot_0278', 'rot_0279', 'rot_0280', 'rot_0281', 'rot_0282', 'rot_0283', 'rot_0284', 'rot_0285', 'rot_0286', 'rot_0287', 'rot_0288', 'rot_0289', 'rot_0290', 'rot_0291', 'rot_0292', 'rot_0293', 'rot_0294', 'rot_0295', 'rot_0296', 'rot_0297', 'rot_0298', 'rot_0299', 'rot_0300', 'rot_0301', 'rot_0302', 'rot_0303', 'rot_0304', 'rot_0305', 'rot_0306', 'rot_0307', 'rot_0308', 'rot_0309', 'rot_0310', 'rot_0311', 'rot_0312', 'rot_0313', 'rot_0314', 'rot_0315', 'rot_0316', 'rot_0317', 'rot_0318', 'rot_0319', 'rot_0320', 'rot_0321', 'rot_0322', 'rot_0323', 'rot_0324', 'rot_0325', 'rot_0326', 'rot_0327', 'rot_0328', 'rot_0329', 'rot_0330', 'rot_0331', 'rot_0332', 'rot_0333', 'rot_0334', 'rot_0335', 'rot_0336', 'rot_0337', 'rot_0338', 'rot_0339', 'rot_0340', 'rot_0341', 'rot_0342', 'rot_0343', 'rot_0344', 'rot_0345', 'rot_0346', 'rot_0347', 'rot_0348', 'rot_0349', 'rot_0350', 'rot_0351', 'rot_0352', 'rot_0353', 'rot_0354', 'rot_0355', 'rot_0356', 'rot_0357', 'rot_0358', 'rot_0359', 'rot_0360', 'rot_0361', 'rot_0362', 'rot_0363', 'rot_0364', 'rot_0365', 'rot_0366', 'rot_0367', 'rot_0368', 'rot_0369', 'rot_0370', 'rot_0371', 'rot_0372', 'rot_0373', 'rot_0374', 'rot_0375', 'rot_0376', 'rot_0377', 'rot_0378', 'rot_0379', 'rot_0380', 'rot_0381', 'rot_0382', 'rot_0383', 'rot_0384', 'rot_0385', 'rot_0386', 'rot_0387', 'rot_0388', 'rot_0389', 'rot_0390', 'rot_0391', 'rot_0392', 'rot_0393', 'rot_0394', 'rot_0395', 'rot_0396', 'rot_0397', 'rot_0398', 'rot_0399', 'rot_0400', 'segmentation_0000', 'segmentation_0001', 'segmentation_0002', 'segmentation_0003', 'segmentation_0004', 'segmentation_0005', 'segmentation_0006', 'segmentation_0007', 'segmentation_0008', 'segmentation_0009', 'segmentation_0010', 'segmentation_0011', 'segmentation_0012', 'segmentation_0013', 'segmentation_0014', 'segmentation_0015', 'segmentation_0016', 'segmentation_0017', 'segmentation_0018', 'segmentation_0019', 'segmentation_0020', 'segmentation_0021', 'segmentation_0022', 'segmentation_0023', 'segmentation_0024', 'segmentation_0025', 'segmentation_0026', 'segmentation_0027', 'segmentation_0028', 'segmentation_0029', 'segmentation_0030', 'segmentation_0031', 'segmentation_0032', 'segmentation_0033', 'segmentation_0034', 'segmentation_0035', 'segmentation_0036', 'segmentation_0037', 'segmentation_0038', 'segmentation_0039', 'segmentation_0040', 'segmentation_0041', 'segmentation_0042', 'segmentation_0043', 'segmentation_0044', 'segmentation_0045', 'segmentation_0046', 'segmentation_0047', 'segmentation_0048', 'segmentation_0049', 'segmentation_0050', 'segmentation_0051', 'segmentation_0052', 'segmentation_0053', 'segmentation_0054', 'segmentation_0055', 'segmentation_0056', 'segmentation_0057', 'segmentation_0058', 'segmentation_0059', 'segmentation_0060', 'segmentation_0061', 'segmentation_0062', 'segmentation_0063', 'segmentation_0064', 'segmentation_0065', 'segmentation_0066', 'segmentation_0067', 'segmentation_0068', 'segmentation_0069', 'segmentation_0070', 'segmentation_0071', 'segmentation_0072', 'segmentation_0073', 'segmentation_0074', 'segmentation_0075', 'segmentation_0076', 'segmentation_0077', 'segmentation_0078', 'segmentation_0079', 'segmentation_0080', 'segmentation_0081', 'segmentation_0082', 'segmentation_0083', 'segmentation_0084', 'segmentation_0085', 'segmentation_0086', 'segmentation_0087', 'segmentation_0088', 'segmentation_0089', 'segmentation_0090', 'segmentation_0091', 'segmentation_0092', 'segmentation_0093', 'segmentation_0094', 'segmentation_0095', 'segmentation_0096', 'segmentation_0097', 'segmentation_0098', 'segmentation_0099', 'segmentation_0100', 'segmentation_0101', 'segmentation_0102', 'segmentation_0103', 'segmentation_0104', 'segmentation_0105', 'segmentation_0106', 'segmentation_0107', 'segmentation_0108', 'segmentation_0109', 'segmentation_0110', 'segmentation_0111', 'segmentation_0112', 'segmentation_0113', 'segmentation_0114', 'segmentation_0115', 'segmentation_0116', 'segmentation_0117', 'segmentation_0118', 'segmentation_0119', 'segmentation_0120', 'segmentation_0121', 'segmentation_0122', 'segmentation_0123', 'segmentation_0124', 'segmentation_0125', 'segmentation_0126', 'segmentation_0127', 'segmentation_0128', 'segmentation_0129', 'segmentation_0130', 'segmentation_0131', 'segmentation_0132', 'segmentation_0133', 'segmentation_0134', 'segmentation_0135', 'segmentation_0136', 'segmentation_0137', 'segmentation_0138', 'segmentation_0139', 'segmentation_0140', 'segmentation_0141', 'segmentation_0142', 'segmentation_0143', 'segmentation_0144', 'segmentation_0145', 'segmentation_0146', 'segmentation_0147', 'segmentation_0148', 'segmentation_0149', 'segmentation_0150', 'segmentation_0151', 'segmentation_0152', 'segmentation_0153', 'segmentation_0154', 'segmentation_0155', 'segmentation_0156', 'segmentation_0157', 'segmentation_0158', 'segmentation_0159', 'segmentation_0160', 'segmentation_0161', 'segmentation_0162', 'segmentation_0163', 'segmentation_0164', 'segmentation_0165', 'segmentation_0166', 'segmentation_0167', 'segmentation_0168', 'segmentation_0169', 'segmentation_0170', 'segmentation_0171', 'segmentation_0172', 'segmentation_0173', 'segmentation_0174', 'segmentation_0175', 'segmentation_0176', 'segmentation_0177', 'segmentation_0178', 'segmentation_0179', 'segmentation_0180', 'segmentation_0181', 'segmentation_0182', 'segmentation_0183', 'segmentation_0184', 'segmentation_0185', 'segmentation_0186', 'segmentation_0187', 'segmentation_0188', 'segmentation_0189', 'segmentation_0190', 'segmentation_0191', 'segmentation_0192', 'segmentation_0193', 'segmentation_0194', 'segmentation_0195', 'segmentation_0196', 'segmentation_0197', 'segmentation_0198', 'segmentation_0199', 'segmentation_0200', 'segmentation_0201', 'segmentation_0202', 'segmentation_0203', 'segmentation_0204', 'segmentation_0205', 'segmentation_0206', 'segmentation_0207', 'segmentation_0208', 'segmentation_0209', 'segmentation_0210', 'segmentation_0211', 'segmentation_0212', 'segmentation_0213', 'segmentation_0214', 'segmentation_0215', 'segmentation_0216', 'segmentation_0217', 'segmentation_0218', 'segmentation_0219', 'segmentation_0220', 'segmentation_0221', 'segmentation_0222', 'segmentation_0223', 'segmentation_0224', 'segmentation_0225', 'segmentation_0226', 'segmentation_0227', 'segmentation_0228', 'segmentation_0229', 'segmentation_0230', 'segmentation_0231', 'segmentation_0232', 'segmentation_0233', 'segmentation_0234', 'segmentation_0235', 'segmentation_0236', 'segmentation_0237', 'segmentation_0238', 'segmentation_0239', 'segmentation_0240', 'segmentation_0241', 'segmentation_0242', 'segmentation_0243', 'segmentation_0244', 'segmentation_0245', 'segmentation_0246', 'segmentation_0247', 'segmentation_0248', 'segmentation_0249', 'segmentation_0250', 'segmentation_0251', 'segmentation_0252', 'segmentation_0253', 'segmentation_0254', 'segmentation_0255', 'segmentation_0256', 'segmentation_0257', 'segmentation_0258', 'segmentation_0259', 'segmentation_0260', 'segmentation_0261', 'segmentation_0262', 'segmentation_0263', 'segmentation_0264', 'segmentation_0265', 'segmentation_0266', 'segmentation_0267', 'segmentation_0268', 'segmentation_0269', 'segmentation_0270', 'segmentation_0271', 'segmentation_0272', 'segmentation_0273', 'segmentation_0274', 'segmentation_0275', 'segmentation_0276', 'segmentation_0277', 'segmentation_0278', 'segmentation_0279', 'segmentation_0280', 'segmentation_0281', 'segmentation_0282', 'segmentation_0283', 'segmentation_0284', 'segmentation_0285', 'segmentation_0286', 'segmentation_0287', 'segmentation_0288', 'segmentation_0289', 'segmentation_0290', 'segmentation_0291', 'segmentation_0292', 'segmentation_0293', 'segmentation_0294', 'segmentation_0295', 'segmentation_0296', 'segmentation_0297', 'segmentation_0298', 'segmentation_0299', 'segmentation_0300', 'segmentation_0301', 'segmentation_0302', 'segmentation_0303', 'segmentation_0304', 'segmentation_0305', 'segmentation_0306', 'segmentation_0307', 'segmentation_0308', 'segmentation_0309', 'segmentation_0310', 'segmentation_0311', 'segmentation_0312', 'segmentation_0313', 'segmentation_0314', 'segmentation_0315', 'segmentation_0316', 'segmentation_0317', 'segmentation_0318', 'segmentation_0319', 'segmentation_0320', 'segmentation_0321', 'segmentation_0322', 'segmentation_0323', 'segmentation_0324', 'segmentation_0325', 'segmentation_0326', 'segmentation_0327', 'segmentation_0328', 'segmentation_0329', 'segmentation_0330', 'segmentation_0331', 'segmentation_0332', 'segmentation_0333', 'segmentation_0334', 'segmentation_0335', 'segmentation_0336', 'segmentation_0337', 'segmentation_0338', 'segmentation_0339', 'segmentation_0340', 'segmentation_0341', 'segmentation_0342', 'segmentation_0343', 'segmentation_0344', 'segmentation_0345', 'segmentation_0346', 'segmentation_0347', 'segmentation_0348', 'segmentation_0349', 'segmentation_0350', 'segmentation_0351', 'segmentation_0352', 'segmentation_0353', 'segmentation_0354', 'segmentation_0355', 'segmentation_0356', 'segmentation_0357', 'segmentation_0358', 'segmentation_0359', 'segmentation_0360', 'segmentation_0361', 'segmentation_0362', 'segmentation_0363', 'segmentation_0364', 'segmentation_0365', 'segmentation_0366', 'segmentation_0367', 'segmentation_0368', 'segmentation_0369', 'segmentation_0370', 'segmentation_0371', 'segmentation_0372', 'segmentation_0373', 'segmentation_0374', 'segmentation_0375', 'segmentation_0376', 'segmentation_0377', 'segmentation_0378', 'segmentation_0379', 'segmentation_0380', 'segmentation_0381', 'segmentation_0382', 'segmentation_0383', 'segmentation_0384', 'segmentation_0385', 'segmentation_0386', 'segmentation_0387', 'segmentation_0388', 'segmentation_0389', 'segmentation_0390', 'segmentation_0391', 'segmentation_0392', 'segmentation_0393', 'segmentation_0394', 'segmentation_0395', 'segmentation_0396', 'segmentation_0397', 'segmentation_0398', 'segmentation_0399', 'segmentation_0400', 'spd_0000', 'spd_0001', 'spd_0002', 'spd_0003', 'spd_0004', 'spd_0005', 'spd_0006', 'spd_0007', 'spd_0008', 'spd_0009', 'spd_0010', 'spd_0011', 'spd_0012', 'spd_0013', 'spd_0014', 'spd_0015', 'spd_0016', 'spd_0017', 'spd_0018', 'spd_0019', 'spd_0020', 'spd_0021', 'spd_0022', 'spd_0023', 'spd_0024', 'spd_0025', 'spd_0026', 'spd_0027', 'spd_0028', 'spd_0029', 'spd_0030', 'spd_0031', 'spd_0032', 'spd_0033', 'spd_0034', 'spd_0035', 'spd_0036', 'spd_0037', 'spd_0038', 'spd_0039', 'spd_0040', 'spd_0041', 'spd_0042', 'spd_0043', 'spd_0044', 'spd_0045', 'spd_0046', 'spd_0047', 'spd_0048', 'spd_0049', 'spd_0050', 'spd_0051', 'spd_0052', 'spd_0053', 'spd_0054', 'spd_0055', 'spd_0056', 'spd_0057', 'spd_0058', 'spd_0059', 'spd_0060', 'spd_0061', 'spd_0062', 'spd_0063', 'spd_0064', 'spd_0065', 'spd_0066', 'spd_0067', 'spd_0068', 'spd_0069', 'spd_0070', 'spd_0071', 'spd_0072', 'spd_0073', 'spd_0074', 'spd_0075', 'spd_0076', 'spd_0077', 'spd_0078', 'spd_0079', 'spd_0080', 'spd_0081', 'spd_0082', 'spd_0083', 'spd_0084', 'spd_0085', 'spd_0086', 'spd_0087', 'spd_0088', 'spd_0089', 'spd_0090', 'spd_0091', 'spd_0092', 'spd_0093', 'spd_0094', 'spd_0095', 'spd_0096', 'spd_0097', 'spd_0098', 'spd_0099', 'spd_0100', 'spd_0101', 'spd_0102', 'spd_0103', 'spd_0104', 'spd_0105', 'spd_0106', 'spd_0107', 'spd_0108', 'spd_0109', 'spd_0110', 'spd_0111', 'spd_0112', 'spd_0113', 'spd_0114', 'spd_0115', 'spd_0116', 'spd_0117', 'spd_0118', 'spd_0119', 'spd_0120', 'spd_0121', 'spd_0122', 'spd_0123', 'spd_0124', 'spd_0125', 'spd_0126', 'spd_0127', 'spd_0128', 'spd_0129', 'spd_0130', 'spd_0131', 'spd_0132', 'spd_0133', 'spd_0134', 'spd_0135', 'spd_0136', 'spd_0137', 'spd_0138', 'spd_0139', 'spd_0140', 'spd_0141', 'spd_0142', 'spd_0143', 'spd_0144', 'spd_0145', 'spd_0146', 'spd_0147', 'spd_0148', 'spd_0149', 'spd_0150', 'spd_0151', 'spd_0152', 'spd_0153', 'spd_0154', 'spd_0155', 'spd_0156', 'spd_0157', 'spd_0158', 'spd_0159', 'spd_0160', 'spd_0161', 'spd_0162', 'spd_0163', 'spd_0164', 'spd_0165', 'spd_0166', 'spd_0167', 'spd_0168', 'spd_0169', 'spd_0170', 'spd_0171', 'spd_0172', 'spd_0173', 'spd_0174', 'spd_0175', 'spd_0176', 'spd_0177', 'spd_0178', 'spd_0179', 'spd_0180', 'spd_0181', 'spd_0182', 'spd_0183', 'spd_0184', 'spd_0185', 'spd_0186', 'spd_0187', 'spd_0188', 'spd_0189', 'spd_0190', 'spd_0191', 'spd_0192', 'spd_0193', 'spd_0194', 'spd_0195', 'spd_0196', 'spd_0197', 'spd_0198', 'spd_0199', 'spd_0200', 'spd_0201', 'spd_0202', 'spd_0203', 'spd_0204', 'spd_0205', 'spd_0206', 'spd_0207', 'spd_0208', 'spd_0209', 'spd_0210', 'spd_0211', 'spd_0212', 'spd_0213', 'spd_0214', 'spd_0215', 'spd_0216', 'spd_0217', 'spd_0218', 'spd_0219', 'spd_0220', 'spd_0221', 'spd_0222', 'spd_0223', 'spd_0224', 'spd_0225', 'spd_0226', 'spd_0227', 'spd_0228', 'spd_0229', 'spd_0230', 'spd_0231', 'spd_0232', 'spd_0233', 'spd_0234', 'spd_0235', 'spd_0236', 'spd_0237', 'spd_0238', 'spd_0239', 'spd_0240', 'spd_0241', 'spd_0242', 'spd_0243', 'spd_0244', 'spd_0245', 'spd_0246', 'spd_0247', 'spd_0248', 'spd_0249', 'spd_0250', 'spd_0251', 'spd_0252', 'spd_0253', 'spd_0254', 'spd_0255', 'spd_0256', 'spd_0257', 'spd_0258', 'spd_0259', 'spd_0260', 'spd_0261', 'spd_0262', 'spd_0263', 'spd_0264', 'spd_0265', 'spd_0266', 'spd_0267', 'spd_0268', 'spd_0269', 'spd_0270', 'spd_0271', 'spd_0272', 'spd_0273', 'spd_0274', 'spd_0275', 'spd_0276', 'spd_0277', 'spd_0278', 'spd_0279', 'spd_0280', 'spd_0281', 'spd_0282', 'spd_0283', 'spd_0284', 'spd_0285', 'spd_0286', 'spd_0287', 'spd_0288', 'spd_0289', 'spd_0290', 'spd_0291', 'spd_0292', 'spd_0293', 'spd_0294', 'spd_0295', 'spd_0296', 'spd_0297', 'spd_0298', 'spd_0299', 'spd_0300', 'spd_0301', 'spd_0302', 'spd_0303', 'spd_0304', 'spd_0305', 'spd_0306', 'spd_0307', 'spd_0308', 'spd_0309', 'spd_0310', 'spd_0311', 'spd_0312', 'spd_0313', 'spd_0314', 'spd_0315', 'spd_0316', 'spd_0317', 'spd_0318', 'spd_0319', 'spd_0320', 'spd_0321', 'spd_0322', 'spd_0323', 'spd_0324', 'spd_0325', 'spd_0326', 'spd_0327', 'spd_0328', 'spd_0329', 'spd_0330', 'spd_0331', 'spd_0332', 'spd_0333', 'spd_0334', 'spd_0335', 'spd_0336', 'spd_0337', 'spd_0338', 'spd_0339', 'spd_0340', 'spd_0341', 'spd_0342', 'spd_0343', 'spd_0344', 'spd_0345', 'spd_0346', 'spd_0347', 'spd_0348', 'spd_0349', 'spd_0350', 'spd_0351', 'spd_0352', 'spd_0353', 'spd_0354', 'spd_0355', 'spd_0356', 'spd_0357', 'spd_0358', 'spd_0359', 'spd_0360', 'spd_0361', 'spd_0362', 'spd_0363', 'spd_0364', 'spd_0365', 'spd_0366', 'spd_0367', 'spd_0368', 'spd_0369', 'spd_0370', 'spd_0371', 'spd_0372', 'spd_0373', 'spd_0374', 'spd_0375', 'spd_0376', 'spd_0377', 'spd_0378', 'spd_0379', 'spd_0380', 'spd_0381', 'spd_0382', 'spd_0383', 'spd_0384', 'spd_0385', 'spd_0386', 'spd_0387', 'spd_0388', 'spd_0389', 'spd_0390', 'spd_0391', 'spd_0392', 'spd_0393', 'spd_0394', 'spd_0395', 'spd_0396', 'spd_0397', 'spd_0398', 'spd_0399', 'spd_0400', 'trafficlights_0000', 'trafficlights_0001', 'trafficlights_0002', 'trafficlights_0003', 'trafficlights_0004', 'trafficlights_0005', 'trafficlights_0006', 'trafficlights_0007', 'trafficlights_0008', 'trafficlights_0009', 'trafficlights_0010', 'trafficlights_0011', 'trafficlights_0012', 'trafficlights_0013', 'trafficlights_0014', 'trafficlights_0015', 'trafficlights_0016', 'trafficlights_0017', 'trafficlights_0018', 'trafficlights_0019', 'trafficlights_0020', 'trafficlights_0021', 'trafficlights_0022', 'trafficlights_0023', 'trafficlights_0024', 'trafficlights_0025', 'trafficlights_0026', 'trafficlights_0027', 'trafficlights_0028', 'trafficlights_0029', 'trafficlights_0030', 'trafficlights_0031', 'trafficlights_0032', 'trafficlights_0033', 'trafficlights_0034', 'trafficlights_0035', 'trafficlights_0036', 'trafficlights_0037', 'trafficlights_0038', 'trafficlights_0039', 'trafficlights_0040', 'trafficlights_0041', 'trafficlights_0042', 'trafficlights_0043', 'trafficlights_0044', 'trafficlights_0045', 'trafficlights_0046', 'trafficlights_0047', 'trafficlights_0048', 'trafficlights_0049', 'trafficlights_0050', 'trafficlights_0051', 'trafficlights_0052', 'trafficlights_0053', 'trafficlights_0054', 'trafficlights_0055', 'trafficlights_0056', 'trafficlights_0057', 'trafficlights_0058', 'trafficlights_0059', 'trafficlights_0060', 'trafficlights_0061', 'trafficlights_0062', 'trafficlights_0063', 'trafficlights_0064', 'trafficlights_0065', 'trafficlights_0066', 'trafficlights_0067', 'trafficlights_0068', 'trafficlights_0069', 'trafficlights_0070', 'trafficlights_0071', 'trafficlights_0072', 'trafficlights_0073', 'trafficlights_0074', 'trafficlights_0075', 'trafficlights_0076', 'trafficlights_0077', 'trafficlights_0078', 'trafficlights_0079', 'trafficlights_0080', 'trafficlights_0081', 'trafficlights_0082', 'trafficlights_0083', 'trafficlights_0084', 'trafficlights_0085', 'trafficlights_0086', 'trafficlights_0087', 'trafficlights_0088', 'trafficlights_0089', 'trafficlights_0090', 'trafficlights_0091', 'trafficlights_0092', 'trafficlights_0093', 'trafficlights_0094', 'trafficlights_0095', 'trafficlights_0096', 'trafficlights_0097', 'trafficlights_0098', 'trafficlights_0099', 'trafficlights_0100', 'trafficlights_0101', 'trafficlights_0102', 'trafficlights_0103', 'trafficlights_0104', 'trafficlights_0105', 'trafficlights_0106', 'trafficlights_0107', 'trafficlights_0108', 'trafficlights_0109', 'trafficlights_0110', 'trafficlights_0111', 'trafficlights_0112', 'trafficlights_0113', 'trafficlights_0114', 'trafficlights_0115', 'trafficlights_0116', 'trafficlights_0117', 'trafficlights_0118', 'trafficlights_0119', 'trafficlights_0120', 'trafficlights_0121', 'trafficlights_0122', 'trafficlights_0123', 'trafficlights_0124', 'trafficlights_0125', 'trafficlights_0126', 'trafficlights_0127', 'trafficlights_0128', 'trafficlights_0129', 'trafficlights_0130', 'trafficlights_0131', 'trafficlights_0132', 'trafficlights_0133', 'trafficlights_0134', 'trafficlights_0135', 'trafficlights_0136', 'trafficlights_0137', 'trafficlights_0138', 'trafficlights_0139', 'trafficlights_0140', 'trafficlights_0141', 'trafficlights_0142', 'trafficlights_0143', 'trafficlights_0144', 'trafficlights_0145', 'trafficlights_0146', 'trafficlights_0147', 'trafficlights_0148', 'trafficlights_0149', 'trafficlights_0150', 'trafficlights_0151', 'trafficlights_0152', 'trafficlights_0153', 'trafficlights_0154', 'trafficlights_0155', 'trafficlights_0156', 'trafficlights_0157', 'trafficlights_0158', 'trafficlights_0159', 'trafficlights_0160', 'trafficlights_0161', 'trafficlights_0162', 'trafficlights_0163', 'trafficlights_0164', 'trafficlights_0165', 'trafficlights_0166', 'trafficlights_0167', 'trafficlights_0168', 'trafficlights_0169', 'trafficlights_0170', 'trafficlights_0171', 'trafficlights_0172', 'trafficlights_0173', 'trafficlights_0174', 'trafficlights_0175', 'trafficlights_0176', 'trafficlights_0177', 'trafficlights_0178', 'trafficlights_0179', 'trafficlights_0180', 'trafficlights_0181', 'trafficlights_0182', 'trafficlights_0183', 'trafficlights_0184', 'trafficlights_0185', 'trafficlights_0186', 'trafficlights_0187', 'trafficlights_0188', 'trafficlights_0189', 'trafficlights_0190', 'trafficlights_0191', 'trafficlights_0192', 'trafficlights_0193', 'trafficlights_0194', 'trafficlights_0195', 'trafficlights_0196', 'trafficlights_0197', 'trafficlights_0198', 'trafficlights_0199', 'trafficlights_0200', 'trafficlights_0201', 'trafficlights_0202', 'trafficlights_0203', 'trafficlights_0204', 'trafficlights_0205', 'trafficlights_0206', 'trafficlights_0207', 'trafficlights_0208', 'trafficlights_0209', 'trafficlights_0210', 'trafficlights_0211', 'trafficlights_0212', 'trafficlights_0213', 'trafficlights_0214', 'trafficlights_0215', 'trafficlights_0216', 'trafficlights_0217', 'trafficlights_0218', 'trafficlights_0219', 'trafficlights_0220', 'trafficlights_0221', 'trafficlights_0222', 'trafficlights_0223', 'trafficlights_0224', 'trafficlights_0225', 'trafficlights_0226', 'trafficlights_0227', 'trafficlights_0228', 'trafficlights_0229', 'trafficlights_0230', 'trafficlights_0231', 'trafficlights_0232', 'trafficlights_0233', 'trafficlights_0234', 'trafficlights_0235', 'trafficlights_0236', 'trafficlights_0237', 'trafficlights_0238', 'trafficlights_0239', 'trafficlights_0240', 'trafficlights_0241', 'trafficlights_0242', 'trafficlights_0243', 'trafficlights_0244', 'trafficlights_0245', 'trafficlights_0246', 'trafficlights_0247', 'trafficlights_0248', 'trafficlights_0249', 'trafficlights_0250', 'trafficlights_0251', 'trafficlights_0252', 'trafficlights_0253', 'trafficlights_0254', 'trafficlights_0255', 'trafficlights_0256', 'trafficlights_0257', 'trafficlights_0258', 'trafficlights_0259', 'trafficlights_0260', 'trafficlights_0261', 'trafficlights_0262', 'trafficlights_0263', 'trafficlights_0264', 'trafficlights_0265', 'trafficlights_0266', 'trafficlights_0267', 'trafficlights_0268', 'trafficlights_0269', 'trafficlights_0270', 'trafficlights_0271', 'trafficlights_0272', 'trafficlights_0273', 'trafficlights_0274', 'trafficlights_0275', 'trafficlights_0276', 'trafficlights_0277', 'trafficlights_0278', 'trafficlights_0279', 'trafficlights_0280', 'trafficlights_0281', 'trafficlights_0282', 'trafficlights_0283', 'trafficlights_0284', 'trafficlights_0285', 'trafficlights_0286', 'trafficlights_0287', 'trafficlights_0288', 'trafficlights_0289', 'trafficlights_0290', 'trafficlights_0291', 'trafficlights_0292', 'trafficlights_0293', 'trafficlights_0294', 'trafficlights_0295', 'trafficlights_0296', 'trafficlights_0297', 'trafficlights_0298', 'trafficlights_0299', 'trafficlights_0300', 'trafficlights_0301', 'trafficlights_0302', 'trafficlights_0303', 'trafficlights_0304', 'trafficlights_0305', 'trafficlights_0306', 'trafficlights_0307', 'trafficlights_0308', 'trafficlights_0309', 'trafficlights_0310', 'trafficlights_0311', 'trafficlights_0312', 'trafficlights_0313', 'trafficlights_0314', 'trafficlights_0315', 'trafficlights_0316', 'trafficlights_0317', 'trafficlights_0318', 'trafficlights_0319', 'trafficlights_0320', 'trafficlights_0321', 'trafficlights_0322', 'trafficlights_0323', 'trafficlights_0324', 'trafficlights_0325', 'trafficlights_0326', 'trafficlights_0327', 'trafficlights_0328', 'trafficlights_0329', 'trafficlights_0330', 'trafficlights_0331', 'trafficlights_0332', 'trafficlights_0333', 'trafficlights_0334', 'trafficlights_0335', 'trafficlights_0336', 'trafficlights_0337', 'trafficlights_0338', 'trafficlights_0339', 'trafficlights_0340', 'trafficlights_0341', 'trafficlights_0342', 'trafficlights_0343', 'trafficlights_0344', 'trafficlights_0345', 'trafficlights_0346', 'trafficlights_0347', 'trafficlights_0348', 'trafficlights_0349', 'trafficlights_0350', 'trafficlights_0351', 'trafficlights_0352', 'trafficlights_0353', 'trafficlights_0354', 'trafficlights_0355', 'trafficlights_0356', 'trafficlights_0357', 'trafficlights_0358', 'trafficlights_0359', 'trafficlights_0360', 'trafficlights_0361', 'trafficlights_0362', 'trafficlights_0363', 'trafficlights_0364', 'trafficlights_0365', 'trafficlights_0366', 'trafficlights_0367', 'trafficlights_0368', 'trafficlights_0369', 'trafficlights_0370', 'trafficlights_0371', 'trafficlights_0372', 'trafficlights_0373', 'trafficlights_0374', 'trafficlights_0375', 'trafficlights_0376', 'trafficlights_0377', 'trafficlights_0378', 'trafficlights_0379', 'trafficlights_0380', 'trafficlights_0381', 'trafficlights_0382', 'trafficlights_0383', 'trafficlights_0384', 'trafficlights_0385', 'trafficlights_0386', 'trafficlights_0387', 'trafficlights_0388', 'trafficlights_0389', 'trafficlights_0390', 'trafficlights_0391', 'trafficlights_0392', 'trafficlights_0393', 'trafficlights_0394', 'trafficlights_0395', 'trafficlights_0396', 'trafficlights_0397', 'trafficlights_0398', 'trafficlights_0399', 'trafficlights_0400'])"
      ]
     },
     "execution_count": 129,
     "metadata": {},
     "output_type": "execute_result"
    }
   ],
   "source": [
    "dataset.keys()\n"
   ]
  },
  {
   "cell_type": "code",
   "execution_count": null,
   "id": "cb941784-b8b4-4f8c-95a6-f7aa5dd2ab89",
   "metadata": {
    "collapsed": false,
    "jupyter": {
     "outputs_hidden": false
    },
    "pycharm": {
     "name": "#%%\n"
    }
   },
   "outputs": [],
   "source": [
    "seg = decode_frame(550)['segmentation']\n",
    "print(np.unique(seg))\n",
    "print(seg[50:100,230:250])\n",
    "plt.imshow(seg)"
   ]
  },
  {
   "cell_type": "code",
   "execution_count": null,
   "id": "44aa3160",
   "metadata": {
    "collapsed": false,
    "jupyter": {
     "outputs_hidden": false
    },
    "pycharm": {
     "name": "#%%\n"
    }
   },
   "outputs": [],
   "source": [
    "print(len(n_red_frames_t)/sum(n_frames_t))\n",
    "print(sum(n_red_frames_v)/sum(n_frames_v))"
   ]
  },
  {
   "cell_type": "code",
   "execution_count": null,
   "id": "2a471b1a",
   "metadata": {
    "collapsed": false,
    "jupyter": {
     "outputs_hidden": false
    },
    "pycharm": {
     "name": "#%%\n"
    }
   },
   "outputs": [],
   "source": [
    "n_red_frames_t"
   ]
  },
  {
   "cell_type": "code",
   "execution_count": null,
   "id": "4b37a99a",
   "metadata": {
    "collapsed": false,
    "jupyter": {
     "outputs_hidden": false
    },
    "pycharm": {
     "name": "#%%\n"
    }
   },
   "outputs": [],
   "source": [
    "avg_tl = np.mean(tl)\n",
    "avg_rate = np.mean(tl_frames_percentage)\n",
    "print(avg_tl, avg_rate)"
   ]
  },
  {
   "cell_type": "code",
   "execution_count": null,
   "id": "4b8f009d",
   "metadata": {
    "collapsed": false,
    "jupyter": {
     "outputs_hidden": false
    },
    "pycharm": {
     "name": "#%%\n"
    }
   },
   "outputs": [],
   "source": [
    "import seaborn as sns\n",
    "plt.figure(figsize=(10, 8))\n",
    "ax = sns.boxplot(data=[tl_t.astype('float'), tl_v.astype('float')])\n",
    "ax = sns.boxplot(..., labels=[\"Metric\", \"Length\"])\n",
    "plt.ylabel(\"Red traffic lights per episode\", size=14)\n",
    "plt.xlabel(\"Dataset\", size=14)\n",
    "plt.title(\"Repartition of red traffic lights in train and val dataset\", size=18)\n",
    "plt.savefig(\"comprtl.png\")"
   ]
  },
  {
   "cell_type": "code",
   "execution_count": null,
   "id": "e7aac2f9",
   "metadata": {
    "collapsed": false,
    "jupyter": {
     "outputs_hidden": false
    },
    "pycharm": {
     "name": "#%%\n"
    }
   },
   "outputs": [],
   "source": [
    "data = [tl_t, tl_t]\n",
    "fig7, ax7 = plt.subplots()\n",
    "ax7.set_title('Multiple Samples with Different sizes')\n",
    "ax7.boxplot(data)\n",
    "ax7.legend(labels=['dsdssd','dssd'])\n",
    "plt.show()"
   ]
  },
  {
   "cell_type": "code",
   "execution_count": null,
   "id": "07eca673",
   "metadata": {
    "collapsed": false,
    "jupyter": {
     "outputs_hidden": false
    },
    "pycharm": {
     "name": "#%%\n"
    }
   },
   "outputs": [],
   "source": [
    "tl_perc_t"
   ]
  },
  {
   "cell_type": "markdown",
   "id": "ac8caa82",
   "metadata": {},
   "source": [
    "### 1.2 Explore dataset"
   ]
  },
  {
   "cell_type": "markdown",
   "id": "2b2e58dc",
   "metadata": {},
   "source": [
    "### 1.2 Inspect traffic lights state"
   ]
  },
  {
   "cell_type": "code",
   "execution_count": null,
   "id": "fab9e4ab",
   "metadata": {
    "collapsed": false,
    "jupyter": {
     "outputs_hidden": false
    },
    "pycharm": {
     "name": "#%%\n"
    }
   },
   "outputs": [],
   "source": [
    "is_red_tl = []\n",
    "speed = []\n",
    "for i in range(int(out['len'].decode())):\n",
    "    is_red_tl.append(decode_frame(i)['trafficlights'])\n",
    "    meas = decode_frame(i)['measurements']\n",
    "    # Measurements: [ox, oy, oz, ori_ox, ori_oy, vx, vy, vz, _, _, _, _, _, _, ax, ay, az, cmd, steer, throttle, brake, manual, gear]\n",
    "    vel = meas[5:8]\n",
    "    speed.append(np.linalg.norm(vel))\n",
    "\n",
    "c = Counter(is_red_tl)\n",
    "total = sum(c.values())\n",
    "mapping = {1: 'Red', 0:'Green/Yellow/None'}\n",
    "print([\"{}: {} ({})%\".format(mapping.get(k, k), round(v / total * 100, 1), v) for k, v in c.items()])"
   ]
  },
  {
   "cell_type": "code",
   "execution_count": null,
   "id": "5c11ff08",
   "metadata": {
    "collapsed": false,
    "jupyter": {
     "outputs_hidden": false
    },
    "pycharm": {
     "name": "#%%\n"
    }
   },
   "outputs": [],
   "source": [
    "fig,ax=plt.subplots()\n",
    "ax.plot(range(len(is_red_tl)),is_red_tl, 'r--')\n",
    "ax.set_xlabel(\"Frame\")\n",
    "ax.set_ylabel(\"Red light\", color='red')\n",
    "\n",
    "ax2=ax.twinx()\n",
    "ax2.plot(range(len(is_red_tl)), speed, 'b')\n",
    "ax2.set_ylabel(\"Speed [m/s]\", color='blue')\n",
    "plt.show()"
   ]
  },
  {
   "cell_type": "code",
   "execution_count": null,
   "id": "03db78a5",
   "metadata": {
    "collapsed": false,
    "jupyter": {
     "outputs_hidden": false
    },
    "pycharm": {
     "name": "#%%\n"
    }
   },
   "outputs": [],
   "source": [
    "frames_with_red = []\n",
    "for i in range(len(is_red_tl)):\n",
    "    if(is_red_tl[i]==1):\n",
    "        frames_with_red.append(i)\n",
    "frames_with_red"
   ]
  },
  {
   "cell_type": "code",
   "execution_count": null,
   "id": "94449893",
   "metadata": {
    "collapsed": false,
    "jupyter": {
     "outputs_hidden": false
    },
    "pycharm": {
     "name": "#%%\n"
    }
   },
   "outputs": [],
   "source": [
    "frame_of_interest = decode_frame(700)"
   ]
  },
  {
   "cell_type": "code",
   "execution_count": null,
   "id": "e04bfc36",
   "metadata": {
    "collapsed": false,
    "jupyter": {
     "outputs_hidden": false
    },
    "pycharm": {
     "name": "#%%\n"
    }
   },
   "outputs": [],
   "source": [
    "rgb=frame_of_interest['rgb']\n",
    "resized = cv2.resize(rgb, (int(rgb.shape[1]/2), int(rgb.shape[0]/2)), interpolation = cv2.INTER_AREA)\n",
    "cv2.imwrite('a.png', cv2.cvtColor(resized, cv2.COLOR_RGB2BGR))"
   ]
  },
  {
   "cell_type": "code",
   "execution_count": null,
   "id": "354515f6",
   "metadata": {
    "collapsed": false,
    "jupyter": {
     "outputs_hidden": false
    },
    "pycharm": {
     "name": "#%%\n"
    }
   },
   "outputs": [],
   "source": [
    "plt.imshow(frame_of_interest['segmentation'][:,:,0]==12) # Carla TL semantic seg channel"
   ]
  },
  {
   "cell_type": "code",
   "execution_count": null,
   "id": "60fa488d",
   "metadata": {
    "collapsed": false,
    "jupyter": {
     "outputs_hidden": false
    },
    "pycharm": {
     "name": "#%%\n"
    }
   },
   "outputs": [],
   "source": [
    "plt.imshow(rgb)\n",
    "plt.axis('off')\n",
    "plt.savefig('rgb.png', bbox_inches='tight', pad_inches=0)"
   ]
  },
  {
   "cell_type": "code",
   "execution_count": null,
   "id": "3410f7b6",
   "metadata": {
    "collapsed": false,
    "jupyter": {
     "outputs_hidden": false
    },
    "pycharm": {
     "name": "#%%\n"
    }
   },
   "outputs": [],
   "source": [
    "a=frame_of_interest['segmentation'][:, :, 0]\n",
    "plt.imshow(a)\n",
    "plt.axis('off')\n",
    "plt.savefig('seg.png', bbox_inches='tight', pad_inches=0)"
   ]
  },
  {
   "cell_type": "code",
   "execution_count": null,
   "id": "3b417686",
   "metadata": {
    "collapsed": false,
    "jupyter": {
     "outputs_hidden": false
    },
    "pycharm": {
     "name": "#%%\n"
    }
   },
   "outputs": [],
   "source": [
    "bv=frame_of_interest['birdview']\n",
    "print(bv.shape[0:2])\n",
    "b=np.zeros(bv.shape[0:2])\n",
    "for k in range(bv.shape[2]):\n",
    "    b[bv[:,:,k] != 0] = k\n",
    "    #mask[..., i][seg == i] = 1\n",
    "plt.imshow(b)\n",
    "plt.axis('off')\n",
    "plt.savefig('bv.png', bbox_inches='tight', pad_inches=0)"
   ]
  },
  {
   "cell_type": "code",
   "execution_count": null,
   "id": "3662600a",
   "metadata": {
    "collapsed": false,
    "jupyter": {
     "outputs_hidden": false
    },
    "pycharm": {
     "name": "#%%\n"
    }
   },
   "outputs": [],
   "source": [
    "# Red Traffic light birdview binary mask\n",
    "plt.imshow(frame_of_interest['birdview'][:,:,2])\n",
    "plt.axis('off')\n",
    "plt.savefig('bvtl.png', bbox_inches='tight', pad_inches=0)"
   ]
  },
  {
   "cell_type": "code",
   "execution_count": null,
   "id": "3f1d2ad0",
   "metadata": {
    "collapsed": false,
    "jupyter": {
     "outputs_hidden": false
    },
    "pycharm": {
     "name": "#%%\n"
    }
   },
   "outputs": [],
   "source": [
    "def draw_frame(frame, i):\n",
    "    font                   = cv2.FONT_HERSHEY_SIMPLEX\n",
    "    bottomLeftCornerOfText = (int(0.1*frame.shape[0]), int(0.9*frame.shape[0]))\n",
    "    fontScale              = 1\n",
    "    fontColor              = [0,255,0]\n",
    "    fontColor2              = [255,0,0]\n",
    "    lineType               = 2\n",
    "    printed_frame = cv2.putText(frame.copy(),'Frame: '+str(i), \n",
    "            bottomLeftCornerOfText, font, fontScale, fontColor, lineType);\n",
    "    return printed_frame\n",
    "\n",
    "video = cv2.VideoWriter('videos/dataset_23_09_overview.avi', 0, 10, (384, 160))\n",
    "for i in range(int(out['len'].decode())):\n",
    "    drawn_frame = draw_frame(decode_frame(i)['rgb'], i)\n",
    "    video.write(drawn_frame)\n",
    "video.release()"
   ]
  },
  {
   "cell_type": "code",
   "execution_count": null,
   "id": "7fb49370",
   "metadata": {
    "collapsed": false,
    "jupyter": {
     "outputs_hidden": false
    },
    "pycharm": {
     "name": "#%%\n"
    }
   },
   "outputs": [],
   "source": [
    "#from IPython.core.display import Video\n",
    "#Video(\"videos/dataset_23_09_overview.mp4\", embed=True)"
   ]
  }
 ],
 "metadata": {
  "kernelspec": {
   "display_name": "Python 3 (ipykernel)",
   "language": "python",
   "name": "python3"
  },
  "language_info": {
   "codemirror_mode": {
    "name": "ipython",
    "version": 3
   },
   "file_extension": ".py",
   "mimetype": "text/x-python",
   "name": "python",
   "nbconvert_exporter": "python",
   "pygments_lexer": "ipython3",
   "version": "3.7.9"
  }
 },
 "nbformat": 4,
 "nbformat_minor": 5
}
