{
 "cells": [
  {
   "cell_type": "markdown",
   "id": "260f5e7b",
   "metadata": {
    "jupyter": {
     "outputs_hidden": false
    },
    "pycharm": {
     "name": "#%%\n"
    }
   },
   "source": [
    "# Data inspector"
   ]
  },
  {
   "cell_type": "markdown",
   "id": "e9e1e9a8",
   "metadata": {},
   "source": [
    "## 0. Imports"
   ]
  },
  {
   "cell_type": "code",
   "execution_count": 48,
   "id": "4f3947ca",
   "metadata": {
    "collapsed": false,
    "jupyter": {
     "outputs_hidden": false
    },
    "pycharm": {
     "name": "#%%\n"
    }
   },
   "outputs": [
    {
     "name": "stdout",
     "output_type": "stream",
     "text": [
      "/storage2/mwildi/CBS2\n"
     ]
    }
   ],
   "source": [
    "#To be at project directory root and not in the Notebooks folder\n",
    "%cd /storage2/mwildi/CBS2\n",
    "\n",
    "#Imports\n",
    "import lmdb\n",
    "import math\n",
    "import numpy as np\n",
    "import matplotlib.pyplot as plt\n",
    "import pandas as pd\n",
    "from PIL import Image\n",
    "import os\n",
    "from tqdm import tqdm\n",
    "import random\n",
    "from collections import Counter\n",
    "import cv2\n",
    "import glob"
   ]
  },
  {
   "cell_type": "markdown",
   "id": "afdce5de",
   "metadata": {},
   "source": [
    "## 1. Read dataset"
   ]
  },
  {
   "cell_type": "code",
   "execution_count": 49,
   "id": "30425ea4",
   "metadata": {
    "collapsed": false,
    "jupyter": {
     "outputs_hidden": false
    },
    "pycharm": {
     "name": "#%%\n"
    }
   },
   "outputs": [
    {
     "name": "stdout",
     "output_type": "stream",
     "text": [
      "Found 786 repetitions\n",
      "Found 623 train episodes and 161 val episodes\n"
     ]
    }
   ],
   "source": [
    "dataset_path = \"dataset/13dec\"\n",
    "repetitions = [x[0] for x in os.walk(dataset_path)][1:]\n",
    "print('Found {} repetitions'.format(len(repetitions)))\n",
    "#print(repetitions)\n",
    "train_paths = [x[0] for x in os.walk(dataset_path + os.path.sep + 'train')][1:]\n",
    "val_paths = [x[0] for x in os.walk(dataset_path + os.path.sep + 'val')][1:]\n",
    "print('Found {} train episodes and {} val episodes'.format(len(train_paths), len(val_paths)))\n",
    "#print(val_paths)"
   ]
  },
  {
   "cell_type": "markdown",
   "id": "85ad29c3",
   "metadata": {},
   "source": [
    "### 1.1 Decode dataset"
   ]
  },
  {
   "cell_type": "code",
   "execution_count": 54,
   "id": "dec88939",
   "metadata": {
    "collapsed": false,
    "jupyter": {
     "outputs_hidden": false
    },
    "pycharm": {
     "name": "#%%\n"
    }
   },
   "outputs": [],
   "source": [
    "def decode_dataset(path):\n",
    "    lmdb_env = lmdb.open(path)\n",
    "    lmdb_txn = lmdb_env.begin()\n",
    "    lmdb_cursor = lmdb_txn.cursor()\n",
    "\n",
    "    out = dict()\n",
    "    for key, value in tqdm(lmdb_cursor):\n",
    "        out[key.decode(\"utf-8\")] = value\n",
    "\n",
    "    lmdb_cursor.close()\n",
    "    return out\n",
    "\n",
    "def decode_data(data, kind='rgb'):\n",
    "    if kind == 'loc' or kind == 'rot' or kind == 'spd' or kind == 'cmd' or kind == 'cam_location' or kind == 'cam_rotation' or kind == 'hazard':\n",
    "        return np.frombuffer(data, dtype=np.float32)\n",
    "\n",
    "    img = np.frombuffer(data, dtype=np.uint8)\n",
    "\n",
    "    if kind == 'trafficlights':\n",
    "        #return np.frombuffer(data, dtype=np.int8)\n",
    "        return int.from_bytes(data, 'little')\n",
    "    elif kind == 'rgb':\n",
    "        img = img.reshape((160, 384, 3))\n",
    "    elif kind == 'segmentation':\n",
    "        img = img.reshape((160, 384))\n",
    "    elif kind == 'birdview':\n",
    "        img = img.reshape((96, 96, -1))\n",
    "        \n",
    "    if kind == 'wide_rgb_0':\n",
    "        img = img.reshape((240, 480, 3))\n",
    "        \n",
    "    else:\n",
    "        # raise ValueError(f\"Not known type {kind}. Choose from: rgb, birdview, segmentation.\")\n",
    "        raise ValueError(\"Not known type {}. Choose from: rgb, birdview, segmentation.\".format(kind))\n",
    "        \n",
    "\n",
    "\n",
    "    return img\n",
    "\n",
    "def decode_frame(step):\n",
    "   # data = {'rgb':None, 'segmentation': None, 'birdview': None, 'loc': None, 'rot': None, 'spd': None, 'cmd': None, 'trafficlights': None, 'cam_location': None, 'cam_rotation': None, 'hazard': None}\n",
    "    data = {'wide_rgb_0':None, 'cmd':None ,'spd':None }\n",
    "\n",
    "    for t in data.keys():\n",
    "        # d = out[f\"{t}_{step:04d}\"]\n",
    "        d = dataset[\"{}_{:05d}\".format(t, step)]\n",
    "        data[t] = decode_data(d, kind=t)\n",
    "\n",
    "    return data"
   ]
  },
  {
   "cell_type": "code",
   "execution_count": 30,
   "id": "7db8280f",
   "metadata": {
    "collapsed": false,
    "jupyter": {
     "outputs_hidden": false
    },
    "pycharm": {
     "name": "#%%\n"
    }
   },
   "outputs": [],
   "source": [
    "def get_red_tl():\n",
    "    is_red_tl = []\n",
    "    speed = []\n",
    "    for i in range(int(dataset['len'].decode())):\n",
    "        is_red_tl.append(decode_frame(i)['trafficlights'])\n",
    "    c = Counter(is_red_tl)\n",
    "    n_red_frames = c[0]\n",
    "    n_frames = sum(c.values())\n",
    "    \n",
    "    level_changes = 0\n",
    "    for i,tl in enumerate(is_red_tl):\n",
    "        if (i != 0 and tl != old_tl):\n",
    "            level_changes += 1\n",
    "        old_tl = tl\n",
    "    red_lights = math.floor(level_changes/2)\n",
    "    infos = [red_lights, n_red_frames, n_frames]\n",
    "    \n",
    "    return infos\n",
    "\n",
    "def get_red_tl_by_cmd():\n",
    "    is_red_tl = []\n",
    "    speed = []\n",
    "    for i in range(int(dataset['len'].decode())):\n",
    "        if decode_frame(i)['trafficlights']:\n",
    "            cmd = int(decode_frame(i)['cmd'])\n",
    "            is_red_tl.append(cmd)\n",
    "        else:\n",
    "            is_red_tl.append(0)\n",
    "    c = Counter(is_red_tl)\n",
    "    #print(c)\n",
    "    no_red = c[0]\n",
    "    red_l = c[1]\n",
    "    red_r = c[2]\n",
    "    red_s = c[3]\n",
    "    red_f = c[4]\n",
    "    n_frames = sum(c.values())\n",
    "    n_red_frames = n_frames - no_red\n",
    "    \n",
    "    level_changes = 0\n",
    "    for i,tl in enumerate(is_red_tl):\n",
    "        if (i != 0 and tl != old_tl):\n",
    "            level_changes += 1\n",
    "        old_tl = tl\n",
    "    red_lights = math.floor(level_changes/2)\n",
    "    infos = [red_lights, n_red_frames, n_frames, red_l, red_r, red_s, red_f]\n",
    "    \n",
    "    return infos"
   ]
  },
  {
   "cell_type": "code",
   "execution_count": 17,
   "id": "07bc182a",
   "metadata": {
    "collapsed": false,
    "jupyter": {
     "outputs_hidden": false
    },
    "pycharm": {
     "name": "#%%\n"
    }
   },
   "outputs": [],
   "source": [
    "path_list = train_paths\n",
    "filename = 'val2.txt'\n",
    "#ox, oy, oz, ori_ox, ori_oy, vx, vy, vz, _, _, _, _, _, _, ax, ay, az, cmd, steer, throttle, brake, manual, gear  = measurement"
   ]
  },
  {
   "cell_type": "code",
   "execution_count": 18,
   "id": "01a2ed8c",
   "metadata": {
    "collapsed": false,
    "jupyter": {
     "outputs_hidden": false
    },
    "pycharm": {
     "name": "#%%\n"
    }
   },
   "outputs": [
    {
     "name": "stderr",
     "output_type": "stream",
     "text": [
      "3281it [00:00, 180706.35it/s]\n"
     ]
    },
    {
     "ename": "KeyError",
     "evalue": "'wide_rgb_0_00000'",
     "output_type": "error",
     "traceback": [
      "\u001b[0;31m---------------------------------------------------------------------------\u001b[0m",
      "\u001b[0;31mKeyError\u001b[0m                                  Traceback (most recent call last)",
      "\u001b[0;32m/tmp/ipykernel_1712169/931117564.py\u001b[0m in \u001b[0;36m<module>\u001b[0;34m\u001b[0m\n\u001b[1;32m      8\u001b[0m         \u001b[0;32mif\u001b[0m \u001b[0mlen\u001b[0m\u001b[0;34m(\u001b[0m\u001b[0mdataset\u001b[0m\u001b[0;34m)\u001b[0m \u001b[0;34m!=\u001b[0m \u001b[0;36m0\u001b[0m\u001b[0;34m:\u001b[0m\u001b[0;34m\u001b[0m\u001b[0;34m\u001b[0m\u001b[0m\n\u001b[1;32m      9\u001b[0m             \u001b[0;31m#row = get_red_tl()\u001b[0m\u001b[0;34m\u001b[0m\u001b[0;34m\u001b[0m\u001b[0;34m\u001b[0m\u001b[0m\n\u001b[0;32m---> 10\u001b[0;31m             \u001b[0mrow\u001b[0m \u001b[0;34m=\u001b[0m \u001b[0mget_red_tl_by_cmd\u001b[0m\u001b[0;34m(\u001b[0m\u001b[0;34m)\u001b[0m\u001b[0;34m\u001b[0m\u001b[0;34m\u001b[0m\u001b[0m\n\u001b[0m\u001b[1;32m     11\u001b[0m             \u001b[0;31m#print(row)\u001b[0m\u001b[0;34m\u001b[0m\u001b[0;34m\u001b[0m\u001b[0;34m\u001b[0m\u001b[0m\n\u001b[1;32m     12\u001b[0m             \u001b[0mnp\u001b[0m\u001b[0;34m.\u001b[0m\u001b[0msavetxt\u001b[0m\u001b[0;34m(\u001b[0m\u001b[0msavefile\u001b[0m\u001b[0;34m,\u001b[0m \u001b[0mrow\u001b[0m\u001b[0;34m,\u001b[0m \u001b[0mfmt\u001b[0m\u001b[0;34m=\u001b[0m\u001b[0;34m'%i'\u001b[0m\u001b[0;34m,\u001b[0m \u001b[0mdelimiter\u001b[0m\u001b[0;34m=\u001b[0m\u001b[0;34m\",\"\u001b[0m\u001b[0;34m)\u001b[0m\u001b[0;34m\u001b[0m\u001b[0;34m\u001b[0m\u001b[0m\n",
      "\u001b[0;32m/tmp/ipykernel_1712169/3849746350.py\u001b[0m in \u001b[0;36mget_red_tl_by_cmd\u001b[0;34m()\u001b[0m\n\u001b[1;32m     22\u001b[0m     \u001b[0mspeed\u001b[0m \u001b[0;34m=\u001b[0m \u001b[0;34m[\u001b[0m\u001b[0;34m]\u001b[0m\u001b[0;34m\u001b[0m\u001b[0;34m\u001b[0m\u001b[0m\n\u001b[1;32m     23\u001b[0m     \u001b[0;32mfor\u001b[0m \u001b[0mi\u001b[0m \u001b[0;32min\u001b[0m \u001b[0mrange\u001b[0m\u001b[0;34m(\u001b[0m\u001b[0mint\u001b[0m\u001b[0;34m(\u001b[0m\u001b[0mdataset\u001b[0m\u001b[0;34m[\u001b[0m\u001b[0;34m'len'\u001b[0m\u001b[0;34m]\u001b[0m\u001b[0;34m.\u001b[0m\u001b[0mdecode\u001b[0m\u001b[0;34m(\u001b[0m\u001b[0;34m)\u001b[0m\u001b[0;34m)\u001b[0m\u001b[0;34m)\u001b[0m\u001b[0;34m:\u001b[0m\u001b[0;34m\u001b[0m\u001b[0;34m\u001b[0m\u001b[0m\n\u001b[0;32m---> 24\u001b[0;31m         \u001b[0;32mif\u001b[0m \u001b[0mdecode_frame\u001b[0m\u001b[0;34m(\u001b[0m\u001b[0mi\u001b[0m\u001b[0;34m)\u001b[0m\u001b[0;34m[\u001b[0m\u001b[0;34m'trafficlights'\u001b[0m\u001b[0;34m]\u001b[0m\u001b[0;34m:\u001b[0m\u001b[0;34m\u001b[0m\u001b[0;34m\u001b[0m\u001b[0m\n\u001b[0m\u001b[1;32m     25\u001b[0m             \u001b[0mcmd\u001b[0m \u001b[0;34m=\u001b[0m \u001b[0mint\u001b[0m\u001b[0;34m(\u001b[0m\u001b[0mdecode_frame\u001b[0m\u001b[0;34m(\u001b[0m\u001b[0mi\u001b[0m\u001b[0;34m)\u001b[0m\u001b[0;34m[\u001b[0m\u001b[0;34m'cmd'\u001b[0m\u001b[0;34m]\u001b[0m\u001b[0;34m)\u001b[0m\u001b[0;34m\u001b[0m\u001b[0;34m\u001b[0m\u001b[0m\n\u001b[1;32m     26\u001b[0m             \u001b[0mis_red_tl\u001b[0m\u001b[0;34m.\u001b[0m\u001b[0mappend\u001b[0m\u001b[0;34m(\u001b[0m\u001b[0mcmd\u001b[0m\u001b[0;34m)\u001b[0m\u001b[0;34m\u001b[0m\u001b[0;34m\u001b[0m\u001b[0m\n",
      "\u001b[0;32m/tmp/ipykernel_1712169/183383284.py\u001b[0m in \u001b[0;36mdecode_frame\u001b[0;34m(step)\u001b[0m\n\u001b[1;32m     41\u001b[0m     \u001b[0;32mfor\u001b[0m \u001b[0mt\u001b[0m \u001b[0;32min\u001b[0m \u001b[0mdata\u001b[0m\u001b[0;34m.\u001b[0m\u001b[0mkeys\u001b[0m\u001b[0;34m(\u001b[0m\u001b[0;34m)\u001b[0m\u001b[0;34m:\u001b[0m\u001b[0;34m\u001b[0m\u001b[0;34m\u001b[0m\u001b[0m\n\u001b[1;32m     42\u001b[0m         \u001b[0;31m# d = out[f\"{t}_{step:04d}\"]\u001b[0m\u001b[0;34m\u001b[0m\u001b[0;34m\u001b[0m\u001b[0;34m\u001b[0m\u001b[0m\n\u001b[0;32m---> 43\u001b[0;31m         \u001b[0md\u001b[0m \u001b[0;34m=\u001b[0m \u001b[0mdataset\u001b[0m\u001b[0;34m[\u001b[0m\u001b[0;34m\"{}_{:05d}\"\u001b[0m\u001b[0;34m.\u001b[0m\u001b[0mformat\u001b[0m\u001b[0;34m(\u001b[0m\u001b[0mt\u001b[0m\u001b[0;34m,\u001b[0m \u001b[0mstep\u001b[0m\u001b[0;34m)\u001b[0m\u001b[0;34m]\u001b[0m\u001b[0;34m\u001b[0m\u001b[0;34m\u001b[0m\u001b[0m\n\u001b[0m\u001b[1;32m     44\u001b[0m         \u001b[0mdata\u001b[0m\u001b[0;34m[\u001b[0m\u001b[0mt\u001b[0m\u001b[0;34m]\u001b[0m \u001b[0;34m=\u001b[0m \u001b[0mdecode_data\u001b[0m\u001b[0;34m(\u001b[0m\u001b[0md\u001b[0m\u001b[0;34m,\u001b[0m \u001b[0mkind\u001b[0m\u001b[0;34m=\u001b[0m\u001b[0mt\u001b[0m\u001b[0;34m)\u001b[0m\u001b[0;34m\u001b[0m\u001b[0;34m\u001b[0m\u001b[0m\n\u001b[1;32m     45\u001b[0m \u001b[0;34m\u001b[0m\u001b[0m\n",
      "\u001b[0;31mKeyError\u001b[0m: 'wide_rgb_0_00000'"
     ]
    }
   ],
   "source": [
    "n_episodes = len(path_list)\n",
    "episodes_tl_infos = np.zeros((n_episodes, 3))\n",
    "with open(filename,\"w\") as savefile:     \n",
    "    for i, path in enumerate(path_list):\n",
    "        #print('ep.{}/{}'.format(i, n_episodes))\n",
    "        dataset = decode_dataset(path)\n",
    "        #print(len(dataset))\n",
    "        if len(dataset) != 0:\n",
    "            #row = get_red_tl()\n",
    "            row = get_red_tl_by_cmd()\n",
    "            #print(row)\n",
    "            np.savetxt(savefile, row, fmt='%i', delimiter=\",\")"
   ]
  },
  {
   "cell_type": "code",
   "execution_count": null,
   "id": "2f796c8a",
   "metadata": {
    "collapsed": false,
    "jupyter": {
     "outputs_hidden": false
    },
    "pycharm": {
     "name": "#%%\n"
    }
   },
   "outputs": [],
   "source": [
    "def retrieve_tl_infos(filename):\n",
    "    retrieved = np.fromfile(filename, sep='\\n').astype(int).reshape(-1,3)\n",
    "    print('Retrieved {} episodes'.format(retrieved.shape[0]))\n",
    "    red_lights = retrieved[:,0]\n",
    "    n_red_frames = retrieved[:,1]\n",
    "    n_frames = retrieved[:,2]\n",
    "    return red_lights, n_red_frames, n_frames\n",
    "\n",
    "def retrieve_tl_infos_cmd(filename):\n",
    "    retrieved = np.fromfile(filename, sep='\\n').astype(int).reshape(-1,7)\n",
    "    print('Retrieved {} episodes'.format(retrieved.shape[0]))\n",
    "    #print(retrieved)\n",
    "    retrieved = np.sum(retrieved, axis=0) # Sum over all epsisodes\n",
    "    total_infractions = retrieved[0]\n",
    "    total_frames = retrieved[1] # Store total number of frames to compute rates PER FRAME\n",
    "    rates = 100*retrieved[3:]/total_frames if total_frames > 0 else 0*retrieved[3:] # Compute rates\n",
    "    return total_frames, rates, retrieved"
   ]
  },
  {
   "cell_type": "code",
   "execution_count": null,
   "id": "69ac8b2b",
   "metadata": {
    "collapsed": false,
    "jupyter": {
     "outputs_hidden": false
    },
    "pycharm": {
     "name": "#%%\n"
    }
   },
   "outputs": [],
   "source": [
    "red_lights_t, percentages_t, frames_repartition = retrieve_tl_infos_cmd('val2.txt')\n",
    "red_lights_v, percentages_v, frames_repartition = retrieve_tl_infos_cmd('val2.txt')\n",
    "\n",
    "#print(percentages_v)\n",
    "print(sum(percentages_v)) #Should be 100%\n",
    "legends = ['Left', 'Right', 'Straight', 'Follow lane']\n",
    "x_title = 'Dataset'\n",
    "plot_labels = ['Training', 'Validation']\n",
    "\n",
    "metrics = pd.DataFrame(np.array([percentages_t, percentages_v]), columns=legends)\n",
    "ax = metrics.plot(kind='bar', figsize=(12, 7), legend=True, fontsize=16)\n",
    "ax.set_xlabel(x_title)\n",
    "x = np.arange(len(plot_labels))\n",
    "ax.set_xticks(x)\n",
    "ax.set_xticklabels(plot_labels, fontsize=16, rotation='horizontal')\n",
    "ax.set_ylabel(\"Ratio $red_{cmd}$ / $red_{total}$ [%]\", fontsize=16)\n",
    "plt.title(\"Frames with red light by directional command\", fontsize=20, weight='bold')\n",
    "plt.savefig('command_rtl_comp.png')\n",
    "\n",
    "total_frames, rates, retrieved = retrieve_tl_infos_cmd('val2.txt')\n",
    "red_lights, n_red_frames, n_frames = retrieve_tl_infos('val2.txt')"
   ]
  },
  {
   "cell_type": "code",
   "execution_count": null,
   "id": "49506ea1-1f2f-4342-a5af-1f5f1e813f20",
   "metadata": {
    "collapsed": false,
    "jupyter": {
     "outputs_hidden": false
    },
    "pycharm": {
     "name": "#%%\n"
    }
   },
   "outputs": [],
   "source": [
    "retrieved[3:]"
   ]
  },
  {
   "cell_type": "code",
   "execution_count": 55,
   "id": "04ca8d56-8c97-4876-a314-f9ae80eca5c6",
   "metadata": {
    "collapsed": false,
    "jupyter": {
     "outputs_hidden": false
    },
    "pycharm": {
     "name": "#%%\n"
    }
   },
   "outputs": [],
   "source": [
    "from pathlib import Path\n",
    "import torch\n",
    "import lmdb\n",
    "import os\n",
    "import glob\n",
    "import numpy as np\n",
    "import cv2\n",
    "import math\n",
    "import random\n",
    "\n",
    "PIXEL_OFFSET = 10\n",
    "N_TRAFFIC_LIGHT_STATES = 1\n",
    "SEG_CLASSES = {4, 6, 7, 10, 18}  # pedestrians, roadlines, roads, vehicles, tl\n",
    "\n",
    "buffer = 40\n",
    "n_step = 5\n",
    "gap= 5\n",
    "\n",
    "\n",
    "def project_vehicle(converter, x, y, z, ori_x, ori_y, ori_z):\n",
    "    pos = np.array([x, y, z])\n",
    "    ori = np.array([ori_x, ori_y, ori_z])\n",
    "    ori /= np.linalg.norm(ori)  # Make unit vector\n",
    "\n",
    "    #new_pos = pos + 4 * ori\n",
    "    fwd_2d_angle = np.deg2rad(ori_y) #yaw to rad\n",
    "    new_pos = pos + 5.5 * np.array([np.cos(fwd_2d_angle), np.sin(fwd_2d_angle), 0])\n",
    "    new_pos_cam_coords = converter.convert(np.array([new_pos]))\n",
    "    if(new_pos_cam_coords.shape[0] == 0):\n",
    "        return np.array([[192, 147, 0]]) # In the center of the image, almost at the bottom --> stop waypoint\n",
    "    return new_pos_cam_coords\n",
    "\n",
    "\n",
    "def interpolate_waypoints(points):\n",
    "    points = points[:, :2]\n",
    "\n",
    "    # Fit first or second function through points\n",
    "    n_degree = 2 if points.shape[0] > 2 else 1\n",
    "    z = np.polyfit(points[:, 0], points[:, 1], n_degree)\n",
    "    p = np.poly1d(z)\n",
    "\n",
    "    # Keep interpolating until we have n_step points\n",
    "    while points.shape[0] < 5:\n",
    "        points_2 = np.vstack([points[0], points[:-1]])\n",
    "        max_id = np.argmax(np.linalg.norm(points - points_2, axis=1))\n",
    "        _x = np.mean([points[max_id], points_2[max_id]], axis=0)[0]\n",
    "        points = np.insert(points, max_id, np.array([_x, p(_x)]), 0)\n",
    "\n",
    "    return points\n",
    "\n",
    "def get_waypoints(converter, index, world_x, world_y, world_z, ori_x, ori_y, ori_z):\n",
    "    global buffer\n",
    "    global n_step\n",
    "    global gap\n",
    "    \n",
    "\n",
    "    tl = decode_frame(index)['trafficlights']\n",
    "    speed = decode_frame(index)['spd'][0]\n",
    "\n",
    "    output = []\n",
    "    #if tl or vehicle or walker:\n",
    "    #if tl:\n",
    "    if tl and speed < 0.001:\n",
    "        vehicle_proj = project_vehicle(converter, world_x, world_y, world_z, ori_x, ori_y, ori_z)\n",
    "        output = np.array([vehicle_proj[0] for _ in range(n_step)])\n",
    "        return output, 3 # Traffic light --> stop\n",
    "\n",
    "    for i in range(index, (index + (n_step + 1 + buffer * gap)), gap):\n",
    "        if len(output) == n_step:\n",
    "            break\n",
    "\n",
    "        x, y, z = decode_frame(i)['loc']\n",
    "        image_coords = converter.convert(np.array([[x, y, z]]))\n",
    "        if len(image_coords) > 0:\n",
    "            output.append(image_coords[0])\n",
    "\n",
    "    if len(output) < 2:\n",
    "        # First try with smaller GAP\n",
    "        if gap > 1:\n",
    "            gap = 1\n",
    "            return get_waypoints(converter, index, world_x, world_y, world_z,ori_x, ori_y, ori_z)\n",
    "\n",
    "        vehicle_proj = project_vehicle(converter, world_x, world_y, world_z, ori_x,ori_y, ori_z)\n",
    "        output = np.array([vehicle_proj[0] for _ in range(n_step)])\n",
    "        #return output, True\n",
    "        return output, 2 # Less than two waypoints --> stop\n",
    "\n",
    "    if 2 <= len(output) < n_step:\n",
    "        return interpolate_waypoints(converter, np.array(output)), 1 # Interpolation\n",
    "    #return np.array(output), False\n",
    "    return np.array(output), 0 # All waypoints ok\n",
    "\n",
    "    "
   ]
  },
  {
   "cell_type": "code",
   "execution_count": 60,
   "id": "e06dd481-df55-483b-b8da-b7484388f94f",
   "metadata": {
    "collapsed": false,
    "jupyter": {
     "outputs_hidden": false
    },
    "pycharm": {
     "name": "#%%\n"
    }
   },
   "outputs": [
    {
     "name": "stdout",
     "output_type": "stream",
     "text": [
      "['dataset/test/main/jauavkugfd']\n"
     ]
    },
    {
     "name": "stderr",
     "output_type": "stream",
     "text": [
      "4635it [00:00, 79290.16it/s]"
     ]
    },
    {
     "name": "stdout",
     "output_type": "stream",
     "text": [
      "331\n"
     ]
    },
    {
     "name": "stderr",
     "output_type": "stream",
     "text": [
      "\n"
     ]
    },
    {
     "name": "stdout",
     "output_type": "stream",
     "text": [
      "Finished\n"
     ]
    }
   ],
   "source": [
    "from image_utils import CoordinateConverter, Location, Rotation, Transform \n",
    "\n",
    "font = cv2.FONT_HERSHEY_SIMPLEX\n",
    "#dataset = decode_dataset(train_paths[478])\n",
    "debug_paths = [x[0] for x in os.walk('dataset/test' + os.path.sep + 'main')][1:]\n",
    "print(debug_paths)\n",
    "\n",
    "\n",
    "img_array=[]\n",
    "tls_array=[]\n",
    "\n",
    "\n",
    "for p in debug_paths: \n",
    "    dataset = decode_dataset(p)\n",
    "    N = int(dataset['len'].decode())\n",
    "    print(N)\n",
    "    title_img = np.zeros(shape=(240, 480, 3), dtype=np.uint8)\n",
    "    size = (480,240)\n",
    "    cv2.putText(title_img, p, (50,50), font, 0.3, (0, 255, 255), 1, cv2.LINE_8)\n",
    "    for i in range(15):\n",
    "        img_array.append(title_img)\n",
    "    try:\n",
    "        for i in range(N):\n",
    "            frame = decode_frame(i)\n",
    "            img = frame['wide_rgb_0']\n",
    "            if img is not None:\n",
    "                height, width, layers = img.shape\n",
    "                size = (width,height)\n",
    "#                 world_x, world_y, world_z = frame['loc']\n",
    "#                 ori_x, ori_y, ori_z = frame['rot']\n",
    "                speed = frame['spd'][0]\n",
    "                cmd = int(frame['cmd'][0])\n",
    "#                 cam_x, cam_y, cam_z = frame['cam_location']\n",
    "#                 cam_pitch, cam_yaw, cam_roll = frame['cam_rotation']\n",
    "#                 hazard = int(frame['hazard'][0])\n",
    "\n",
    "#                 sensor_transform = Transform(Location(cam_x, cam_y, cam_z), Rotation(cam_pitch, cam_yaw, cam_roll))\n",
    "#                 #print('Cam {} {} {} {} {} {}'.format(cam_x, cam_y, cam_z, cam_pitch, cam_yaw, cam_roll))\n",
    "#                 converter = CoordinateConverter(sensor_transform, fov=120)\n",
    "\n",
    "#                 image_coord_wp, method = get_waypoints(converter,i, world_x, world_y, world_z, ori_x, ori_y, ori_z)\n",
    "#                 method = {\n",
    "#                     0: 'OK', 1: 'Interp', 2: '<2',\n",
    "#                     3: 'TL'}.get(method)\n",
    "                cmd = {\n",
    "                    0: 'LEFT', 1: 'RIGHT',\n",
    "                    2: 'STRAIGHT', 3: 'FOLLOW', 4: 'changelane1', 5:'changelane2'}.get(cmd)\n",
    "                \n",
    "#                 hazard = {\n",
    "#                     1: 'NAVIGATING', 2: 'VEHICLE',\n",
    "#                     3: 'REDLIGHT', 4: 'PEDESTRIAN'}.get(hazard)\n",
    "                \n",
    "\n",
    "#                 for coords in image_coord_wp:\n",
    "#                     c = coords[:2]\n",
    "#                     cv2.circle(img, (int(c[0]), int(c[1])), 1, (255,0,0), 5)\n",
    "\n",
    "#                 tls = frame['trafficlights']\n",
    "#                 img = cv2.putText(img, f'tls:{tls} {method} spd:{speed:.2f} {cmd} {hazard}', (10,10), font, 0.3, (0, 255, 255), 1, cv2.LINE_8)\n",
    "                img = cv2.putText(img,f'{cmd} {speed}', (10,10), font, 0.3, (0, 255, 255), 1, cv2.LINE_8)\n",
    "                img_array.append(img)\n",
    "\n",
    "    except:\n",
    "        print('Next episode')\n",
    "out = cv2.VideoWriter('dataset_episode.mp4',0x7634706d, 8, size)\n",
    "for i in range(len(img_array)):\n",
    "    out.write(img_array[i])\n",
    "out.release()\n",
    "print('Finished')"
   ]
  },
  {
   "cell_type": "code",
   "execution_count": null,
   "id": "2356001a-6934-40c1-a03a-1a39cb3ed000",
   "metadata": {
    "collapsed": false,
    "jupyter": {
     "outputs_hidden": false
    },
    "pycharm": {
     "name": "#%%\n"
    }
   },
   "outputs": [],
   "source": [
    "a=np.zeros((img.shape))\n",
    "img\n",
    "['dataset/test/tls/kxyerwadko', 'dataset/test/tls/uwmkxroush', 'dataset/test/tls/mjpmfuhskp', 'dataset/test/tls/ohlwoeicbn', 'dataset/test/tls/suhrwichaj']"
   ]
  },
  {
   "cell_type": "code",
   "execution_count": 42,
   "id": "8ad7e5a3-3958-4d5c-ac2c-bf1961910c90",
   "metadata": {
    "collapsed": false,
    "jupyter": {
     "outputs_hidden": false
    },
    "pycharm": {
     "name": "#%%\n"
    }
   },
   "outputs": [
    {
     "data": {
      "text/plain": [
       "{'wide_rgb_0': array([[[ 81,  75,  73],\n",
       "         [ 81,  75,  73],\n",
       "         [ 81,  75,  73],\n",
       "         ...,\n",
       "         [ 34,  34,  53],\n",
       "         [ 42,  46,  64],\n",
       "         [ 42,  46,  64]],\n",
       " \n",
       "        [[ 81,  75,  73],\n",
       "         [ 79,  73,  73],\n",
       "         [ 81,  75,  73],\n",
       "         ...,\n",
       "         [ 42,  46,  64],\n",
       "         [ 38,  38,  59],\n",
       "         [ 46,  50,  69]],\n",
       " \n",
       "        [[ 81,  75,  73],\n",
       "         [ 81,  75,  73],\n",
       "         [ 81,  75,  73],\n",
       "         ...,\n",
       "         [ 46,  50,  69],\n",
       "         [ 46,  50,  69],\n",
       "         [ 46,  50,  69]],\n",
       " \n",
       "        ...,\n",
       " \n",
       "        [[168, 175, 183],\n",
       "         [168, 175, 183],\n",
       "         [168, 175, 183],\n",
       "         ...,\n",
       "         [183, 197, 211],\n",
       "         [183, 197, 211],\n",
       "         [183, 197, 211]],\n",
       " \n",
       "        [[168, 175, 183],\n",
       "         [169, 176, 184],\n",
       "         [170, 178, 186],\n",
       "         ...,\n",
       "         [182, 196, 209],\n",
       "         [183, 197, 210],\n",
       "         [183, 197, 211]],\n",
       " \n",
       "        [[170, 178, 186],\n",
       "         [170, 178, 186],\n",
       "         [170, 177, 185],\n",
       "         ...,\n",
       "         [182, 196, 209],\n",
       "         [182, 196, 209],\n",
       "         [182, 196, 209]]], dtype=uint8),\n",
       " 'cmd': array([3.], dtype=float32)}"
      ]
     },
     "execution_count": 42,
     "metadata": {},
     "output_type": "execute_result"
    }
   ],
   "source": [
    "decode_frame(i)"
   ]
  },
  {
   "cell_type": "code",
   "execution_count": null,
   "id": "68546b3b-f228-4013-90f6-dbc9db70fd01",
   "metadata": {
    "collapsed": false,
    "jupyter": {
     "outputs_hidden": false
    },
    "pycharm": {
     "name": "#%%\n"
    }
   },
   "outputs": [],
   "source": [
    "rgb = decode_frame(10)['rgb']\n",
    "plt.imshow(rgb)"
   ]
  },
  {
   "cell_type": "code",
   "execution_count": 8,
   "id": "3c394ebc-c6d6-4a80-9095-582dddf3e852",
   "metadata": {
    "collapsed": false,
    "jupyter": {
     "outputs_hidden": false
    },
    "pycharm": {
     "name": "#%%\n"
    }
   },
   "outputs": [
    {
     "data": {
      "text/plain": [
       "dict_keys(['cam_location_00000', 'cam_location_00001', 'cam_location_00002', 'cam_location_00003', 'cam_location_00004', 'cam_location_00005', 'cam_location_00006', 'cam_location_00007', 'cam_location_00008', 'cam_location_00009', 'cam_location_00010', 'cam_location_00011', 'cam_location_00012', 'cam_location_00013', 'cam_location_00014', 'cam_location_00015', 'cam_location_00016', 'cam_location_00017', 'cam_location_00018', 'cam_location_00019', 'cam_location_00020', 'cam_location_00021', 'cam_location_00022', 'cam_location_00023', 'cam_location_00024', 'cam_location_00025', 'cam_location_00026', 'cam_location_00027', 'cam_location_00028', 'cam_location_00029', 'cam_location_00030', 'cam_location_00031', 'cam_location_00032', 'cam_location_00033', 'cam_location_00034', 'cam_location_00035', 'cam_location_00036', 'cam_location_00037', 'cam_location_00038', 'cam_location_00039', 'cam_location_00040', 'cam_location_00041', 'cam_location_00042', 'cam_location_00043', 'cam_location_00044', 'cam_location_00045', 'cam_location_00046', 'cam_location_00047', 'cam_location_00048', 'cam_location_00049', 'cam_location_00050', 'cam_location_00051', 'cam_location_00052', 'cam_location_00053', 'cam_location_00054', 'cam_location_00055', 'cam_location_00056', 'cam_location_00057', 'cam_location_00058', 'cam_location_00059', 'cam_location_00060', 'cam_location_00061', 'cam_location_00062', 'cam_location_00063', 'cam_location_00064', 'cam_location_00065', 'cam_location_00066', 'cam_location_00067', 'cam_location_00068', 'cam_location_00069', 'cam_location_00070', 'cam_location_00071', 'cam_location_00072', 'cam_location_00073', 'cam_location_00074', 'cam_location_00075', 'cam_location_00076', 'cam_location_00077', 'cam_location_00078', 'cam_location_00079', 'cam_location_00080', 'cam_location_00081', 'cam_location_00082', 'cam_location_00083', 'cam_location_00084', 'cam_location_00085', 'cam_location_00086', 'cam_location_00087', 'cam_location_00088', 'cam_location_00089', 'cam_location_00090', 'cam_location_00091', 'cam_location_00092', 'cam_location_00093', 'cam_location_00094', 'cam_location_00095', 'cam_location_00096', 'cam_location_00097', 'cam_location_00098', 'cam_location_00099', 'cam_location_00100', 'cam_location_00101', 'cam_location_00102', 'cam_location_00103', 'cam_location_00104', 'cam_location_00105', 'cam_location_00106', 'cam_location_00107', 'cam_location_00108', 'cam_location_00109', 'cam_location_00110', 'cam_location_00111', 'cam_location_00112', 'cam_location_00113', 'cam_location_00114', 'cam_location_00115', 'cam_location_00116', 'cam_location_00117', 'cam_location_00118', 'cam_location_00119', 'cam_location_00120', 'cam_location_00121', 'cam_location_00122', 'cam_location_00123', 'cam_location_00124', 'cam_location_00125', 'cam_location_00126', 'cam_location_00127', 'cam_location_00128', 'cam_location_00129', 'cam_location_00130', 'cam_location_00131', 'cam_location_00132', 'cam_location_00133', 'cam_location_00134', 'cam_location_00135', 'cam_location_00136', 'cam_location_00137', 'cam_location_00138', 'cam_location_00139', 'cam_location_00140', 'cam_location_00141', 'cam_location_00142', 'cam_location_00143', 'cam_location_00144', 'cam_location_00145', 'cam_location_00146', 'cam_location_00147', 'cam_location_00148', 'cam_location_00149', 'cam_location_00150', 'cam_location_00151', 'cam_location_00152', 'cam_location_00153', 'cam_location_00154', 'cam_location_00155', 'cam_location_00156', 'cam_location_00157', 'cam_location_00158', 'cam_location_00159', 'cam_location_00160', 'cam_location_00161', 'cam_location_00162', 'cam_location_00163', 'cam_location_00164', 'cam_location_00165', 'cam_location_00166', 'cam_location_00167', 'cam_location_00168', 'cam_location_00169', 'cam_location_00170', 'cam_location_00171', 'cam_location_00172', 'cam_location_00173', 'cam_location_00174', 'cam_location_00175', 'cam_location_00176', 'cam_location_00177', 'cam_location_00178', 'cam_location_00179', 'cam_location_00180', 'cam_location_00181', 'cam_location_00182', 'cam_location_00183', 'cam_location_00184', 'cam_location_00185', 'cam_location_00186', 'cam_location_00187', 'cam_location_00188', 'cam_location_00189', 'cam_location_00190', 'cam_location_00191', 'cam_location_00192', 'cam_location_00193', 'cam_location_00194', 'cam_location_00195', 'cam_location_00196', 'cam_location_00197', 'cam_location_00198', 'cam_location_00199', 'cam_location_00200', 'cam_location_00201', 'cam_location_00202', 'cam_location_00203', 'cam_location_00204', 'cam_location_00205', 'cam_location_00206', 'cam_location_00207', 'cam_location_00208', 'cam_location_00209', 'cam_location_00210', 'cam_location_00211', 'cam_location_00212', 'cam_location_00213', 'cam_location_00214', 'cam_location_00215', 'cam_location_00216', 'cam_location_00217', 'cam_location_00218', 'cam_location_00219', 'cam_location_00220', 'cam_location_00221', 'cam_location_00222', 'cam_location_00223', 'cam_location_00224', 'cam_location_00225', 'cam_location_00226', 'cam_location_00227', 'cam_location_00228', 'cam_location_00229', 'cam_location_00230', 'cam_location_00231', 'cam_location_00232', 'cam_location_00233', 'cam_location_00234', 'cam_location_00235', 'cam_location_00236', 'cam_location_00237', 'cam_location_00238', 'cam_location_00239', 'cam_location_00240', 'cam_location_00241', 'cam_location_00242', 'cam_location_00243', 'cam_location_00244', 'cam_location_00245', 'cam_location_00246', 'cam_location_00247', 'cam_location_00248', 'cam_location_00249', 'cam_location_00250', 'cam_location_00251', 'cam_location_00252', 'cam_location_00253', 'cam_location_00254', 'cam_location_00255', 'cam_location_00256', 'cam_location_00257', 'cam_location_00258', 'cam_location_00259', 'cam_location_00260', 'cam_location_00261', 'cam_location_00262', 'cam_location_00263', 'cam_location_00264', 'cam_location_00265', 'cam_location_00266', 'cam_location_00267', 'cam_location_00268', 'cam_location_00269', 'cam_location_00270', 'cam_location_00271', 'cam_location_00272', 'cam_location_00273', 'cam_location_00274', 'cam_location_00275', 'cam_location_00276', 'cam_location_00277', 'cam_location_00278', 'cam_location_00279', 'cam_location_00280', 'cam_location_00281', 'cam_location_00282', 'cam_location_00283', 'cam_location_00284', 'cam_location_00285', 'cam_location_00286', 'cam_location_00287', 'cam_location_00288', 'cam_location_00289', 'cam_location_00290', 'cam_location_00291', 'cam_location_00292', 'cam_location_00293', 'cam_location_00294', 'cam_location_00295', 'cam_location_00296', 'cam_location_00297', 'cam_location_00298', 'cam_location_00299', 'cam_location_00300', 'cam_location_00301', 'cam_location_00302', 'cam_location_00303', 'cam_location_00304', 'cam_location_00305', 'cam_location_00306', 'cam_location_00307', 'cam_location_00308', 'cam_location_00309', 'cam_location_00310', 'cam_location_00311', 'cam_location_00312', 'cam_location_00313', 'cam_location_00314', 'cam_location_00315', 'cam_location_00316', 'cam_location_00317', 'cam_location_00318', 'cam_location_00319', 'cam_location_00320', 'cam_location_00321', 'cam_location_00322', 'cam_location_00323', 'cam_location_00324', 'cam_location_00325', 'cam_location_00326', 'cam_location_00327', 'cam_location_00328', 'cam_location_00329', 'cam_location_00330', 'cam_location_00331', 'cam_location_00332', 'cam_location_00333', 'cam_location_00334', 'cam_location_00335', 'cam_location_00336', 'cam_location_00337', 'cam_location_00338', 'cam_location_00339', 'cam_location_00340', 'cam_location_00341', 'cam_location_00342', 'cam_location_00343', 'cam_location_00344', 'cam_location_00345', 'cam_location_00346', 'cam_location_00347', 'cam_location_00348', 'cam_location_00349', 'cam_location_00350', 'cam_location_00351', 'cam_location_00352', 'cam_location_00353', 'cam_location_00354', 'cam_location_00355', 'cam_location_00356', 'cam_location_00357', 'cam_location_00358', 'cam_location_00359', 'cam_location_00360', 'cam_location_00361', 'cam_location_00362', 'cam_location_00363', 'cam_location_00364', 'cam_location_00365', 'cam_location_00366', 'cam_location_00367', 'cam_location_00368', 'cam_location_00369', 'cam_location_00370', 'cam_location_00371', 'cam_location_00372', 'cam_location_00373', 'cam_location_00374', 'cam_location_00375', 'cam_location_00376', 'cam_location_00377', 'cam_location_00378', 'cam_location_00379', 'cam_location_00380', 'cam_location_00381', 'cam_location_00382', 'cam_location_00383', 'cam_location_00384', 'cam_location_00385', 'cam_location_00386', 'cam_location_00387', 'cam_location_00388', 'cam_location_00389', 'cam_location_00390', 'cam_location_00391', 'cam_location_00392', 'cam_location_00393', 'cam_location_00394', 'cam_location_00395', 'cam_location_00396', 'cam_location_00397', 'cam_location_00398', 'cam_location_00399', 'cam_location_00400', 'cam_location_00401', 'cam_location_00402', 'cam_location_00403', 'cam_location_00404', 'cam_location_00405', 'cam_location_00406', 'cam_location_00407', 'cam_location_00408', 'cam_location_00409', 'cam_location_00410', 'cam_location_00411', 'cam_location_00412', 'cam_location_00413', 'cam_location_00414', 'cam_location_00415', 'cam_location_00416', 'cam_location_00417', 'cam_location_00418', 'cam_location_00419', 'cam_location_00420', 'cam_location_00421', 'cam_location_00422', 'cam_location_00423', 'cam_location_00424', 'cam_location_00425', 'cam_location_00426', 'cam_location_00427', 'cam_location_00428', 'cam_location_00429', 'cam_location_00430', 'cam_location_00431', 'cam_location_00432', 'cam_location_00433', 'cam_location_00434', 'cam_location_00435', 'cam_location_00436', 'cam_location_00437', 'cam_location_00438', 'cam_location_00439', 'cam_location_00440', 'cam_location_00441', 'cam_location_00442', 'cam_location_00443', 'cam_location_00444', 'cam_location_00445', 'cam_location_00446', 'cam_location_00447', 'cam_location_00448', 'cam_location_00449', 'cam_location_00450', 'cam_location_00451', 'cam_location_00452', 'cam_location_00453', 'cam_location_00454', 'cam_location_00455', 'cam_location_00456', 'cam_location_00457', 'cam_location_00458', 'cam_location_00459', 'cam_location_00460', 'cam_location_00461', 'cam_location_00462', 'cam_location_00463', 'cam_location_00464', 'cam_location_00465', 'cam_location_00466', 'cam_location_00467', 'cam_location_00468', 'cam_location_00469', 'cam_location_00470', 'cam_location_00471', 'cam_location_00472', 'cam_location_00473', 'cam_location_00474', 'cam_location_00475', 'cam_location_00476', 'cam_location_00477', 'cam_location_00478', 'cam_location_00479', 'cam_location_00480', 'cam_location_00481', 'cam_location_00482', 'cam_location_00483', 'cam_location_00484', 'cam_location_00485', 'cam_location_00486', 'cam_location_00487', 'cam_location_00488', 'cam_location_00489', 'cam_location_00490', 'cam_location_00491', 'cam_location_00492', 'cam_location_00493', 'cam_location_00494', 'cam_location_00495', 'cam_location_00496', 'cam_location_00497', 'cam_location_00498', 'cam_location_00499', 'cam_location_00500', 'cam_location_00501', 'cam_location_00502', 'cam_location_00503', 'cam_location_00504', 'cam_location_00505', 'cam_location_00506', 'cam_location_00507', 'cam_location_00508', 'cam_location_00509', 'cam_location_00510', 'cam_location_00511', 'cam_location_00512', 'cam_location_00513', 'cam_location_00514', 'cam_location_00515', 'cam_location_00516', 'cam_location_00517', 'cam_location_00518', 'cam_location_00519', 'cam_location_00520', 'cam_location_00521', 'cam_location_00522', 'cam_location_00523', 'cam_location_00524', 'cam_location_00525', 'cam_location_00526', 'cam_location_00527', 'cam_location_00528', 'cam_location_00529', 'cam_location_00530', 'cam_location_00531', 'cam_location_00532', 'cam_location_00533', 'cam_location_00534', 'cam_location_00535', 'cam_location_00536', 'cam_location_00537', 'cam_location_00538', 'cam_location_00539', 'cam_location_00540', 'cam_location_00541', 'cam_location_00542', 'cam_location_00543', 'cam_location_00544', 'cam_location_00545', 'cam_location_00546', 'cam_location_00547', 'cam_location_00548', 'cam_location_00549', 'cam_location_00550', 'cam_location_00551', 'cam_location_00552', 'cam_location_00553', 'cam_location_00554', 'cam_location_00555', 'cam_location_00556', 'cam_location_00557', 'cam_location_00558', 'cam_location_00559', 'cam_location_00560', 'cam_location_00561', 'cam_location_00562', 'cam_location_00563', 'cam_location_00564', 'cam_location_00565', 'cam_location_00566', 'cam_location_00567', 'cam_location_00568', 'cam_location_00569', 'cam_location_00570', 'cam_location_00571', 'cam_location_00572', 'cam_location_00573', 'cam_location_00574', 'cam_location_00575', 'cam_location_00576', 'cam_location_00577', 'cam_location_00578', 'cam_location_00579', 'cam_location_00580', 'cam_location_00581', 'cam_location_00582', 'cam_location_00583', 'cam_location_00584', 'cam_location_00585', 'cam_location_00586', 'cam_location_00587', 'cam_location_00588', 'cam_location_00589', 'cam_location_00590', 'cam_location_00591', 'cam_location_00592', 'cam_location_00593', 'cam_location_00594', 'cam_location_00595', 'cam_location_00596', 'cam_location_00597', 'cam_location_00598', 'cam_location_00599', 'cam_location_00600', 'cam_location_00601', 'cam_location_00602', 'cam_location_00603', 'cam_location_00604', 'cam_location_00605', 'cam_location_00606', 'cam_location_00607', 'cam_location_00608', 'cam_location_00609', 'cam_location_00610', 'cam_location_00611', 'cam_location_00612', 'cam_location_00613', 'cam_location_00614', 'cam_location_00615', 'cam_location_00616', 'cam_location_00617', 'cam_location_00618', 'cam_location_00619', 'cam_location_00620', 'cam_location_00621', 'cam_location_00622', 'cam_location_00623', 'cam_location_00624', 'cam_location_00625', 'cam_location_00626', 'cam_location_00627', 'cam_location_00628', 'cam_location_00629', 'cam_location_00630', 'cam_location_00631', 'cam_location_00632', 'cam_location_00633', 'cam_location_00634', 'cam_location_00635', 'cam_location_00636', 'cam_location_00637', 'cam_location_00638', 'cam_location_00639', 'cam_location_00640', 'cam_location_00641', 'cam_location_00642', 'cam_location_00643', 'cam_location_00644', 'cam_location_00645', 'cam_location_00646', 'cam_location_00647', 'cam_location_00648', 'cam_location_00649', 'cam_location_00650', 'cam_location_00651', 'cam_location_00652', 'cam_location_00653', 'cam_location_00654', 'cam_location_00655', 'cam_location_00656', 'cam_location_00657', 'cam_location_00658', 'cam_location_00659', 'cam_location_00660', 'cam_location_00661', 'cam_location_00662', 'cam_location_00663', 'cam_location_00664', 'cam_location_00665', 'cam_location_00666', 'cam_location_00667', 'cam_location_00668', 'cam_location_00669', 'cam_location_00670', 'cam_location_00671', 'cam_location_00672', 'cam_location_00673', 'cam_location_00674', 'cam_location_00675', 'cam_location_00676', 'cam_location_00677', 'cam_location_00678', 'cam_location_00679', 'cam_location_00680', 'cam_location_00681', 'cam_location_00682', 'cam_location_00683', 'cam_location_00684', 'cam_location_00685', 'cam_location_00686', 'cam_location_00687', 'cam_location_00688', 'cam_location_00689', 'cam_location_00690', 'cam_location_00691', 'cam_location_00692', 'cam_location_00693', 'cam_location_00694', 'cam_location_00695', 'cam_location_00696', 'cam_location_00697', 'cam_location_00698', 'cam_location_00699', 'cam_location_00700', 'cam_location_00701', 'cam_location_00702', 'cam_location_00703', 'cam_location_00704', 'cam_location_00705', 'cam_location_00706', 'cam_location_00707', 'cam_location_00708', 'cam_location_00709', 'cam_location_00710', 'cam_location_00711', 'cam_location_00712', 'cam_location_00713', 'cam_location_00714', 'cam_location_00715', 'cam_location_00716', 'cam_location_00717', 'cam_location_00718', 'cam_location_00719', 'cam_location_00720', 'cam_location_00721', 'cam_location_00722', 'cam_location_00723', 'cam_location_00724', 'cam_location_00725', 'cam_location_00726', 'cam_location_00727', 'cam_location_00728', 'cam_location_00729', 'cam_location_00730', 'cam_location_00731', 'cam_location_00732', 'cam_location_00733', 'cam_location_00734', 'cam_location_00735', 'cam_location_00736', 'cam_location_00737', 'cam_location_00738', 'cam_location_00739', 'cam_location_00740', 'cam_location_00741', 'cam_location_00742', 'cam_location_00743', 'cam_location_00744', 'cam_location_00745', 'cam_location_00746', 'cam_location_00747', 'cam_location_00748', 'cam_location_00749', 'cam_location_00750', 'cam_location_00751', 'cam_location_00752', 'cam_location_00753', 'cam_location_00754', 'cam_location_00755', 'cam_location_00756', 'cam_location_00757', 'cam_location_00758', 'cam_location_00759', 'cam_location_00760', 'cam_location_00761', 'cam_location_00762', 'cam_location_00763', 'cam_location_00764', 'cam_location_00765', 'cam_location_00766', 'cam_location_00767', 'cam_location_00768', 'cam_location_00769', 'cam_location_00770', 'cam_location_00771', 'cam_location_00772', 'cam_location_00773', 'cam_location_00774', 'cam_location_00775', 'cam_location_00776', 'cam_location_00777', 'cam_location_00778', 'cam_location_00779', 'cam_location_00780', 'cam_location_00781', 'cam_location_00782', 'cam_location_00783', 'cam_location_00784', 'cam_location_00785', 'cam_location_00786', 'cam_location_00787', 'cam_location_00788', 'cam_location_00789', 'cam_location_00790', 'cam_location_00791', 'cam_location_00792', 'cam_location_00793', 'cam_location_00794', 'cam_location_00795', 'cam_location_00796', 'cam_location_00797', 'cam_location_00798', 'cam_location_00799', 'cam_location_00800', 'cam_location_00801', 'cam_location_00802', 'cam_rotation_00000', 'cam_rotation_00001', 'cam_rotation_00002', 'cam_rotation_00003', 'cam_rotation_00004', 'cam_rotation_00005', 'cam_rotation_00006', 'cam_rotation_00007', 'cam_rotation_00008', 'cam_rotation_00009', 'cam_rotation_00010', 'cam_rotation_00011', 'cam_rotation_00012', 'cam_rotation_00013', 'cam_rotation_00014', 'cam_rotation_00015', 'cam_rotation_00016', 'cam_rotation_00017', 'cam_rotation_00018', 'cam_rotation_00019', 'cam_rotation_00020', 'cam_rotation_00021', 'cam_rotation_00022', 'cam_rotation_00023', 'cam_rotation_00024', 'cam_rotation_00025', 'cam_rotation_00026', 'cam_rotation_00027', 'cam_rotation_00028', 'cam_rotation_00029', 'cam_rotation_00030', 'cam_rotation_00031', 'cam_rotation_00032', 'cam_rotation_00033', 'cam_rotation_00034', 'cam_rotation_00035', 'cam_rotation_00036', 'cam_rotation_00037', 'cam_rotation_00038', 'cam_rotation_00039', 'cam_rotation_00040', 'cam_rotation_00041', 'cam_rotation_00042', 'cam_rotation_00043', 'cam_rotation_00044', 'cam_rotation_00045', 'cam_rotation_00046', 'cam_rotation_00047', 'cam_rotation_00048', 'cam_rotation_00049', 'cam_rotation_00050', 'cam_rotation_00051', 'cam_rotation_00052', 'cam_rotation_00053', 'cam_rotation_00054', 'cam_rotation_00055', 'cam_rotation_00056', 'cam_rotation_00057', 'cam_rotation_00058', 'cam_rotation_00059', 'cam_rotation_00060', 'cam_rotation_00061', 'cam_rotation_00062', 'cam_rotation_00063', 'cam_rotation_00064', 'cam_rotation_00065', 'cam_rotation_00066', 'cam_rotation_00067', 'cam_rotation_00068', 'cam_rotation_00069', 'cam_rotation_00070', 'cam_rotation_00071', 'cam_rotation_00072', 'cam_rotation_00073', 'cam_rotation_00074', 'cam_rotation_00075', 'cam_rotation_00076', 'cam_rotation_00077', 'cam_rotation_00078', 'cam_rotation_00079', 'cam_rotation_00080', 'cam_rotation_00081', 'cam_rotation_00082', 'cam_rotation_00083', 'cam_rotation_00084', 'cam_rotation_00085', 'cam_rotation_00086', 'cam_rotation_00087', 'cam_rotation_00088', 'cam_rotation_00089', 'cam_rotation_00090', 'cam_rotation_00091', 'cam_rotation_00092', 'cam_rotation_00093', 'cam_rotation_00094', 'cam_rotation_00095', 'cam_rotation_00096', 'cam_rotation_00097', 'cam_rotation_00098', 'cam_rotation_00099', 'cam_rotation_00100', 'cam_rotation_00101', 'cam_rotation_00102', 'cam_rotation_00103', 'cam_rotation_00104', 'cam_rotation_00105', 'cam_rotation_00106', 'cam_rotation_00107', 'cam_rotation_00108', 'cam_rotation_00109', 'cam_rotation_00110', 'cam_rotation_00111', 'cam_rotation_00112', 'cam_rotation_00113', 'cam_rotation_00114', 'cam_rotation_00115', 'cam_rotation_00116', 'cam_rotation_00117', 'cam_rotation_00118', 'cam_rotation_00119', 'cam_rotation_00120', 'cam_rotation_00121', 'cam_rotation_00122', 'cam_rotation_00123', 'cam_rotation_00124', 'cam_rotation_00125', 'cam_rotation_00126', 'cam_rotation_00127', 'cam_rotation_00128', 'cam_rotation_00129', 'cam_rotation_00130', 'cam_rotation_00131', 'cam_rotation_00132', 'cam_rotation_00133', 'cam_rotation_00134', 'cam_rotation_00135', 'cam_rotation_00136', 'cam_rotation_00137', 'cam_rotation_00138', 'cam_rotation_00139', 'cam_rotation_00140', 'cam_rotation_00141', 'cam_rotation_00142', 'cam_rotation_00143', 'cam_rotation_00144', 'cam_rotation_00145', 'cam_rotation_00146', 'cam_rotation_00147', 'cam_rotation_00148', 'cam_rotation_00149', 'cam_rotation_00150', 'cam_rotation_00151', 'cam_rotation_00152', 'cam_rotation_00153', 'cam_rotation_00154', 'cam_rotation_00155', 'cam_rotation_00156', 'cam_rotation_00157', 'cam_rotation_00158', 'cam_rotation_00159', 'cam_rotation_00160', 'cam_rotation_00161', 'cam_rotation_00162', 'cam_rotation_00163', 'cam_rotation_00164', 'cam_rotation_00165', 'cam_rotation_00166', 'cam_rotation_00167', 'cam_rotation_00168', 'cam_rotation_00169', 'cam_rotation_00170', 'cam_rotation_00171', 'cam_rotation_00172', 'cam_rotation_00173', 'cam_rotation_00174', 'cam_rotation_00175', 'cam_rotation_00176', 'cam_rotation_00177', 'cam_rotation_00178', 'cam_rotation_00179', 'cam_rotation_00180', 'cam_rotation_00181', 'cam_rotation_00182', 'cam_rotation_00183', 'cam_rotation_00184', 'cam_rotation_00185', 'cam_rotation_00186', 'cam_rotation_00187', 'cam_rotation_00188', 'cam_rotation_00189', 'cam_rotation_00190', 'cam_rotation_00191', 'cam_rotation_00192', 'cam_rotation_00193', 'cam_rotation_00194', 'cam_rotation_00195', 'cam_rotation_00196', 'cam_rotation_00197', 'cam_rotation_00198', 'cam_rotation_00199', 'cam_rotation_00200', 'cam_rotation_00201', 'cam_rotation_00202', 'cam_rotation_00203', 'cam_rotation_00204', 'cam_rotation_00205', 'cam_rotation_00206', 'cam_rotation_00207', 'cam_rotation_00208', 'cam_rotation_00209', 'cam_rotation_00210', 'cam_rotation_00211', 'cam_rotation_00212', 'cam_rotation_00213', 'cam_rotation_00214', 'cam_rotation_00215', 'cam_rotation_00216', 'cam_rotation_00217', 'cam_rotation_00218', 'cam_rotation_00219', 'cam_rotation_00220', 'cam_rotation_00221', 'cam_rotation_00222', 'cam_rotation_00223', 'cam_rotation_00224', 'cam_rotation_00225', 'cam_rotation_00226', 'cam_rotation_00227', 'cam_rotation_00228', 'cam_rotation_00229', 'cam_rotation_00230', 'cam_rotation_00231', 'cam_rotation_00232', 'cam_rotation_00233', 'cam_rotation_00234', 'cam_rotation_00235', 'cam_rotation_00236', 'cam_rotation_00237', 'cam_rotation_00238', 'cam_rotation_00239', 'cam_rotation_00240', 'cam_rotation_00241', 'cam_rotation_00242', 'cam_rotation_00243', 'cam_rotation_00244', 'cam_rotation_00245', 'cam_rotation_00246', 'cam_rotation_00247', 'cam_rotation_00248', 'cam_rotation_00249', 'cam_rotation_00250', 'cam_rotation_00251', 'cam_rotation_00252', 'cam_rotation_00253', 'cam_rotation_00254', 'cam_rotation_00255', 'cam_rotation_00256', 'cam_rotation_00257', 'cam_rotation_00258', 'cam_rotation_00259', 'cam_rotation_00260', 'cam_rotation_00261', 'cam_rotation_00262', 'cam_rotation_00263', 'cam_rotation_00264', 'cam_rotation_00265', 'cam_rotation_00266', 'cam_rotation_00267', 'cam_rotation_00268', 'cam_rotation_00269', 'cam_rotation_00270', 'cam_rotation_00271', 'cam_rotation_00272', 'cam_rotation_00273', 'cam_rotation_00274', 'cam_rotation_00275', 'cam_rotation_00276', 'cam_rotation_00277', 'cam_rotation_00278', 'cam_rotation_00279', 'cam_rotation_00280', 'cam_rotation_00281', 'cam_rotation_00282', 'cam_rotation_00283', 'cam_rotation_00284', 'cam_rotation_00285', 'cam_rotation_00286', 'cam_rotation_00287', 'cam_rotation_00288', 'cam_rotation_00289', 'cam_rotation_00290', 'cam_rotation_00291', 'cam_rotation_00292', 'cam_rotation_00293', 'cam_rotation_00294', 'cam_rotation_00295', 'cam_rotation_00296', 'cam_rotation_00297', 'cam_rotation_00298', 'cam_rotation_00299', 'cam_rotation_00300', 'cam_rotation_00301', 'cam_rotation_00302', 'cam_rotation_00303', 'cam_rotation_00304', 'cam_rotation_00305', 'cam_rotation_00306', 'cam_rotation_00307', 'cam_rotation_00308', 'cam_rotation_00309', 'cam_rotation_00310', 'cam_rotation_00311', 'cam_rotation_00312', 'cam_rotation_00313', 'cam_rotation_00314', 'cam_rotation_00315', 'cam_rotation_00316', 'cam_rotation_00317', 'cam_rotation_00318', 'cam_rotation_00319', 'cam_rotation_00320', 'cam_rotation_00321', 'cam_rotation_00322', 'cam_rotation_00323', 'cam_rotation_00324', 'cam_rotation_00325', 'cam_rotation_00326', 'cam_rotation_00327', 'cam_rotation_00328', 'cam_rotation_00329', 'cam_rotation_00330', 'cam_rotation_00331', 'cam_rotation_00332', 'cam_rotation_00333', 'cam_rotation_00334', 'cam_rotation_00335', 'cam_rotation_00336', 'cam_rotation_00337', 'cam_rotation_00338', 'cam_rotation_00339', 'cam_rotation_00340', 'cam_rotation_00341', 'cam_rotation_00342', 'cam_rotation_00343', 'cam_rotation_00344', 'cam_rotation_00345', 'cam_rotation_00346', 'cam_rotation_00347', 'cam_rotation_00348', 'cam_rotation_00349', 'cam_rotation_00350', 'cam_rotation_00351', 'cam_rotation_00352', 'cam_rotation_00353', 'cam_rotation_00354', 'cam_rotation_00355', 'cam_rotation_00356', 'cam_rotation_00357', 'cam_rotation_00358', 'cam_rotation_00359', 'cam_rotation_00360', 'cam_rotation_00361', 'cam_rotation_00362', 'cam_rotation_00363', 'cam_rotation_00364', 'cam_rotation_00365', 'cam_rotation_00366', 'cam_rotation_00367', 'cam_rotation_00368', 'cam_rotation_00369', 'cam_rotation_00370', 'cam_rotation_00371', 'cam_rotation_00372', 'cam_rotation_00373', 'cam_rotation_00374', 'cam_rotation_00375', 'cam_rotation_00376', 'cam_rotation_00377', 'cam_rotation_00378', 'cam_rotation_00379', 'cam_rotation_00380', 'cam_rotation_00381', 'cam_rotation_00382', 'cam_rotation_00383', 'cam_rotation_00384', 'cam_rotation_00385', 'cam_rotation_00386', 'cam_rotation_00387', 'cam_rotation_00388', 'cam_rotation_00389', 'cam_rotation_00390', 'cam_rotation_00391', 'cam_rotation_00392', 'cam_rotation_00393', 'cam_rotation_00394', 'cam_rotation_00395', 'cam_rotation_00396', 'cam_rotation_00397', 'cam_rotation_00398', 'cam_rotation_00399', 'cam_rotation_00400', 'cam_rotation_00401', 'cam_rotation_00402', 'cam_rotation_00403', 'cam_rotation_00404', 'cam_rotation_00405', 'cam_rotation_00406', 'cam_rotation_00407', 'cam_rotation_00408', 'cam_rotation_00409', 'cam_rotation_00410', 'cam_rotation_00411', 'cam_rotation_00412', 'cam_rotation_00413', 'cam_rotation_00414', 'cam_rotation_00415', 'cam_rotation_00416', 'cam_rotation_00417', 'cam_rotation_00418', 'cam_rotation_00419', 'cam_rotation_00420', 'cam_rotation_00421', 'cam_rotation_00422', 'cam_rotation_00423', 'cam_rotation_00424', 'cam_rotation_00425', 'cam_rotation_00426', 'cam_rotation_00427', 'cam_rotation_00428', 'cam_rotation_00429', 'cam_rotation_00430', 'cam_rotation_00431', 'cam_rotation_00432', 'cam_rotation_00433', 'cam_rotation_00434', 'cam_rotation_00435', 'cam_rotation_00436', 'cam_rotation_00437', 'cam_rotation_00438', 'cam_rotation_00439', 'cam_rotation_00440', 'cam_rotation_00441', 'cam_rotation_00442', 'cam_rotation_00443', 'cam_rotation_00444', 'cam_rotation_00445', 'cam_rotation_00446', 'cam_rotation_00447', 'cam_rotation_00448', 'cam_rotation_00449', 'cam_rotation_00450', 'cam_rotation_00451', 'cam_rotation_00452', 'cam_rotation_00453', 'cam_rotation_00454', 'cam_rotation_00455', 'cam_rotation_00456', 'cam_rotation_00457', 'cam_rotation_00458', 'cam_rotation_00459', 'cam_rotation_00460', 'cam_rotation_00461', 'cam_rotation_00462', 'cam_rotation_00463', 'cam_rotation_00464', 'cam_rotation_00465', 'cam_rotation_00466', 'cam_rotation_00467', 'cam_rotation_00468', 'cam_rotation_00469', 'cam_rotation_00470', 'cam_rotation_00471', 'cam_rotation_00472', 'cam_rotation_00473', 'cam_rotation_00474', 'cam_rotation_00475', 'cam_rotation_00476', 'cam_rotation_00477', 'cam_rotation_00478', 'cam_rotation_00479', 'cam_rotation_00480', 'cam_rotation_00481', 'cam_rotation_00482', 'cam_rotation_00483', 'cam_rotation_00484', 'cam_rotation_00485', 'cam_rotation_00486', 'cam_rotation_00487', 'cam_rotation_00488', 'cam_rotation_00489', 'cam_rotation_00490', 'cam_rotation_00491', 'cam_rotation_00492', 'cam_rotation_00493', 'cam_rotation_00494', 'cam_rotation_00495', 'cam_rotation_00496', 'cam_rotation_00497', 'cam_rotation_00498', 'cam_rotation_00499', 'cam_rotation_00500', 'cam_rotation_00501', 'cam_rotation_00502', 'cam_rotation_00503', 'cam_rotation_00504', 'cam_rotation_00505', 'cam_rotation_00506', 'cam_rotation_00507', 'cam_rotation_00508', 'cam_rotation_00509', 'cam_rotation_00510', 'cam_rotation_00511', 'cam_rotation_00512', 'cam_rotation_00513', 'cam_rotation_00514', 'cam_rotation_00515', 'cam_rotation_00516', 'cam_rotation_00517', 'cam_rotation_00518', 'cam_rotation_00519', 'cam_rotation_00520', 'cam_rotation_00521', 'cam_rotation_00522', 'cam_rotation_00523', 'cam_rotation_00524', 'cam_rotation_00525', 'cam_rotation_00526', 'cam_rotation_00527', 'cam_rotation_00528', 'cam_rotation_00529', 'cam_rotation_00530', 'cam_rotation_00531', 'cam_rotation_00532', 'cam_rotation_00533', 'cam_rotation_00534', 'cam_rotation_00535', 'cam_rotation_00536', 'cam_rotation_00537', 'cam_rotation_00538', 'cam_rotation_00539', 'cam_rotation_00540', 'cam_rotation_00541', 'cam_rotation_00542', 'cam_rotation_00543', 'cam_rotation_00544', 'cam_rotation_00545', 'cam_rotation_00546', 'cam_rotation_00547', 'cam_rotation_00548', 'cam_rotation_00549', 'cam_rotation_00550', 'cam_rotation_00551', 'cam_rotation_00552', 'cam_rotation_00553', 'cam_rotation_00554', 'cam_rotation_00555', 'cam_rotation_00556', 'cam_rotation_00557', 'cam_rotation_00558', 'cam_rotation_00559', 'cam_rotation_00560', 'cam_rotation_00561', 'cam_rotation_00562', 'cam_rotation_00563', 'cam_rotation_00564', 'cam_rotation_00565', 'cam_rotation_00566', 'cam_rotation_00567', 'cam_rotation_00568', 'cam_rotation_00569', 'cam_rotation_00570', 'cam_rotation_00571', 'cam_rotation_00572', 'cam_rotation_00573', 'cam_rotation_00574', 'cam_rotation_00575', 'cam_rotation_00576', 'cam_rotation_00577', 'cam_rotation_00578', 'cam_rotation_00579', 'cam_rotation_00580', 'cam_rotation_00581', 'cam_rotation_00582', 'cam_rotation_00583', 'cam_rotation_00584', 'cam_rotation_00585', 'cam_rotation_00586', 'cam_rotation_00587', 'cam_rotation_00588', 'cam_rotation_00589', 'cam_rotation_00590', 'cam_rotation_00591', 'cam_rotation_00592', 'cam_rotation_00593', 'cam_rotation_00594', 'cam_rotation_00595', 'cam_rotation_00596', 'cam_rotation_00597', 'cam_rotation_00598', 'cam_rotation_00599', 'cam_rotation_00600', 'cam_rotation_00601', 'cam_rotation_00602', 'cam_rotation_00603', 'cam_rotation_00604', 'cam_rotation_00605', 'cam_rotation_00606', 'cam_rotation_00607', 'cam_rotation_00608', 'cam_rotation_00609', 'cam_rotation_00610', 'cam_rotation_00611', 'cam_rotation_00612', 'cam_rotation_00613', 'cam_rotation_00614', 'cam_rotation_00615', 'cam_rotation_00616', 'cam_rotation_00617', 'cam_rotation_00618', 'cam_rotation_00619', 'cam_rotation_00620', 'cam_rotation_00621', 'cam_rotation_00622', 'cam_rotation_00623', 'cam_rotation_00624', 'cam_rotation_00625', 'cam_rotation_00626', 'cam_rotation_00627', 'cam_rotation_00628', 'cam_rotation_00629', 'cam_rotation_00630', 'cam_rotation_00631', 'cam_rotation_00632', 'cam_rotation_00633', 'cam_rotation_00634', 'cam_rotation_00635', 'cam_rotation_00636', 'cam_rotation_00637', 'cam_rotation_00638', 'cam_rotation_00639', 'cam_rotation_00640', 'cam_rotation_00641', 'cam_rotation_00642', 'cam_rotation_00643', 'cam_rotation_00644', 'cam_rotation_00645', 'cam_rotation_00646', 'cam_rotation_00647', 'cam_rotation_00648', 'cam_rotation_00649', 'cam_rotation_00650', 'cam_rotation_00651', 'cam_rotation_00652', 'cam_rotation_00653', 'cam_rotation_00654', 'cam_rotation_00655', 'cam_rotation_00656', 'cam_rotation_00657', 'cam_rotation_00658', 'cam_rotation_00659', 'cam_rotation_00660', 'cam_rotation_00661', 'cam_rotation_00662', 'cam_rotation_00663', 'cam_rotation_00664', 'cam_rotation_00665', 'cam_rotation_00666', 'cam_rotation_00667', 'cam_rotation_00668', 'cam_rotation_00669', 'cam_rotation_00670', 'cam_rotation_00671', 'cam_rotation_00672', 'cam_rotation_00673', 'cam_rotation_00674', 'cam_rotation_00675', 'cam_rotation_00676', 'cam_rotation_00677', 'cam_rotation_00678', 'cam_rotation_00679', 'cam_rotation_00680', 'cam_rotation_00681', 'cam_rotation_00682', 'cam_rotation_00683', 'cam_rotation_00684', 'cam_rotation_00685', 'cam_rotation_00686', 'cam_rotation_00687', 'cam_rotation_00688', 'cam_rotation_00689', 'cam_rotation_00690', 'cam_rotation_00691', 'cam_rotation_00692', 'cam_rotation_00693', 'cam_rotation_00694', 'cam_rotation_00695', 'cam_rotation_00696', 'cam_rotation_00697', 'cam_rotation_00698', 'cam_rotation_00699', 'cam_rotation_00700', 'cam_rotation_00701', 'cam_rotation_00702', 'cam_rotation_00703', 'cam_rotation_00704', 'cam_rotation_00705', 'cam_rotation_00706', 'cam_rotation_00707', 'cam_rotation_00708', 'cam_rotation_00709', 'cam_rotation_00710', 'cam_rotation_00711', 'cam_rotation_00712', 'cam_rotation_00713', 'cam_rotation_00714', 'cam_rotation_00715', 'cam_rotation_00716', 'cam_rotation_00717', 'cam_rotation_00718', 'cam_rotation_00719', 'cam_rotation_00720', 'cam_rotation_00721', 'cam_rotation_00722', 'cam_rotation_00723', 'cam_rotation_00724', 'cam_rotation_00725', 'cam_rotation_00726', 'cam_rotation_00727', 'cam_rotation_00728', 'cam_rotation_00729', 'cam_rotation_00730', 'cam_rotation_00731', 'cam_rotation_00732', 'cam_rotation_00733', 'cam_rotation_00734', 'cam_rotation_00735', 'cam_rotation_00736', 'cam_rotation_00737', 'cam_rotation_00738', 'cam_rotation_00739', 'cam_rotation_00740', 'cam_rotation_00741', 'cam_rotation_00742', 'cam_rotation_00743', 'cam_rotation_00744', 'cam_rotation_00745', 'cam_rotation_00746', 'cam_rotation_00747', 'cam_rotation_00748', 'cam_rotation_00749', 'cam_rotation_00750', 'cam_rotation_00751', 'cam_rotation_00752', 'cam_rotation_00753', 'cam_rotation_00754', 'cam_rotation_00755', 'cam_rotation_00756', 'cam_rotation_00757', 'cam_rotation_00758', 'cam_rotation_00759', 'cam_rotation_00760', 'cam_rotation_00761', 'cam_rotation_00762', 'cam_rotation_00763', 'cam_rotation_00764', 'cam_rotation_00765', 'cam_rotation_00766', 'cam_rotation_00767', 'cam_rotation_00768', 'cam_rotation_00769', 'cam_rotation_00770', 'cam_rotation_00771', 'cam_rotation_00772', 'cam_rotation_00773', 'cam_rotation_00774', 'cam_rotation_00775', 'cam_rotation_00776', 'cam_rotation_00777', 'cam_rotation_00778', 'cam_rotation_00779', 'cam_rotation_00780', 'cam_rotation_00781', 'cam_rotation_00782', 'cam_rotation_00783', 'cam_rotation_00784', 'cam_rotation_00785', 'cam_rotation_00786', 'cam_rotation_00787', 'cam_rotation_00788', 'cam_rotation_00789', 'cam_rotation_00790', 'cam_rotation_00791', 'cam_rotation_00792', 'cam_rotation_00793', 'cam_rotation_00794', 'cam_rotation_00795', 'cam_rotation_00796', 'cam_rotation_00797', 'cam_rotation_00798', 'cam_rotation_00799', 'cam_rotation_00800', 'cam_rotation_00801', 'cam_rotation_00802', 'cmd_00000', 'cmd_00001', 'cmd_00002', 'cmd_00003', 'cmd_00004', 'cmd_00005', 'cmd_00006', 'cmd_00007', 'cmd_00008', 'cmd_00009', 'cmd_00010', 'cmd_00011', 'cmd_00012', 'cmd_00013', 'cmd_00014', 'cmd_00015', 'cmd_00016', 'cmd_00017', 'cmd_00018', 'cmd_00019', 'cmd_00020', 'cmd_00021', 'cmd_00022', 'cmd_00023', 'cmd_00024', 'cmd_00025', 'cmd_00026', 'cmd_00027', 'cmd_00028', 'cmd_00029', 'cmd_00030', 'cmd_00031', 'cmd_00032', 'cmd_00033', 'cmd_00034', 'cmd_00035', 'cmd_00036', 'cmd_00037', 'cmd_00038', 'cmd_00039', 'cmd_00040', 'cmd_00041', 'cmd_00042', 'cmd_00043', 'cmd_00044', 'cmd_00045', 'cmd_00046', 'cmd_00047', 'cmd_00048', 'cmd_00049', 'cmd_00050', 'cmd_00051', 'cmd_00052', 'cmd_00053', 'cmd_00054', 'cmd_00055', 'cmd_00056', 'cmd_00057', 'cmd_00058', 'cmd_00059', 'cmd_00060', 'cmd_00061', 'cmd_00062', 'cmd_00063', 'cmd_00064', 'cmd_00065', 'cmd_00066', 'cmd_00067', 'cmd_00068', 'cmd_00069', 'cmd_00070', 'cmd_00071', 'cmd_00072', 'cmd_00073', 'cmd_00074', 'cmd_00075', 'cmd_00076', 'cmd_00077', 'cmd_00078', 'cmd_00079', 'cmd_00080', 'cmd_00081', 'cmd_00082', 'cmd_00083', 'cmd_00084', 'cmd_00085', 'cmd_00086', 'cmd_00087', 'cmd_00088', 'cmd_00089', 'cmd_00090', 'cmd_00091', 'cmd_00092', 'cmd_00093', 'cmd_00094', 'cmd_00095', 'cmd_00096', 'cmd_00097', 'cmd_00098', 'cmd_00099', 'cmd_00100', 'cmd_00101', 'cmd_00102', 'cmd_00103', 'cmd_00104', 'cmd_00105', 'cmd_00106', 'cmd_00107', 'cmd_00108', 'cmd_00109', 'cmd_00110', 'cmd_00111', 'cmd_00112', 'cmd_00113', 'cmd_00114', 'cmd_00115', 'cmd_00116', 'cmd_00117', 'cmd_00118', 'cmd_00119', 'cmd_00120', 'cmd_00121', 'cmd_00122', 'cmd_00123', 'cmd_00124', 'cmd_00125', 'cmd_00126', 'cmd_00127', 'cmd_00128', 'cmd_00129', 'cmd_00130', 'cmd_00131', 'cmd_00132', 'cmd_00133', 'cmd_00134', 'cmd_00135', 'cmd_00136', 'cmd_00137', 'cmd_00138', 'cmd_00139', 'cmd_00140', 'cmd_00141', 'cmd_00142', 'cmd_00143', 'cmd_00144', 'cmd_00145', 'cmd_00146', 'cmd_00147', 'cmd_00148', 'cmd_00149', 'cmd_00150', 'cmd_00151', 'cmd_00152', 'cmd_00153', 'cmd_00154', 'cmd_00155', 'cmd_00156', 'cmd_00157', 'cmd_00158', 'cmd_00159', 'cmd_00160', 'cmd_00161', 'cmd_00162', 'cmd_00163', 'cmd_00164', 'cmd_00165', 'cmd_00166', 'cmd_00167', 'cmd_00168', 'cmd_00169', 'cmd_00170', 'cmd_00171', 'cmd_00172', 'cmd_00173', 'cmd_00174', 'cmd_00175', 'cmd_00176', 'cmd_00177', 'cmd_00178', 'cmd_00179', 'cmd_00180', 'cmd_00181', 'cmd_00182', 'cmd_00183', 'cmd_00184', 'cmd_00185', 'cmd_00186', 'cmd_00187', 'cmd_00188', 'cmd_00189', 'cmd_00190', 'cmd_00191', 'cmd_00192', 'cmd_00193', 'cmd_00194', 'cmd_00195', 'cmd_00196', 'cmd_00197', 'cmd_00198', 'cmd_00199', 'cmd_00200', 'cmd_00201', 'cmd_00202', 'cmd_00203', 'cmd_00204', 'cmd_00205', 'cmd_00206', 'cmd_00207', 'cmd_00208', 'cmd_00209', 'cmd_00210', 'cmd_00211', 'cmd_00212', 'cmd_00213', 'cmd_00214', 'cmd_00215', 'cmd_00216', 'cmd_00217', 'cmd_00218', 'cmd_00219', 'cmd_00220', 'cmd_00221', 'cmd_00222', 'cmd_00223', 'cmd_00224', 'cmd_00225', 'cmd_00226', 'cmd_00227', 'cmd_00228', 'cmd_00229', 'cmd_00230', 'cmd_00231', 'cmd_00232', 'cmd_00233', 'cmd_00234', 'cmd_00235', 'cmd_00236', 'cmd_00237', 'cmd_00238', 'cmd_00239', 'cmd_00240', 'cmd_00241', 'cmd_00242', 'cmd_00243', 'cmd_00244', 'cmd_00245', 'cmd_00246', 'cmd_00247', 'cmd_00248', 'cmd_00249', 'cmd_00250', 'cmd_00251', 'cmd_00252', 'cmd_00253', 'cmd_00254', 'cmd_00255', 'cmd_00256', 'cmd_00257', 'cmd_00258', 'cmd_00259', 'cmd_00260', 'cmd_00261', 'cmd_00262', 'cmd_00263', 'cmd_00264', 'cmd_00265', 'cmd_00266', 'cmd_00267', 'cmd_00268', 'cmd_00269', 'cmd_00270', 'cmd_00271', 'cmd_00272', 'cmd_00273', 'cmd_00274', 'cmd_00275', 'cmd_00276', 'cmd_00277', 'cmd_00278', 'cmd_00279', 'cmd_00280', 'cmd_00281', 'cmd_00282', 'cmd_00283', 'cmd_00284', 'cmd_00285', 'cmd_00286', 'cmd_00287', 'cmd_00288', 'cmd_00289', 'cmd_00290', 'cmd_00291', 'cmd_00292', 'cmd_00293', 'cmd_00294', 'cmd_00295', 'cmd_00296', 'cmd_00297', 'cmd_00298', 'cmd_00299', 'cmd_00300', 'cmd_00301', 'cmd_00302', 'cmd_00303', 'cmd_00304', 'cmd_00305', 'cmd_00306', 'cmd_00307', 'cmd_00308', 'cmd_00309', 'cmd_00310', 'cmd_00311', 'cmd_00312', 'cmd_00313', 'cmd_00314', 'cmd_00315', 'cmd_00316', 'cmd_00317', 'cmd_00318', 'cmd_00319', 'cmd_00320', 'cmd_00321', 'cmd_00322', 'cmd_00323', 'cmd_00324', 'cmd_00325', 'cmd_00326', 'cmd_00327', 'cmd_00328', 'cmd_00329', 'cmd_00330', 'cmd_00331', 'cmd_00332', 'cmd_00333', 'cmd_00334', 'cmd_00335', 'cmd_00336', 'cmd_00337', 'cmd_00338', 'cmd_00339', 'cmd_00340', 'cmd_00341', 'cmd_00342', 'cmd_00343', 'cmd_00344', 'cmd_00345', 'cmd_00346', 'cmd_00347', 'cmd_00348', 'cmd_00349', 'cmd_00350', 'cmd_00351', 'cmd_00352', 'cmd_00353', 'cmd_00354', 'cmd_00355', 'cmd_00356', 'cmd_00357', 'cmd_00358', 'cmd_00359', 'cmd_00360', 'cmd_00361', 'cmd_00362', 'cmd_00363', 'cmd_00364', 'cmd_00365', 'cmd_00366', 'cmd_00367', 'cmd_00368', 'cmd_00369', 'cmd_00370', 'cmd_00371', 'cmd_00372', 'cmd_00373', 'cmd_00374', 'cmd_00375', 'cmd_00376', 'cmd_00377', 'cmd_00378', 'cmd_00379', 'cmd_00380', 'cmd_00381', 'cmd_00382', 'cmd_00383', 'cmd_00384', 'cmd_00385', 'cmd_00386', 'cmd_00387', 'cmd_00388', 'cmd_00389', 'cmd_00390', 'cmd_00391', 'cmd_00392', 'cmd_00393', 'cmd_00394', 'cmd_00395', 'cmd_00396', 'cmd_00397', 'cmd_00398', 'cmd_00399', 'cmd_00400', 'cmd_00401', 'cmd_00402', 'cmd_00403', 'cmd_00404', 'cmd_00405', 'cmd_00406', 'cmd_00407', 'cmd_00408', 'cmd_00409', 'cmd_00410', 'cmd_00411', 'cmd_00412', 'cmd_00413', 'cmd_00414', 'cmd_00415', 'cmd_00416', 'cmd_00417', 'cmd_00418', 'cmd_00419', 'cmd_00420', 'cmd_00421', 'cmd_00422', 'cmd_00423', 'cmd_00424', 'cmd_00425', 'cmd_00426', 'cmd_00427', 'cmd_00428', 'cmd_00429', 'cmd_00430', 'cmd_00431', 'cmd_00432', 'cmd_00433', 'cmd_00434', 'cmd_00435', 'cmd_00436', 'cmd_00437', 'cmd_00438', 'cmd_00439', 'cmd_00440', 'cmd_00441', 'cmd_00442', 'cmd_00443', 'cmd_00444', 'cmd_00445', 'cmd_00446', 'cmd_00447', 'cmd_00448', 'cmd_00449', 'cmd_00450', 'cmd_00451', 'cmd_00452', 'cmd_00453', 'cmd_00454', 'cmd_00455', 'cmd_00456', 'cmd_00457', 'cmd_00458', 'cmd_00459', 'cmd_00460', 'cmd_00461', 'cmd_00462', 'cmd_00463', 'cmd_00464', 'cmd_00465', 'cmd_00466', 'cmd_00467', 'cmd_00468', 'cmd_00469', 'cmd_00470', 'cmd_00471', 'cmd_00472', 'cmd_00473', 'cmd_00474', 'cmd_00475', 'cmd_00476', 'cmd_00477', 'cmd_00478', 'cmd_00479', 'cmd_00480', 'cmd_00481', 'cmd_00482', 'cmd_00483', 'cmd_00484', 'cmd_00485', 'cmd_00486', 'cmd_00487', 'cmd_00488', 'cmd_00489', 'cmd_00490', 'cmd_00491', 'cmd_00492', 'cmd_00493', 'cmd_00494', 'cmd_00495', 'cmd_00496', 'cmd_00497', 'cmd_00498', 'cmd_00499', 'cmd_00500', 'cmd_00501', 'cmd_00502', 'cmd_00503', 'cmd_00504', 'cmd_00505', 'cmd_00506', 'cmd_00507', 'cmd_00508', 'cmd_00509', 'cmd_00510', 'cmd_00511', 'cmd_00512', 'cmd_00513', 'cmd_00514', 'cmd_00515', 'cmd_00516', 'cmd_00517', 'cmd_00518', 'cmd_00519', 'cmd_00520', 'cmd_00521', 'cmd_00522', 'cmd_00523', 'cmd_00524', 'cmd_00525', 'cmd_00526', 'cmd_00527', 'cmd_00528', 'cmd_00529', 'cmd_00530', 'cmd_00531', 'cmd_00532', 'cmd_00533', 'cmd_00534', 'cmd_00535', 'cmd_00536', 'cmd_00537', 'cmd_00538', 'cmd_00539', 'cmd_00540', 'cmd_00541', 'cmd_00542', 'cmd_00543', 'cmd_00544', 'cmd_00545', 'cmd_00546', 'cmd_00547', 'cmd_00548', 'cmd_00549', 'cmd_00550', 'cmd_00551', 'cmd_00552', 'cmd_00553', 'cmd_00554', 'cmd_00555', 'cmd_00556', 'cmd_00557', 'cmd_00558', 'cmd_00559', 'cmd_00560', 'cmd_00561', 'cmd_00562', 'cmd_00563', 'cmd_00564', 'cmd_00565', 'cmd_00566', 'cmd_00567', 'cmd_00568', 'cmd_00569', 'cmd_00570', 'cmd_00571', 'cmd_00572', 'cmd_00573', 'cmd_00574', 'cmd_00575', 'cmd_00576', 'cmd_00577', 'cmd_00578', 'cmd_00579', 'cmd_00580', 'cmd_00581', 'cmd_00582', 'cmd_00583', 'cmd_00584', 'cmd_00585', 'cmd_00586', 'cmd_00587', 'cmd_00588', 'cmd_00589', 'cmd_00590', 'cmd_00591', 'cmd_00592', 'cmd_00593', 'cmd_00594', 'cmd_00595', 'cmd_00596', 'cmd_00597', 'cmd_00598', 'cmd_00599', 'cmd_00600', 'cmd_00601', 'cmd_00602', 'cmd_00603', 'cmd_00604', 'cmd_00605', 'cmd_00606', 'cmd_00607', 'cmd_00608', 'cmd_00609', 'cmd_00610', 'cmd_00611', 'cmd_00612', 'cmd_00613', 'cmd_00614', 'cmd_00615', 'cmd_00616', 'cmd_00617', 'cmd_00618', 'cmd_00619', 'cmd_00620', 'cmd_00621', 'cmd_00622', 'cmd_00623', 'cmd_00624', 'cmd_00625', 'cmd_00626', 'cmd_00627', 'cmd_00628', 'cmd_00629', 'cmd_00630', 'cmd_00631', 'cmd_00632', 'cmd_00633', 'cmd_00634', 'cmd_00635', 'cmd_00636', 'cmd_00637', 'cmd_00638', 'cmd_00639', 'cmd_00640', 'cmd_00641', 'cmd_00642', 'cmd_00643', 'cmd_00644', 'cmd_00645', 'cmd_00646', 'cmd_00647', 'cmd_00648', 'cmd_00649', 'cmd_00650', 'cmd_00651', 'cmd_00652', 'cmd_00653', 'cmd_00654', 'cmd_00655', 'cmd_00656', 'cmd_00657', 'cmd_00658', 'cmd_00659', 'cmd_00660', 'cmd_00661', 'cmd_00662', 'cmd_00663', 'cmd_00664', 'cmd_00665', 'cmd_00666', 'cmd_00667', 'cmd_00668', 'cmd_00669', 'cmd_00670', 'cmd_00671', 'cmd_00672', 'cmd_00673', 'cmd_00674', 'cmd_00675', 'cmd_00676', 'cmd_00677', 'cmd_00678', 'cmd_00679', 'cmd_00680', 'cmd_00681', 'cmd_00682', 'cmd_00683', 'cmd_00684', 'cmd_00685', 'cmd_00686', 'cmd_00687', 'cmd_00688', 'cmd_00689', 'cmd_00690', 'cmd_00691', 'cmd_00692', 'cmd_00693', 'cmd_00694', 'cmd_00695', 'cmd_00696', 'cmd_00697', 'cmd_00698', 'cmd_00699', 'cmd_00700', 'cmd_00701', 'cmd_00702', 'cmd_00703', 'cmd_00704', 'cmd_00705', 'cmd_00706', 'cmd_00707', 'cmd_00708', 'cmd_00709', 'cmd_00710', 'cmd_00711', 'cmd_00712', 'cmd_00713', 'cmd_00714', 'cmd_00715', 'cmd_00716', 'cmd_00717', 'cmd_00718', 'cmd_00719', 'cmd_00720', 'cmd_00721', 'cmd_00722', 'cmd_00723', 'cmd_00724', 'cmd_00725', 'cmd_00726', 'cmd_00727', 'cmd_00728', 'cmd_00729', 'cmd_00730', 'cmd_00731', 'cmd_00732', 'cmd_00733', 'cmd_00734', 'cmd_00735', 'cmd_00736', 'cmd_00737', 'cmd_00738', 'cmd_00739', 'cmd_00740', 'cmd_00741', 'cmd_00742', 'cmd_00743', 'cmd_00744', 'cmd_00745', 'cmd_00746', 'cmd_00747', 'cmd_00748', 'cmd_00749', 'cmd_00750', 'cmd_00751', 'cmd_00752', 'cmd_00753', 'cmd_00754', 'cmd_00755', 'cmd_00756', 'cmd_00757', 'cmd_00758', 'cmd_00759', 'cmd_00760', 'cmd_00761', 'cmd_00762', 'cmd_00763', 'cmd_00764', 'cmd_00765', 'cmd_00766', 'cmd_00767', 'cmd_00768', 'cmd_00769', 'cmd_00770', 'cmd_00771', 'cmd_00772', 'cmd_00773', 'cmd_00774', 'cmd_00775', 'cmd_00776', 'cmd_00777', 'cmd_00778', 'cmd_00779', 'cmd_00780', 'cmd_00781', 'cmd_00782', 'cmd_00783', 'cmd_00784', 'cmd_00785', 'cmd_00786', 'cmd_00787', 'cmd_00788', 'cmd_00789', 'cmd_00790', 'cmd_00791', 'cmd_00792', 'cmd_00793', 'cmd_00794', 'cmd_00795', 'cmd_00796', 'cmd_00797', 'cmd_00798', 'cmd_00799', 'cmd_00800', 'cmd_00801', 'cmd_00802', 'ego_location_00000', 'ego_location_00001', 'ego_location_00002', 'ego_location_00003', 'ego_location_00004', 'ego_location_00005', 'ego_location_00006', 'ego_location_00007', 'ego_location_00008', 'ego_location_00009', 'ego_location_00010', 'ego_location_00011', 'ego_location_00012', 'ego_location_00013', 'ego_location_00014', 'ego_location_00015', 'ego_location_00016', 'ego_location_00017', 'ego_location_00018', 'ego_location_00019', 'ego_location_00020', 'ego_location_00021', 'ego_location_00022', 'ego_location_00023', 'ego_location_00024', 'ego_location_00025', 'ego_location_00026', 'ego_location_00027', 'ego_location_00028', 'ego_location_00029', 'ego_location_00030', 'ego_location_00031', 'ego_location_00032', 'ego_location_00033', 'ego_location_00034', 'ego_location_00035', 'ego_location_00036', 'ego_location_00037', 'ego_location_00038', 'ego_location_00039', 'ego_location_00040', 'ego_location_00041', 'ego_location_00042', 'ego_location_00043', 'ego_location_00044', 'ego_location_00045', 'ego_location_00046', 'ego_location_00047', 'ego_location_00048', 'ego_location_00049', 'ego_location_00050', 'ego_location_00051', 'ego_location_00052', 'ego_location_00053', 'ego_location_00054', 'ego_location_00055', 'ego_location_00056', 'ego_location_00057', 'ego_location_00058', 'ego_location_00059', 'ego_location_00060', 'ego_location_00061', 'ego_location_00062', 'ego_location_00063', 'ego_location_00064', 'ego_location_00065', 'ego_location_00066', 'ego_location_00067', 'ego_location_00068', 'ego_location_00069', 'ego_location_00070', 'ego_location_00071', 'ego_location_00072', 'ego_location_00073', 'ego_location_00074', 'ego_location_00075', 'ego_location_00076', 'ego_location_00077', 'ego_location_00078', 'ego_location_00079', 'ego_location_00080', 'ego_location_00081', 'ego_location_00082', 'ego_location_00083', 'ego_location_00084', 'ego_location_00085', 'ego_location_00086', 'ego_location_00087', 'ego_location_00088', 'ego_location_00089', 'ego_location_00090', 'ego_location_00091', 'ego_location_00092', 'ego_location_00093', 'ego_location_00094', 'ego_location_00095', 'ego_location_00096', 'ego_location_00097', 'ego_location_00098', 'ego_location_00099', 'ego_location_00100', 'ego_location_00101', 'ego_location_00102', 'ego_location_00103', 'ego_location_00104', 'ego_location_00105', 'ego_location_00106', 'ego_location_00107', 'ego_location_00108', 'ego_location_00109', 'ego_location_00110', 'ego_location_00111', 'ego_location_00112', 'ego_location_00113', 'ego_location_00114', 'ego_location_00115', 'ego_location_00116', 'ego_location_00117', 'ego_location_00118', 'ego_location_00119', 'ego_location_00120', 'ego_location_00121', 'ego_location_00122', 'ego_location_00123', 'ego_location_00124', 'ego_location_00125', 'ego_location_00126', 'ego_location_00127', 'ego_location_00128', 'ego_location_00129', 'ego_location_00130', 'ego_location_00131', 'ego_location_00132', 'ego_location_00133', 'ego_location_00134', 'ego_location_00135', 'ego_location_00136', 'ego_location_00137', 'ego_location_00138', 'ego_location_00139', 'ego_location_00140', 'ego_location_00141', 'ego_location_00142', 'ego_location_00143', 'ego_location_00144', 'ego_location_00145', 'ego_location_00146', 'ego_location_00147', 'ego_location_00148', 'ego_location_00149', 'ego_location_00150', 'ego_location_00151', 'ego_location_00152', 'ego_location_00153', 'ego_location_00154', 'ego_location_00155', 'ego_location_00156', 'ego_location_00157', 'ego_location_00158', 'ego_location_00159', 'ego_location_00160', 'ego_location_00161', 'ego_location_00162', 'ego_location_00163', 'ego_location_00164', 'ego_location_00165', 'ego_location_00166', 'ego_location_00167', 'ego_location_00168', 'ego_location_00169', 'ego_location_00170', 'ego_location_00171', 'ego_location_00172', 'ego_location_00173', 'ego_location_00174', 'ego_location_00175', 'ego_location_00176', 'ego_location_00177', 'ego_location_00178', 'ego_location_00179', 'ego_location_00180', 'ego_location_00181', 'ego_location_00182', 'ego_location_00183', 'ego_location_00184', 'ego_location_00185', 'ego_location_00186', 'ego_location_00187', 'ego_location_00188', 'ego_location_00189', 'ego_location_00190', 'ego_location_00191', 'ego_location_00192', 'ego_location_00193', 'ego_location_00194', 'ego_location_00195', 'ego_location_00196', 'ego_location_00197', 'ego_location_00198', 'ego_location_00199', 'ego_location_00200', 'ego_location_00201', 'ego_location_00202', 'ego_location_00203', 'ego_location_00204', 'ego_location_00205', 'ego_location_00206', 'ego_location_00207', 'ego_location_00208', 'ego_location_00209', 'ego_location_00210', 'ego_location_00211', 'ego_location_00212', 'ego_location_00213', 'ego_location_00214', 'ego_location_00215', 'ego_location_00216', 'ego_location_00217', 'ego_location_00218', 'ego_location_00219', 'ego_location_00220', 'ego_location_00221', 'ego_location_00222', 'ego_location_00223', 'ego_location_00224', 'ego_location_00225', 'ego_location_00226', 'ego_location_00227', 'ego_location_00228', 'ego_location_00229', 'ego_location_00230', 'ego_location_00231', 'ego_location_00232', 'ego_location_00233', 'ego_location_00234', 'ego_location_00235', 'ego_location_00236', 'ego_location_00237', 'ego_location_00238', 'ego_location_00239', 'ego_location_00240', 'ego_location_00241', 'ego_location_00242', 'ego_location_00243', 'ego_location_00244', 'ego_location_00245', 'ego_location_00246', 'ego_location_00247', 'ego_location_00248', 'ego_location_00249', 'ego_location_00250', 'ego_location_00251', 'ego_location_00252', 'ego_location_00253', 'ego_location_00254', 'ego_location_00255', 'ego_location_00256', 'ego_location_00257', 'ego_location_00258', 'ego_location_00259', 'ego_location_00260', 'ego_location_00261', 'ego_location_00262', 'ego_location_00263', 'ego_location_00264', 'ego_location_00265', 'ego_location_00266', 'ego_location_00267', 'ego_location_00268', 'ego_location_00269', 'ego_location_00270', 'ego_location_00271', 'ego_location_00272', 'ego_location_00273', 'ego_location_00274', 'ego_location_00275', 'ego_location_00276', 'ego_location_00277', 'ego_location_00278', 'ego_location_00279', 'ego_location_00280', 'ego_location_00281', 'ego_location_00282', 'ego_location_00283', 'ego_location_00284', 'ego_location_00285', 'ego_location_00286', 'ego_location_00287', 'ego_location_00288', 'ego_location_00289', 'ego_location_00290', 'ego_location_00291', 'ego_location_00292', 'ego_location_00293', 'ego_location_00294', 'ego_location_00295', 'ego_location_00296', 'ego_location_00297', 'ego_location_00298', 'ego_location_00299', 'ego_location_00300', 'ego_location_00301', 'ego_location_00302', 'ego_location_00303', 'ego_location_00304', 'ego_location_00305', 'ego_location_00306', 'ego_location_00307', 'ego_location_00308', 'ego_location_00309', 'ego_location_00310', 'ego_location_00311', 'ego_location_00312', 'ego_location_00313', 'ego_location_00314', 'ego_location_00315', 'ego_location_00316', 'ego_location_00317', 'ego_location_00318', 'ego_location_00319', 'ego_location_00320', 'ego_location_00321', 'ego_location_00322', 'ego_location_00323', 'ego_location_00324', 'ego_location_00325', 'ego_location_00326', 'ego_location_00327', 'ego_location_00328', 'ego_location_00329', 'ego_location_00330', 'ego_location_00331', 'ego_location_00332', 'ego_location_00333', 'ego_location_00334', 'ego_location_00335', 'ego_location_00336', 'ego_location_00337', 'ego_location_00338', 'ego_location_00339', 'ego_location_00340', 'ego_location_00341', 'ego_location_00342', 'ego_location_00343', 'ego_location_00344', 'ego_location_00345', 'ego_location_00346', 'ego_location_00347', 'ego_location_00348', 'ego_location_00349', 'ego_location_00350', 'ego_location_00351', 'ego_location_00352', 'ego_location_00353', 'ego_location_00354', 'ego_location_00355', 'ego_location_00356', 'ego_location_00357', 'ego_location_00358', 'ego_location_00359', 'ego_location_00360', 'ego_location_00361', 'ego_location_00362', 'ego_location_00363', 'ego_location_00364', 'ego_location_00365', 'ego_location_00366', 'ego_location_00367', 'ego_location_00368', 'ego_location_00369', 'ego_location_00370', 'ego_location_00371', 'ego_location_00372', 'ego_location_00373', 'ego_location_00374', 'ego_location_00375', 'ego_location_00376', 'ego_location_00377', 'ego_location_00378', 'ego_location_00379', 'ego_location_00380', 'ego_location_00381', 'ego_location_00382', 'ego_location_00383', 'ego_location_00384', 'ego_location_00385', 'ego_location_00386', 'ego_location_00387', 'ego_location_00388', 'ego_location_00389', 'ego_location_00390', 'ego_location_00391', 'ego_location_00392', 'ego_location_00393', 'ego_location_00394', 'ego_location_00395', 'ego_location_00396', 'ego_location_00397', 'ego_location_00398', 'ego_location_00399', 'ego_location_00400', 'ego_location_00401', 'ego_location_00402', 'ego_location_00403', 'ego_location_00404', 'ego_location_00405', 'ego_location_00406', 'ego_location_00407', 'ego_location_00408', 'ego_location_00409', 'ego_location_00410', 'ego_location_00411', 'ego_location_00412', 'ego_location_00413', 'ego_location_00414', 'ego_location_00415', 'ego_location_00416', 'ego_location_00417', 'ego_location_00418', 'ego_location_00419', 'ego_location_00420', 'ego_location_00421', 'ego_location_00422', 'ego_location_00423', 'ego_location_00424', 'ego_location_00425', 'ego_location_00426', 'ego_location_00427', 'ego_location_00428', 'ego_location_00429', 'ego_location_00430', 'ego_location_00431', 'ego_location_00432', 'ego_location_00433', 'ego_location_00434', 'ego_location_00435', 'ego_location_00436', 'ego_location_00437', 'ego_location_00438', 'ego_location_00439', 'ego_location_00440', 'ego_location_00441', 'ego_location_00442', 'ego_location_00443', 'ego_location_00444', 'ego_location_00445', 'ego_location_00446', 'ego_location_00447', 'ego_location_00448', 'ego_location_00449', 'ego_location_00450', 'ego_location_00451', 'ego_location_00452', 'ego_location_00453', 'ego_location_00454', 'ego_location_00455', 'ego_location_00456', 'ego_location_00457', 'ego_location_00458', 'ego_location_00459', 'ego_location_00460', 'ego_location_00461', 'ego_location_00462', 'ego_location_00463', 'ego_location_00464', 'ego_location_00465', 'ego_location_00466', 'ego_location_00467', 'ego_location_00468', 'ego_location_00469', 'ego_location_00470', 'ego_location_00471', 'ego_location_00472', 'ego_location_00473', 'ego_location_00474', 'ego_location_00475', 'ego_location_00476', 'ego_location_00477', 'ego_location_00478', 'ego_location_00479', 'ego_location_00480', 'ego_location_00481', 'ego_location_00482', 'ego_location_00483', 'ego_location_00484', 'ego_location_00485', 'ego_location_00486', 'ego_location_00487', 'ego_location_00488', 'ego_location_00489', 'ego_location_00490', 'ego_location_00491', 'ego_location_00492', 'ego_location_00493', 'ego_location_00494', 'ego_location_00495', 'ego_location_00496', 'ego_location_00497', 'ego_location_00498', 'ego_location_00499', 'ego_location_00500', 'ego_location_00501', 'ego_location_00502', 'ego_location_00503', 'ego_location_00504', 'ego_location_00505', 'ego_location_00506', 'ego_location_00507', 'ego_location_00508', 'ego_location_00509', 'ego_location_00510', 'ego_location_00511', 'ego_location_00512', 'ego_location_00513', 'ego_location_00514', 'ego_location_00515', 'ego_location_00516', 'ego_location_00517', 'ego_location_00518', 'ego_location_00519', 'ego_location_00520', 'ego_location_00521', 'ego_location_00522', 'ego_location_00523', 'ego_location_00524', 'ego_location_00525', 'ego_location_00526', 'ego_location_00527', 'ego_location_00528', 'ego_location_00529', 'ego_location_00530', 'ego_location_00531', 'ego_location_00532', 'ego_location_00533', 'ego_location_00534', 'ego_location_00535', 'ego_location_00536', 'ego_location_00537', 'ego_location_00538', 'ego_location_00539', 'ego_location_00540', 'ego_location_00541', 'ego_location_00542', 'ego_location_00543', 'ego_location_00544', 'ego_location_00545', 'ego_location_00546', 'ego_location_00547', 'ego_location_00548', 'ego_location_00549', 'ego_location_00550', 'ego_location_00551', 'ego_location_00552', 'ego_location_00553', 'ego_location_00554', 'ego_location_00555', 'ego_location_00556', 'ego_location_00557', 'ego_location_00558', 'ego_location_00559', 'ego_location_00560', 'ego_location_00561', 'ego_location_00562', 'ego_location_00563', 'ego_location_00564', 'ego_location_00565', 'ego_location_00566', 'ego_location_00567', 'ego_location_00568', 'ego_location_00569', 'ego_location_00570', 'ego_location_00571', 'ego_location_00572', 'ego_location_00573', 'ego_location_00574', 'ego_location_00575', 'ego_location_00576', 'ego_location_00577', 'ego_location_00578', 'ego_location_00579', 'ego_location_00580', 'ego_location_00581', 'ego_location_00582', 'ego_location_00583', 'ego_location_00584', 'ego_location_00585', 'ego_location_00586', 'ego_location_00587', 'ego_location_00588', 'ego_location_00589', 'ego_location_00590', 'ego_location_00591', 'ego_location_00592', 'ego_location_00593', 'ego_location_00594', 'ego_location_00595', 'ego_location_00596', 'ego_location_00597', 'ego_location_00598', 'ego_location_00599', 'ego_location_00600', 'ego_location_00601', 'ego_location_00602', 'ego_location_00603', 'ego_location_00604', 'ego_location_00605', 'ego_location_00606', 'ego_location_00607', 'ego_location_00608', 'ego_location_00609', 'ego_location_00610', 'ego_location_00611', 'ego_location_00612', 'ego_location_00613', 'ego_location_00614', 'ego_location_00615', 'ego_location_00616', 'ego_location_00617', 'ego_location_00618', 'ego_location_00619', 'ego_location_00620', 'ego_location_00621', 'ego_location_00622', 'ego_location_00623', 'ego_location_00624', 'ego_location_00625', 'ego_location_00626', 'ego_location_00627', 'ego_location_00628', 'ego_location_00629', 'ego_location_00630', 'ego_location_00631', 'ego_location_00632', 'ego_location_00633', 'ego_location_00634', 'ego_location_00635', 'ego_location_00636', 'ego_location_00637', 'ego_location_00638', 'ego_location_00639', 'ego_location_00640', 'ego_location_00641', 'ego_location_00642', 'ego_location_00643', 'ego_location_00644', 'ego_location_00645', 'ego_location_00646', 'ego_location_00647', 'ego_location_00648', 'ego_location_00649', 'ego_location_00650', 'ego_location_00651', 'ego_location_00652', 'ego_location_00653', 'ego_location_00654', 'ego_location_00655', 'ego_location_00656', 'ego_location_00657', 'ego_location_00658', 'ego_location_00659', 'ego_location_00660', 'ego_location_00661', 'ego_location_00662', 'ego_location_00663', 'ego_location_00664', 'ego_location_00665', 'ego_location_00666', 'ego_location_00667', 'ego_location_00668', 'ego_location_00669', 'ego_location_00670', 'ego_location_00671', 'ego_location_00672', 'ego_location_00673', 'ego_location_00674', 'ego_location_00675', 'ego_location_00676', 'ego_location_00677', 'ego_location_00678', 'ego_location_00679', 'ego_location_00680', 'ego_location_00681', 'ego_location_00682', 'ego_location_00683', 'ego_location_00684', 'ego_location_00685', 'ego_location_00686', 'ego_location_00687', 'ego_location_00688', 'ego_location_00689', 'ego_location_00690', 'ego_location_00691', 'ego_location_00692', 'ego_location_00693', 'ego_location_00694', 'ego_location_00695', 'ego_location_00696', 'ego_location_00697', 'ego_location_00698', 'ego_location_00699', 'ego_location_00700', 'ego_location_00701', 'ego_location_00702', 'ego_location_00703', 'ego_location_00704', 'ego_location_00705', 'ego_location_00706', 'ego_location_00707', 'ego_location_00708', 'ego_location_00709', 'ego_location_00710', 'ego_location_00711', 'ego_location_00712', 'ego_location_00713', 'ego_location_00714', 'ego_location_00715', 'ego_location_00716', 'ego_location_00717', 'ego_location_00718', 'ego_location_00719', 'ego_location_00720', 'ego_location_00721', 'ego_location_00722', 'ego_location_00723', 'ego_location_00724', 'ego_location_00725', 'ego_location_00726', 'ego_location_00727', 'ego_location_00728', 'ego_location_00729', 'ego_location_00730', 'ego_location_00731', 'ego_location_00732', 'ego_location_00733', 'ego_location_00734', 'ego_location_00735', 'ego_location_00736', 'ego_location_00737', 'ego_location_00738', 'ego_location_00739', 'ego_location_00740', 'ego_location_00741', 'ego_location_00742', 'ego_location_00743', 'ego_location_00744', 'ego_location_00745', 'ego_location_00746', 'ego_location_00747', 'ego_location_00748', 'ego_location_00749', 'ego_location_00750', 'ego_location_00751', 'ego_location_00752', 'ego_location_00753', 'ego_location_00754', 'ego_location_00755', 'ego_location_00756', 'ego_location_00757', 'ego_location_00758', 'ego_location_00759', 'ego_location_00760', 'ego_location_00761', 'ego_location_00762', 'ego_location_00763', 'ego_location_00764', 'ego_location_00765', 'ego_location_00766', 'ego_location_00767', 'ego_location_00768', 'ego_location_00769', 'ego_location_00770', 'ego_location_00771', 'ego_location_00772', 'ego_location_00773', 'ego_location_00774', 'ego_location_00775', 'ego_location_00776', 'ego_location_00777', 'ego_location_00778', 'ego_location_00779', 'ego_location_00780', 'ego_location_00781', 'ego_location_00782', 'ego_location_00783', 'ego_location_00784', 'ego_location_00785', 'ego_location_00786', 'ego_location_00787', 'ego_location_00788', 'ego_location_00789', 'ego_location_00790', 'ego_location_00791', 'ego_location_00792', 'ego_location_00793', 'ego_location_00794', 'ego_location_00795', 'ego_location_00796', 'ego_location_00797', 'ego_location_00798', 'ego_location_00799', 'ego_location_00800', 'ego_location_00801', 'ego_location_00802', 'ego_rotation_00000', 'ego_rotation_00001', 'ego_rotation_00002', 'ego_rotation_00003', 'ego_rotation_00004', 'ego_rotation_00005', 'ego_rotation_00006', 'ego_rotation_00007', 'ego_rotation_00008', 'ego_rotation_00009', 'ego_rotation_00010', 'ego_rotation_00011', 'ego_rotation_00012', 'ego_rotation_00013', 'ego_rotation_00014', 'ego_rotation_00015', 'ego_rotation_00016', 'ego_rotation_00017', 'ego_rotation_00018', 'ego_rotation_00019', 'ego_rotation_00020', 'ego_rotation_00021', 'ego_rotation_00022', 'ego_rotation_00023', 'ego_rotation_00024', 'ego_rotation_00025', 'ego_rotation_00026', 'ego_rotation_00027', 'ego_rotation_00028', 'ego_rotation_00029', 'ego_rotation_00030', 'ego_rotation_00031', 'ego_rotation_00032', 'ego_rotation_00033', 'ego_rotation_00034', 'ego_rotation_00035', 'ego_rotation_00036', 'ego_rotation_00037', 'ego_rotation_00038', 'ego_rotation_00039', 'ego_rotation_00040', 'ego_rotation_00041', 'ego_rotation_00042', 'ego_rotation_00043', 'ego_rotation_00044', 'ego_rotation_00045', 'ego_rotation_00046', 'ego_rotation_00047', 'ego_rotation_00048', 'ego_rotation_00049', 'ego_rotation_00050', 'ego_rotation_00051', 'ego_rotation_00052', 'ego_rotation_00053', 'ego_rotation_00054', 'ego_rotation_00055', 'ego_rotation_00056', 'ego_rotation_00057', 'ego_rotation_00058', 'ego_rotation_00059', 'ego_rotation_00060', 'ego_rotation_00061', 'ego_rotation_00062', 'ego_rotation_00063', 'ego_rotation_00064', 'ego_rotation_00065', 'ego_rotation_00066', 'ego_rotation_00067', 'ego_rotation_00068', 'ego_rotation_00069', 'ego_rotation_00070', 'ego_rotation_00071', 'ego_rotation_00072', 'ego_rotation_00073', 'ego_rotation_00074', 'ego_rotation_00075', 'ego_rotation_00076', 'ego_rotation_00077', 'ego_rotation_00078', 'ego_rotation_00079', 'ego_rotation_00080', 'ego_rotation_00081', 'ego_rotation_00082', 'ego_rotation_00083', 'ego_rotation_00084', 'ego_rotation_00085', 'ego_rotation_00086', 'ego_rotation_00087', 'ego_rotation_00088', 'ego_rotation_00089', 'ego_rotation_00090', 'ego_rotation_00091', 'ego_rotation_00092', 'ego_rotation_00093', 'ego_rotation_00094', 'ego_rotation_00095', 'ego_rotation_00096', 'ego_rotation_00097', 'ego_rotation_00098', 'ego_rotation_00099', 'ego_rotation_00100', 'ego_rotation_00101', 'ego_rotation_00102', 'ego_rotation_00103', 'ego_rotation_00104', 'ego_rotation_00105', 'ego_rotation_00106', 'ego_rotation_00107', 'ego_rotation_00108', 'ego_rotation_00109', 'ego_rotation_00110', 'ego_rotation_00111', 'ego_rotation_00112', 'ego_rotation_00113', 'ego_rotation_00114', 'ego_rotation_00115', 'ego_rotation_00116', 'ego_rotation_00117', 'ego_rotation_00118', 'ego_rotation_00119', 'ego_rotation_00120', 'ego_rotation_00121', 'ego_rotation_00122', 'ego_rotation_00123', 'ego_rotation_00124', 'ego_rotation_00125', 'ego_rotation_00126', 'ego_rotation_00127', 'ego_rotation_00128', 'ego_rotation_00129', 'ego_rotation_00130', 'ego_rotation_00131', 'ego_rotation_00132', 'ego_rotation_00133', 'ego_rotation_00134', 'ego_rotation_00135', 'ego_rotation_00136', 'ego_rotation_00137', 'ego_rotation_00138', 'ego_rotation_00139', 'ego_rotation_00140', 'ego_rotation_00141', 'ego_rotation_00142', 'ego_rotation_00143', 'ego_rotation_00144', 'ego_rotation_00145', 'ego_rotation_00146', 'ego_rotation_00147', 'ego_rotation_00148', 'ego_rotation_00149', 'ego_rotation_00150', 'ego_rotation_00151', 'ego_rotation_00152', 'ego_rotation_00153', 'ego_rotation_00154', 'ego_rotation_00155', 'ego_rotation_00156', 'ego_rotation_00157', 'ego_rotation_00158', 'ego_rotation_00159', 'ego_rotation_00160', 'ego_rotation_00161', 'ego_rotation_00162', 'ego_rotation_00163', 'ego_rotation_00164', 'ego_rotation_00165', 'ego_rotation_00166', 'ego_rotation_00167', 'ego_rotation_00168', 'ego_rotation_00169', 'ego_rotation_00170', 'ego_rotation_00171', 'ego_rotation_00172', 'ego_rotation_00173', 'ego_rotation_00174', 'ego_rotation_00175', 'ego_rotation_00176', 'ego_rotation_00177', 'ego_rotation_00178', 'ego_rotation_00179', 'ego_rotation_00180', 'ego_rotation_00181', 'ego_rotation_00182', 'ego_rotation_00183', 'ego_rotation_00184', 'ego_rotation_00185', 'ego_rotation_00186', 'ego_rotation_00187', 'ego_rotation_00188', 'ego_rotation_00189', 'ego_rotation_00190', 'ego_rotation_00191', 'ego_rotation_00192', 'ego_rotation_00193', 'ego_rotation_00194', 'ego_rotation_00195', 'ego_rotation_00196', 'ego_rotation_00197', 'ego_rotation_00198', 'ego_rotation_00199', 'ego_rotation_00200', 'ego_rotation_00201', 'ego_rotation_00202', 'ego_rotation_00203', 'ego_rotation_00204', 'ego_rotation_00205', 'ego_rotation_00206', 'ego_rotation_00207', 'ego_rotation_00208', 'ego_rotation_00209', 'ego_rotation_00210', 'ego_rotation_00211', 'ego_rotation_00212', 'ego_rotation_00213', 'ego_rotation_00214', 'ego_rotation_00215', 'ego_rotation_00216', 'ego_rotation_00217', 'ego_rotation_00218', 'ego_rotation_00219', 'ego_rotation_00220', 'ego_rotation_00221', 'ego_rotation_00222', 'ego_rotation_00223', 'ego_rotation_00224', 'ego_rotation_00225', 'ego_rotation_00226', 'ego_rotation_00227', 'ego_rotation_00228', 'ego_rotation_00229', 'ego_rotation_00230', 'ego_rotation_00231', 'ego_rotation_00232', 'ego_rotation_00233', 'ego_rotation_00234', 'ego_rotation_00235', 'ego_rotation_00236', 'ego_rotation_00237', 'ego_rotation_00238', 'ego_rotation_00239', 'ego_rotation_00240', 'ego_rotation_00241', 'ego_rotation_00242', 'ego_rotation_00243', 'ego_rotation_00244', 'ego_rotation_00245', 'ego_rotation_00246', 'ego_rotation_00247', 'ego_rotation_00248', 'ego_rotation_00249', 'ego_rotation_00250', 'ego_rotation_00251', 'ego_rotation_00252', 'ego_rotation_00253', 'ego_rotation_00254', 'ego_rotation_00255', 'ego_rotation_00256', 'ego_rotation_00257', 'ego_rotation_00258', 'ego_rotation_00259', 'ego_rotation_00260', 'ego_rotation_00261', 'ego_rotation_00262', 'ego_rotation_00263', 'ego_rotation_00264', 'ego_rotation_00265', 'ego_rotation_00266', 'ego_rotation_00267', 'ego_rotation_00268', 'ego_rotation_00269', 'ego_rotation_00270', 'ego_rotation_00271', 'ego_rotation_00272', 'ego_rotation_00273', 'ego_rotation_00274', 'ego_rotation_00275', 'ego_rotation_00276', 'ego_rotation_00277', 'ego_rotation_00278', 'ego_rotation_00279', 'ego_rotation_00280', 'ego_rotation_00281', 'ego_rotation_00282', 'ego_rotation_00283', 'ego_rotation_00284', 'ego_rotation_00285', 'ego_rotation_00286', 'ego_rotation_00287', 'ego_rotation_00288', 'ego_rotation_00289', 'ego_rotation_00290', 'ego_rotation_00291', 'ego_rotation_00292', 'ego_rotation_00293', 'ego_rotation_00294', 'ego_rotation_00295', 'ego_rotation_00296', 'ego_rotation_00297', 'ego_rotation_00298', 'ego_rotation_00299', 'ego_rotation_00300', 'ego_rotation_00301', 'ego_rotation_00302', 'ego_rotation_00303', 'ego_rotation_00304', 'ego_rotation_00305', 'ego_rotation_00306', 'ego_rotation_00307', 'ego_rotation_00308', 'ego_rotation_00309', 'ego_rotation_00310', 'ego_rotation_00311', 'ego_rotation_00312', 'ego_rotation_00313', 'ego_rotation_00314', 'ego_rotation_00315', 'ego_rotation_00316', 'ego_rotation_00317', 'ego_rotation_00318', 'ego_rotation_00319', 'ego_rotation_00320', 'ego_rotation_00321', 'ego_rotation_00322', 'ego_rotation_00323', 'ego_rotation_00324', 'ego_rotation_00325', 'ego_rotation_00326', 'ego_rotation_00327', 'ego_rotation_00328', 'ego_rotation_00329', 'ego_rotation_00330', 'ego_rotation_00331', 'ego_rotation_00332', 'ego_rotation_00333', 'ego_rotation_00334', 'ego_rotation_00335', 'ego_rotation_00336', 'ego_rotation_00337', 'ego_rotation_00338', 'ego_rotation_00339', 'ego_rotation_00340', 'ego_rotation_00341', 'ego_rotation_00342', 'ego_rotation_00343', 'ego_rotation_00344', 'ego_rotation_00345', 'ego_rotation_00346', 'ego_rotation_00347', 'ego_rotation_00348', 'ego_rotation_00349', 'ego_rotation_00350', 'ego_rotation_00351', 'ego_rotation_00352', 'ego_rotation_00353', 'ego_rotation_00354', 'ego_rotation_00355', 'ego_rotation_00356', 'ego_rotation_00357', 'ego_rotation_00358', 'ego_rotation_00359', 'ego_rotation_00360', 'ego_rotation_00361', 'ego_rotation_00362', 'ego_rotation_00363', 'ego_rotation_00364', 'ego_rotation_00365', 'ego_rotation_00366', 'ego_rotation_00367', 'ego_rotation_00368', 'ego_rotation_00369', 'ego_rotation_00370', 'ego_rotation_00371', 'ego_rotation_00372', 'ego_rotation_00373', 'ego_rotation_00374', 'ego_rotation_00375', 'ego_rotation_00376', 'ego_rotation_00377', 'ego_rotation_00378', 'ego_rotation_00379', 'ego_rotation_00380', 'ego_rotation_00381', 'ego_rotation_00382', 'ego_rotation_00383', 'ego_rotation_00384', 'ego_rotation_00385', 'ego_rotation_00386', 'ego_rotation_00387', 'ego_rotation_00388', 'ego_rotation_00389', 'ego_rotation_00390', 'ego_rotation_00391', 'ego_rotation_00392', 'ego_rotation_00393', 'ego_rotation_00394', 'ego_rotation_00395', 'ego_rotation_00396', 'ego_rotation_00397', 'ego_rotation_00398', 'ego_rotation_00399', 'ego_rotation_00400', 'ego_rotation_00401', 'ego_rotation_00402', 'ego_rotation_00403', 'ego_rotation_00404', 'ego_rotation_00405', 'ego_rotation_00406', 'ego_rotation_00407', 'ego_rotation_00408', 'ego_rotation_00409', 'ego_rotation_00410', 'ego_rotation_00411', 'ego_rotation_00412', 'ego_rotation_00413', 'ego_rotation_00414', 'ego_rotation_00415', 'ego_rotation_00416', 'ego_rotation_00417', 'ego_rotation_00418', 'ego_rotation_00419', 'ego_rotation_00420', 'ego_rotation_00421', 'ego_rotation_00422', 'ego_rotation_00423', 'ego_rotation_00424', 'ego_rotation_00425', 'ego_rotation_00426', 'ego_rotation_00427', 'ego_rotation_00428', 'ego_rotation_00429', 'ego_rotation_00430', 'ego_rotation_00431', 'ego_rotation_00432', 'ego_rotation_00433', 'ego_rotation_00434', 'ego_rotation_00435', 'ego_rotation_00436', 'ego_rotation_00437', 'ego_rotation_00438', 'ego_rotation_00439', 'ego_rotation_00440', 'ego_rotation_00441', 'ego_rotation_00442', 'ego_rotation_00443', 'ego_rotation_00444', 'ego_rotation_00445', 'ego_rotation_00446', 'ego_rotation_00447', 'ego_rotation_00448', 'ego_rotation_00449', 'ego_rotation_00450', 'ego_rotation_00451', 'ego_rotation_00452', 'ego_rotation_00453', 'ego_rotation_00454', 'ego_rotation_00455', 'ego_rotation_00456', 'ego_rotation_00457', 'ego_rotation_00458', 'ego_rotation_00459', 'ego_rotation_00460', 'ego_rotation_00461', 'ego_rotation_00462', 'ego_rotation_00463', 'ego_rotation_00464', 'ego_rotation_00465', 'ego_rotation_00466', 'ego_rotation_00467', 'ego_rotation_00468', 'ego_rotation_00469', 'ego_rotation_00470', 'ego_rotation_00471', 'ego_rotation_00472', 'ego_rotation_00473', 'ego_rotation_00474', 'ego_rotation_00475', 'ego_rotation_00476', 'ego_rotation_00477', 'ego_rotation_00478', 'ego_rotation_00479', 'ego_rotation_00480', 'ego_rotation_00481', 'ego_rotation_00482', 'ego_rotation_00483', 'ego_rotation_00484', 'ego_rotation_00485', 'ego_rotation_00486', 'ego_rotation_00487', 'ego_rotation_00488', 'ego_rotation_00489', 'ego_rotation_00490', 'ego_rotation_00491', 'ego_rotation_00492', 'ego_rotation_00493', 'ego_rotation_00494', 'ego_rotation_00495', 'ego_rotation_00496', 'ego_rotation_00497', 'ego_rotation_00498', 'ego_rotation_00499', 'ego_rotation_00500', 'ego_rotation_00501', 'ego_rotation_00502', 'ego_rotation_00503', 'ego_rotation_00504', 'ego_rotation_00505', 'ego_rotation_00506', 'ego_rotation_00507', 'ego_rotation_00508', 'ego_rotation_00509', 'ego_rotation_00510', 'ego_rotation_00511', 'ego_rotation_00512', 'ego_rotation_00513', 'ego_rotation_00514', 'ego_rotation_00515', 'ego_rotation_00516', 'ego_rotation_00517', 'ego_rotation_00518', 'ego_rotation_00519', 'ego_rotation_00520', 'ego_rotation_00521', 'ego_rotation_00522', 'ego_rotation_00523', 'ego_rotation_00524', 'ego_rotation_00525', 'ego_rotation_00526', 'ego_rotation_00527', 'ego_rotation_00528', 'ego_rotation_00529', 'ego_rotation_00530', 'ego_rotation_00531', 'ego_rotation_00532', 'ego_rotation_00533', 'ego_rotation_00534', 'ego_rotation_00535', 'ego_rotation_00536', 'ego_rotation_00537', 'ego_rotation_00538', 'ego_rotation_00539', 'ego_rotation_00540', 'ego_rotation_00541', 'ego_rotation_00542', 'ego_rotation_00543', 'ego_rotation_00544', 'ego_rotation_00545', 'ego_rotation_00546', 'ego_rotation_00547', 'ego_rotation_00548', 'ego_rotation_00549', 'ego_rotation_00550', 'ego_rotation_00551', 'ego_rotation_00552', 'ego_rotation_00553', 'ego_rotation_00554', 'ego_rotation_00555', 'ego_rotation_00556', 'ego_rotation_00557', 'ego_rotation_00558', 'ego_rotation_00559', 'ego_rotation_00560', 'ego_rotation_00561', 'ego_rotation_00562', 'ego_rotation_00563', 'ego_rotation_00564', 'ego_rotation_00565', 'ego_rotation_00566', 'ego_rotation_00567', 'ego_rotation_00568', 'ego_rotation_00569', 'ego_rotation_00570', 'ego_rotation_00571', 'ego_rotation_00572', 'ego_rotation_00573', 'ego_rotation_00574', 'ego_rotation_00575', 'ego_rotation_00576', 'ego_rotation_00577', 'ego_rotation_00578', 'ego_rotation_00579', 'ego_rotation_00580', 'ego_rotation_00581', 'ego_rotation_00582', 'ego_rotation_00583', 'ego_rotation_00584', 'ego_rotation_00585', 'ego_rotation_00586', 'ego_rotation_00587', 'ego_rotation_00588', 'ego_rotation_00589', 'ego_rotation_00590', 'ego_rotation_00591', 'ego_rotation_00592', 'ego_rotation_00593', 'ego_rotation_00594', 'ego_rotation_00595', 'ego_rotation_00596', 'ego_rotation_00597', 'ego_rotation_00598', 'ego_rotation_00599', 'ego_rotation_00600', 'ego_rotation_00601', 'ego_rotation_00602', 'ego_rotation_00603', 'ego_rotation_00604', 'ego_rotation_00605', 'ego_rotation_00606', 'ego_rotation_00607', 'ego_rotation_00608', 'ego_rotation_00609', 'ego_rotation_00610', 'ego_rotation_00611', 'ego_rotation_00612', 'ego_rotation_00613', 'ego_rotation_00614', 'ego_rotation_00615', 'ego_rotation_00616', 'ego_rotation_00617', 'ego_rotation_00618', 'ego_rotation_00619', 'ego_rotation_00620', 'ego_rotation_00621', 'ego_rotation_00622', 'ego_rotation_00623', 'ego_rotation_00624', 'ego_rotation_00625', 'ego_rotation_00626', 'ego_rotation_00627', 'ego_rotation_00628', 'ego_rotation_00629', 'ego_rotation_00630', 'ego_rotation_00631', 'ego_rotation_00632', 'ego_rotation_00633', 'ego_rotation_00634', 'ego_rotation_00635', 'ego_rotation_00636', 'ego_rotation_00637', 'ego_rotation_00638', 'ego_rotation_00639', 'ego_rotation_00640', 'ego_rotation_00641', 'ego_rotation_00642', 'ego_rotation_00643', 'ego_rotation_00644', 'ego_rotation_00645', 'ego_rotation_00646', 'ego_rotation_00647', 'ego_rotation_00648', 'ego_rotation_00649', 'ego_rotation_00650', 'ego_rotation_00651', 'ego_rotation_00652', 'ego_rotation_00653', 'ego_rotation_00654', 'ego_rotation_00655', 'ego_rotation_00656', 'ego_rotation_00657', 'ego_rotation_00658', 'ego_rotation_00659', 'ego_rotation_00660', 'ego_rotation_00661', 'ego_rotation_00662', 'ego_rotation_00663', 'ego_rotation_00664', 'ego_rotation_00665', 'ego_rotation_00666', 'ego_rotation_00667', 'ego_rotation_00668', 'ego_rotation_00669', 'ego_rotation_00670', 'ego_rotation_00671', 'ego_rotation_00672', 'ego_rotation_00673', 'ego_rotation_00674', 'ego_rotation_00675', 'ego_rotation_00676', 'ego_rotation_00677', 'ego_rotation_00678', 'ego_rotation_00679', 'ego_rotation_00680', 'ego_rotation_00681', 'ego_rotation_00682', 'ego_rotation_00683', 'ego_rotation_00684', 'ego_rotation_00685', 'ego_rotation_00686', 'ego_rotation_00687', 'ego_rotation_00688', 'ego_rotation_00689', 'ego_rotation_00690', 'ego_rotation_00691', 'ego_rotation_00692', 'ego_rotation_00693', 'ego_rotation_00694', 'ego_rotation_00695', 'ego_rotation_00696', 'ego_rotation_00697', 'ego_rotation_00698', 'ego_rotation_00699', 'ego_rotation_00700', 'ego_rotation_00701', 'ego_rotation_00702', 'ego_rotation_00703', 'ego_rotation_00704', 'ego_rotation_00705', 'ego_rotation_00706', 'ego_rotation_00707', 'ego_rotation_00708', 'ego_rotation_00709', 'ego_rotation_00710', 'ego_rotation_00711', 'ego_rotation_00712', 'ego_rotation_00713', 'ego_rotation_00714', 'ego_rotation_00715', 'ego_rotation_00716', 'ego_rotation_00717', 'ego_rotation_00718', 'ego_rotation_00719', 'ego_rotation_00720', 'ego_rotation_00721', 'ego_rotation_00722', 'ego_rotation_00723', 'ego_rotation_00724', 'ego_rotation_00725', 'ego_rotation_00726', 'ego_rotation_00727', 'ego_rotation_00728', 'ego_rotation_00729', 'ego_rotation_00730', 'ego_rotation_00731', 'ego_rotation_00732', 'ego_rotation_00733', 'ego_rotation_00734', 'ego_rotation_00735', 'ego_rotation_00736', 'ego_rotation_00737', 'ego_rotation_00738', 'ego_rotation_00739', 'ego_rotation_00740', 'ego_rotation_00741', 'ego_rotation_00742', 'ego_rotation_00743', 'ego_rotation_00744', 'ego_rotation_00745', 'ego_rotation_00746', 'ego_rotation_00747', 'ego_rotation_00748', 'ego_rotation_00749', 'ego_rotation_00750', 'ego_rotation_00751', 'ego_rotation_00752', 'ego_rotation_00753', 'ego_rotation_00754', 'ego_rotation_00755', 'ego_rotation_00756', 'ego_rotation_00757', 'ego_rotation_00758', 'ego_rotation_00759', 'ego_rotation_00760', 'ego_rotation_00761', 'ego_rotation_00762', 'ego_rotation_00763', 'ego_rotation_00764', 'ego_rotation_00765', 'ego_rotation_00766', 'ego_rotation_00767', 'ego_rotation_00768', 'ego_rotation_00769', 'ego_rotation_00770', 'ego_rotation_00771', 'ego_rotation_00772', 'ego_rotation_00773', 'ego_rotation_00774', 'ego_rotation_00775', 'ego_rotation_00776', 'ego_rotation_00777', 'ego_rotation_00778', 'ego_rotation_00779', 'ego_rotation_00780', 'ego_rotation_00781', 'ego_rotation_00782', 'ego_rotation_00783', 'ego_rotation_00784', 'ego_rotation_00785', 'ego_rotation_00786', 'ego_rotation_00787', 'ego_rotation_00788', 'ego_rotation_00789', 'ego_rotation_00790', 'ego_rotation_00791', 'ego_rotation_00792', 'ego_rotation_00793', 'ego_rotation_00794', 'ego_rotation_00795', 'ego_rotation_00796', 'ego_rotation_00797', 'ego_rotation_00798', 'ego_rotation_00799', 'ego_rotation_00800', 'ego_rotation_00801', 'ego_rotation_00802', 'lbl_00000', 'lbl_00001', 'lbl_00002', 'lbl_00003', 'lbl_00004', 'lbl_00005', 'lbl_00006', 'lbl_00007', 'lbl_00008', 'lbl_00009', 'lbl_00010', 'lbl_00011', 'lbl_00012', 'lbl_00013', 'lbl_00014', 'lbl_00015', 'lbl_00016', 'lbl_00017', 'lbl_00018', 'lbl_00019', 'lbl_00020', 'lbl_00021', 'lbl_00022', 'lbl_00023', 'lbl_00024', 'lbl_00025', 'lbl_00026', 'lbl_00027', 'lbl_00028', 'lbl_00029', 'lbl_00030', 'lbl_00031', 'lbl_00032', 'lbl_00033', 'lbl_00034', 'lbl_00035', 'lbl_00036', 'lbl_00037', 'lbl_00038', 'lbl_00039', 'lbl_00040', 'lbl_00041', 'lbl_00042', 'lbl_00043', 'lbl_00044', 'lbl_00045', 'lbl_00046', 'lbl_00047', 'lbl_00048', 'lbl_00049', 'lbl_00050', 'lbl_00051', 'lbl_00052', 'lbl_00053', 'lbl_00054', 'lbl_00055', 'lbl_00056', 'lbl_00057', 'lbl_00058', 'lbl_00059', 'lbl_00060', 'lbl_00061', 'lbl_00062', 'lbl_00063', 'lbl_00064', 'lbl_00065', 'lbl_00066', 'lbl_00067', 'lbl_00068', 'lbl_00069', 'lbl_00070', 'lbl_00071', 'lbl_00072', 'lbl_00073', 'lbl_00074', 'lbl_00075', 'lbl_00076', 'lbl_00077', 'lbl_00078', 'lbl_00079', 'lbl_00080', 'lbl_00081', 'lbl_00082', 'lbl_00083', 'lbl_00084', 'lbl_00085', 'lbl_00086', 'lbl_00087', 'lbl_00088', 'lbl_00089', 'lbl_00090', 'lbl_00091', 'lbl_00092', 'lbl_00093', 'lbl_00094', 'lbl_00095', 'lbl_00096', 'lbl_00097', 'lbl_00098', 'lbl_00099', 'lbl_00100', 'lbl_00101', 'lbl_00102', 'lbl_00103', 'lbl_00104', 'lbl_00105', 'lbl_00106', 'lbl_00107', 'lbl_00108', 'lbl_00109', 'lbl_00110', 'lbl_00111', 'lbl_00112', 'lbl_00113', 'lbl_00114', 'lbl_00115', 'lbl_00116', 'lbl_00117', 'lbl_00118', 'lbl_00119', 'lbl_00120', 'lbl_00121', 'lbl_00122', 'lbl_00123', 'lbl_00124', 'lbl_00125', 'lbl_00126', 'lbl_00127', 'lbl_00128', 'lbl_00129', 'lbl_00130', 'lbl_00131', 'lbl_00132', 'lbl_00133', 'lbl_00134', 'lbl_00135', 'lbl_00136', 'lbl_00137', 'lbl_00138', 'lbl_00139', 'lbl_00140', 'lbl_00141', 'lbl_00142', 'lbl_00143', 'lbl_00144', 'lbl_00145', 'lbl_00146', 'lbl_00147', 'lbl_00148', 'lbl_00149', 'lbl_00150', 'lbl_00151', 'lbl_00152', 'lbl_00153', 'lbl_00154', 'lbl_00155', 'lbl_00156', 'lbl_00157', 'lbl_00158', 'lbl_00159', 'lbl_00160', 'lbl_00161', 'lbl_00162', 'lbl_00163', 'lbl_00164', 'lbl_00165', 'lbl_00166', 'lbl_00167', 'lbl_00168', 'lbl_00169', 'lbl_00170', 'lbl_00171', 'lbl_00172', 'lbl_00173', 'lbl_00174', 'lbl_00175', 'lbl_00176', 'lbl_00177', 'lbl_00178', 'lbl_00179', 'lbl_00180', 'lbl_00181', 'lbl_00182', 'lbl_00183', 'lbl_00184', 'lbl_00185', 'lbl_00186', 'lbl_00187', 'lbl_00188', 'lbl_00189', 'lbl_00190', 'lbl_00191', 'lbl_00192', 'lbl_00193', 'lbl_00194', 'lbl_00195', 'lbl_00196', 'lbl_00197', 'lbl_00198', 'lbl_00199', 'lbl_00200', 'lbl_00201', 'lbl_00202', 'lbl_00203', 'lbl_00204', 'lbl_00205', 'lbl_00206', 'lbl_00207', 'lbl_00208', 'lbl_00209', 'lbl_00210', 'lbl_00211', 'lbl_00212', 'lbl_00213', 'lbl_00214', 'lbl_00215', 'lbl_00216', 'lbl_00217', 'lbl_00218', 'lbl_00219', 'lbl_00220', 'lbl_00221', 'lbl_00222', 'lbl_00223', 'lbl_00224', 'lbl_00225', 'lbl_00226', 'lbl_00227', 'lbl_00228', 'lbl_00229', 'lbl_00230', 'lbl_00231', 'lbl_00232', 'lbl_00233', 'lbl_00234', 'lbl_00235', 'lbl_00236', 'lbl_00237', 'lbl_00238', 'lbl_00239', 'lbl_00240', 'lbl_00241', 'lbl_00242', 'lbl_00243', 'lbl_00244', 'lbl_00245', 'lbl_00246', 'lbl_00247', 'lbl_00248', 'lbl_00249', 'lbl_00250', 'lbl_00251', 'lbl_00252', 'lbl_00253', 'lbl_00254', 'lbl_00255', 'lbl_00256', 'lbl_00257', 'lbl_00258', 'lbl_00259', 'lbl_00260', 'lbl_00261', 'lbl_00262', 'lbl_00263', 'lbl_00264', 'lbl_00265', 'lbl_00266', 'lbl_00267', 'lbl_00268', 'lbl_00269', 'lbl_00270', 'lbl_00271', 'lbl_00272', 'lbl_00273', 'lbl_00274', 'lbl_00275', 'lbl_00276', 'lbl_00277', 'lbl_00278', 'lbl_00279', 'lbl_00280', 'lbl_00281', 'lbl_00282', 'lbl_00283', 'lbl_00284', 'lbl_00285', 'lbl_00286', 'lbl_00287', 'lbl_00288', 'lbl_00289', 'lbl_00290', 'lbl_00291', 'lbl_00292', 'lbl_00293', 'lbl_00294', 'lbl_00295', 'lbl_00296', 'lbl_00297', 'lbl_00298', 'lbl_00299', 'lbl_00300', 'lbl_00301', 'lbl_00302', 'lbl_00303', 'lbl_00304', 'lbl_00305', 'lbl_00306', 'lbl_00307', 'lbl_00308', 'lbl_00309', 'lbl_00310', 'lbl_00311', 'lbl_00312', 'lbl_00313', 'lbl_00314', 'lbl_00315', 'lbl_00316', 'lbl_00317', 'lbl_00318', 'lbl_00319', 'lbl_00320', 'lbl_00321', 'lbl_00322', 'lbl_00323', 'lbl_00324', 'lbl_00325', 'lbl_00326', 'lbl_00327', 'lbl_00328', 'lbl_00329', 'lbl_00330', 'lbl_00331', 'lbl_00332', 'lbl_00333', 'lbl_00334', 'lbl_00335', 'lbl_00336', 'lbl_00337', 'lbl_00338', 'lbl_00339', 'lbl_00340', 'lbl_00341', 'lbl_00342', 'lbl_00343', 'lbl_00344', 'lbl_00345', 'lbl_00346', 'lbl_00347', 'lbl_00348', 'lbl_00349', 'lbl_00350', 'lbl_00351', 'lbl_00352', 'lbl_00353', 'lbl_00354', 'lbl_00355', 'lbl_00356', 'lbl_00357', 'lbl_00358', 'lbl_00359', 'lbl_00360', 'lbl_00361', 'lbl_00362', 'lbl_00363', 'lbl_00364', 'lbl_00365', 'lbl_00366', 'lbl_00367', 'lbl_00368', 'lbl_00369', 'lbl_00370', 'lbl_00371', 'lbl_00372', 'lbl_00373', 'lbl_00374', 'lbl_00375', 'lbl_00376', 'lbl_00377', 'lbl_00378', 'lbl_00379', 'lbl_00380', 'lbl_00381', 'lbl_00382', 'lbl_00383', 'lbl_00384', 'lbl_00385', 'lbl_00386', 'lbl_00387', 'lbl_00388', 'lbl_00389', 'lbl_00390', 'lbl_00391', 'lbl_00392', 'lbl_00393', 'lbl_00394', 'lbl_00395', 'lbl_00396', 'lbl_00397', 'lbl_00398', 'lbl_00399', 'lbl_00400', 'lbl_00401', 'lbl_00402', 'lbl_00403', 'lbl_00404', 'lbl_00405', 'lbl_00406', 'lbl_00407', 'lbl_00408', 'lbl_00409', 'lbl_00410', 'lbl_00411', 'lbl_00412', 'lbl_00413', 'lbl_00414', 'lbl_00415', 'lbl_00416', 'lbl_00417', 'lbl_00418', 'lbl_00419', 'lbl_00420', 'lbl_00421', 'lbl_00422', 'lbl_00423', 'lbl_00424', 'lbl_00425', 'lbl_00426', 'lbl_00427', 'lbl_00428', 'lbl_00429', 'lbl_00430', 'lbl_00431', 'lbl_00432', 'lbl_00433', 'lbl_00434', 'lbl_00435', 'lbl_00436', 'lbl_00437', 'lbl_00438', 'lbl_00439', 'lbl_00440', 'lbl_00441', 'lbl_00442', 'lbl_00443', 'lbl_00444', 'lbl_00445', 'lbl_00446', 'lbl_00447', 'lbl_00448', 'lbl_00449', 'lbl_00450', 'lbl_00451', 'lbl_00452', 'lbl_00453', 'lbl_00454', 'lbl_00455', 'lbl_00456', 'lbl_00457', 'lbl_00458', 'lbl_00459', 'lbl_00460', 'lbl_00461', 'lbl_00462', 'lbl_00463', 'lbl_00464', 'lbl_00465', 'lbl_00466', 'lbl_00467', 'lbl_00468', 'lbl_00469', 'lbl_00470', 'lbl_00471', 'lbl_00472', 'lbl_00473', 'lbl_00474', 'lbl_00475', 'lbl_00476', 'lbl_00477', 'lbl_00478', 'lbl_00479', 'lbl_00480', 'lbl_00481', 'lbl_00482', 'lbl_00483', 'lbl_00484', 'lbl_00485', 'lbl_00486', 'lbl_00487', 'lbl_00488', 'lbl_00489', 'lbl_00490', 'lbl_00491', 'lbl_00492', 'lbl_00493', 'lbl_00494', 'lbl_00495', 'lbl_00496', 'lbl_00497', 'lbl_00498', 'lbl_00499', 'lbl_00500', 'lbl_00501', 'lbl_00502', 'lbl_00503', 'lbl_00504', 'lbl_00505', 'lbl_00506', 'lbl_00507', 'lbl_00508', 'lbl_00509', 'lbl_00510', 'lbl_00511', 'lbl_00512', 'lbl_00513', 'lbl_00514', 'lbl_00515', 'lbl_00516', 'lbl_00517', 'lbl_00518', 'lbl_00519', 'lbl_00520', 'lbl_00521', 'lbl_00522', 'lbl_00523', 'lbl_00524', 'lbl_00525', 'lbl_00526', 'lbl_00527', 'lbl_00528', 'lbl_00529', 'lbl_00530', 'lbl_00531', 'lbl_00532', 'lbl_00533', 'lbl_00534', 'lbl_00535', 'lbl_00536', 'lbl_00537', 'lbl_00538', 'lbl_00539', 'lbl_00540', 'lbl_00541', 'lbl_00542', 'lbl_00543', 'lbl_00544', 'lbl_00545', 'lbl_00546', 'lbl_00547', 'lbl_00548', 'lbl_00549', 'lbl_00550', 'lbl_00551', 'lbl_00552', 'lbl_00553', 'lbl_00554', 'lbl_00555', 'lbl_00556', 'lbl_00557', 'lbl_00558', 'lbl_00559', 'lbl_00560', 'lbl_00561', 'lbl_00562', 'lbl_00563', 'lbl_00564', 'lbl_00565', 'lbl_00566', 'lbl_00567', 'lbl_00568', 'lbl_00569', 'lbl_00570', 'lbl_00571', 'lbl_00572', 'lbl_00573', 'lbl_00574', 'lbl_00575', 'lbl_00576', 'lbl_00577', 'lbl_00578', 'lbl_00579', 'lbl_00580', 'lbl_00581', 'lbl_00582', 'lbl_00583', 'lbl_00584', 'lbl_00585', 'lbl_00586', 'lbl_00587', 'lbl_00588', 'lbl_00589', 'lbl_00590', 'lbl_00591', 'lbl_00592', 'lbl_00593', 'lbl_00594', 'lbl_00595', 'lbl_00596', 'lbl_00597', 'lbl_00598', 'lbl_00599', 'lbl_00600', 'lbl_00601', 'lbl_00602', 'lbl_00603', 'lbl_00604', 'lbl_00605', 'lbl_00606', 'lbl_00607', 'lbl_00608', 'lbl_00609', 'lbl_00610', 'lbl_00611', 'lbl_00612', 'lbl_00613', 'lbl_00614', 'lbl_00615', 'lbl_00616', 'lbl_00617', 'lbl_00618', 'lbl_00619', 'lbl_00620', 'lbl_00621', 'lbl_00622', 'lbl_00623', 'lbl_00624', 'lbl_00625', 'lbl_00626', 'lbl_00627', 'lbl_00628', 'lbl_00629', 'lbl_00630', 'lbl_00631', 'lbl_00632', 'lbl_00633', 'lbl_00634', 'lbl_00635', 'lbl_00636', 'lbl_00637', 'lbl_00638', 'lbl_00639', 'lbl_00640', 'lbl_00641', 'lbl_00642', 'lbl_00643', 'lbl_00644', 'lbl_00645', 'lbl_00646', 'lbl_00647', 'lbl_00648', 'lbl_00649', 'lbl_00650', 'lbl_00651', 'lbl_00652', 'lbl_00653', 'lbl_00654', 'lbl_00655', 'lbl_00656', 'lbl_00657', 'lbl_00658', 'lbl_00659', 'lbl_00660', 'lbl_00661', 'lbl_00662', 'lbl_00663', 'lbl_00664', 'lbl_00665', 'lbl_00666', 'lbl_00667', 'lbl_00668', 'lbl_00669', 'lbl_00670', 'lbl_00671', 'lbl_00672', 'lbl_00673', 'lbl_00674', 'lbl_00675', 'lbl_00676', 'lbl_00677', 'lbl_00678', 'lbl_00679', 'lbl_00680', 'lbl_00681', 'lbl_00682', 'lbl_00683', 'lbl_00684', 'lbl_00685', 'lbl_00686', 'lbl_00687', 'lbl_00688', 'lbl_00689', 'lbl_00690', 'lbl_00691', 'lbl_00692', 'lbl_00693', 'lbl_00694', 'lbl_00695', 'lbl_00696', 'lbl_00697', 'lbl_00698', 'lbl_00699', 'lbl_00700', 'lbl_00701', 'lbl_00702', 'lbl_00703', 'lbl_00704', 'lbl_00705', 'lbl_00706', 'lbl_00707', 'lbl_00708', 'lbl_00709', 'lbl_00710', 'lbl_00711', 'lbl_00712', 'lbl_00713', 'lbl_00714', 'lbl_00715', 'lbl_00716', 'lbl_00717', 'lbl_00718', 'lbl_00719', 'lbl_00720', 'lbl_00721', 'lbl_00722', 'lbl_00723', 'lbl_00724', 'lbl_00725', 'lbl_00726', 'lbl_00727', 'lbl_00728', 'lbl_00729', 'lbl_00730', 'lbl_00731', 'lbl_00732', 'lbl_00733', 'lbl_00734', 'lbl_00735', 'lbl_00736', 'lbl_00737', 'lbl_00738', 'lbl_00739', 'lbl_00740', 'lbl_00741', 'lbl_00742', 'lbl_00743', 'lbl_00744', 'lbl_00745', 'lbl_00746', 'lbl_00747', 'lbl_00748', 'lbl_00749', 'lbl_00750', 'lbl_00751', 'lbl_00752', 'lbl_00753', 'lbl_00754', 'lbl_00755', 'lbl_00756', 'lbl_00757', 'lbl_00758', 'lbl_00759', 'lbl_00760', 'lbl_00761', 'lbl_00762', 'lbl_00763', 'lbl_00764', 'lbl_00765', 'lbl_00766', 'lbl_00767', 'lbl_00768', 'lbl_00769', 'lbl_00770', 'lbl_00771', 'lbl_00772', 'lbl_00773', 'lbl_00774', 'lbl_00775', 'lbl_00776', 'lbl_00777', 'lbl_00778', 'lbl_00779', 'lbl_00780', 'lbl_00781', 'lbl_00782', 'lbl_00783', 'lbl_00784', 'lbl_00785', 'lbl_00786', 'lbl_00787', 'lbl_00788', 'lbl_00789', 'lbl_00790', 'lbl_00791', 'lbl_00792', 'lbl_00793', 'lbl_00794', 'lbl_00795', 'lbl_00796', 'lbl_00797', 'lbl_00798', 'lbl_00799', 'lbl_00800', 'lbl_00801', 'lbl_00802', 'len', 'loc_00000', 'loc_00001', 'loc_00002', 'loc_00003', 'loc_00004', 'loc_00005', 'loc_00006', 'loc_00007', 'loc_00008', 'loc_00009', 'loc_00010', 'loc_00011', 'loc_00012', 'loc_00013', 'loc_00014', 'loc_00015', 'loc_00016', 'loc_00017', 'loc_00018', 'loc_00019', 'loc_00020', 'loc_00021', 'loc_00022', 'loc_00023', 'loc_00024', 'loc_00025', 'loc_00026', 'loc_00027', 'loc_00028', 'loc_00029', 'loc_00030', 'loc_00031', 'loc_00032', 'loc_00033', 'loc_00034', 'loc_00035', 'loc_00036', 'loc_00037', 'loc_00038', 'loc_00039', 'loc_00040', 'loc_00041', 'loc_00042', 'loc_00043', 'loc_00044', 'loc_00045', 'loc_00046', 'loc_00047', 'loc_00048', 'loc_00049', 'loc_00050', 'loc_00051', 'loc_00052', 'loc_00053', 'loc_00054', 'loc_00055', 'loc_00056', 'loc_00057', 'loc_00058', 'loc_00059', 'loc_00060', 'loc_00061', 'loc_00062', 'loc_00063', 'loc_00064', 'loc_00065', 'loc_00066', 'loc_00067', 'loc_00068', 'loc_00069', 'loc_00070', 'loc_00071', 'loc_00072', 'loc_00073', 'loc_00074', 'loc_00075', 'loc_00076', 'loc_00077', 'loc_00078', 'loc_00079', 'loc_00080', 'loc_00081', 'loc_00082', 'loc_00083', 'loc_00084', 'loc_00085', 'loc_00086', 'loc_00087', 'loc_00088', 'loc_00089', 'loc_00090', 'loc_00091', 'loc_00092', 'loc_00093', 'loc_00094', 'loc_00095', 'loc_00096', 'loc_00097', 'loc_00098', 'loc_00099', 'loc_00100', 'loc_00101', 'loc_00102', 'loc_00103', 'loc_00104', 'loc_00105', 'loc_00106', 'loc_00107', 'loc_00108', 'loc_00109', 'loc_00110', 'loc_00111', 'loc_00112', 'loc_00113', 'loc_00114', 'loc_00115', 'loc_00116', 'loc_00117', 'loc_00118', 'loc_00119', 'loc_00120', 'loc_00121', 'loc_00122', 'loc_00123', 'loc_00124', 'loc_00125', 'loc_00126', 'loc_00127', 'loc_00128', 'loc_00129', 'loc_00130', 'loc_00131', 'loc_00132', 'loc_00133', 'loc_00134', 'loc_00135', 'loc_00136', 'loc_00137', 'loc_00138', 'loc_00139', 'loc_00140', 'loc_00141', 'loc_00142', 'loc_00143', 'loc_00144', 'loc_00145', 'loc_00146', 'loc_00147', 'loc_00148', 'loc_00149', 'loc_00150', 'loc_00151', 'loc_00152', 'loc_00153', 'loc_00154', 'loc_00155', 'loc_00156', 'loc_00157', 'loc_00158', 'loc_00159', 'loc_00160', 'loc_00161', 'loc_00162', 'loc_00163', 'loc_00164', 'loc_00165', 'loc_00166', 'loc_00167', 'loc_00168', 'loc_00169', 'loc_00170', 'loc_00171', 'loc_00172', 'loc_00173', 'loc_00174', 'loc_00175', 'loc_00176', 'loc_00177', 'loc_00178', 'loc_00179', 'loc_00180', 'loc_00181', 'loc_00182', 'loc_00183', 'loc_00184', 'loc_00185', 'loc_00186', 'loc_00187', 'loc_00188', 'loc_00189', 'loc_00190', 'loc_00191', 'loc_00192', 'loc_00193', 'loc_00194', 'loc_00195', 'loc_00196', 'loc_00197', 'loc_00198', 'loc_00199', 'loc_00200', 'loc_00201', 'loc_00202', 'loc_00203', 'loc_00204', 'loc_00205', 'loc_00206', 'loc_00207', 'loc_00208', 'loc_00209', 'loc_00210', 'loc_00211', 'loc_00212', 'loc_00213', 'loc_00214', 'loc_00215', 'loc_00216', 'loc_00217', 'loc_00218', 'loc_00219', 'loc_00220', 'loc_00221', 'loc_00222', 'loc_00223', 'loc_00224', 'loc_00225', 'loc_00226', 'loc_00227', 'loc_00228', 'loc_00229', 'loc_00230', 'loc_00231', 'loc_00232', 'loc_00233', 'loc_00234', 'loc_00235', 'loc_00236', 'loc_00237', 'loc_00238', 'loc_00239', 'loc_00240', 'loc_00241', 'loc_00242', 'loc_00243', 'loc_00244', 'loc_00245', 'loc_00246', 'loc_00247', 'loc_00248', 'loc_00249', 'loc_00250', 'loc_00251', 'loc_00252', 'loc_00253', 'loc_00254', 'loc_00255', 'loc_00256', 'loc_00257', 'loc_00258', 'loc_00259', 'loc_00260', 'loc_00261', 'loc_00262', 'loc_00263', 'loc_00264', 'loc_00265', 'loc_00266', 'loc_00267', 'loc_00268', 'loc_00269', 'loc_00270', 'loc_00271', 'loc_00272', 'loc_00273', 'loc_00274', 'loc_00275', 'loc_00276', 'loc_00277', 'loc_00278', 'loc_00279', 'loc_00280', 'loc_00281', 'loc_00282', 'loc_00283', 'loc_00284', 'loc_00285', 'loc_00286', 'loc_00287', 'loc_00288', 'loc_00289', 'loc_00290', 'loc_00291', 'loc_00292', 'loc_00293', 'loc_00294', 'loc_00295', 'loc_00296', 'loc_00297', 'loc_00298', 'loc_00299', 'loc_00300', 'loc_00301', 'loc_00302', 'loc_00303', 'loc_00304', 'loc_00305', 'loc_00306', 'loc_00307', 'loc_00308', 'loc_00309', 'loc_00310', 'loc_00311', 'loc_00312', 'loc_00313', 'loc_00314', 'loc_00315', 'loc_00316', 'loc_00317', 'loc_00318', 'loc_00319', 'loc_00320', 'loc_00321', 'loc_00322', 'loc_00323', 'loc_00324', 'loc_00325', 'loc_00326', 'loc_00327', 'loc_00328', 'loc_00329', 'loc_00330', 'loc_00331', 'loc_00332', 'loc_00333', 'loc_00334', 'loc_00335', 'loc_00336', 'loc_00337', 'loc_00338', 'loc_00339', 'loc_00340', 'loc_00341', 'loc_00342', 'loc_00343', 'loc_00344', 'loc_00345', 'loc_00346', 'loc_00347', 'loc_00348', 'loc_00349', 'loc_00350', 'loc_00351', 'loc_00352', 'loc_00353', 'loc_00354', 'loc_00355', 'loc_00356', 'loc_00357', 'loc_00358', 'loc_00359', 'loc_00360', 'loc_00361', 'loc_00362', 'loc_00363', 'loc_00364', 'loc_00365', 'loc_00366', 'loc_00367', 'loc_00368', 'loc_00369', 'loc_00370', 'loc_00371', 'loc_00372', 'loc_00373', 'loc_00374', 'loc_00375', 'loc_00376', 'loc_00377', 'loc_00378', 'loc_00379', 'loc_00380', 'loc_00381', 'loc_00382', 'loc_00383', 'loc_00384', 'loc_00385', 'loc_00386', 'loc_00387', 'loc_00388', 'loc_00389', 'loc_00390', 'loc_00391', 'loc_00392', 'loc_00393', 'loc_00394', 'loc_00395', 'loc_00396', 'loc_00397', 'loc_00398', 'loc_00399', 'loc_00400', 'loc_00401', 'loc_00402', 'loc_00403', 'loc_00404', 'loc_00405', 'loc_00406', 'loc_00407', 'loc_00408', 'loc_00409', 'loc_00410', 'loc_00411', 'loc_00412', 'loc_00413', 'loc_00414', 'loc_00415', 'loc_00416', 'loc_00417', 'loc_00418', 'loc_00419', 'loc_00420', 'loc_00421', 'loc_00422', 'loc_00423', 'loc_00424', 'loc_00425', 'loc_00426', 'loc_00427', 'loc_00428', 'loc_00429', 'loc_00430', 'loc_00431', 'loc_00432', 'loc_00433', 'loc_00434', 'loc_00435', 'loc_00436', 'loc_00437', 'loc_00438', 'loc_00439', 'loc_00440', 'loc_00441', 'loc_00442', 'loc_00443', 'loc_00444', 'loc_00445', 'loc_00446', 'loc_00447', 'loc_00448', 'loc_00449', 'loc_00450', 'loc_00451', 'loc_00452', 'loc_00453', 'loc_00454', 'loc_00455', 'loc_00456', 'loc_00457', 'loc_00458', 'loc_00459', 'loc_00460', 'loc_00461', 'loc_00462', 'loc_00463', 'loc_00464', 'loc_00465', 'loc_00466', 'loc_00467', 'loc_00468', 'loc_00469', 'loc_00470', 'loc_00471', 'loc_00472', 'loc_00473', 'loc_00474', 'loc_00475', 'loc_00476', 'loc_00477', 'loc_00478', 'loc_00479', 'loc_00480', 'loc_00481', 'loc_00482', 'loc_00483', 'loc_00484', 'loc_00485', 'loc_00486', 'loc_00487', 'loc_00488', 'loc_00489', 'loc_00490', 'loc_00491', 'loc_00492', 'loc_00493', 'loc_00494', 'loc_00495', 'loc_00496', 'loc_00497', 'loc_00498', 'loc_00499', 'loc_00500', 'loc_00501', 'loc_00502', 'loc_00503', 'loc_00504', 'loc_00505', 'loc_00506', 'loc_00507', 'loc_00508', 'loc_00509', 'loc_00510', 'loc_00511', 'loc_00512', 'loc_00513', 'loc_00514', 'loc_00515', 'loc_00516', 'loc_00517', 'loc_00518', 'loc_00519', 'loc_00520', 'loc_00521', 'loc_00522', 'loc_00523', 'loc_00524', 'loc_00525', 'loc_00526', 'loc_00527', 'loc_00528', 'loc_00529', 'loc_00530', 'loc_00531', 'loc_00532', 'loc_00533', 'loc_00534', 'loc_00535', 'loc_00536', 'loc_00537', 'loc_00538', 'loc_00539', 'loc_00540', 'loc_00541', 'loc_00542', 'loc_00543', 'loc_00544', 'loc_00545', 'loc_00546', 'loc_00547', 'loc_00548', 'loc_00549', 'loc_00550', 'loc_00551', 'loc_00552', 'loc_00553', 'loc_00554', 'loc_00555', 'loc_00556', 'loc_00557', 'loc_00558', 'loc_00559', 'loc_00560', 'loc_00561', 'loc_00562', 'loc_00563', 'loc_00564', 'loc_00565', 'loc_00566', 'loc_00567', 'loc_00568', 'loc_00569', 'loc_00570', 'loc_00571', 'loc_00572', 'loc_00573', 'loc_00574', 'loc_00575', 'loc_00576', 'loc_00577', 'loc_00578', 'loc_00579', 'loc_00580', 'loc_00581', 'loc_00582', 'loc_00583', 'loc_00584', 'loc_00585', 'loc_00586', 'loc_00587', 'loc_00588', 'loc_00589', 'loc_00590', 'loc_00591', 'loc_00592', 'loc_00593', 'loc_00594', 'loc_00595', 'loc_00596', 'loc_00597', 'loc_00598', 'loc_00599', 'loc_00600', 'loc_00601', 'loc_00602', 'loc_00603', 'loc_00604', 'loc_00605', 'loc_00606', 'loc_00607', 'loc_00608', 'loc_00609', 'loc_00610', 'loc_00611', 'loc_00612', 'loc_00613', 'loc_00614', 'loc_00615', 'loc_00616', 'loc_00617', 'loc_00618', 'loc_00619', 'loc_00620', 'loc_00621', 'loc_00622', 'loc_00623', 'loc_00624', 'loc_00625', 'loc_00626', 'loc_00627', 'loc_00628', 'loc_00629', 'loc_00630', 'loc_00631', 'loc_00632', 'loc_00633', 'loc_00634', 'loc_00635', 'loc_00636', 'loc_00637', 'loc_00638', 'loc_00639', 'loc_00640', 'loc_00641', 'loc_00642', 'loc_00643', 'loc_00644', 'loc_00645', 'loc_00646', 'loc_00647', 'loc_00648', 'loc_00649', 'loc_00650', 'loc_00651', 'loc_00652', 'loc_00653', 'loc_00654', 'loc_00655', 'loc_00656', 'loc_00657', 'loc_00658', 'loc_00659', 'loc_00660', 'loc_00661', 'loc_00662', 'loc_00663', 'loc_00664', 'loc_00665', 'loc_00666', 'loc_00667', 'loc_00668', 'loc_00669', 'loc_00670', 'loc_00671', 'loc_00672', 'loc_00673', 'loc_00674', 'loc_00675', 'loc_00676', 'loc_00677', 'loc_00678', 'loc_00679', 'loc_00680', 'loc_00681', 'loc_00682', 'loc_00683', 'loc_00684', 'loc_00685', 'loc_00686', 'loc_00687', 'loc_00688', 'loc_00689', 'loc_00690', 'loc_00691', 'loc_00692', 'loc_00693', 'loc_00694', 'loc_00695', 'loc_00696', 'loc_00697', 'loc_00698', 'loc_00699', 'loc_00700', 'loc_00701', 'loc_00702', 'loc_00703', 'loc_00704', 'loc_00705', 'loc_00706', 'loc_00707', 'loc_00708', 'loc_00709', 'loc_00710', 'loc_00711', 'loc_00712', 'loc_00713', 'loc_00714', 'loc_00715', 'loc_00716', 'loc_00717', 'loc_00718', 'loc_00719', 'loc_00720', 'loc_00721', 'loc_00722', 'loc_00723', 'loc_00724', 'loc_00725', 'loc_00726', 'loc_00727', 'loc_00728', 'loc_00729', 'loc_00730', 'loc_00731', 'loc_00732', 'loc_00733', 'loc_00734', 'loc_00735', 'loc_00736', 'loc_00737', 'loc_00738', 'loc_00739', 'loc_00740', 'loc_00741', 'loc_00742', 'loc_00743', 'loc_00744', 'loc_00745', 'loc_00746', 'loc_00747', 'loc_00748', 'loc_00749', 'loc_00750', 'loc_00751', 'loc_00752', 'loc_00753', 'loc_00754', 'loc_00755', 'loc_00756', 'loc_00757', 'loc_00758', 'loc_00759', 'loc_00760', 'loc_00761', 'loc_00762', 'loc_00763', 'loc_00764', 'loc_00765', 'loc_00766', 'loc_00767', 'loc_00768', 'loc_00769', 'loc_00770', 'loc_00771', 'loc_00772', 'loc_00773', 'loc_00774', 'loc_00775', 'loc_00776', 'loc_00777', 'loc_00778', 'loc_00779', 'loc_00780', 'loc_00781', 'loc_00782', 'loc_00783', 'loc_00784', 'loc_00785', 'loc_00786', 'loc_00787', 'loc_00788', 'loc_00789', 'loc_00790', 'loc_00791', 'loc_00792', 'loc_00793', 'loc_00794', 'loc_00795', 'loc_00796', 'loc_00797', 'loc_00798', 'loc_00799', 'loc_00800', 'loc_00801', 'loc_00802', 'narr_rgb_0_00000', 'narr_rgb_0_00001', 'narr_rgb_0_00002', 'narr_rgb_0_00003', 'narr_rgb_0_00004', 'narr_rgb_0_00005', 'narr_rgb_0_00006', 'narr_rgb_0_00007', 'narr_rgb_0_00008', 'narr_rgb_0_00009', 'narr_rgb_0_00010', 'narr_rgb_0_00011', 'narr_rgb_0_00012', 'narr_rgb_0_00013', 'narr_rgb_0_00014', 'narr_rgb_0_00015', 'narr_rgb_0_00016', 'narr_rgb_0_00017', 'narr_rgb_0_00018', 'narr_rgb_0_00019', 'narr_rgb_0_00020', 'narr_rgb_0_00021', 'narr_rgb_0_00022', 'narr_rgb_0_00023', 'narr_rgb_0_00024', 'narr_rgb_0_00025', 'narr_rgb_0_00026', 'narr_rgb_0_00027', 'narr_rgb_0_00028', 'narr_rgb_0_00029', 'narr_rgb_0_00030', 'narr_rgb_0_00031', 'narr_rgb_0_00032', 'narr_rgb_0_00033', 'narr_rgb_0_00034', 'narr_rgb_0_00035', 'narr_rgb_0_00036', 'narr_rgb_0_00037', 'narr_rgb_0_00038', 'narr_rgb_0_00039', 'narr_rgb_0_00040', 'narr_rgb_0_00041', 'narr_rgb_0_00042', 'narr_rgb_0_00043', 'narr_rgb_0_00044', 'narr_rgb_0_00045', 'narr_rgb_0_00046', 'narr_rgb_0_00047', 'narr_rgb_0_00048', 'narr_rgb_0_00049', 'narr_rgb_0_00050', 'narr_rgb_0_00051', 'narr_rgb_0_00052', 'narr_rgb_0_00053', 'narr_rgb_0_00054', 'narr_rgb_0_00055', 'narr_rgb_0_00056', 'narr_rgb_0_00057', 'narr_rgb_0_00058', 'narr_rgb_0_00059', 'narr_rgb_0_00060', 'narr_rgb_0_00061', 'narr_rgb_0_00062', 'narr_rgb_0_00063', 'narr_rgb_0_00064', 'narr_rgb_0_00065', 'narr_rgb_0_00066', 'narr_rgb_0_00067', 'narr_rgb_0_00068', 'narr_rgb_0_00069', 'narr_rgb_0_00070', 'narr_rgb_0_00071', 'narr_rgb_0_00072', 'narr_rgb_0_00073', 'narr_rgb_0_00074', 'narr_rgb_0_00075', 'narr_rgb_0_00076', 'narr_rgb_0_00077', 'narr_rgb_0_00078', 'narr_rgb_0_00079', 'narr_rgb_0_00080', 'narr_rgb_0_00081', 'narr_rgb_0_00082', 'narr_rgb_0_00083', 'narr_rgb_0_00084', 'narr_rgb_0_00085', 'narr_rgb_0_00086', 'narr_rgb_0_00087', 'narr_rgb_0_00088', 'narr_rgb_0_00089', 'narr_rgb_0_00090', 'narr_rgb_0_00091', 'narr_rgb_0_00092', 'narr_rgb_0_00093', 'narr_rgb_0_00094', 'narr_rgb_0_00095', 'narr_rgb_0_00096', 'narr_rgb_0_00097', 'narr_rgb_0_00098', 'narr_rgb_0_00099', 'narr_rgb_0_00100', 'narr_rgb_0_00101', 'narr_rgb_0_00102', 'narr_rgb_0_00103', 'narr_rgb_0_00104', 'narr_rgb_0_00105', 'narr_rgb_0_00106', 'narr_rgb_0_00107', 'narr_rgb_0_00108', 'narr_rgb_0_00109', 'narr_rgb_0_00110', 'narr_rgb_0_00111', 'narr_rgb_0_00112', 'narr_rgb_0_00113', 'narr_rgb_0_00114', 'narr_rgb_0_00115', 'narr_rgb_0_00116', 'narr_rgb_0_00117', 'narr_rgb_0_00118', 'narr_rgb_0_00119', 'narr_rgb_0_00120', 'narr_rgb_0_00121', 'narr_rgb_0_00122', 'narr_rgb_0_00123', 'narr_rgb_0_00124', 'narr_rgb_0_00125', 'narr_rgb_0_00126', 'narr_rgb_0_00127', 'narr_rgb_0_00128', 'narr_rgb_0_00129', 'narr_rgb_0_00130', 'narr_rgb_0_00131', 'narr_rgb_0_00132', 'narr_rgb_0_00133', 'narr_rgb_0_00134', 'narr_rgb_0_00135', 'narr_rgb_0_00136', 'narr_rgb_0_00137', 'narr_rgb_0_00138', 'narr_rgb_0_00139', 'narr_rgb_0_00140', 'narr_rgb_0_00141', 'narr_rgb_0_00142', 'narr_rgb_0_00143', 'narr_rgb_0_00144', 'narr_rgb_0_00145', 'narr_rgb_0_00146', 'narr_rgb_0_00147', 'narr_rgb_0_00148', 'narr_rgb_0_00149', 'narr_rgb_0_00150', 'narr_rgb_0_00151', 'narr_rgb_0_00152', 'narr_rgb_0_00153', 'narr_rgb_0_00154', 'narr_rgb_0_00155', 'narr_rgb_0_00156', 'narr_rgb_0_00157', 'narr_rgb_0_00158', 'narr_rgb_0_00159', 'narr_rgb_0_00160', 'narr_rgb_0_00161', 'narr_rgb_0_00162', 'narr_rgb_0_00163', 'narr_rgb_0_00164', 'narr_rgb_0_00165', 'narr_rgb_0_00166', 'narr_rgb_0_00167', 'narr_rgb_0_00168', 'narr_rgb_0_00169', 'narr_rgb_0_00170', 'narr_rgb_0_00171', 'narr_rgb_0_00172', 'narr_rgb_0_00173', 'narr_rgb_0_00174', 'narr_rgb_0_00175', 'narr_rgb_0_00176', 'narr_rgb_0_00177', 'narr_rgb_0_00178', 'narr_rgb_0_00179', 'narr_rgb_0_00180', 'narr_rgb_0_00181', 'narr_rgb_0_00182', 'narr_rgb_0_00183', 'narr_rgb_0_00184', 'narr_rgb_0_00185', 'narr_rgb_0_00186', 'narr_rgb_0_00187', 'narr_rgb_0_00188', 'narr_rgb_0_00189', 'narr_rgb_0_00190', 'narr_rgb_0_00191', 'narr_rgb_0_00192', 'narr_rgb_0_00193', 'narr_rgb_0_00194', 'narr_rgb_0_00195', 'narr_rgb_0_00196', 'narr_rgb_0_00197', 'narr_rgb_0_00198', 'narr_rgb_0_00199', 'narr_rgb_0_00200', 'narr_rgb_0_00201', 'narr_rgb_0_00202', 'narr_rgb_0_00203', 'narr_rgb_0_00204', 'narr_rgb_0_00205', 'narr_rgb_0_00206', 'narr_rgb_0_00207', 'narr_rgb_0_00208', 'narr_rgb_0_00209', 'narr_rgb_0_00210', 'narr_rgb_0_00211', 'narr_rgb_0_00212', 'narr_rgb_0_00213', 'narr_rgb_0_00214', 'narr_rgb_0_00215', 'narr_rgb_0_00216', 'narr_rgb_0_00217', 'narr_rgb_0_00218', 'narr_rgb_0_00219', 'narr_rgb_0_00220', 'narr_rgb_0_00221', 'narr_rgb_0_00222', 'narr_rgb_0_00223', 'narr_rgb_0_00224', 'narr_rgb_0_00225', 'narr_rgb_0_00226', 'narr_rgb_0_00227', 'narr_rgb_0_00228', 'narr_rgb_0_00229', 'narr_rgb_0_00230', 'narr_rgb_0_00231', 'narr_rgb_0_00232', 'narr_rgb_0_00233', 'narr_rgb_0_00234', 'narr_rgb_0_00235', 'narr_rgb_0_00236', 'narr_rgb_0_00237', 'narr_rgb_0_00238', 'narr_rgb_0_00239', 'narr_rgb_0_00240', 'narr_rgb_0_00241', 'narr_rgb_0_00242', 'narr_rgb_0_00243', 'narr_rgb_0_00244', 'narr_rgb_0_00245', 'narr_rgb_0_00246', 'narr_rgb_0_00247', 'narr_rgb_0_00248', 'narr_rgb_0_00249', 'narr_rgb_0_00250', 'narr_rgb_0_00251', 'narr_rgb_0_00252', 'narr_rgb_0_00253', 'narr_rgb_0_00254', 'narr_rgb_0_00255', 'narr_rgb_0_00256', 'narr_rgb_0_00257', 'narr_rgb_0_00258', 'narr_rgb_0_00259', 'narr_rgb_0_00260', 'narr_rgb_0_00261', 'narr_rgb_0_00262', 'narr_rgb_0_00263', 'narr_rgb_0_00264', 'narr_rgb_0_00265', 'narr_rgb_0_00266', 'narr_rgb_0_00267', 'narr_rgb_0_00268', 'narr_rgb_0_00269', 'narr_rgb_0_00270', 'narr_rgb_0_00271', 'narr_rgb_0_00272', 'narr_rgb_0_00273', 'narr_rgb_0_00274', 'narr_rgb_0_00275', 'narr_rgb_0_00276', 'narr_rgb_0_00277', 'narr_rgb_0_00278', 'narr_rgb_0_00279', 'narr_rgb_0_00280', 'narr_rgb_0_00281', 'narr_rgb_0_00282', 'narr_rgb_0_00283', 'narr_rgb_0_00284', 'narr_rgb_0_00285', 'narr_rgb_0_00286', 'narr_rgb_0_00287', 'narr_rgb_0_00288', 'narr_rgb_0_00289', 'narr_rgb_0_00290', 'narr_rgb_0_00291', 'narr_rgb_0_00292', 'narr_rgb_0_00293', 'narr_rgb_0_00294', 'narr_rgb_0_00295', 'narr_rgb_0_00296', 'narr_rgb_0_00297', 'narr_rgb_0_00298', 'narr_rgb_0_00299', 'narr_rgb_0_00300', 'narr_rgb_0_00301', 'narr_rgb_0_00302', 'narr_rgb_0_00303', 'narr_rgb_0_00304', 'narr_rgb_0_00305', 'narr_rgb_0_00306', 'narr_rgb_0_00307', 'narr_rgb_0_00308', 'narr_rgb_0_00309', 'narr_rgb_0_00310', 'narr_rgb_0_00311', 'narr_rgb_0_00312', 'narr_rgb_0_00313', 'narr_rgb_0_00314', 'narr_rgb_0_00315', 'narr_rgb_0_00316', 'narr_rgb_0_00317', 'narr_rgb_0_00318', 'narr_rgb_0_00319', 'narr_rgb_0_00320', 'narr_rgb_0_00321', 'narr_rgb_0_00322', 'narr_rgb_0_00323', 'narr_rgb_0_00324', 'narr_rgb_0_00325', 'narr_rgb_0_00326', 'narr_rgb_0_00327', 'narr_rgb_0_00328', 'narr_rgb_0_00329', 'narr_rgb_0_00330', 'narr_rgb_0_00331', 'narr_rgb_0_00332', 'narr_rgb_0_00333', 'narr_rgb_0_00334', 'narr_rgb_0_00335', 'narr_rgb_0_00336', 'narr_rgb_0_00337', 'narr_rgb_0_00338', 'narr_rgb_0_00339', 'narr_rgb_0_00340', 'narr_rgb_0_00341', 'narr_rgb_0_00342', 'narr_rgb_0_00343', 'narr_rgb_0_00344', 'narr_rgb_0_00345', 'narr_rgb_0_00346', 'narr_rgb_0_00347', 'narr_rgb_0_00348', 'narr_rgb_0_00349', 'narr_rgb_0_00350', 'narr_rgb_0_00351', 'narr_rgb_0_00352', 'narr_rgb_0_00353', 'narr_rgb_0_00354', 'narr_rgb_0_00355', 'narr_rgb_0_00356', 'narr_rgb_0_00357', 'narr_rgb_0_00358', 'narr_rgb_0_00359', 'narr_rgb_0_00360', 'narr_rgb_0_00361', 'narr_rgb_0_00362', 'narr_rgb_0_00363', 'narr_rgb_0_00364', 'narr_rgb_0_00365', 'narr_rgb_0_00366', 'narr_rgb_0_00367', 'narr_rgb_0_00368', 'narr_rgb_0_00369', 'narr_rgb_0_00370', 'narr_rgb_0_00371', 'narr_rgb_0_00372', 'narr_rgb_0_00373', 'narr_rgb_0_00374', 'narr_rgb_0_00375', 'narr_rgb_0_00376', 'narr_rgb_0_00377', 'narr_rgb_0_00378', 'narr_rgb_0_00379', 'narr_rgb_0_00380', 'narr_rgb_0_00381', 'narr_rgb_0_00382', 'narr_rgb_0_00383', 'narr_rgb_0_00384', 'narr_rgb_0_00385', 'narr_rgb_0_00386', 'narr_rgb_0_00387', 'narr_rgb_0_00388', 'narr_rgb_0_00389', 'narr_rgb_0_00390', 'narr_rgb_0_00391', 'narr_rgb_0_00392', 'narr_rgb_0_00393', 'narr_rgb_0_00394', 'narr_rgb_0_00395', 'narr_rgb_0_00396', 'narr_rgb_0_00397', 'narr_rgb_0_00398', 'narr_rgb_0_00399', 'narr_rgb_0_00400', 'narr_rgb_0_00401', 'narr_rgb_0_00402', 'narr_rgb_0_00403', 'narr_rgb_0_00404', 'narr_rgb_0_00405', 'narr_rgb_0_00406', 'narr_rgb_0_00407', 'narr_rgb_0_00408', 'narr_rgb_0_00409', 'narr_rgb_0_00410', 'narr_rgb_0_00411', 'narr_rgb_0_00412', 'narr_rgb_0_00413', 'narr_rgb_0_00414', 'narr_rgb_0_00415', 'narr_rgb_0_00416', 'narr_rgb_0_00417', 'narr_rgb_0_00418', 'narr_rgb_0_00419', 'narr_rgb_0_00420', 'narr_rgb_0_00421', 'narr_rgb_0_00422', 'narr_rgb_0_00423', 'narr_rgb_0_00424', 'narr_rgb_0_00425', 'narr_rgb_0_00426', 'narr_rgb_0_00427', 'narr_rgb_0_00428', 'narr_rgb_0_00429', 'narr_rgb_0_00430', 'narr_rgb_0_00431', 'narr_rgb_0_00432', 'narr_rgb_0_00433', 'narr_rgb_0_00434', 'narr_rgb_0_00435', 'narr_rgb_0_00436', 'narr_rgb_0_00437', 'narr_rgb_0_00438', 'narr_rgb_0_00439', 'narr_rgb_0_00440', 'narr_rgb_0_00441', 'narr_rgb_0_00442', 'narr_rgb_0_00443', 'narr_rgb_0_00444', 'narr_rgb_0_00445', 'narr_rgb_0_00446', 'narr_rgb_0_00447', 'narr_rgb_0_00448', 'narr_rgb_0_00449', 'narr_rgb_0_00450', 'narr_rgb_0_00451', 'narr_rgb_0_00452', 'narr_rgb_0_00453', 'narr_rgb_0_00454', 'narr_rgb_0_00455', 'narr_rgb_0_00456', 'narr_rgb_0_00457', 'narr_rgb_0_00458', 'narr_rgb_0_00459', 'narr_rgb_0_00460', 'narr_rgb_0_00461', 'narr_rgb_0_00462', 'narr_rgb_0_00463', 'narr_rgb_0_00464', 'narr_rgb_0_00465', 'narr_rgb_0_00466', 'narr_rgb_0_00467', 'narr_rgb_0_00468', 'narr_rgb_0_00469', 'narr_rgb_0_00470', 'narr_rgb_0_00471', 'narr_rgb_0_00472', 'narr_rgb_0_00473', 'narr_rgb_0_00474', 'narr_rgb_0_00475', 'narr_rgb_0_00476', 'narr_rgb_0_00477', 'narr_rgb_0_00478', 'narr_rgb_0_00479', 'narr_rgb_0_00480', 'narr_rgb_0_00481', 'narr_rgb_0_00482', 'narr_rgb_0_00483', 'narr_rgb_0_00484', 'narr_rgb_0_00485', 'narr_rgb_0_00486', 'narr_rgb_0_00487', 'narr_rgb_0_00488', 'narr_rgb_0_00489', 'narr_rgb_0_00490', 'narr_rgb_0_00491', 'narr_rgb_0_00492', 'narr_rgb_0_00493', 'narr_rgb_0_00494', 'narr_rgb_0_00495', 'narr_rgb_0_00496', 'narr_rgb_0_00497', 'narr_rgb_0_00498', 'narr_rgb_0_00499', 'narr_rgb_0_00500', 'narr_rgb_0_00501', 'narr_rgb_0_00502', 'narr_rgb_0_00503', 'narr_rgb_0_00504', 'narr_rgb_0_00505', 'narr_rgb_0_00506', 'narr_rgb_0_00507', 'narr_rgb_0_00508', 'narr_rgb_0_00509', 'narr_rgb_0_00510', 'narr_rgb_0_00511', 'narr_rgb_0_00512', 'narr_rgb_0_00513', 'narr_rgb_0_00514', 'narr_rgb_0_00515', 'narr_rgb_0_00516', 'narr_rgb_0_00517', 'narr_rgb_0_00518', 'narr_rgb_0_00519', 'narr_rgb_0_00520', 'narr_rgb_0_00521', 'narr_rgb_0_00522', 'narr_rgb_0_00523', 'narr_rgb_0_00524', 'narr_rgb_0_00525', 'narr_rgb_0_00526', 'narr_rgb_0_00527', 'narr_rgb_0_00528', 'narr_rgb_0_00529', 'narr_rgb_0_00530', 'narr_rgb_0_00531', 'narr_rgb_0_00532', 'narr_rgb_0_00533', 'narr_rgb_0_00534', 'narr_rgb_0_00535', 'narr_rgb_0_00536', 'narr_rgb_0_00537', 'narr_rgb_0_00538', 'narr_rgb_0_00539', 'narr_rgb_0_00540', 'narr_rgb_0_00541', 'narr_rgb_0_00542', 'narr_rgb_0_00543', 'narr_rgb_0_00544', 'narr_rgb_0_00545', 'narr_rgb_0_00546', 'narr_rgb_0_00547', 'narr_rgb_0_00548', 'narr_rgb_0_00549', 'narr_rgb_0_00550', 'narr_rgb_0_00551', 'narr_rgb_0_00552', 'narr_rgb_0_00553', 'narr_rgb_0_00554', 'narr_rgb_0_00555', 'narr_rgb_0_00556', 'narr_rgb_0_00557', 'narr_rgb_0_00558', 'narr_rgb_0_00559', 'narr_rgb_0_00560', 'narr_rgb_0_00561', 'narr_rgb_0_00562', 'narr_rgb_0_00563', 'narr_rgb_0_00564', 'narr_rgb_0_00565', 'narr_rgb_0_00566', 'narr_rgb_0_00567', 'narr_rgb_0_00568', 'narr_rgb_0_00569', 'narr_rgb_0_00570', 'narr_rgb_0_00571', 'narr_rgb_0_00572', 'narr_rgb_0_00573', 'narr_rgb_0_00574', 'narr_rgb_0_00575', 'narr_rgb_0_00576', 'narr_rgb_0_00577', 'narr_rgb_0_00578', 'narr_rgb_0_00579', 'narr_rgb_0_00580', 'narr_rgb_0_00581', 'narr_rgb_0_00582', 'narr_rgb_0_00583', 'narr_rgb_0_00584', 'narr_rgb_0_00585', 'narr_rgb_0_00586', 'narr_rgb_0_00587', 'narr_rgb_0_00588', 'narr_rgb_0_00589', 'narr_rgb_0_00590', 'narr_rgb_0_00591', 'narr_rgb_0_00592', 'narr_rgb_0_00593', 'narr_rgb_0_00594', 'narr_rgb_0_00595', 'narr_rgb_0_00596', 'narr_rgb_0_00597', 'narr_rgb_0_00598', 'narr_rgb_0_00599', 'narr_rgb_0_00600', 'narr_rgb_0_00601', 'narr_rgb_0_00602', 'narr_rgb_0_00603', 'narr_rgb_0_00604', 'narr_rgb_0_00605', 'narr_rgb_0_00606', 'narr_rgb_0_00607', 'narr_rgb_0_00608', 'narr_rgb_0_00609', 'narr_rgb_0_00610', 'narr_rgb_0_00611', 'narr_rgb_0_00612', 'narr_rgb_0_00613', 'narr_rgb_0_00614', 'narr_rgb_0_00615', 'narr_rgb_0_00616', 'narr_rgb_0_00617', 'narr_rgb_0_00618', 'narr_rgb_0_00619', 'narr_rgb_0_00620', 'narr_rgb_0_00621', 'narr_rgb_0_00622', 'narr_rgb_0_00623', 'narr_rgb_0_00624', 'narr_rgb_0_00625', 'narr_rgb_0_00626', 'narr_rgb_0_00627', 'narr_rgb_0_00628', 'narr_rgb_0_00629', 'narr_rgb_0_00630', 'narr_rgb_0_00631', 'narr_rgb_0_00632', 'narr_rgb_0_00633', 'narr_rgb_0_00634', 'narr_rgb_0_00635', 'narr_rgb_0_00636', 'narr_rgb_0_00637', 'narr_rgb_0_00638', 'narr_rgb_0_00639', 'narr_rgb_0_00640', 'narr_rgb_0_00641', 'narr_rgb_0_00642', 'narr_rgb_0_00643', 'narr_rgb_0_00644', 'narr_rgb_0_00645', 'narr_rgb_0_00646', 'narr_rgb_0_00647', 'narr_rgb_0_00648', 'narr_rgb_0_00649', 'narr_rgb_0_00650', 'narr_rgb_0_00651', 'narr_rgb_0_00652', 'narr_rgb_0_00653', 'narr_rgb_0_00654', 'narr_rgb_0_00655', 'narr_rgb_0_00656', 'narr_rgb_0_00657', 'narr_rgb_0_00658', 'narr_rgb_0_00659', 'narr_rgb_0_00660', 'narr_rgb_0_00661', 'narr_rgb_0_00662', 'narr_rgb_0_00663', 'narr_rgb_0_00664', 'narr_rgb_0_00665', 'narr_rgb_0_00666', 'narr_rgb_0_00667', 'narr_rgb_0_00668', 'narr_rgb_0_00669', 'narr_rgb_0_00670', 'narr_rgb_0_00671', 'narr_rgb_0_00672', 'narr_rgb_0_00673', 'narr_rgb_0_00674', 'narr_rgb_0_00675', 'narr_rgb_0_00676', 'narr_rgb_0_00677', 'narr_rgb_0_00678', 'narr_rgb_0_00679', 'narr_rgb_0_00680', 'narr_rgb_0_00681', 'narr_rgb_0_00682', 'narr_rgb_0_00683', 'narr_rgb_0_00684', 'narr_rgb_0_00685', 'narr_rgb_0_00686', 'narr_rgb_0_00687', 'narr_rgb_0_00688', 'narr_rgb_0_00689', 'narr_rgb_0_00690', 'narr_rgb_0_00691', 'narr_rgb_0_00692', 'narr_rgb_0_00693', 'narr_rgb_0_00694', 'narr_rgb_0_00695', 'narr_rgb_0_00696', 'narr_rgb_0_00697', 'narr_rgb_0_00698', 'narr_rgb_0_00699', 'narr_rgb_0_00700', 'narr_rgb_0_00701', 'narr_rgb_0_00702', 'narr_rgb_0_00703', 'narr_rgb_0_00704', 'narr_rgb_0_00705', 'narr_rgb_0_00706', 'narr_rgb_0_00707', 'narr_rgb_0_00708', 'narr_rgb_0_00709', 'narr_rgb_0_00710', 'narr_rgb_0_00711', 'narr_rgb_0_00712', 'narr_rgb_0_00713', 'narr_rgb_0_00714', 'narr_rgb_0_00715', 'narr_rgb_0_00716', 'narr_rgb_0_00717', 'narr_rgb_0_00718', 'narr_rgb_0_00719', 'narr_rgb_0_00720', 'narr_rgb_0_00721', 'narr_rgb_0_00722', 'narr_rgb_0_00723', 'narr_rgb_0_00724', 'narr_rgb_0_00725', 'narr_rgb_0_00726', 'narr_rgb_0_00727', 'narr_rgb_0_00728', 'narr_rgb_0_00729', 'narr_rgb_0_00730', 'narr_rgb_0_00731', 'narr_rgb_0_00732', 'narr_rgb_0_00733', 'narr_rgb_0_00734', 'narr_rgb_0_00735', 'narr_rgb_0_00736', 'narr_rgb_0_00737', 'narr_rgb_0_00738', 'narr_rgb_0_00739', 'narr_rgb_0_00740', 'narr_rgb_0_00741', 'narr_rgb_0_00742', 'narr_rgb_0_00743', 'narr_rgb_0_00744', 'narr_rgb_0_00745', 'narr_rgb_0_00746', 'narr_rgb_0_00747', 'narr_rgb_0_00748', 'narr_rgb_0_00749', 'narr_rgb_0_00750', 'narr_rgb_0_00751', 'narr_rgb_0_00752', 'narr_rgb_0_00753', 'narr_rgb_0_00754', 'narr_rgb_0_00755', 'narr_rgb_0_00756', 'narr_rgb_0_00757', 'narr_rgb_0_00758', 'narr_rgb_0_00759', 'narr_rgb_0_00760', 'narr_rgb_0_00761', 'narr_rgb_0_00762', 'narr_rgb_0_00763', 'narr_rgb_0_00764', 'narr_rgb_0_00765', 'narr_rgb_0_00766', 'narr_rgb_0_00767', 'narr_rgb_0_00768', 'narr_rgb_0_00769', 'narr_rgb_0_00770', 'narr_rgb_0_00771', 'narr_rgb_0_00772', 'narr_rgb_0_00773', 'narr_rgb_0_00774', 'narr_rgb_0_00775', 'narr_rgb_0_00776', 'narr_rgb_0_00777', 'narr_rgb_0_00778', 'narr_rgb_0_00779', 'narr_rgb_0_00780', 'narr_rgb_0_00781', 'narr_rgb_0_00782', 'narr_rgb_0_00783', 'narr_rgb_0_00784', 'narr_rgb_0_00785', 'narr_rgb_0_00786', 'narr_rgb_0_00787', 'narr_rgb_0_00788', 'narr_rgb_0_00789', 'narr_rgb_0_00790', 'narr_rgb_0_00791', 'narr_rgb_0_00792', 'narr_rgb_0_00793', 'narr_rgb_0_00794', 'narr_rgb_0_00795', 'narr_rgb_0_00796', 'narr_rgb_0_00797', 'narr_rgb_0_00798', 'narr_rgb_0_00799', 'narr_rgb_0_00800', 'narr_rgb_0_00801', 'narr_rgb_0_00802', 'narr_sem_0_00000', 'narr_sem_0_00001', 'narr_sem_0_00002', 'narr_sem_0_00003', 'narr_sem_0_00004', 'narr_sem_0_00005', 'narr_sem_0_00006', 'narr_sem_0_00007', 'narr_sem_0_00008', 'narr_sem_0_00009', 'narr_sem_0_00010', 'narr_sem_0_00011', 'narr_sem_0_00012', 'narr_sem_0_00013', 'narr_sem_0_00014', 'narr_sem_0_00015', 'narr_sem_0_00016', 'narr_sem_0_00017', 'narr_sem_0_00018', 'narr_sem_0_00019', 'narr_sem_0_00020', 'narr_sem_0_00021', 'narr_sem_0_00022', 'narr_sem_0_00023', 'narr_sem_0_00024', 'narr_sem_0_00025', 'narr_sem_0_00026', 'narr_sem_0_00027', 'narr_sem_0_00028', 'narr_sem_0_00029', 'narr_sem_0_00030', 'narr_sem_0_00031', 'narr_sem_0_00032', 'narr_sem_0_00033', 'narr_sem_0_00034', 'narr_sem_0_00035', 'narr_sem_0_00036', 'narr_sem_0_00037', 'narr_sem_0_00038', 'narr_sem_0_00039', 'narr_sem_0_00040', 'narr_sem_0_00041', 'narr_sem_0_00042', 'narr_sem_0_00043', 'narr_sem_0_00044', 'narr_sem_0_00045', 'narr_sem_0_00046', 'narr_sem_0_00047', 'narr_sem_0_00048', 'narr_sem_0_00049', 'narr_sem_0_00050', 'narr_sem_0_00051', 'narr_sem_0_00052', 'narr_sem_0_00053', 'narr_sem_0_00054', 'narr_sem_0_00055', 'narr_sem_0_00056', 'narr_sem_0_00057', 'narr_sem_0_00058', 'narr_sem_0_00059', 'narr_sem_0_00060', 'narr_sem_0_00061', 'narr_sem_0_00062', 'narr_sem_0_00063', 'narr_sem_0_00064', 'narr_sem_0_00065', 'narr_sem_0_00066', 'narr_sem_0_00067', 'narr_sem_0_00068', 'narr_sem_0_00069', 'narr_sem_0_00070', 'narr_sem_0_00071', 'narr_sem_0_00072', 'narr_sem_0_00073', 'narr_sem_0_00074', 'narr_sem_0_00075', 'narr_sem_0_00076', 'narr_sem_0_00077', 'narr_sem_0_00078', 'narr_sem_0_00079', 'narr_sem_0_00080', 'narr_sem_0_00081', 'narr_sem_0_00082', 'narr_sem_0_00083', 'narr_sem_0_00084', 'narr_sem_0_00085', 'narr_sem_0_00086', 'narr_sem_0_00087', 'narr_sem_0_00088', 'narr_sem_0_00089', 'narr_sem_0_00090', 'narr_sem_0_00091', 'narr_sem_0_00092', 'narr_sem_0_00093', 'narr_sem_0_00094', 'narr_sem_0_00095', 'narr_sem_0_00096', 'narr_sem_0_00097', 'narr_sem_0_00098', 'narr_sem_0_00099', 'narr_sem_0_00100', 'narr_sem_0_00101', 'narr_sem_0_00102', 'narr_sem_0_00103', 'narr_sem_0_00104', 'narr_sem_0_00105', 'narr_sem_0_00106', 'narr_sem_0_00107', 'narr_sem_0_00108', 'narr_sem_0_00109', 'narr_sem_0_00110', 'narr_sem_0_00111', 'narr_sem_0_00112', 'narr_sem_0_00113', 'narr_sem_0_00114', 'narr_sem_0_00115', 'narr_sem_0_00116', 'narr_sem_0_00117', 'narr_sem_0_00118', 'narr_sem_0_00119', 'narr_sem_0_00120', 'narr_sem_0_00121', 'narr_sem_0_00122', 'narr_sem_0_00123', 'narr_sem_0_00124', 'narr_sem_0_00125', 'narr_sem_0_00126', 'narr_sem_0_00127', 'narr_sem_0_00128', 'narr_sem_0_00129', 'narr_sem_0_00130', 'narr_sem_0_00131', 'narr_sem_0_00132', 'narr_sem_0_00133', 'narr_sem_0_00134', 'narr_sem_0_00135', 'narr_sem_0_00136', 'narr_sem_0_00137', 'narr_sem_0_00138', 'narr_sem_0_00139', 'narr_sem_0_00140', 'narr_sem_0_00141', 'narr_sem_0_00142', 'narr_sem_0_00143', 'narr_sem_0_00144', 'narr_sem_0_00145', 'narr_sem_0_00146', 'narr_sem_0_00147', 'narr_sem_0_00148', 'narr_sem_0_00149', 'narr_sem_0_00150', 'narr_sem_0_00151', 'narr_sem_0_00152', 'narr_sem_0_00153', 'narr_sem_0_00154', 'narr_sem_0_00155', 'narr_sem_0_00156', 'narr_sem_0_00157', 'narr_sem_0_00158', 'narr_sem_0_00159', 'narr_sem_0_00160', 'narr_sem_0_00161', 'narr_sem_0_00162', 'narr_sem_0_00163', 'narr_sem_0_00164', 'narr_sem_0_00165', 'narr_sem_0_00166', 'narr_sem_0_00167', 'narr_sem_0_00168', 'narr_sem_0_00169', 'narr_sem_0_00170', 'narr_sem_0_00171', 'narr_sem_0_00172', 'narr_sem_0_00173', 'narr_sem_0_00174', 'narr_sem_0_00175', 'narr_sem_0_00176', 'narr_sem_0_00177', 'narr_sem_0_00178', 'narr_sem_0_00179', 'narr_sem_0_00180', 'narr_sem_0_00181', 'narr_sem_0_00182', 'narr_sem_0_00183', 'narr_sem_0_00184', 'narr_sem_0_00185', 'narr_sem_0_00186', 'narr_sem_0_00187', 'narr_sem_0_00188', 'narr_sem_0_00189', 'narr_sem_0_00190', 'narr_sem_0_00191', 'narr_sem_0_00192', 'narr_sem_0_00193', 'narr_sem_0_00194', 'narr_sem_0_00195', 'narr_sem_0_00196', 'narr_sem_0_00197', 'narr_sem_0_00198', 'narr_sem_0_00199', 'narr_sem_0_00200', 'narr_sem_0_00201', 'narr_sem_0_00202', 'narr_sem_0_00203', 'narr_sem_0_00204', 'narr_sem_0_00205', 'narr_sem_0_00206', 'narr_sem_0_00207', 'narr_sem_0_00208', 'narr_sem_0_00209', 'narr_sem_0_00210', 'narr_sem_0_00211', 'narr_sem_0_00212', 'narr_sem_0_00213', 'narr_sem_0_00214', 'narr_sem_0_00215', 'narr_sem_0_00216', 'narr_sem_0_00217', 'narr_sem_0_00218', 'narr_sem_0_00219', 'narr_sem_0_00220', 'narr_sem_0_00221', 'narr_sem_0_00222', 'narr_sem_0_00223', 'narr_sem_0_00224', 'narr_sem_0_00225', 'narr_sem_0_00226', 'narr_sem_0_00227', 'narr_sem_0_00228', 'narr_sem_0_00229', 'narr_sem_0_00230', 'narr_sem_0_00231', 'narr_sem_0_00232', 'narr_sem_0_00233', 'narr_sem_0_00234', 'narr_sem_0_00235', 'narr_sem_0_00236', 'narr_sem_0_00237', 'narr_sem_0_00238', 'narr_sem_0_00239', 'narr_sem_0_00240', 'narr_sem_0_00241', 'narr_sem_0_00242', 'narr_sem_0_00243', 'narr_sem_0_00244', 'narr_sem_0_00245', 'narr_sem_0_00246', 'narr_sem_0_00247', 'narr_sem_0_00248', 'narr_sem_0_00249', 'narr_sem_0_00250', 'narr_sem_0_00251', 'narr_sem_0_00252', 'narr_sem_0_00253', 'narr_sem_0_00254', 'narr_sem_0_00255', 'narr_sem_0_00256', 'narr_sem_0_00257', 'narr_sem_0_00258', 'narr_sem_0_00259', 'narr_sem_0_00260', 'narr_sem_0_00261', 'narr_sem_0_00262', 'narr_sem_0_00263', 'narr_sem_0_00264', 'narr_sem_0_00265', 'narr_sem_0_00266', 'narr_sem_0_00267', 'narr_sem_0_00268', 'narr_sem_0_00269', 'narr_sem_0_00270', 'narr_sem_0_00271', 'narr_sem_0_00272', 'narr_sem_0_00273', 'narr_sem_0_00274', 'narr_sem_0_00275', 'narr_sem_0_00276', 'narr_sem_0_00277', 'narr_sem_0_00278', 'narr_sem_0_00279', 'narr_sem_0_00280', 'narr_sem_0_00281', 'narr_sem_0_00282', 'narr_sem_0_00283', 'narr_sem_0_00284', 'narr_sem_0_00285', 'narr_sem_0_00286', 'narr_sem_0_00287', 'narr_sem_0_00288', 'narr_sem_0_00289', 'narr_sem_0_00290', 'narr_sem_0_00291', 'narr_sem_0_00292', 'narr_sem_0_00293', 'narr_sem_0_00294', 'narr_sem_0_00295', 'narr_sem_0_00296', 'narr_sem_0_00297', 'narr_sem_0_00298', 'narr_sem_0_00299', 'narr_sem_0_00300', 'narr_sem_0_00301', 'narr_sem_0_00302', 'narr_sem_0_00303', 'narr_sem_0_00304', 'narr_sem_0_00305', 'narr_sem_0_00306', 'narr_sem_0_00307', 'narr_sem_0_00308', 'narr_sem_0_00309', 'narr_sem_0_00310', 'narr_sem_0_00311', 'narr_sem_0_00312', 'narr_sem_0_00313', 'narr_sem_0_00314', 'narr_sem_0_00315', 'narr_sem_0_00316', 'narr_sem_0_00317', 'narr_sem_0_00318', 'narr_sem_0_00319', 'narr_sem_0_00320', 'narr_sem_0_00321', 'narr_sem_0_00322', 'narr_sem_0_00323', 'narr_sem_0_00324', 'narr_sem_0_00325', 'narr_sem_0_00326', 'narr_sem_0_00327', 'narr_sem_0_00328', 'narr_sem_0_00329', 'narr_sem_0_00330', 'narr_sem_0_00331', 'narr_sem_0_00332', 'narr_sem_0_00333', 'narr_sem_0_00334', 'narr_sem_0_00335', 'narr_sem_0_00336', 'narr_sem_0_00337', 'narr_sem_0_00338', 'narr_sem_0_00339', 'narr_sem_0_00340', 'narr_sem_0_00341', 'narr_sem_0_00342', 'narr_sem_0_00343', 'narr_sem_0_00344', 'narr_sem_0_00345', 'narr_sem_0_00346', 'narr_sem_0_00347', 'narr_sem_0_00348', 'narr_sem_0_00349', 'narr_sem_0_00350', 'narr_sem_0_00351', 'narr_sem_0_00352', 'narr_sem_0_00353', 'narr_sem_0_00354', 'narr_sem_0_00355', 'narr_sem_0_00356', 'narr_sem_0_00357', 'narr_sem_0_00358', 'narr_sem_0_00359', 'narr_sem_0_00360', 'narr_sem_0_00361', 'narr_sem_0_00362', 'narr_sem_0_00363', 'narr_sem_0_00364', 'narr_sem_0_00365', 'narr_sem_0_00366', 'narr_sem_0_00367', 'narr_sem_0_00368', 'narr_sem_0_00369', 'narr_sem_0_00370', 'narr_sem_0_00371', 'narr_sem_0_00372', 'narr_sem_0_00373', 'narr_sem_0_00374', 'narr_sem_0_00375', 'narr_sem_0_00376', 'narr_sem_0_00377', 'narr_sem_0_00378', 'narr_sem_0_00379', 'narr_sem_0_00380', 'narr_sem_0_00381', 'narr_sem_0_00382', 'narr_sem_0_00383', 'narr_sem_0_00384', 'narr_sem_0_00385', 'narr_sem_0_00386', 'narr_sem_0_00387', 'narr_sem_0_00388', 'narr_sem_0_00389', 'narr_sem_0_00390', 'narr_sem_0_00391', 'narr_sem_0_00392', 'narr_sem_0_00393', 'narr_sem_0_00394', 'narr_sem_0_00395', 'narr_sem_0_00396', 'narr_sem_0_00397', 'narr_sem_0_00398', 'narr_sem_0_00399', 'narr_sem_0_00400', 'narr_sem_0_00401', 'narr_sem_0_00402', 'narr_sem_0_00403', 'narr_sem_0_00404', 'narr_sem_0_00405', 'narr_sem_0_00406', 'narr_sem_0_00407', 'narr_sem_0_00408', 'narr_sem_0_00409', 'narr_sem_0_00410', 'narr_sem_0_00411', 'narr_sem_0_00412', 'narr_sem_0_00413', 'narr_sem_0_00414', 'narr_sem_0_00415', 'narr_sem_0_00416', 'narr_sem_0_00417', 'narr_sem_0_00418', 'narr_sem_0_00419', 'narr_sem_0_00420', 'narr_sem_0_00421', 'narr_sem_0_00422', 'narr_sem_0_00423', 'narr_sem_0_00424', 'narr_sem_0_00425', 'narr_sem_0_00426', 'narr_sem_0_00427', 'narr_sem_0_00428', 'narr_sem_0_00429', 'narr_sem_0_00430', 'narr_sem_0_00431', 'narr_sem_0_00432', 'narr_sem_0_00433', 'narr_sem_0_00434', 'narr_sem_0_00435', 'narr_sem_0_00436', 'narr_sem_0_00437', 'narr_sem_0_00438', 'narr_sem_0_00439', 'narr_sem_0_00440', 'narr_sem_0_00441', 'narr_sem_0_00442', 'narr_sem_0_00443', 'narr_sem_0_00444', 'narr_sem_0_00445', 'narr_sem_0_00446', 'narr_sem_0_00447', 'narr_sem_0_00448', 'narr_sem_0_00449', 'narr_sem_0_00450', 'narr_sem_0_00451', 'narr_sem_0_00452', 'narr_sem_0_00453', 'narr_sem_0_00454', 'narr_sem_0_00455', 'narr_sem_0_00456', 'narr_sem_0_00457', 'narr_sem_0_00458', 'narr_sem_0_00459', 'narr_sem_0_00460', 'narr_sem_0_00461', 'narr_sem_0_00462', 'narr_sem_0_00463', 'narr_sem_0_00464', 'narr_sem_0_00465', 'narr_sem_0_00466', 'narr_sem_0_00467', 'narr_sem_0_00468', 'narr_sem_0_00469', 'narr_sem_0_00470', 'narr_sem_0_00471', 'narr_sem_0_00472', 'narr_sem_0_00473', 'narr_sem_0_00474', 'narr_sem_0_00475', 'narr_sem_0_00476', 'narr_sem_0_00477', 'narr_sem_0_00478', 'narr_sem_0_00479', 'narr_sem_0_00480', 'narr_sem_0_00481', 'narr_sem_0_00482', 'narr_sem_0_00483', 'narr_sem_0_00484', 'narr_sem_0_00485', 'narr_sem_0_00486', 'narr_sem_0_00487', 'narr_sem_0_00488', 'narr_sem_0_00489', 'narr_sem_0_00490', 'narr_sem_0_00491', 'narr_sem_0_00492', 'narr_sem_0_00493', 'narr_sem_0_00494', 'narr_sem_0_00495', 'narr_sem_0_00496', 'narr_sem_0_00497', 'narr_sem_0_00498', 'narr_sem_0_00499', 'narr_sem_0_00500', 'narr_sem_0_00501', 'narr_sem_0_00502', 'narr_sem_0_00503', 'narr_sem_0_00504', 'narr_sem_0_00505', 'narr_sem_0_00506', 'narr_sem_0_00507', 'narr_sem_0_00508', 'narr_sem_0_00509', 'narr_sem_0_00510', 'narr_sem_0_00511', 'narr_sem_0_00512', 'narr_sem_0_00513', 'narr_sem_0_00514', 'narr_sem_0_00515', 'narr_sem_0_00516', 'narr_sem_0_00517', 'narr_sem_0_00518', 'narr_sem_0_00519', 'narr_sem_0_00520', 'narr_sem_0_00521', 'narr_sem_0_00522', 'narr_sem_0_00523', 'narr_sem_0_00524', 'narr_sem_0_00525', 'narr_sem_0_00526', 'narr_sem_0_00527', 'narr_sem_0_00528', 'narr_sem_0_00529', 'narr_sem_0_00530', 'narr_sem_0_00531', 'narr_sem_0_00532', 'narr_sem_0_00533', 'narr_sem_0_00534', 'narr_sem_0_00535', 'narr_sem_0_00536', 'narr_sem_0_00537', 'narr_sem_0_00538', 'narr_sem_0_00539', 'narr_sem_0_00540', 'narr_sem_0_00541', 'narr_sem_0_00542', 'narr_sem_0_00543', 'narr_sem_0_00544', 'narr_sem_0_00545', 'narr_sem_0_00546', 'narr_sem_0_00547', 'narr_sem_0_00548', 'narr_sem_0_00549', 'narr_sem_0_00550', 'narr_sem_0_00551', 'narr_sem_0_00552', 'narr_sem_0_00553', 'narr_sem_0_00554', 'narr_sem_0_00555', 'narr_sem_0_00556', 'narr_sem_0_00557', 'narr_sem_0_00558', 'narr_sem_0_00559', 'narr_sem_0_00560', 'narr_sem_0_00561', 'narr_sem_0_00562', 'narr_sem_0_00563', 'narr_sem_0_00564', 'narr_sem_0_00565', 'narr_sem_0_00566', 'narr_sem_0_00567', 'narr_sem_0_00568', 'narr_sem_0_00569', 'narr_sem_0_00570', 'narr_sem_0_00571', 'narr_sem_0_00572', 'narr_sem_0_00573', 'narr_sem_0_00574', 'narr_sem_0_00575', 'narr_sem_0_00576', 'narr_sem_0_00577', 'narr_sem_0_00578', 'narr_sem_0_00579', 'narr_sem_0_00580', 'narr_sem_0_00581', 'narr_sem_0_00582', 'narr_sem_0_00583', 'narr_sem_0_00584', 'narr_sem_0_00585', 'narr_sem_0_00586', 'narr_sem_0_00587', 'narr_sem_0_00588', 'narr_sem_0_00589', 'narr_sem_0_00590', 'narr_sem_0_00591', 'narr_sem_0_00592', 'narr_sem_0_00593', 'narr_sem_0_00594', 'narr_sem_0_00595', 'narr_sem_0_00596', 'narr_sem_0_00597', 'narr_sem_0_00598', 'narr_sem_0_00599', 'narr_sem_0_00600', 'narr_sem_0_00601', 'narr_sem_0_00602', 'narr_sem_0_00603', 'narr_sem_0_00604', 'narr_sem_0_00605', 'narr_sem_0_00606', 'narr_sem_0_00607', 'narr_sem_0_00608', 'narr_sem_0_00609', 'narr_sem_0_00610', 'narr_sem_0_00611', 'narr_sem_0_00612', 'narr_sem_0_00613', 'narr_sem_0_00614', 'narr_sem_0_00615', 'narr_sem_0_00616', 'narr_sem_0_00617', 'narr_sem_0_00618', 'narr_sem_0_00619', 'narr_sem_0_00620', 'narr_sem_0_00621', 'narr_sem_0_00622', 'narr_sem_0_00623', 'narr_sem_0_00624', 'narr_sem_0_00625', 'narr_sem_0_00626', 'narr_sem_0_00627', 'narr_sem_0_00628', 'narr_sem_0_00629', 'narr_sem_0_00630', 'narr_sem_0_00631', 'narr_sem_0_00632', 'narr_sem_0_00633', 'narr_sem_0_00634', 'narr_sem_0_00635', 'narr_sem_0_00636', 'narr_sem_0_00637', 'narr_sem_0_00638', 'narr_sem_0_00639', 'narr_sem_0_00640', 'narr_sem_0_00641', 'narr_sem_0_00642', 'narr_sem_0_00643', 'narr_sem_0_00644', 'narr_sem_0_00645', 'narr_sem_0_00646', 'narr_sem_0_00647', 'narr_sem_0_00648', 'narr_sem_0_00649', 'narr_sem_0_00650', 'narr_sem_0_00651', 'narr_sem_0_00652', 'narr_sem_0_00653', 'narr_sem_0_00654', 'narr_sem_0_00655', 'narr_sem_0_00656', 'narr_sem_0_00657', 'narr_sem_0_00658', 'narr_sem_0_00659', 'narr_sem_0_00660', 'narr_sem_0_00661', 'narr_sem_0_00662', 'narr_sem_0_00663', 'narr_sem_0_00664', 'narr_sem_0_00665', 'narr_sem_0_00666', 'narr_sem_0_00667', 'narr_sem_0_00668', 'narr_sem_0_00669', 'narr_sem_0_00670', 'narr_sem_0_00671', 'narr_sem_0_00672', 'narr_sem_0_00673', 'narr_sem_0_00674', 'narr_sem_0_00675', 'narr_sem_0_00676', 'narr_sem_0_00677', 'narr_sem_0_00678', 'narr_sem_0_00679', 'narr_sem_0_00680', 'narr_sem_0_00681', 'narr_sem_0_00682', 'narr_sem_0_00683', 'narr_sem_0_00684', 'narr_sem_0_00685', 'narr_sem_0_00686', 'narr_sem_0_00687', 'narr_sem_0_00688', 'narr_sem_0_00689', 'narr_sem_0_00690', 'narr_sem_0_00691', 'narr_sem_0_00692', 'narr_sem_0_00693', 'narr_sem_0_00694', 'narr_sem_0_00695', 'narr_sem_0_00696', 'narr_sem_0_00697', 'narr_sem_0_00698', 'narr_sem_0_00699', 'narr_sem_0_00700', 'narr_sem_0_00701', 'narr_sem_0_00702', 'narr_sem_0_00703', 'narr_sem_0_00704', 'narr_sem_0_00705', 'narr_sem_0_00706', 'narr_sem_0_00707', 'narr_sem_0_00708', 'narr_sem_0_00709', 'narr_sem_0_00710', 'narr_sem_0_00711', 'narr_sem_0_00712', 'narr_sem_0_00713', 'narr_sem_0_00714', 'narr_sem_0_00715', 'narr_sem_0_00716', 'narr_sem_0_00717', 'narr_sem_0_00718', 'narr_sem_0_00719', 'narr_sem_0_00720', 'narr_sem_0_00721', 'narr_sem_0_00722', 'narr_sem_0_00723', 'narr_sem_0_00724', 'narr_sem_0_00725', 'narr_sem_0_00726', 'narr_sem_0_00727', 'narr_sem_0_00728', 'narr_sem_0_00729', 'narr_sem_0_00730', 'narr_sem_0_00731', 'narr_sem_0_00732', 'narr_sem_0_00733', 'narr_sem_0_00734', 'narr_sem_0_00735', 'narr_sem_0_00736', 'narr_sem_0_00737', 'narr_sem_0_00738', 'narr_sem_0_00739', 'narr_sem_0_00740', 'narr_sem_0_00741', 'narr_sem_0_00742', 'narr_sem_0_00743', 'narr_sem_0_00744', 'narr_sem_0_00745', 'narr_sem_0_00746', 'narr_sem_0_00747', 'narr_sem_0_00748', 'narr_sem_0_00749', 'narr_sem_0_00750', 'narr_sem_0_00751', 'narr_sem_0_00752', 'narr_sem_0_00753', 'narr_sem_0_00754', 'narr_sem_0_00755', 'narr_sem_0_00756', 'narr_sem_0_00757', 'narr_sem_0_00758', 'narr_sem_0_00759', 'narr_sem_0_00760', 'narr_sem_0_00761', 'narr_sem_0_00762', 'narr_sem_0_00763', 'narr_sem_0_00764', 'narr_sem_0_00765', 'narr_sem_0_00766', 'narr_sem_0_00767', 'narr_sem_0_00768', 'narr_sem_0_00769', 'narr_sem_0_00770', 'narr_sem_0_00771', 'narr_sem_0_00772', 'narr_sem_0_00773', 'narr_sem_0_00774', 'narr_sem_0_00775', 'narr_sem_0_00776', 'narr_sem_0_00777', 'narr_sem_0_00778', 'narr_sem_0_00779', 'narr_sem_0_00780', 'narr_sem_0_00781', 'narr_sem_0_00782', 'narr_sem_0_00783', 'narr_sem_0_00784', 'narr_sem_0_00785', 'narr_sem_0_00786', 'narr_sem_0_00787', 'narr_sem_0_00788', 'narr_sem_0_00789', 'narr_sem_0_00790', 'narr_sem_0_00791', 'narr_sem_0_00792', 'narr_sem_0_00793', 'narr_sem_0_00794', 'narr_sem_0_00795', 'narr_sem_0_00796', 'narr_sem_0_00797', 'narr_sem_0_00798', 'narr_sem_0_00799', 'narr_sem_0_00800', 'narr_sem_0_00801', 'narr_sem_0_00802', 'rot_00000', 'rot_00001', 'rot_00002', 'rot_00003', 'rot_00004', 'rot_00005', 'rot_00006', 'rot_00007', 'rot_00008', 'rot_00009', 'rot_00010', 'rot_00011', 'rot_00012', 'rot_00013', 'rot_00014', 'rot_00015', 'rot_00016', 'rot_00017', 'rot_00018', 'rot_00019', 'rot_00020', 'rot_00021', 'rot_00022', 'rot_00023', 'rot_00024', 'rot_00025', 'rot_00026', 'rot_00027', 'rot_00028', 'rot_00029', 'rot_00030', 'rot_00031', 'rot_00032', 'rot_00033', 'rot_00034', 'rot_00035', 'rot_00036', 'rot_00037', 'rot_00038', 'rot_00039', 'rot_00040', 'rot_00041', 'rot_00042', 'rot_00043', 'rot_00044', 'rot_00045', 'rot_00046', 'rot_00047', 'rot_00048', 'rot_00049', 'rot_00050', 'rot_00051', 'rot_00052', 'rot_00053', 'rot_00054', 'rot_00055', 'rot_00056', 'rot_00057', 'rot_00058', 'rot_00059', 'rot_00060', 'rot_00061', 'rot_00062', 'rot_00063', 'rot_00064', 'rot_00065', 'rot_00066', 'rot_00067', 'rot_00068', 'rot_00069', 'rot_00070', 'rot_00071', 'rot_00072', 'rot_00073', 'rot_00074', 'rot_00075', 'rot_00076', 'rot_00077', 'rot_00078', 'rot_00079', 'rot_00080', 'rot_00081', 'rot_00082', 'rot_00083', 'rot_00084', 'rot_00085', 'rot_00086', 'rot_00087', 'rot_00088', 'rot_00089', 'rot_00090', 'rot_00091', 'rot_00092', 'rot_00093', 'rot_00094', 'rot_00095', 'rot_00096', 'rot_00097', 'rot_00098', 'rot_00099', 'rot_00100', 'rot_00101', 'rot_00102', 'rot_00103', 'rot_00104', 'rot_00105', 'rot_00106', 'rot_00107', 'rot_00108', 'rot_00109', 'rot_00110', 'rot_00111', 'rot_00112', 'rot_00113', 'rot_00114', 'rot_00115', 'rot_00116', 'rot_00117', 'rot_00118', 'rot_00119', 'rot_00120', 'rot_00121', 'rot_00122', 'rot_00123', 'rot_00124', 'rot_00125', 'rot_00126', 'rot_00127', 'rot_00128', 'rot_00129', 'rot_00130', 'rot_00131', 'rot_00132', 'rot_00133', 'rot_00134', 'rot_00135', 'rot_00136', 'rot_00137', 'rot_00138', 'rot_00139', 'rot_00140', 'rot_00141', 'rot_00142', 'rot_00143', 'rot_00144', 'rot_00145', 'rot_00146', 'rot_00147', 'rot_00148', 'rot_00149', 'rot_00150', 'rot_00151', 'rot_00152', 'rot_00153', 'rot_00154', 'rot_00155', 'rot_00156', 'rot_00157', 'rot_00158', 'rot_00159', 'rot_00160', 'rot_00161', 'rot_00162', 'rot_00163', 'rot_00164', 'rot_00165', 'rot_00166', 'rot_00167', 'rot_00168', 'rot_00169', 'rot_00170', 'rot_00171', 'rot_00172', 'rot_00173', 'rot_00174', 'rot_00175', 'rot_00176', 'rot_00177', 'rot_00178', 'rot_00179', 'rot_00180', 'rot_00181', 'rot_00182', 'rot_00183', 'rot_00184', 'rot_00185', 'rot_00186', 'rot_00187', 'rot_00188', 'rot_00189', 'rot_00190', 'rot_00191', 'rot_00192', 'rot_00193', 'rot_00194', 'rot_00195', 'rot_00196', 'rot_00197', 'rot_00198', 'rot_00199', 'rot_00200', 'rot_00201', 'rot_00202', 'rot_00203', 'rot_00204', 'rot_00205', 'rot_00206', 'rot_00207', 'rot_00208', 'rot_00209', 'rot_00210', 'rot_00211', 'rot_00212', 'rot_00213', 'rot_00214', 'rot_00215', 'rot_00216', 'rot_00217', 'rot_00218', 'rot_00219', 'rot_00220', 'rot_00221', 'rot_00222', 'rot_00223', 'rot_00224', 'rot_00225', 'rot_00226', 'rot_00227', 'rot_00228', 'rot_00229', 'rot_00230', 'rot_00231', 'rot_00232', 'rot_00233', 'rot_00234', 'rot_00235', 'rot_00236', 'rot_00237', 'rot_00238', 'rot_00239', 'rot_00240', 'rot_00241', 'rot_00242', 'rot_00243', 'rot_00244', 'rot_00245', 'rot_00246', 'rot_00247', 'rot_00248', 'rot_00249', 'rot_00250', 'rot_00251', 'rot_00252', 'rot_00253', 'rot_00254', 'rot_00255', 'rot_00256', 'rot_00257', 'rot_00258', 'rot_00259', 'rot_00260', 'rot_00261', 'rot_00262', 'rot_00263', 'rot_00264', 'rot_00265', 'rot_00266', 'rot_00267', 'rot_00268', 'rot_00269', 'rot_00270', 'rot_00271', 'rot_00272', 'rot_00273', 'rot_00274', 'rot_00275', 'rot_00276', 'rot_00277', 'rot_00278', 'rot_00279', 'rot_00280', 'rot_00281', 'rot_00282', 'rot_00283', 'rot_00284', 'rot_00285', 'rot_00286', 'rot_00287', 'rot_00288', 'rot_00289', 'rot_00290', 'rot_00291', 'rot_00292', 'rot_00293', 'rot_00294', 'rot_00295', 'rot_00296', 'rot_00297', 'rot_00298', 'rot_00299', 'rot_00300', 'rot_00301', 'rot_00302', 'rot_00303', 'rot_00304', 'rot_00305', 'rot_00306', 'rot_00307', 'rot_00308', 'rot_00309', 'rot_00310', 'rot_00311', 'rot_00312', 'rot_00313', 'rot_00314', 'rot_00315', 'rot_00316', 'rot_00317', 'rot_00318', 'rot_00319', 'rot_00320', 'rot_00321', 'rot_00322', 'rot_00323', 'rot_00324', 'rot_00325', 'rot_00326', 'rot_00327', 'rot_00328', 'rot_00329', 'rot_00330', 'rot_00331', 'rot_00332', 'rot_00333', 'rot_00334', 'rot_00335', 'rot_00336', 'rot_00337', 'rot_00338', 'rot_00339', 'rot_00340', 'rot_00341', 'rot_00342', 'rot_00343', 'rot_00344', 'rot_00345', 'rot_00346', 'rot_00347', 'rot_00348', 'rot_00349', 'rot_00350', 'rot_00351', 'rot_00352', 'rot_00353', 'rot_00354', 'rot_00355', 'rot_00356', 'rot_00357', 'rot_00358', 'rot_00359', 'rot_00360', 'rot_00361', 'rot_00362', 'rot_00363', 'rot_00364', 'rot_00365', 'rot_00366', 'rot_00367', 'rot_00368', 'rot_00369', 'rot_00370', 'rot_00371', 'rot_00372', 'rot_00373', 'rot_00374', 'rot_00375', 'rot_00376', 'rot_00377', 'rot_00378', 'rot_00379', 'rot_00380', 'rot_00381', 'rot_00382', 'rot_00383', 'rot_00384', 'rot_00385', 'rot_00386', 'rot_00387', 'rot_00388', 'rot_00389', 'rot_00390', 'rot_00391', 'rot_00392', 'rot_00393', 'rot_00394', 'rot_00395', 'rot_00396', 'rot_00397', 'rot_00398', 'rot_00399', 'rot_00400', 'rot_00401', 'rot_00402', 'rot_00403', 'rot_00404', 'rot_00405', 'rot_00406', 'rot_00407', 'rot_00408', 'rot_00409', 'rot_00410', 'rot_00411', 'rot_00412', 'rot_00413', 'rot_00414', 'rot_00415', 'rot_00416', 'rot_00417', 'rot_00418', 'rot_00419', 'rot_00420', 'rot_00421', 'rot_00422', 'rot_00423', 'rot_00424', 'rot_00425', 'rot_00426', 'rot_00427', 'rot_00428', 'rot_00429', 'rot_00430', 'rot_00431', 'rot_00432', 'rot_00433', 'rot_00434', 'rot_00435', 'rot_00436', 'rot_00437', 'rot_00438', 'rot_00439', 'rot_00440', 'rot_00441', 'rot_00442', 'rot_00443', 'rot_00444', 'rot_00445', 'rot_00446', 'rot_00447', 'rot_00448', 'rot_00449', 'rot_00450', 'rot_00451', 'rot_00452', 'rot_00453', 'rot_00454', 'rot_00455', 'rot_00456', 'rot_00457', 'rot_00458', 'rot_00459', 'rot_00460', 'rot_00461', 'rot_00462', 'rot_00463', 'rot_00464', 'rot_00465', 'rot_00466', 'rot_00467', 'rot_00468', 'rot_00469', 'rot_00470', 'rot_00471', 'rot_00472', 'rot_00473', 'rot_00474', 'rot_00475', 'rot_00476', 'rot_00477', 'rot_00478', 'rot_00479', 'rot_00480', 'rot_00481', 'rot_00482', 'rot_00483', 'rot_00484', 'rot_00485', 'rot_00486', 'rot_00487', 'rot_00488', 'rot_00489', 'rot_00490', 'rot_00491', 'rot_00492', 'rot_00493', 'rot_00494', 'rot_00495', 'rot_00496', 'rot_00497', 'rot_00498', 'rot_00499', 'rot_00500', 'rot_00501', 'rot_00502', 'rot_00503', 'rot_00504', 'rot_00505', 'rot_00506', 'rot_00507', 'rot_00508', 'rot_00509', 'rot_00510', 'rot_00511', 'rot_00512', 'rot_00513', 'rot_00514', 'rot_00515', 'rot_00516', 'rot_00517', 'rot_00518', 'rot_00519', 'rot_00520', 'rot_00521', 'rot_00522', 'rot_00523', 'rot_00524', 'rot_00525', 'rot_00526', 'rot_00527', 'rot_00528', 'rot_00529', 'rot_00530', 'rot_00531', 'rot_00532', 'rot_00533', 'rot_00534', 'rot_00535', 'rot_00536', 'rot_00537', 'rot_00538', 'rot_00539', 'rot_00540', 'rot_00541', 'rot_00542', 'rot_00543', 'rot_00544', 'rot_00545', 'rot_00546', 'rot_00547', 'rot_00548', 'rot_00549', 'rot_00550', 'rot_00551', 'rot_00552', 'rot_00553', 'rot_00554', 'rot_00555', 'rot_00556', 'rot_00557', 'rot_00558', 'rot_00559', 'rot_00560', 'rot_00561', 'rot_00562', 'rot_00563', 'rot_00564', 'rot_00565', 'rot_00566', 'rot_00567', 'rot_00568', 'rot_00569', 'rot_00570', 'rot_00571', 'rot_00572', 'rot_00573', 'rot_00574', 'rot_00575', 'rot_00576', 'rot_00577', 'rot_00578', 'rot_00579', 'rot_00580', 'rot_00581', 'rot_00582', 'rot_00583', 'rot_00584', 'rot_00585', 'rot_00586', 'rot_00587', 'rot_00588', 'rot_00589', 'rot_00590', 'rot_00591', 'rot_00592', 'rot_00593', 'rot_00594', 'rot_00595', 'rot_00596', 'rot_00597', 'rot_00598', 'rot_00599', 'rot_00600', 'rot_00601', 'rot_00602', 'rot_00603', 'rot_00604', 'rot_00605', 'rot_00606', 'rot_00607', 'rot_00608', 'rot_00609', 'rot_00610', 'rot_00611', 'rot_00612', 'rot_00613', 'rot_00614', 'rot_00615', 'rot_00616', 'rot_00617', 'rot_00618', 'rot_00619', 'rot_00620', 'rot_00621', 'rot_00622', 'rot_00623', 'rot_00624', 'rot_00625', 'rot_00626', 'rot_00627', 'rot_00628', 'rot_00629', 'rot_00630', 'rot_00631', 'rot_00632', 'rot_00633', 'rot_00634', 'rot_00635', 'rot_00636', 'rot_00637', 'rot_00638', 'rot_00639', 'rot_00640', 'rot_00641', 'rot_00642', 'rot_00643', 'rot_00644', 'rot_00645', 'rot_00646', 'rot_00647', 'rot_00648', 'rot_00649', 'rot_00650', 'rot_00651', 'rot_00652', 'rot_00653', 'rot_00654', 'rot_00655', 'rot_00656', 'rot_00657', 'rot_00658', 'rot_00659', 'rot_00660', 'rot_00661', 'rot_00662', 'rot_00663', 'rot_00664', 'rot_00665', 'rot_00666', 'rot_00667', 'rot_00668', 'rot_00669', 'rot_00670', 'rot_00671', 'rot_00672', 'rot_00673', 'rot_00674', 'rot_00675', 'rot_00676', 'rot_00677', 'rot_00678', 'rot_00679', 'rot_00680', 'rot_00681', 'rot_00682', 'rot_00683', 'rot_00684', 'rot_00685', 'rot_00686', 'rot_00687', 'rot_00688', 'rot_00689', 'rot_00690', 'rot_00691', 'rot_00692', 'rot_00693', 'rot_00694', 'rot_00695', 'rot_00696', 'rot_00697', 'rot_00698', 'rot_00699', 'rot_00700', 'rot_00701', 'rot_00702', 'rot_00703', 'rot_00704', 'rot_00705', 'rot_00706', 'rot_00707', 'rot_00708', 'rot_00709', 'rot_00710', 'rot_00711', 'rot_00712', 'rot_00713', 'rot_00714', 'rot_00715', 'rot_00716', 'rot_00717', 'rot_00718', 'rot_00719', 'rot_00720', 'rot_00721', 'rot_00722', 'rot_00723', 'rot_00724', 'rot_00725', 'rot_00726', 'rot_00727', 'rot_00728', 'rot_00729', 'rot_00730', 'rot_00731', 'rot_00732', 'rot_00733', 'rot_00734', 'rot_00735', 'rot_00736', 'rot_00737', 'rot_00738', 'rot_00739', 'rot_00740', 'rot_00741', 'rot_00742', 'rot_00743', 'rot_00744', 'rot_00745', 'rot_00746', 'rot_00747', 'rot_00748', 'rot_00749', 'rot_00750', 'rot_00751', 'rot_00752', 'rot_00753', 'rot_00754', 'rot_00755', 'rot_00756', 'rot_00757', 'rot_00758', 'rot_00759', 'rot_00760', 'rot_00761', 'rot_00762', 'rot_00763', 'rot_00764', 'rot_00765', 'rot_00766', 'rot_00767', 'rot_00768', 'rot_00769', 'rot_00770', 'rot_00771', 'rot_00772', 'rot_00773', 'rot_00774', 'rot_00775', 'rot_00776', 'rot_00777', 'rot_00778', 'rot_00779', 'rot_00780', 'rot_00781', 'rot_00782', 'rot_00783', 'rot_00784', 'rot_00785', 'rot_00786', 'rot_00787', 'rot_00788', 'rot_00789', 'rot_00790', 'rot_00791', 'rot_00792', 'rot_00793', 'rot_00794', 'rot_00795', 'rot_00796', 'rot_00797', 'rot_00798', 'rot_00799', 'rot_00800', 'rot_00801', 'rot_00802', 'spd_00000', 'spd_00001', 'spd_00002', 'spd_00003', 'spd_00004', 'spd_00005', 'spd_00006', 'spd_00007', 'spd_00008', 'spd_00009', 'spd_00010', 'spd_00011', 'spd_00012', 'spd_00013', 'spd_00014', 'spd_00015', 'spd_00016', 'spd_00017', 'spd_00018', 'spd_00019', 'spd_00020', 'spd_00021', 'spd_00022', 'spd_00023', 'spd_00024', 'spd_00025', 'spd_00026', 'spd_00027', 'spd_00028', 'spd_00029', 'spd_00030', 'spd_00031', 'spd_00032', 'spd_00033', 'spd_00034', 'spd_00035', 'spd_00036', 'spd_00037', 'spd_00038', 'spd_00039', 'spd_00040', 'spd_00041', 'spd_00042', 'spd_00043', 'spd_00044', 'spd_00045', 'spd_00046', 'spd_00047', 'spd_00048', 'spd_00049', 'spd_00050', 'spd_00051', 'spd_00052', 'spd_00053', 'spd_00054', 'spd_00055', 'spd_00056', 'spd_00057', 'spd_00058', 'spd_00059', 'spd_00060', 'spd_00061', 'spd_00062', 'spd_00063', 'spd_00064', 'spd_00065', 'spd_00066', 'spd_00067', 'spd_00068', 'spd_00069', 'spd_00070', 'spd_00071', 'spd_00072', 'spd_00073', 'spd_00074', 'spd_00075', 'spd_00076', 'spd_00077', 'spd_00078', 'spd_00079', 'spd_00080', 'spd_00081', 'spd_00082', 'spd_00083', 'spd_00084', 'spd_00085', 'spd_00086', 'spd_00087', 'spd_00088', 'spd_00089', 'spd_00090', 'spd_00091', 'spd_00092', 'spd_00093', 'spd_00094', 'spd_00095', 'spd_00096', 'spd_00097', 'spd_00098', 'spd_00099', 'spd_00100', 'spd_00101', 'spd_00102', 'spd_00103', 'spd_00104', 'spd_00105', 'spd_00106', 'spd_00107', 'spd_00108', 'spd_00109', 'spd_00110', 'spd_00111', 'spd_00112', 'spd_00113', 'spd_00114', 'spd_00115', 'spd_00116', 'spd_00117', 'spd_00118', 'spd_00119', 'spd_00120', 'spd_00121', 'spd_00122', 'spd_00123', 'spd_00124', 'spd_00125', 'spd_00126', 'spd_00127', 'spd_00128', 'spd_00129', 'spd_00130', 'spd_00131', 'spd_00132', 'spd_00133', 'spd_00134', 'spd_00135', 'spd_00136', 'spd_00137', 'spd_00138', 'spd_00139', 'spd_00140', 'spd_00141', 'spd_00142', 'spd_00143', 'spd_00144', 'spd_00145', 'spd_00146', 'spd_00147', 'spd_00148', 'spd_00149', 'spd_00150', 'spd_00151', 'spd_00152', 'spd_00153', 'spd_00154', 'spd_00155', 'spd_00156', 'spd_00157', 'spd_00158', 'spd_00159', 'spd_00160', 'spd_00161', 'spd_00162', 'spd_00163', 'spd_00164', 'spd_00165', 'spd_00166', 'spd_00167', 'spd_00168', 'spd_00169', 'spd_00170', 'spd_00171', 'spd_00172', 'spd_00173', 'spd_00174', 'spd_00175', 'spd_00176', 'spd_00177', 'spd_00178', 'spd_00179', 'spd_00180', 'spd_00181', 'spd_00182', 'spd_00183', 'spd_00184', 'spd_00185', 'spd_00186', 'spd_00187', 'spd_00188', 'spd_00189', 'spd_00190', 'spd_00191', 'spd_00192', 'spd_00193', 'spd_00194', 'spd_00195', 'spd_00196', 'spd_00197', 'spd_00198', 'spd_00199', 'spd_00200', 'spd_00201', 'spd_00202', 'spd_00203', 'spd_00204', 'spd_00205', 'spd_00206', 'spd_00207', 'spd_00208', 'spd_00209', 'spd_00210', 'spd_00211', 'spd_00212', 'spd_00213', 'spd_00214', 'spd_00215', 'spd_00216', 'spd_00217', 'spd_00218', 'spd_00219', 'spd_00220', 'spd_00221', 'spd_00222', 'spd_00223', 'spd_00224', 'spd_00225', 'spd_00226', 'spd_00227', 'spd_00228', 'spd_00229', 'spd_00230', 'spd_00231', 'spd_00232', 'spd_00233', 'spd_00234', 'spd_00235', 'spd_00236', 'spd_00237', 'spd_00238', 'spd_00239', 'spd_00240', 'spd_00241', 'spd_00242', 'spd_00243', 'spd_00244', 'spd_00245', 'spd_00246', 'spd_00247', 'spd_00248', 'spd_00249', 'spd_00250', 'spd_00251', 'spd_00252', 'spd_00253', 'spd_00254', 'spd_00255', 'spd_00256', 'spd_00257', 'spd_00258', 'spd_00259', 'spd_00260', 'spd_00261', 'spd_00262', 'spd_00263', 'spd_00264', 'spd_00265', 'spd_00266', 'spd_00267', 'spd_00268', 'spd_00269', 'spd_00270', 'spd_00271', 'spd_00272', 'spd_00273', 'spd_00274', 'spd_00275', 'spd_00276', 'spd_00277', 'spd_00278', 'spd_00279', 'spd_00280', 'spd_00281', 'spd_00282', 'spd_00283', 'spd_00284', 'spd_00285', 'spd_00286', 'spd_00287', 'spd_00288', 'spd_00289', 'spd_00290', 'spd_00291', 'spd_00292', 'spd_00293', 'spd_00294', 'spd_00295', 'spd_00296', 'spd_00297', 'spd_00298', 'spd_00299', 'spd_00300', 'spd_00301', 'spd_00302', 'spd_00303', 'spd_00304', 'spd_00305', 'spd_00306', 'spd_00307', 'spd_00308', 'spd_00309', 'spd_00310', 'spd_00311', 'spd_00312', 'spd_00313', 'spd_00314', 'spd_00315', 'spd_00316', 'spd_00317', 'spd_00318', 'spd_00319', 'spd_00320', 'spd_00321', 'spd_00322', 'spd_00323', 'spd_00324', 'spd_00325', 'spd_00326', 'spd_00327', 'spd_00328', 'spd_00329', 'spd_00330', 'spd_00331', 'spd_00332', 'spd_00333', 'spd_00334', 'spd_00335', 'spd_00336', 'spd_00337', 'spd_00338', 'spd_00339', 'spd_00340', 'spd_00341', 'spd_00342', 'spd_00343', 'spd_00344', 'spd_00345', 'spd_00346', 'spd_00347', 'spd_00348', 'spd_00349', 'spd_00350', 'spd_00351', 'spd_00352', 'spd_00353', 'spd_00354', 'spd_00355', 'spd_00356', 'spd_00357', 'spd_00358', 'spd_00359', 'spd_00360', 'spd_00361', 'spd_00362', 'spd_00363', 'spd_00364', 'spd_00365', 'spd_00366', 'spd_00367', 'spd_00368', 'spd_00369', 'spd_00370', 'spd_00371', 'spd_00372', 'spd_00373', 'spd_00374', 'spd_00375', 'spd_00376', 'spd_00377', 'spd_00378', 'spd_00379', 'spd_00380', 'spd_00381', 'spd_00382', 'spd_00383', 'spd_00384', 'spd_00385', 'spd_00386', 'spd_00387', 'spd_00388', 'spd_00389', 'spd_00390', 'spd_00391', 'spd_00392', 'spd_00393', 'spd_00394', 'spd_00395', 'spd_00396', 'spd_00397', 'spd_00398', 'spd_00399', 'spd_00400', 'spd_00401', 'spd_00402', 'spd_00403', 'spd_00404', 'spd_00405', 'spd_00406', 'spd_00407', 'spd_00408', 'spd_00409', 'spd_00410', 'spd_00411', 'spd_00412', 'spd_00413', 'spd_00414', 'spd_00415', 'spd_00416', 'spd_00417', 'spd_00418', 'spd_00419', 'spd_00420', 'spd_00421', 'spd_00422', 'spd_00423', 'spd_00424', 'spd_00425', 'spd_00426', 'spd_00427', 'spd_00428', 'spd_00429', 'spd_00430', 'spd_00431', 'spd_00432', 'spd_00433', 'spd_00434', 'spd_00435', 'spd_00436', 'spd_00437', 'spd_00438', 'spd_00439', 'spd_00440', 'spd_00441', 'spd_00442', 'spd_00443', 'spd_00444', 'spd_00445', 'spd_00446', 'spd_00447', 'spd_00448', 'spd_00449', 'spd_00450', 'spd_00451', 'spd_00452', 'spd_00453', 'spd_00454', 'spd_00455', 'spd_00456', 'spd_00457', 'spd_00458', 'spd_00459', 'spd_00460', 'spd_00461', 'spd_00462', 'spd_00463', 'spd_00464', 'spd_00465', 'spd_00466', 'spd_00467', 'spd_00468', 'spd_00469', 'spd_00470', 'spd_00471', 'spd_00472', 'spd_00473', 'spd_00474', 'spd_00475', 'spd_00476', 'spd_00477', 'spd_00478', 'spd_00479', 'spd_00480', 'spd_00481', 'spd_00482', 'spd_00483', 'spd_00484', 'spd_00485', 'spd_00486', 'spd_00487', 'spd_00488', 'spd_00489', 'spd_00490', 'spd_00491', 'spd_00492', 'spd_00493', 'spd_00494', 'spd_00495', 'spd_00496', 'spd_00497', 'spd_00498', 'spd_00499', 'spd_00500', 'spd_00501', 'spd_00502', 'spd_00503', 'spd_00504', 'spd_00505', 'spd_00506', 'spd_00507', 'spd_00508', 'spd_00509', 'spd_00510', 'spd_00511', 'spd_00512', 'spd_00513', 'spd_00514', 'spd_00515', 'spd_00516', 'spd_00517', 'spd_00518', 'spd_00519', 'spd_00520', 'spd_00521', 'spd_00522', 'spd_00523', 'spd_00524', 'spd_00525', 'spd_00526', 'spd_00527', 'spd_00528', 'spd_00529', 'spd_00530', 'spd_00531', 'spd_00532', 'spd_00533', 'spd_00534', 'spd_00535', 'spd_00536', 'spd_00537', 'spd_00538', 'spd_00539', 'spd_00540', 'spd_00541', 'spd_00542', 'spd_00543', 'spd_00544', 'spd_00545', 'spd_00546', 'spd_00547', 'spd_00548', 'spd_00549', 'spd_00550', 'spd_00551', 'spd_00552', 'spd_00553', 'spd_00554', 'spd_00555', 'spd_00556', 'spd_00557', 'spd_00558', 'spd_00559', 'spd_00560', 'spd_00561', 'spd_00562', 'spd_00563', 'spd_00564', 'spd_00565', 'spd_00566', 'spd_00567', 'spd_00568', 'spd_00569', 'spd_00570', 'spd_00571', 'spd_00572', 'spd_00573', 'spd_00574', 'spd_00575', 'spd_00576', 'spd_00577', 'spd_00578', 'spd_00579', 'spd_00580', 'spd_00581', 'spd_00582', 'spd_00583', 'spd_00584', 'spd_00585', 'spd_00586', 'spd_00587', 'spd_00588', 'spd_00589', 'spd_00590', 'spd_00591', 'spd_00592', 'spd_00593', 'spd_00594', 'spd_00595', 'spd_00596', 'spd_00597', 'spd_00598', 'spd_00599', 'spd_00600', 'spd_00601', 'spd_00602', 'spd_00603', 'spd_00604', 'spd_00605', 'spd_00606', 'spd_00607', 'spd_00608', 'spd_00609', 'spd_00610', 'spd_00611', 'spd_00612', 'spd_00613', 'spd_00614', 'spd_00615', 'spd_00616', 'spd_00617', 'spd_00618', 'spd_00619', 'spd_00620', 'spd_00621', 'spd_00622', 'spd_00623', 'spd_00624', 'spd_00625', 'spd_00626', 'spd_00627', 'spd_00628', 'spd_00629', 'spd_00630', 'spd_00631', 'spd_00632', 'spd_00633', 'spd_00634', 'spd_00635', 'spd_00636', 'spd_00637', 'spd_00638', 'spd_00639', 'spd_00640', 'spd_00641', 'spd_00642', 'spd_00643', 'spd_00644', 'spd_00645', 'spd_00646', 'spd_00647', 'spd_00648', 'spd_00649', 'spd_00650', 'spd_00651', 'spd_00652', 'spd_00653', 'spd_00654', 'spd_00655', 'spd_00656', 'spd_00657', 'spd_00658', 'spd_00659', 'spd_00660', 'spd_00661', 'spd_00662', 'spd_00663', 'spd_00664', 'spd_00665', 'spd_00666', 'spd_00667', 'spd_00668', 'spd_00669', 'spd_00670', 'spd_00671', 'spd_00672', 'spd_00673', 'spd_00674', 'spd_00675', 'spd_00676', 'spd_00677', 'spd_00678', 'spd_00679', 'spd_00680', 'spd_00681', 'spd_00682', 'spd_00683', 'spd_00684', 'spd_00685', 'spd_00686', 'spd_00687', 'spd_00688', 'spd_00689', 'spd_00690', 'spd_00691', 'spd_00692', 'spd_00693', 'spd_00694', 'spd_00695', 'spd_00696', 'spd_00697', 'spd_00698', 'spd_00699', 'spd_00700', 'spd_00701', 'spd_00702', 'spd_00703', 'spd_00704', 'spd_00705', 'spd_00706', 'spd_00707', 'spd_00708', 'spd_00709', 'spd_00710', 'spd_00711', 'spd_00712', 'spd_00713', 'spd_00714', 'spd_00715', 'spd_00716', 'spd_00717', 'spd_00718', 'spd_00719', 'spd_00720', 'spd_00721', 'spd_00722', 'spd_00723', 'spd_00724', 'spd_00725', 'spd_00726', 'spd_00727', 'spd_00728', 'spd_00729', 'spd_00730', 'spd_00731', 'spd_00732', 'spd_00733', 'spd_00734', 'spd_00735', 'spd_00736', 'spd_00737', 'spd_00738', 'spd_00739', 'spd_00740', 'spd_00741', 'spd_00742', 'spd_00743', 'spd_00744', 'spd_00745', 'spd_00746', 'spd_00747', 'spd_00748', 'spd_00749', 'spd_00750', 'spd_00751', 'spd_00752', 'spd_00753', 'spd_00754', 'spd_00755', 'spd_00756', 'spd_00757', 'spd_00758', 'spd_00759', 'spd_00760', 'spd_00761', 'spd_00762', 'spd_00763', 'spd_00764', 'spd_00765', 'spd_00766', 'spd_00767', 'spd_00768', 'spd_00769', 'spd_00770', 'spd_00771', 'spd_00772', 'spd_00773', 'spd_00774', 'spd_00775', 'spd_00776', 'spd_00777', 'spd_00778', 'spd_00779', 'spd_00780', 'spd_00781', 'spd_00782', 'spd_00783', 'spd_00784', 'spd_00785', 'spd_00786', 'spd_00787', 'spd_00788', 'spd_00789', 'spd_00790', 'spd_00791', 'spd_00792', 'spd_00793', 'spd_00794', 'spd_00795', 'spd_00796', 'spd_00797', 'spd_00798', 'spd_00799', 'spd_00800', 'spd_00801', 'spd_00802', 'tls_00000', 'tls_00001', 'tls_00002', 'tls_00003', 'tls_00004', 'tls_00005', 'tls_00006', 'tls_00007', 'tls_00008', 'tls_00009', 'tls_00010', 'tls_00011', 'tls_00012', 'tls_00013', 'tls_00014', 'tls_00015', 'tls_00016', 'tls_00017', 'tls_00018', 'tls_00019', 'tls_00020', 'tls_00021', 'tls_00022', 'tls_00023', 'tls_00024', 'tls_00025', 'tls_00026', 'tls_00027', 'tls_00028', 'tls_00029', 'tls_00030', 'tls_00031', 'tls_00032', 'tls_00033', 'tls_00034', 'tls_00035', 'tls_00036', 'tls_00037', 'tls_00038', 'tls_00039', 'tls_00040', 'tls_00041', 'tls_00042', 'tls_00043', 'tls_00044', 'tls_00045', 'tls_00046', 'tls_00047', 'tls_00048', 'tls_00049', 'tls_00050', 'tls_00051', 'tls_00052', 'tls_00053', 'tls_00054', 'tls_00055', 'tls_00056', 'tls_00057', 'tls_00058', 'tls_00059', 'tls_00060', 'tls_00061', 'tls_00062', 'tls_00063', 'tls_00064', 'tls_00065', 'tls_00066', 'tls_00067', 'tls_00068', 'tls_00069', 'tls_00070', 'tls_00071', 'tls_00072', 'tls_00073', 'tls_00074', 'tls_00075', 'tls_00076', 'tls_00077', 'tls_00078', 'tls_00079', 'tls_00080', 'tls_00081', 'tls_00082', 'tls_00083', 'tls_00084', 'tls_00085', 'tls_00086', 'tls_00087', 'tls_00088', 'tls_00089', 'tls_00090', 'tls_00091', 'tls_00092', 'tls_00093', 'tls_00094', 'tls_00095', 'tls_00096', 'tls_00097', 'tls_00098', 'tls_00099', 'tls_00100', 'tls_00101', 'tls_00102', 'tls_00103', 'tls_00104', 'tls_00105', 'tls_00106', 'tls_00107', 'tls_00108', 'tls_00109', 'tls_00110', 'tls_00111', 'tls_00112', 'tls_00113', 'tls_00114', 'tls_00115', 'tls_00116', 'tls_00117', 'tls_00118', 'tls_00119', 'tls_00120', 'tls_00121', 'tls_00122', 'tls_00123', 'tls_00124', 'tls_00125', 'tls_00126', 'tls_00127', 'tls_00128', 'tls_00129', 'tls_00130', 'tls_00131', 'tls_00132', 'tls_00133', 'tls_00134', 'tls_00135', 'tls_00136', 'tls_00137', 'tls_00138', 'tls_00139', 'tls_00140', 'tls_00141', 'tls_00142', 'tls_00143', 'tls_00144', 'tls_00145', 'tls_00146', 'tls_00147', 'tls_00148', 'tls_00149', 'tls_00150', 'tls_00151', 'tls_00152', 'tls_00153', 'tls_00154', 'tls_00155', 'tls_00156', 'tls_00157', 'tls_00158', 'tls_00159', 'tls_00160', 'tls_00161', 'tls_00162', 'tls_00163', 'tls_00164', 'tls_00165', 'tls_00166', 'tls_00167', 'tls_00168', 'tls_00169', 'tls_00170', 'tls_00171', 'tls_00172', 'tls_00173', 'tls_00174', 'tls_00175', 'tls_00176', 'tls_00177', 'tls_00178', 'tls_00179', 'tls_00180', 'tls_00181', 'tls_00182', 'tls_00183', 'tls_00184', 'tls_00185', 'tls_00186', 'tls_00187', 'tls_00188', 'tls_00189', 'tls_00190', 'tls_00191', 'tls_00192', 'tls_00193', 'tls_00194', 'tls_00195', 'tls_00196', 'tls_00197', 'tls_00198', 'tls_00199', 'tls_00200', 'tls_00201', 'tls_00202', 'tls_00203', 'tls_00204', 'tls_00205', 'tls_00206', 'tls_00207', 'tls_00208', 'tls_00209', 'tls_00210', 'tls_00211', 'tls_00212', 'tls_00213', 'tls_00214', 'tls_00215', 'tls_00216', 'tls_00217', 'tls_00218', 'tls_00219', 'tls_00220', 'tls_00221', 'tls_00222', 'tls_00223', 'tls_00224', 'tls_00225', 'tls_00226', 'tls_00227', 'tls_00228', 'tls_00229', 'tls_00230', 'tls_00231', 'tls_00232', 'tls_00233', 'tls_00234', 'tls_00235', 'tls_00236', 'tls_00237', 'tls_00238', 'tls_00239', 'tls_00240', 'tls_00241', 'tls_00242', 'tls_00243', 'tls_00244', 'tls_00245', 'tls_00246', 'tls_00247', 'tls_00248', 'tls_00249', 'tls_00250', 'tls_00251', 'tls_00252', 'tls_00253', 'tls_00254', 'tls_00255', 'tls_00256', 'tls_00257', 'tls_00258', 'tls_00259', 'tls_00260', 'tls_00261', 'tls_00262', 'tls_00263', 'tls_00264', 'tls_00265', 'tls_00266', 'tls_00267', 'tls_00268', 'tls_00269', 'tls_00270', 'tls_00271', 'tls_00272', 'tls_00273', 'tls_00274', 'tls_00275', 'tls_00276', 'tls_00277', 'tls_00278', 'tls_00279', 'tls_00280', 'tls_00281', 'tls_00282', 'tls_00283', 'tls_00284', 'tls_00285', 'tls_00286', 'tls_00287', 'tls_00288', 'tls_00289', 'tls_00290', 'tls_00291', 'tls_00292', 'tls_00293', 'tls_00294', 'tls_00295', 'tls_00296', 'tls_00297', 'tls_00298', 'tls_00299', 'tls_00300', 'tls_00301', 'tls_00302', 'tls_00303', 'tls_00304', 'tls_00305', 'tls_00306', 'tls_00307', 'tls_00308', 'tls_00309', 'tls_00310', 'tls_00311', 'tls_00312', 'tls_00313', 'tls_00314', 'tls_00315', 'tls_00316', 'tls_00317', 'tls_00318', 'tls_00319', 'tls_00320', 'tls_00321', 'tls_00322', 'tls_00323', 'tls_00324', 'tls_00325', 'tls_00326', 'tls_00327', 'tls_00328', 'tls_00329', 'tls_00330', 'tls_00331', 'tls_00332', 'tls_00333', 'tls_00334', 'tls_00335', 'tls_00336', 'tls_00337', 'tls_00338', 'tls_00339', 'tls_00340', 'tls_00341', 'tls_00342', 'tls_00343', 'tls_00344', 'tls_00345', 'tls_00346', 'tls_00347', 'tls_00348', 'tls_00349', 'tls_00350', 'tls_00351', 'tls_00352', 'tls_00353', 'tls_00354', 'tls_00355', 'tls_00356', 'tls_00357', 'tls_00358', 'tls_00359', 'tls_00360', 'tls_00361', 'tls_00362', 'tls_00363', 'tls_00364', 'tls_00365', 'tls_00366', 'tls_00367', 'tls_00368', 'tls_00369', 'tls_00370', 'tls_00371', 'tls_00372', 'tls_00373', 'tls_00374', 'tls_00375', 'tls_00376', 'tls_00377', 'tls_00378', 'tls_00379', 'tls_00380', 'tls_00381', 'tls_00382', 'tls_00383', 'tls_00384', 'tls_00385', 'tls_00386', 'tls_00387', 'tls_00388', 'tls_00389', 'tls_00390', 'tls_00391', 'tls_00392', 'tls_00393', 'tls_00394', 'tls_00395', 'tls_00396', 'tls_00397', 'tls_00398', 'tls_00399', 'tls_00400', 'tls_00401', 'tls_00402', 'tls_00403', 'tls_00404', 'tls_00405', 'tls_00406', 'tls_00407', 'tls_00408', 'tls_00409', 'tls_00410', 'tls_00411', 'tls_00412', 'tls_00413', 'tls_00414', 'tls_00415', 'tls_00416', 'tls_00417', 'tls_00418', 'tls_00419', 'tls_00420', 'tls_00421', 'tls_00422', 'tls_00423', 'tls_00424', 'tls_00425', 'tls_00426', 'tls_00427', 'tls_00428', 'tls_00429', 'tls_00430', 'tls_00431', 'tls_00432', 'tls_00433', 'tls_00434', 'tls_00435', 'tls_00436', 'tls_00437', 'tls_00438', 'tls_00439', 'tls_00440', 'tls_00441', 'tls_00442', 'tls_00443', 'tls_00444', 'tls_00445', 'tls_00446', 'tls_00447', 'tls_00448', 'tls_00449', 'tls_00450', 'tls_00451', 'tls_00452', 'tls_00453', 'tls_00454', 'tls_00455', 'tls_00456', 'tls_00457', 'tls_00458', 'tls_00459', 'tls_00460', 'tls_00461', 'tls_00462', 'tls_00463', 'tls_00464', 'tls_00465', 'tls_00466', 'tls_00467', 'tls_00468', 'tls_00469', 'tls_00470', 'tls_00471', 'tls_00472', 'tls_00473', 'tls_00474', 'tls_00475', 'tls_00476', 'tls_00477', 'tls_00478', 'tls_00479', 'tls_00480', 'tls_00481', 'tls_00482', 'tls_00483', 'tls_00484', 'tls_00485', 'tls_00486', 'tls_00487', 'tls_00488', 'tls_00489', 'tls_00490', 'tls_00491', 'tls_00492', 'tls_00493', 'tls_00494', 'tls_00495', 'tls_00496', 'tls_00497', 'tls_00498', 'tls_00499', 'tls_00500', 'tls_00501', 'tls_00502', 'tls_00503', 'tls_00504', 'tls_00505', 'tls_00506', 'tls_00507', 'tls_00508', 'tls_00509', 'tls_00510', 'tls_00511', 'tls_00512', 'tls_00513', 'tls_00514', 'tls_00515', 'tls_00516', 'tls_00517', 'tls_00518', 'tls_00519', 'tls_00520', 'tls_00521', 'tls_00522', 'tls_00523', 'tls_00524', 'tls_00525', 'tls_00526', 'tls_00527', 'tls_00528', 'tls_00529', 'tls_00530', 'tls_00531', 'tls_00532', 'tls_00533', 'tls_00534', 'tls_00535', 'tls_00536', 'tls_00537', 'tls_00538', 'tls_00539', 'tls_00540', 'tls_00541', 'tls_00542', 'tls_00543', 'tls_00544', 'tls_00545', 'tls_00546', 'tls_00547', 'tls_00548', 'tls_00549', 'tls_00550', 'tls_00551', 'tls_00552', 'tls_00553', 'tls_00554', 'tls_00555', 'tls_00556', 'tls_00557', 'tls_00558', 'tls_00559', 'tls_00560', 'tls_00561', 'tls_00562', 'tls_00563', 'tls_00564', 'tls_00565', 'tls_00566', 'tls_00567', 'tls_00568', 'tls_00569', 'tls_00570', 'tls_00571', 'tls_00572', 'tls_00573', 'tls_00574', 'tls_00575', 'tls_00576', 'tls_00577', 'tls_00578', 'tls_00579', 'tls_00580', 'tls_00581', 'tls_00582', 'tls_00583', 'tls_00584', 'tls_00585', 'tls_00586', 'tls_00587', 'tls_00588', 'tls_00589', 'tls_00590', 'tls_00591', 'tls_00592', 'tls_00593', 'tls_00594', 'tls_00595', 'tls_00596', 'tls_00597', 'tls_00598', 'tls_00599', 'tls_00600', 'tls_00601', 'tls_00602', 'tls_00603', 'tls_00604', 'tls_00605', 'tls_00606', 'tls_00607', 'tls_00608', 'tls_00609', 'tls_00610', 'tls_00611', 'tls_00612', 'tls_00613', 'tls_00614', 'tls_00615', 'tls_00616', 'tls_00617', 'tls_00618', 'tls_00619', 'tls_00620', 'tls_00621', 'tls_00622', 'tls_00623', 'tls_00624', 'tls_00625', 'tls_00626', 'tls_00627', 'tls_00628', 'tls_00629', 'tls_00630', 'tls_00631', 'tls_00632', 'tls_00633', 'tls_00634', 'tls_00635', 'tls_00636', 'tls_00637', 'tls_00638', 'tls_00639', 'tls_00640', 'tls_00641', 'tls_00642', 'tls_00643', 'tls_00644', 'tls_00645', 'tls_00646', 'tls_00647', 'tls_00648', 'tls_00649', 'tls_00650', 'tls_00651', 'tls_00652', 'tls_00653', 'tls_00654', 'tls_00655', 'tls_00656', 'tls_00657', 'tls_00658', 'tls_00659', 'tls_00660', 'tls_00661', 'tls_00662', 'tls_00663', 'tls_00664', 'tls_00665', 'tls_00666', 'tls_00667', 'tls_00668', 'tls_00669', 'tls_00670', 'tls_00671', 'tls_00672', 'tls_00673', 'tls_00674', 'tls_00675', 'tls_00676', 'tls_00677', 'tls_00678', 'tls_00679', 'tls_00680', 'tls_00681', 'tls_00682', 'tls_00683', 'tls_00684', 'tls_00685', 'tls_00686', 'tls_00687', 'tls_00688', 'tls_00689', 'tls_00690', 'tls_00691', 'tls_00692', 'tls_00693', 'tls_00694', 'tls_00695', 'tls_00696', 'tls_00697', 'tls_00698', 'tls_00699', 'tls_00700', 'tls_00701', 'tls_00702', 'tls_00703', 'tls_00704', 'tls_00705', 'tls_00706', 'tls_00707', 'tls_00708', 'tls_00709', 'tls_00710', 'tls_00711', 'tls_00712', 'tls_00713', 'tls_00714', 'tls_00715', 'tls_00716', 'tls_00717', 'tls_00718', 'tls_00719', 'tls_00720', 'tls_00721', 'tls_00722', 'tls_00723', 'tls_00724', 'tls_00725', 'tls_00726', 'tls_00727', 'tls_00728', 'tls_00729', 'tls_00730', 'tls_00731', 'tls_00732', 'tls_00733', 'tls_00734', 'tls_00735', 'tls_00736', 'tls_00737', 'tls_00738', 'tls_00739', 'tls_00740', 'tls_00741', 'tls_00742', 'tls_00743', 'tls_00744', 'tls_00745', 'tls_00746', 'tls_00747', 'tls_00748', 'tls_00749', 'tls_00750', 'tls_00751', 'tls_00752', 'tls_00753', 'tls_00754', 'tls_00755', 'tls_00756', 'tls_00757', 'tls_00758', 'tls_00759', 'tls_00760', 'tls_00761', 'tls_00762', 'tls_00763', 'tls_00764', 'tls_00765', 'tls_00766', 'tls_00767', 'tls_00768', 'tls_00769', 'tls_00770', 'tls_00771', 'tls_00772', 'tls_00773', 'tls_00774', 'tls_00775', 'tls_00776', 'tls_00777', 'tls_00778', 'tls_00779', 'tls_00780', 'tls_00781', 'tls_00782', 'tls_00783', 'tls_00784', 'tls_00785', 'tls_00786', 'tls_00787', 'tls_00788', 'tls_00789', 'tls_00790', 'tls_00791', 'tls_00792', 'tls_00793', 'tls_00794', 'tls_00795', 'tls_00796', 'tls_00797', 'tls_00798', 'tls_00799', 'tls_00800', 'tls_00801', 'tls_00802', 'wide_rgb_0_00000', 'wide_rgb_0_00001', 'wide_rgb_0_00002', 'wide_rgb_0_00003', 'wide_rgb_0_00004', 'wide_rgb_0_00005', 'wide_rgb_0_00006', 'wide_rgb_0_00007', 'wide_rgb_0_00008', 'wide_rgb_0_00009', 'wide_rgb_0_00010', 'wide_rgb_0_00011', 'wide_rgb_0_00012', 'wide_rgb_0_00013', 'wide_rgb_0_00014', 'wide_rgb_0_00015', 'wide_rgb_0_00016', 'wide_rgb_0_00017', 'wide_rgb_0_00018', 'wide_rgb_0_00019', 'wide_rgb_0_00020', 'wide_rgb_0_00021', 'wide_rgb_0_00022', 'wide_rgb_0_00023', 'wide_rgb_0_00024', 'wide_rgb_0_00025', 'wide_rgb_0_00026', 'wide_rgb_0_00027', 'wide_rgb_0_00028', 'wide_rgb_0_00029', 'wide_rgb_0_00030', 'wide_rgb_0_00031', 'wide_rgb_0_00032', 'wide_rgb_0_00033', 'wide_rgb_0_00034', 'wide_rgb_0_00035', 'wide_rgb_0_00036', 'wide_rgb_0_00037', 'wide_rgb_0_00038', 'wide_rgb_0_00039', 'wide_rgb_0_00040', 'wide_rgb_0_00041', 'wide_rgb_0_00042', 'wide_rgb_0_00043', 'wide_rgb_0_00044', 'wide_rgb_0_00045', 'wide_rgb_0_00046', 'wide_rgb_0_00047', 'wide_rgb_0_00048', 'wide_rgb_0_00049', 'wide_rgb_0_00050', 'wide_rgb_0_00051', 'wide_rgb_0_00052', 'wide_rgb_0_00053', 'wide_rgb_0_00054', 'wide_rgb_0_00055', 'wide_rgb_0_00056', 'wide_rgb_0_00057', 'wide_rgb_0_00058', 'wide_rgb_0_00059', 'wide_rgb_0_00060', 'wide_rgb_0_00061', 'wide_rgb_0_00062', 'wide_rgb_0_00063', 'wide_rgb_0_00064', 'wide_rgb_0_00065', 'wide_rgb_0_00066', 'wide_rgb_0_00067', 'wide_rgb_0_00068', 'wide_rgb_0_00069', 'wide_rgb_0_00070', 'wide_rgb_0_00071', 'wide_rgb_0_00072', 'wide_rgb_0_00073', 'wide_rgb_0_00074', 'wide_rgb_0_00075', 'wide_rgb_0_00076', 'wide_rgb_0_00077', 'wide_rgb_0_00078', 'wide_rgb_0_00079', 'wide_rgb_0_00080', 'wide_rgb_0_00081', 'wide_rgb_0_00082', 'wide_rgb_0_00083', 'wide_rgb_0_00084', 'wide_rgb_0_00085', 'wide_rgb_0_00086', 'wide_rgb_0_00087', 'wide_rgb_0_00088', 'wide_rgb_0_00089', 'wide_rgb_0_00090', 'wide_rgb_0_00091', 'wide_rgb_0_00092', 'wide_rgb_0_00093', 'wide_rgb_0_00094', 'wide_rgb_0_00095', 'wide_rgb_0_00096', 'wide_rgb_0_00097', 'wide_rgb_0_00098', 'wide_rgb_0_00099', 'wide_rgb_0_00100', 'wide_rgb_0_00101', 'wide_rgb_0_00102', 'wide_rgb_0_00103', 'wide_rgb_0_00104', 'wide_rgb_0_00105', 'wide_rgb_0_00106', 'wide_rgb_0_00107', 'wide_rgb_0_00108', 'wide_rgb_0_00109', 'wide_rgb_0_00110', 'wide_rgb_0_00111', 'wide_rgb_0_00112', 'wide_rgb_0_00113', 'wide_rgb_0_00114', 'wide_rgb_0_00115', 'wide_rgb_0_00116', 'wide_rgb_0_00117', 'wide_rgb_0_00118', 'wide_rgb_0_00119', 'wide_rgb_0_00120', 'wide_rgb_0_00121', 'wide_rgb_0_00122', 'wide_rgb_0_00123', 'wide_rgb_0_00124', 'wide_rgb_0_00125', 'wide_rgb_0_00126', 'wide_rgb_0_00127', 'wide_rgb_0_00128', 'wide_rgb_0_00129', 'wide_rgb_0_00130', 'wide_rgb_0_00131', 'wide_rgb_0_00132', 'wide_rgb_0_00133', 'wide_rgb_0_00134', 'wide_rgb_0_00135', 'wide_rgb_0_00136', 'wide_rgb_0_00137', 'wide_rgb_0_00138', 'wide_rgb_0_00139', 'wide_rgb_0_00140', 'wide_rgb_0_00141', 'wide_rgb_0_00142', 'wide_rgb_0_00143', 'wide_rgb_0_00144', 'wide_rgb_0_00145', 'wide_rgb_0_00146', 'wide_rgb_0_00147', 'wide_rgb_0_00148', 'wide_rgb_0_00149', 'wide_rgb_0_00150', 'wide_rgb_0_00151', 'wide_rgb_0_00152', 'wide_rgb_0_00153', 'wide_rgb_0_00154', 'wide_rgb_0_00155', 'wide_rgb_0_00156', 'wide_rgb_0_00157', 'wide_rgb_0_00158', 'wide_rgb_0_00159', 'wide_rgb_0_00160', 'wide_rgb_0_00161', 'wide_rgb_0_00162', 'wide_rgb_0_00163', 'wide_rgb_0_00164', 'wide_rgb_0_00165', 'wide_rgb_0_00166', 'wide_rgb_0_00167', 'wide_rgb_0_00168', 'wide_rgb_0_00169', 'wide_rgb_0_00170', 'wide_rgb_0_00171', 'wide_rgb_0_00172', 'wide_rgb_0_00173', 'wide_rgb_0_00174', 'wide_rgb_0_00175', 'wide_rgb_0_00176', 'wide_rgb_0_00177', 'wide_rgb_0_00178', 'wide_rgb_0_00179', 'wide_rgb_0_00180', 'wide_rgb_0_00181', 'wide_rgb_0_00182', 'wide_rgb_0_00183', 'wide_rgb_0_00184', 'wide_rgb_0_00185', 'wide_rgb_0_00186', 'wide_rgb_0_00187', 'wide_rgb_0_00188', 'wide_rgb_0_00189', 'wide_rgb_0_00190', 'wide_rgb_0_00191', 'wide_rgb_0_00192', 'wide_rgb_0_00193', 'wide_rgb_0_00194', 'wide_rgb_0_00195', 'wide_rgb_0_00196', 'wide_rgb_0_00197', 'wide_rgb_0_00198', 'wide_rgb_0_00199', 'wide_rgb_0_00200', 'wide_rgb_0_00201', 'wide_rgb_0_00202', 'wide_rgb_0_00203', 'wide_rgb_0_00204', 'wide_rgb_0_00205', 'wide_rgb_0_00206', 'wide_rgb_0_00207', 'wide_rgb_0_00208', 'wide_rgb_0_00209', 'wide_rgb_0_00210', 'wide_rgb_0_00211', 'wide_rgb_0_00212', 'wide_rgb_0_00213', 'wide_rgb_0_00214', 'wide_rgb_0_00215', 'wide_rgb_0_00216', 'wide_rgb_0_00217', 'wide_rgb_0_00218', 'wide_rgb_0_00219', 'wide_rgb_0_00220', 'wide_rgb_0_00221', 'wide_rgb_0_00222', 'wide_rgb_0_00223', 'wide_rgb_0_00224', 'wide_rgb_0_00225', 'wide_rgb_0_00226', 'wide_rgb_0_00227', 'wide_rgb_0_00228', 'wide_rgb_0_00229', 'wide_rgb_0_00230', 'wide_rgb_0_00231', 'wide_rgb_0_00232', 'wide_rgb_0_00233', 'wide_rgb_0_00234', 'wide_rgb_0_00235', 'wide_rgb_0_00236', 'wide_rgb_0_00237', 'wide_rgb_0_00238', 'wide_rgb_0_00239', 'wide_rgb_0_00240', 'wide_rgb_0_00241', 'wide_rgb_0_00242', 'wide_rgb_0_00243', 'wide_rgb_0_00244', 'wide_rgb_0_00245', 'wide_rgb_0_00246', 'wide_rgb_0_00247', 'wide_rgb_0_00248', 'wide_rgb_0_00249', 'wide_rgb_0_00250', 'wide_rgb_0_00251', 'wide_rgb_0_00252', 'wide_rgb_0_00253', 'wide_rgb_0_00254', 'wide_rgb_0_00255', 'wide_rgb_0_00256', 'wide_rgb_0_00257', 'wide_rgb_0_00258', 'wide_rgb_0_00259', 'wide_rgb_0_00260', 'wide_rgb_0_00261', 'wide_rgb_0_00262', 'wide_rgb_0_00263', 'wide_rgb_0_00264', 'wide_rgb_0_00265', 'wide_rgb_0_00266', 'wide_rgb_0_00267', 'wide_rgb_0_00268', 'wide_rgb_0_00269', 'wide_rgb_0_00270', 'wide_rgb_0_00271', 'wide_rgb_0_00272', 'wide_rgb_0_00273', 'wide_rgb_0_00274', 'wide_rgb_0_00275', 'wide_rgb_0_00276', 'wide_rgb_0_00277', 'wide_rgb_0_00278', 'wide_rgb_0_00279', 'wide_rgb_0_00280', 'wide_rgb_0_00281', 'wide_rgb_0_00282', 'wide_rgb_0_00283', 'wide_rgb_0_00284', 'wide_rgb_0_00285', 'wide_rgb_0_00286', 'wide_rgb_0_00287', 'wide_rgb_0_00288', 'wide_rgb_0_00289', 'wide_rgb_0_00290', 'wide_rgb_0_00291', 'wide_rgb_0_00292', 'wide_rgb_0_00293', 'wide_rgb_0_00294', 'wide_rgb_0_00295', 'wide_rgb_0_00296', 'wide_rgb_0_00297', 'wide_rgb_0_00298', 'wide_rgb_0_00299', 'wide_rgb_0_00300', 'wide_rgb_0_00301', 'wide_rgb_0_00302', 'wide_rgb_0_00303', 'wide_rgb_0_00304', 'wide_rgb_0_00305', 'wide_rgb_0_00306', 'wide_rgb_0_00307', 'wide_rgb_0_00308', 'wide_rgb_0_00309', 'wide_rgb_0_00310', 'wide_rgb_0_00311', 'wide_rgb_0_00312', 'wide_rgb_0_00313', 'wide_rgb_0_00314', 'wide_rgb_0_00315', 'wide_rgb_0_00316', 'wide_rgb_0_00317', 'wide_rgb_0_00318', 'wide_rgb_0_00319', 'wide_rgb_0_00320', 'wide_rgb_0_00321', 'wide_rgb_0_00322', 'wide_rgb_0_00323', 'wide_rgb_0_00324', 'wide_rgb_0_00325', 'wide_rgb_0_00326', 'wide_rgb_0_00327', 'wide_rgb_0_00328', 'wide_rgb_0_00329', 'wide_rgb_0_00330', 'wide_rgb_0_00331', 'wide_rgb_0_00332', 'wide_rgb_0_00333', 'wide_rgb_0_00334', 'wide_rgb_0_00335', 'wide_rgb_0_00336', 'wide_rgb_0_00337', 'wide_rgb_0_00338', 'wide_rgb_0_00339', 'wide_rgb_0_00340', 'wide_rgb_0_00341', 'wide_rgb_0_00342', 'wide_rgb_0_00343', 'wide_rgb_0_00344', 'wide_rgb_0_00345', 'wide_rgb_0_00346', 'wide_rgb_0_00347', 'wide_rgb_0_00348', 'wide_rgb_0_00349', 'wide_rgb_0_00350', 'wide_rgb_0_00351', 'wide_rgb_0_00352', 'wide_rgb_0_00353', 'wide_rgb_0_00354', 'wide_rgb_0_00355', 'wide_rgb_0_00356', 'wide_rgb_0_00357', 'wide_rgb_0_00358', 'wide_rgb_0_00359', 'wide_rgb_0_00360', 'wide_rgb_0_00361', 'wide_rgb_0_00362', 'wide_rgb_0_00363', 'wide_rgb_0_00364', 'wide_rgb_0_00365', 'wide_rgb_0_00366', 'wide_rgb_0_00367', 'wide_rgb_0_00368', 'wide_rgb_0_00369', 'wide_rgb_0_00370', 'wide_rgb_0_00371', 'wide_rgb_0_00372', 'wide_rgb_0_00373', 'wide_rgb_0_00374', 'wide_rgb_0_00375', 'wide_rgb_0_00376', 'wide_rgb_0_00377', 'wide_rgb_0_00378', 'wide_rgb_0_00379', 'wide_rgb_0_00380', 'wide_rgb_0_00381', 'wide_rgb_0_00382', 'wide_rgb_0_00383', 'wide_rgb_0_00384', 'wide_rgb_0_00385', 'wide_rgb_0_00386', 'wide_rgb_0_00387', 'wide_rgb_0_00388', 'wide_rgb_0_00389', 'wide_rgb_0_00390', 'wide_rgb_0_00391', 'wide_rgb_0_00392', 'wide_rgb_0_00393', 'wide_rgb_0_00394', 'wide_rgb_0_00395', 'wide_rgb_0_00396', 'wide_rgb_0_00397', 'wide_rgb_0_00398', 'wide_rgb_0_00399', 'wide_rgb_0_00400', 'wide_rgb_0_00401', 'wide_rgb_0_00402', 'wide_rgb_0_00403', 'wide_rgb_0_00404', 'wide_rgb_0_00405', 'wide_rgb_0_00406', 'wide_rgb_0_00407', 'wide_rgb_0_00408', 'wide_rgb_0_00409', 'wide_rgb_0_00410', 'wide_rgb_0_00411', 'wide_rgb_0_00412', 'wide_rgb_0_00413', 'wide_rgb_0_00414', 'wide_rgb_0_00415', 'wide_rgb_0_00416', 'wide_rgb_0_00417', 'wide_rgb_0_00418', 'wide_rgb_0_00419', 'wide_rgb_0_00420', 'wide_rgb_0_00421', 'wide_rgb_0_00422', 'wide_rgb_0_00423', 'wide_rgb_0_00424', 'wide_rgb_0_00425', 'wide_rgb_0_00426', 'wide_rgb_0_00427', 'wide_rgb_0_00428', 'wide_rgb_0_00429', 'wide_rgb_0_00430', 'wide_rgb_0_00431', 'wide_rgb_0_00432', 'wide_rgb_0_00433', 'wide_rgb_0_00434', 'wide_rgb_0_00435', 'wide_rgb_0_00436', 'wide_rgb_0_00437', 'wide_rgb_0_00438', 'wide_rgb_0_00439', 'wide_rgb_0_00440', 'wide_rgb_0_00441', 'wide_rgb_0_00442', 'wide_rgb_0_00443', 'wide_rgb_0_00444', 'wide_rgb_0_00445', 'wide_rgb_0_00446', 'wide_rgb_0_00447', 'wide_rgb_0_00448', 'wide_rgb_0_00449', 'wide_rgb_0_00450', 'wide_rgb_0_00451', 'wide_rgb_0_00452', 'wide_rgb_0_00453', 'wide_rgb_0_00454', 'wide_rgb_0_00455', 'wide_rgb_0_00456', 'wide_rgb_0_00457', 'wide_rgb_0_00458', 'wide_rgb_0_00459', 'wide_rgb_0_00460', 'wide_rgb_0_00461', 'wide_rgb_0_00462', 'wide_rgb_0_00463', 'wide_rgb_0_00464', 'wide_rgb_0_00465', 'wide_rgb_0_00466', 'wide_rgb_0_00467', 'wide_rgb_0_00468', 'wide_rgb_0_00469', 'wide_rgb_0_00470', 'wide_rgb_0_00471', 'wide_rgb_0_00472', 'wide_rgb_0_00473', 'wide_rgb_0_00474', 'wide_rgb_0_00475', 'wide_rgb_0_00476', 'wide_rgb_0_00477', 'wide_rgb_0_00478', 'wide_rgb_0_00479', 'wide_rgb_0_00480', 'wide_rgb_0_00481', 'wide_rgb_0_00482', 'wide_rgb_0_00483', 'wide_rgb_0_00484', 'wide_rgb_0_00485', 'wide_rgb_0_00486', 'wide_rgb_0_00487', 'wide_rgb_0_00488', 'wide_rgb_0_00489', 'wide_rgb_0_00490', 'wide_rgb_0_00491', 'wide_rgb_0_00492', 'wide_rgb_0_00493', 'wide_rgb_0_00494', 'wide_rgb_0_00495', 'wide_rgb_0_00496', 'wide_rgb_0_00497', 'wide_rgb_0_00498', 'wide_rgb_0_00499', 'wide_rgb_0_00500', 'wide_rgb_0_00501', 'wide_rgb_0_00502', 'wide_rgb_0_00503', 'wide_rgb_0_00504', 'wide_rgb_0_00505', 'wide_rgb_0_00506', 'wide_rgb_0_00507', 'wide_rgb_0_00508', 'wide_rgb_0_00509', 'wide_rgb_0_00510', 'wide_rgb_0_00511', 'wide_rgb_0_00512', 'wide_rgb_0_00513', 'wide_rgb_0_00514', 'wide_rgb_0_00515', 'wide_rgb_0_00516', 'wide_rgb_0_00517', 'wide_rgb_0_00518', 'wide_rgb_0_00519', 'wide_rgb_0_00520', 'wide_rgb_0_00521', 'wide_rgb_0_00522', 'wide_rgb_0_00523', 'wide_rgb_0_00524', 'wide_rgb_0_00525', 'wide_rgb_0_00526', 'wide_rgb_0_00527', 'wide_rgb_0_00528', 'wide_rgb_0_00529', 'wide_rgb_0_00530', 'wide_rgb_0_00531', 'wide_rgb_0_00532', 'wide_rgb_0_00533', 'wide_rgb_0_00534', 'wide_rgb_0_00535', 'wide_rgb_0_00536', 'wide_rgb_0_00537', 'wide_rgb_0_00538', 'wide_rgb_0_00539', 'wide_rgb_0_00540', 'wide_rgb_0_00541', 'wide_rgb_0_00542', 'wide_rgb_0_00543', 'wide_rgb_0_00544', 'wide_rgb_0_00545', 'wide_rgb_0_00546', 'wide_rgb_0_00547', 'wide_rgb_0_00548', 'wide_rgb_0_00549', 'wide_rgb_0_00550', 'wide_rgb_0_00551', 'wide_rgb_0_00552', 'wide_rgb_0_00553', 'wide_rgb_0_00554', 'wide_rgb_0_00555', 'wide_rgb_0_00556', 'wide_rgb_0_00557', 'wide_rgb_0_00558', 'wide_rgb_0_00559', 'wide_rgb_0_00560', 'wide_rgb_0_00561', 'wide_rgb_0_00562', 'wide_rgb_0_00563', 'wide_rgb_0_00564', 'wide_rgb_0_00565', 'wide_rgb_0_00566', 'wide_rgb_0_00567', 'wide_rgb_0_00568', 'wide_rgb_0_00569', 'wide_rgb_0_00570', 'wide_rgb_0_00571', 'wide_rgb_0_00572', 'wide_rgb_0_00573', 'wide_rgb_0_00574', 'wide_rgb_0_00575', 'wide_rgb_0_00576', 'wide_rgb_0_00577', 'wide_rgb_0_00578', 'wide_rgb_0_00579', 'wide_rgb_0_00580', 'wide_rgb_0_00581', 'wide_rgb_0_00582', 'wide_rgb_0_00583', 'wide_rgb_0_00584', 'wide_rgb_0_00585', 'wide_rgb_0_00586', 'wide_rgb_0_00587', 'wide_rgb_0_00588', 'wide_rgb_0_00589', 'wide_rgb_0_00590', 'wide_rgb_0_00591', 'wide_rgb_0_00592', 'wide_rgb_0_00593', 'wide_rgb_0_00594', 'wide_rgb_0_00595', 'wide_rgb_0_00596', 'wide_rgb_0_00597', 'wide_rgb_0_00598', 'wide_rgb_0_00599', 'wide_rgb_0_00600', 'wide_rgb_0_00601', 'wide_rgb_0_00602', 'wide_rgb_0_00603', 'wide_rgb_0_00604', 'wide_rgb_0_00605', 'wide_rgb_0_00606', 'wide_rgb_0_00607', 'wide_rgb_0_00608', 'wide_rgb_0_00609', 'wide_rgb_0_00610', 'wide_rgb_0_00611', 'wide_rgb_0_00612', 'wide_rgb_0_00613', 'wide_rgb_0_00614', 'wide_rgb_0_00615', 'wide_rgb_0_00616', 'wide_rgb_0_00617', 'wide_rgb_0_00618', 'wide_rgb_0_00619', 'wide_rgb_0_00620', 'wide_rgb_0_00621', 'wide_rgb_0_00622', 'wide_rgb_0_00623', 'wide_rgb_0_00624', 'wide_rgb_0_00625', 'wide_rgb_0_00626', 'wide_rgb_0_00627', 'wide_rgb_0_00628', 'wide_rgb_0_00629', 'wide_rgb_0_00630', 'wide_rgb_0_00631', 'wide_rgb_0_00632', 'wide_rgb_0_00633', 'wide_rgb_0_00634', 'wide_rgb_0_00635', 'wide_rgb_0_00636', 'wide_rgb_0_00637', 'wide_rgb_0_00638', 'wide_rgb_0_00639', 'wide_rgb_0_00640', 'wide_rgb_0_00641', 'wide_rgb_0_00642', 'wide_rgb_0_00643', 'wide_rgb_0_00644', 'wide_rgb_0_00645', 'wide_rgb_0_00646', 'wide_rgb_0_00647', 'wide_rgb_0_00648', 'wide_rgb_0_00649', 'wide_rgb_0_00650', 'wide_rgb_0_00651', 'wide_rgb_0_00652', 'wide_rgb_0_00653', 'wide_rgb_0_00654', 'wide_rgb_0_00655', 'wide_rgb_0_00656', 'wide_rgb_0_00657', 'wide_rgb_0_00658', 'wide_rgb_0_00659', 'wide_rgb_0_00660', 'wide_rgb_0_00661', 'wide_rgb_0_00662', 'wide_rgb_0_00663', 'wide_rgb_0_00664', 'wide_rgb_0_00665', 'wide_rgb_0_00666', 'wide_rgb_0_00667', 'wide_rgb_0_00668', 'wide_rgb_0_00669', 'wide_rgb_0_00670', 'wide_rgb_0_00671', 'wide_rgb_0_00672', 'wide_rgb_0_00673', 'wide_rgb_0_00674', 'wide_rgb_0_00675', 'wide_rgb_0_00676', 'wide_rgb_0_00677', 'wide_rgb_0_00678', 'wide_rgb_0_00679', 'wide_rgb_0_00680', 'wide_rgb_0_00681', 'wide_rgb_0_00682', 'wide_rgb_0_00683', 'wide_rgb_0_00684', 'wide_rgb_0_00685', 'wide_rgb_0_00686', 'wide_rgb_0_00687', 'wide_rgb_0_00688', 'wide_rgb_0_00689', 'wide_rgb_0_00690', 'wide_rgb_0_00691', 'wide_rgb_0_00692', 'wide_rgb_0_00693', 'wide_rgb_0_00694', 'wide_rgb_0_00695', 'wide_rgb_0_00696', 'wide_rgb_0_00697', 'wide_rgb_0_00698', 'wide_rgb_0_00699', 'wide_rgb_0_00700', 'wide_rgb_0_00701', 'wide_rgb_0_00702', 'wide_rgb_0_00703', 'wide_rgb_0_00704', 'wide_rgb_0_00705', 'wide_rgb_0_00706', 'wide_rgb_0_00707', 'wide_rgb_0_00708', 'wide_rgb_0_00709', 'wide_rgb_0_00710', 'wide_rgb_0_00711', 'wide_rgb_0_00712', 'wide_rgb_0_00713', 'wide_rgb_0_00714', 'wide_rgb_0_00715', 'wide_rgb_0_00716', 'wide_rgb_0_00717', 'wide_rgb_0_00718', 'wide_rgb_0_00719', 'wide_rgb_0_00720', 'wide_rgb_0_00721', 'wide_rgb_0_00722', 'wide_rgb_0_00723', 'wide_rgb_0_00724', 'wide_rgb_0_00725', 'wide_rgb_0_00726', 'wide_rgb_0_00727', 'wide_rgb_0_00728', 'wide_rgb_0_00729', 'wide_rgb_0_00730', 'wide_rgb_0_00731', 'wide_rgb_0_00732', 'wide_rgb_0_00733', 'wide_rgb_0_00734', 'wide_rgb_0_00735', 'wide_rgb_0_00736', 'wide_rgb_0_00737', 'wide_rgb_0_00738', 'wide_rgb_0_00739', 'wide_rgb_0_00740', 'wide_rgb_0_00741', 'wide_rgb_0_00742', 'wide_rgb_0_00743', 'wide_rgb_0_00744', 'wide_rgb_0_00745', 'wide_rgb_0_00746', 'wide_rgb_0_00747', 'wide_rgb_0_00748', 'wide_rgb_0_00749', 'wide_rgb_0_00750', 'wide_rgb_0_00751', 'wide_rgb_0_00752', 'wide_rgb_0_00753', 'wide_rgb_0_00754', 'wide_rgb_0_00755', 'wide_rgb_0_00756', 'wide_rgb_0_00757', 'wide_rgb_0_00758', 'wide_rgb_0_00759', 'wide_rgb_0_00760', 'wide_rgb_0_00761', 'wide_rgb_0_00762', 'wide_rgb_0_00763', 'wide_rgb_0_00764', 'wide_rgb_0_00765', 'wide_rgb_0_00766', 'wide_rgb_0_00767', 'wide_rgb_0_00768', 'wide_rgb_0_00769', 'wide_rgb_0_00770', 'wide_rgb_0_00771', 'wide_rgb_0_00772', 'wide_rgb_0_00773', 'wide_rgb_0_00774', 'wide_rgb_0_00775', 'wide_rgb_0_00776', 'wide_rgb_0_00777', 'wide_rgb_0_00778', 'wide_rgb_0_00779', 'wide_rgb_0_00780', 'wide_rgb_0_00781', 'wide_rgb_0_00782', 'wide_rgb_0_00783', 'wide_rgb_0_00784', 'wide_rgb_0_00785', 'wide_rgb_0_00786', 'wide_rgb_0_00787', 'wide_rgb_0_00788', 'wide_rgb_0_00789', 'wide_rgb_0_00790', 'wide_rgb_0_00791', 'wide_rgb_0_00792', 'wide_rgb_0_00793', 'wide_rgb_0_00794', 'wide_rgb_0_00795', 'wide_rgb_0_00796', 'wide_rgb_0_00797', 'wide_rgb_0_00798', 'wide_rgb_0_00799', 'wide_rgb_0_00800', 'wide_rgb_0_00801', 'wide_rgb_0_00802', 'wide_sem_0_00000', 'wide_sem_0_00001', 'wide_sem_0_00002', 'wide_sem_0_00003', 'wide_sem_0_00004', 'wide_sem_0_00005', 'wide_sem_0_00006', 'wide_sem_0_00007', 'wide_sem_0_00008', 'wide_sem_0_00009', 'wide_sem_0_00010', 'wide_sem_0_00011', 'wide_sem_0_00012', 'wide_sem_0_00013', 'wide_sem_0_00014', 'wide_sem_0_00015', 'wide_sem_0_00016', 'wide_sem_0_00017', 'wide_sem_0_00018', 'wide_sem_0_00019', 'wide_sem_0_00020', 'wide_sem_0_00021', 'wide_sem_0_00022', 'wide_sem_0_00023', 'wide_sem_0_00024', 'wide_sem_0_00025', 'wide_sem_0_00026', 'wide_sem_0_00027', 'wide_sem_0_00028', 'wide_sem_0_00029', 'wide_sem_0_00030', 'wide_sem_0_00031', 'wide_sem_0_00032', 'wide_sem_0_00033', 'wide_sem_0_00034', 'wide_sem_0_00035', 'wide_sem_0_00036', 'wide_sem_0_00037', 'wide_sem_0_00038', 'wide_sem_0_00039', 'wide_sem_0_00040', 'wide_sem_0_00041', 'wide_sem_0_00042', 'wide_sem_0_00043', 'wide_sem_0_00044', 'wide_sem_0_00045', 'wide_sem_0_00046', 'wide_sem_0_00047', 'wide_sem_0_00048', 'wide_sem_0_00049', 'wide_sem_0_00050', 'wide_sem_0_00051', 'wide_sem_0_00052', 'wide_sem_0_00053', 'wide_sem_0_00054', 'wide_sem_0_00055', 'wide_sem_0_00056', 'wide_sem_0_00057', 'wide_sem_0_00058', 'wide_sem_0_00059', 'wide_sem_0_00060', 'wide_sem_0_00061', 'wide_sem_0_00062', 'wide_sem_0_00063', 'wide_sem_0_00064', 'wide_sem_0_00065', 'wide_sem_0_00066', 'wide_sem_0_00067', 'wide_sem_0_00068', 'wide_sem_0_00069', 'wide_sem_0_00070', 'wide_sem_0_00071', 'wide_sem_0_00072', 'wide_sem_0_00073', 'wide_sem_0_00074', 'wide_sem_0_00075', 'wide_sem_0_00076', 'wide_sem_0_00077', 'wide_sem_0_00078', 'wide_sem_0_00079', 'wide_sem_0_00080', 'wide_sem_0_00081', 'wide_sem_0_00082', 'wide_sem_0_00083', 'wide_sem_0_00084', 'wide_sem_0_00085', 'wide_sem_0_00086', 'wide_sem_0_00087', 'wide_sem_0_00088', 'wide_sem_0_00089', 'wide_sem_0_00090', 'wide_sem_0_00091', 'wide_sem_0_00092', 'wide_sem_0_00093', 'wide_sem_0_00094', 'wide_sem_0_00095', 'wide_sem_0_00096', 'wide_sem_0_00097', 'wide_sem_0_00098', 'wide_sem_0_00099', 'wide_sem_0_00100', 'wide_sem_0_00101', 'wide_sem_0_00102', 'wide_sem_0_00103', 'wide_sem_0_00104', 'wide_sem_0_00105', 'wide_sem_0_00106', 'wide_sem_0_00107', 'wide_sem_0_00108', 'wide_sem_0_00109', 'wide_sem_0_00110', 'wide_sem_0_00111', 'wide_sem_0_00112', 'wide_sem_0_00113', 'wide_sem_0_00114', 'wide_sem_0_00115', 'wide_sem_0_00116', 'wide_sem_0_00117', 'wide_sem_0_00118', 'wide_sem_0_00119', 'wide_sem_0_00120', 'wide_sem_0_00121', 'wide_sem_0_00122', 'wide_sem_0_00123', 'wide_sem_0_00124', 'wide_sem_0_00125', 'wide_sem_0_00126', 'wide_sem_0_00127', 'wide_sem_0_00128', 'wide_sem_0_00129', 'wide_sem_0_00130', 'wide_sem_0_00131', 'wide_sem_0_00132', 'wide_sem_0_00133', 'wide_sem_0_00134', 'wide_sem_0_00135', 'wide_sem_0_00136', 'wide_sem_0_00137', 'wide_sem_0_00138', 'wide_sem_0_00139', 'wide_sem_0_00140', 'wide_sem_0_00141', 'wide_sem_0_00142', 'wide_sem_0_00143', 'wide_sem_0_00144', 'wide_sem_0_00145', 'wide_sem_0_00146', 'wide_sem_0_00147', 'wide_sem_0_00148', 'wide_sem_0_00149', 'wide_sem_0_00150', 'wide_sem_0_00151', 'wide_sem_0_00152', 'wide_sem_0_00153', 'wide_sem_0_00154', 'wide_sem_0_00155', 'wide_sem_0_00156', 'wide_sem_0_00157', 'wide_sem_0_00158', 'wide_sem_0_00159', 'wide_sem_0_00160', 'wide_sem_0_00161', 'wide_sem_0_00162', 'wide_sem_0_00163', 'wide_sem_0_00164', 'wide_sem_0_00165', 'wide_sem_0_00166', 'wide_sem_0_00167', 'wide_sem_0_00168', 'wide_sem_0_00169', 'wide_sem_0_00170', 'wide_sem_0_00171', 'wide_sem_0_00172', 'wide_sem_0_00173', 'wide_sem_0_00174', 'wide_sem_0_00175', 'wide_sem_0_00176', 'wide_sem_0_00177', 'wide_sem_0_00178', 'wide_sem_0_00179', 'wide_sem_0_00180', 'wide_sem_0_00181', 'wide_sem_0_00182', 'wide_sem_0_00183', 'wide_sem_0_00184', 'wide_sem_0_00185', 'wide_sem_0_00186', 'wide_sem_0_00187', 'wide_sem_0_00188', 'wide_sem_0_00189', 'wide_sem_0_00190', 'wide_sem_0_00191', 'wide_sem_0_00192', 'wide_sem_0_00193', 'wide_sem_0_00194', 'wide_sem_0_00195', 'wide_sem_0_00196', 'wide_sem_0_00197', 'wide_sem_0_00198', 'wide_sem_0_00199', 'wide_sem_0_00200', 'wide_sem_0_00201', 'wide_sem_0_00202', 'wide_sem_0_00203', 'wide_sem_0_00204', 'wide_sem_0_00205', 'wide_sem_0_00206', 'wide_sem_0_00207', 'wide_sem_0_00208', 'wide_sem_0_00209', 'wide_sem_0_00210', 'wide_sem_0_00211', 'wide_sem_0_00212', 'wide_sem_0_00213', 'wide_sem_0_00214', 'wide_sem_0_00215', 'wide_sem_0_00216', 'wide_sem_0_00217', 'wide_sem_0_00218', 'wide_sem_0_00219', 'wide_sem_0_00220', 'wide_sem_0_00221', 'wide_sem_0_00222', 'wide_sem_0_00223', 'wide_sem_0_00224', 'wide_sem_0_00225', 'wide_sem_0_00226', 'wide_sem_0_00227', 'wide_sem_0_00228', 'wide_sem_0_00229', 'wide_sem_0_00230', 'wide_sem_0_00231', 'wide_sem_0_00232', 'wide_sem_0_00233', 'wide_sem_0_00234', 'wide_sem_0_00235', 'wide_sem_0_00236', 'wide_sem_0_00237', 'wide_sem_0_00238', 'wide_sem_0_00239', 'wide_sem_0_00240', 'wide_sem_0_00241', 'wide_sem_0_00242', 'wide_sem_0_00243', 'wide_sem_0_00244', 'wide_sem_0_00245', 'wide_sem_0_00246', 'wide_sem_0_00247', 'wide_sem_0_00248', 'wide_sem_0_00249', 'wide_sem_0_00250', 'wide_sem_0_00251', 'wide_sem_0_00252', 'wide_sem_0_00253', 'wide_sem_0_00254', 'wide_sem_0_00255', 'wide_sem_0_00256', 'wide_sem_0_00257', 'wide_sem_0_00258', 'wide_sem_0_00259', 'wide_sem_0_00260', 'wide_sem_0_00261', 'wide_sem_0_00262', 'wide_sem_0_00263', 'wide_sem_0_00264', 'wide_sem_0_00265', 'wide_sem_0_00266', 'wide_sem_0_00267', 'wide_sem_0_00268', 'wide_sem_0_00269', 'wide_sem_0_00270', 'wide_sem_0_00271', 'wide_sem_0_00272', 'wide_sem_0_00273', 'wide_sem_0_00274', 'wide_sem_0_00275', 'wide_sem_0_00276', 'wide_sem_0_00277', 'wide_sem_0_00278', 'wide_sem_0_00279', 'wide_sem_0_00280', 'wide_sem_0_00281', 'wide_sem_0_00282', 'wide_sem_0_00283', 'wide_sem_0_00284', 'wide_sem_0_00285', 'wide_sem_0_00286', 'wide_sem_0_00287', 'wide_sem_0_00288', 'wide_sem_0_00289', 'wide_sem_0_00290', 'wide_sem_0_00291', 'wide_sem_0_00292', 'wide_sem_0_00293', 'wide_sem_0_00294', 'wide_sem_0_00295', 'wide_sem_0_00296', 'wide_sem_0_00297', 'wide_sem_0_00298', 'wide_sem_0_00299', 'wide_sem_0_00300', 'wide_sem_0_00301', 'wide_sem_0_00302', 'wide_sem_0_00303', 'wide_sem_0_00304', 'wide_sem_0_00305', 'wide_sem_0_00306', 'wide_sem_0_00307', 'wide_sem_0_00308', 'wide_sem_0_00309', 'wide_sem_0_00310', 'wide_sem_0_00311', 'wide_sem_0_00312', 'wide_sem_0_00313', 'wide_sem_0_00314', 'wide_sem_0_00315', 'wide_sem_0_00316', 'wide_sem_0_00317', 'wide_sem_0_00318', 'wide_sem_0_00319', 'wide_sem_0_00320', 'wide_sem_0_00321', 'wide_sem_0_00322', 'wide_sem_0_00323', 'wide_sem_0_00324', 'wide_sem_0_00325', 'wide_sem_0_00326', 'wide_sem_0_00327', 'wide_sem_0_00328', 'wide_sem_0_00329', 'wide_sem_0_00330', 'wide_sem_0_00331', 'wide_sem_0_00332', 'wide_sem_0_00333', 'wide_sem_0_00334', 'wide_sem_0_00335', 'wide_sem_0_00336', 'wide_sem_0_00337', 'wide_sem_0_00338', 'wide_sem_0_00339', 'wide_sem_0_00340', 'wide_sem_0_00341', 'wide_sem_0_00342', 'wide_sem_0_00343', 'wide_sem_0_00344', 'wide_sem_0_00345', 'wide_sem_0_00346', 'wide_sem_0_00347', 'wide_sem_0_00348', 'wide_sem_0_00349', 'wide_sem_0_00350', 'wide_sem_0_00351', 'wide_sem_0_00352', 'wide_sem_0_00353', 'wide_sem_0_00354', 'wide_sem_0_00355', 'wide_sem_0_00356', 'wide_sem_0_00357', 'wide_sem_0_00358', 'wide_sem_0_00359', 'wide_sem_0_00360', 'wide_sem_0_00361', 'wide_sem_0_00362', 'wide_sem_0_00363', 'wide_sem_0_00364', 'wide_sem_0_00365', 'wide_sem_0_00366', 'wide_sem_0_00367', 'wide_sem_0_00368', 'wide_sem_0_00369', 'wide_sem_0_00370', 'wide_sem_0_00371', 'wide_sem_0_00372', 'wide_sem_0_00373', 'wide_sem_0_00374', 'wide_sem_0_00375', 'wide_sem_0_00376', 'wide_sem_0_00377', 'wide_sem_0_00378', 'wide_sem_0_00379', 'wide_sem_0_00380', 'wide_sem_0_00381', 'wide_sem_0_00382', 'wide_sem_0_00383', 'wide_sem_0_00384', 'wide_sem_0_00385', 'wide_sem_0_00386', 'wide_sem_0_00387', 'wide_sem_0_00388', 'wide_sem_0_00389', 'wide_sem_0_00390', 'wide_sem_0_00391', 'wide_sem_0_00392', 'wide_sem_0_00393', 'wide_sem_0_00394', 'wide_sem_0_00395', 'wide_sem_0_00396', 'wide_sem_0_00397', 'wide_sem_0_00398', 'wide_sem_0_00399', 'wide_sem_0_00400', 'wide_sem_0_00401', 'wide_sem_0_00402', 'wide_sem_0_00403', 'wide_sem_0_00404', 'wide_sem_0_00405', 'wide_sem_0_00406', 'wide_sem_0_00407', 'wide_sem_0_00408', 'wide_sem_0_00409', 'wide_sem_0_00410', 'wide_sem_0_00411', 'wide_sem_0_00412', 'wide_sem_0_00413', 'wide_sem_0_00414', 'wide_sem_0_00415', 'wide_sem_0_00416', 'wide_sem_0_00417', 'wide_sem_0_00418', 'wide_sem_0_00419', 'wide_sem_0_00420', 'wide_sem_0_00421', 'wide_sem_0_00422', 'wide_sem_0_00423', 'wide_sem_0_00424', 'wide_sem_0_00425', 'wide_sem_0_00426', 'wide_sem_0_00427', 'wide_sem_0_00428', 'wide_sem_0_00429', 'wide_sem_0_00430', 'wide_sem_0_00431', 'wide_sem_0_00432', 'wide_sem_0_00433', 'wide_sem_0_00434', 'wide_sem_0_00435', 'wide_sem_0_00436', 'wide_sem_0_00437', 'wide_sem_0_00438', 'wide_sem_0_00439', 'wide_sem_0_00440', 'wide_sem_0_00441', 'wide_sem_0_00442', 'wide_sem_0_00443', 'wide_sem_0_00444', 'wide_sem_0_00445', 'wide_sem_0_00446', 'wide_sem_0_00447', 'wide_sem_0_00448', 'wide_sem_0_00449', 'wide_sem_0_00450', 'wide_sem_0_00451', 'wide_sem_0_00452', 'wide_sem_0_00453', 'wide_sem_0_00454', 'wide_sem_0_00455', 'wide_sem_0_00456', 'wide_sem_0_00457', 'wide_sem_0_00458', 'wide_sem_0_00459', 'wide_sem_0_00460', 'wide_sem_0_00461', 'wide_sem_0_00462', 'wide_sem_0_00463', 'wide_sem_0_00464', 'wide_sem_0_00465', 'wide_sem_0_00466', 'wide_sem_0_00467', 'wide_sem_0_00468', 'wide_sem_0_00469', 'wide_sem_0_00470', 'wide_sem_0_00471', 'wide_sem_0_00472', 'wide_sem_0_00473', 'wide_sem_0_00474', 'wide_sem_0_00475', 'wide_sem_0_00476', 'wide_sem_0_00477', 'wide_sem_0_00478', 'wide_sem_0_00479', 'wide_sem_0_00480', 'wide_sem_0_00481', 'wide_sem_0_00482', 'wide_sem_0_00483', 'wide_sem_0_00484', 'wide_sem_0_00485', 'wide_sem_0_00486', 'wide_sem_0_00487', 'wide_sem_0_00488', 'wide_sem_0_00489', 'wide_sem_0_00490', 'wide_sem_0_00491', 'wide_sem_0_00492', 'wide_sem_0_00493', 'wide_sem_0_00494', 'wide_sem_0_00495', 'wide_sem_0_00496', 'wide_sem_0_00497', 'wide_sem_0_00498', 'wide_sem_0_00499', 'wide_sem_0_00500', 'wide_sem_0_00501', 'wide_sem_0_00502', 'wide_sem_0_00503', 'wide_sem_0_00504', 'wide_sem_0_00505', 'wide_sem_0_00506', 'wide_sem_0_00507', 'wide_sem_0_00508', 'wide_sem_0_00509', 'wide_sem_0_00510', 'wide_sem_0_00511', 'wide_sem_0_00512', 'wide_sem_0_00513', 'wide_sem_0_00514', 'wide_sem_0_00515', 'wide_sem_0_00516', 'wide_sem_0_00517', 'wide_sem_0_00518', 'wide_sem_0_00519', 'wide_sem_0_00520', 'wide_sem_0_00521', 'wide_sem_0_00522', 'wide_sem_0_00523', 'wide_sem_0_00524', 'wide_sem_0_00525', 'wide_sem_0_00526', 'wide_sem_0_00527', 'wide_sem_0_00528', 'wide_sem_0_00529', 'wide_sem_0_00530', 'wide_sem_0_00531', 'wide_sem_0_00532', 'wide_sem_0_00533', 'wide_sem_0_00534', 'wide_sem_0_00535', 'wide_sem_0_00536', 'wide_sem_0_00537', 'wide_sem_0_00538', 'wide_sem_0_00539', 'wide_sem_0_00540', 'wide_sem_0_00541', 'wide_sem_0_00542', 'wide_sem_0_00543', 'wide_sem_0_00544', 'wide_sem_0_00545', 'wide_sem_0_00546', 'wide_sem_0_00547', 'wide_sem_0_00548', 'wide_sem_0_00549', 'wide_sem_0_00550', 'wide_sem_0_00551', 'wide_sem_0_00552', 'wide_sem_0_00553', 'wide_sem_0_00554', 'wide_sem_0_00555', 'wide_sem_0_00556', 'wide_sem_0_00557', 'wide_sem_0_00558', 'wide_sem_0_00559', 'wide_sem_0_00560', 'wide_sem_0_00561', 'wide_sem_0_00562', 'wide_sem_0_00563', 'wide_sem_0_00564', 'wide_sem_0_00565', 'wide_sem_0_00566', 'wide_sem_0_00567', 'wide_sem_0_00568', 'wide_sem_0_00569', 'wide_sem_0_00570', 'wide_sem_0_00571', 'wide_sem_0_00572', 'wide_sem_0_00573', 'wide_sem_0_00574', 'wide_sem_0_00575', 'wide_sem_0_00576', 'wide_sem_0_00577', 'wide_sem_0_00578', 'wide_sem_0_00579', 'wide_sem_0_00580', 'wide_sem_0_00581', 'wide_sem_0_00582', 'wide_sem_0_00583', 'wide_sem_0_00584', 'wide_sem_0_00585', 'wide_sem_0_00586', 'wide_sem_0_00587', 'wide_sem_0_00588', 'wide_sem_0_00589', 'wide_sem_0_00590', 'wide_sem_0_00591', 'wide_sem_0_00592', 'wide_sem_0_00593', 'wide_sem_0_00594', 'wide_sem_0_00595', 'wide_sem_0_00596', 'wide_sem_0_00597', 'wide_sem_0_00598', 'wide_sem_0_00599', 'wide_sem_0_00600', 'wide_sem_0_00601', 'wide_sem_0_00602', 'wide_sem_0_00603', 'wide_sem_0_00604', 'wide_sem_0_00605', 'wide_sem_0_00606', 'wide_sem_0_00607', 'wide_sem_0_00608', 'wide_sem_0_00609', 'wide_sem_0_00610', 'wide_sem_0_00611', 'wide_sem_0_00612', 'wide_sem_0_00613', 'wide_sem_0_00614', 'wide_sem_0_00615', 'wide_sem_0_00616', 'wide_sem_0_00617', 'wide_sem_0_00618', 'wide_sem_0_00619', 'wide_sem_0_00620', 'wide_sem_0_00621', 'wide_sem_0_00622', 'wide_sem_0_00623', 'wide_sem_0_00624', 'wide_sem_0_00625', 'wide_sem_0_00626', 'wide_sem_0_00627', 'wide_sem_0_00628', 'wide_sem_0_00629', 'wide_sem_0_00630', 'wide_sem_0_00631', 'wide_sem_0_00632', 'wide_sem_0_00633', 'wide_sem_0_00634', 'wide_sem_0_00635', 'wide_sem_0_00636', 'wide_sem_0_00637', 'wide_sem_0_00638', 'wide_sem_0_00639', 'wide_sem_0_00640', 'wide_sem_0_00641', 'wide_sem_0_00642', 'wide_sem_0_00643', 'wide_sem_0_00644', 'wide_sem_0_00645', 'wide_sem_0_00646', 'wide_sem_0_00647', 'wide_sem_0_00648', 'wide_sem_0_00649', 'wide_sem_0_00650', 'wide_sem_0_00651', 'wide_sem_0_00652', 'wide_sem_0_00653', 'wide_sem_0_00654', 'wide_sem_0_00655', 'wide_sem_0_00656', 'wide_sem_0_00657', 'wide_sem_0_00658', 'wide_sem_0_00659', 'wide_sem_0_00660', 'wide_sem_0_00661', 'wide_sem_0_00662', 'wide_sem_0_00663', 'wide_sem_0_00664', 'wide_sem_0_00665', 'wide_sem_0_00666', 'wide_sem_0_00667', 'wide_sem_0_00668', 'wide_sem_0_00669', 'wide_sem_0_00670', 'wide_sem_0_00671', 'wide_sem_0_00672', 'wide_sem_0_00673', 'wide_sem_0_00674', 'wide_sem_0_00675', 'wide_sem_0_00676', 'wide_sem_0_00677', 'wide_sem_0_00678', 'wide_sem_0_00679', 'wide_sem_0_00680', 'wide_sem_0_00681', 'wide_sem_0_00682', 'wide_sem_0_00683', 'wide_sem_0_00684', 'wide_sem_0_00685', 'wide_sem_0_00686', 'wide_sem_0_00687', 'wide_sem_0_00688', 'wide_sem_0_00689', 'wide_sem_0_00690', 'wide_sem_0_00691', 'wide_sem_0_00692', 'wide_sem_0_00693', 'wide_sem_0_00694', 'wide_sem_0_00695', 'wide_sem_0_00696', 'wide_sem_0_00697', 'wide_sem_0_00698', 'wide_sem_0_00699', 'wide_sem_0_00700', 'wide_sem_0_00701', 'wide_sem_0_00702', 'wide_sem_0_00703', 'wide_sem_0_00704', 'wide_sem_0_00705', 'wide_sem_0_00706', 'wide_sem_0_00707', 'wide_sem_0_00708', 'wide_sem_0_00709', 'wide_sem_0_00710', 'wide_sem_0_00711', 'wide_sem_0_00712', 'wide_sem_0_00713', 'wide_sem_0_00714', 'wide_sem_0_00715', 'wide_sem_0_00716', 'wide_sem_0_00717', 'wide_sem_0_00718', 'wide_sem_0_00719', 'wide_sem_0_00720', 'wide_sem_0_00721', 'wide_sem_0_00722', 'wide_sem_0_00723', 'wide_sem_0_00724', 'wide_sem_0_00725', 'wide_sem_0_00726', 'wide_sem_0_00727', 'wide_sem_0_00728', 'wide_sem_0_00729', 'wide_sem_0_00730', 'wide_sem_0_00731', 'wide_sem_0_00732', 'wide_sem_0_00733', 'wide_sem_0_00734', 'wide_sem_0_00735', 'wide_sem_0_00736', 'wide_sem_0_00737', 'wide_sem_0_00738', 'wide_sem_0_00739', 'wide_sem_0_00740', 'wide_sem_0_00741', 'wide_sem_0_00742', 'wide_sem_0_00743', 'wide_sem_0_00744', 'wide_sem_0_00745', 'wide_sem_0_00746', 'wide_sem_0_00747', 'wide_sem_0_00748', 'wide_sem_0_00749', 'wide_sem_0_00750', 'wide_sem_0_00751', 'wide_sem_0_00752', 'wide_sem_0_00753', 'wide_sem_0_00754', 'wide_sem_0_00755', 'wide_sem_0_00756', 'wide_sem_0_00757', 'wide_sem_0_00758', 'wide_sem_0_00759', 'wide_sem_0_00760', 'wide_sem_0_00761', 'wide_sem_0_00762', 'wide_sem_0_00763', 'wide_sem_0_00764', 'wide_sem_0_00765', 'wide_sem_0_00766', 'wide_sem_0_00767', 'wide_sem_0_00768', 'wide_sem_0_00769', 'wide_sem_0_00770', 'wide_sem_0_00771', 'wide_sem_0_00772', 'wide_sem_0_00773', 'wide_sem_0_00774', 'wide_sem_0_00775', 'wide_sem_0_00776', 'wide_sem_0_00777', 'wide_sem_0_00778', 'wide_sem_0_00779', 'wide_sem_0_00780', 'wide_sem_0_00781', 'wide_sem_0_00782', 'wide_sem_0_00783', 'wide_sem_0_00784', 'wide_sem_0_00785', 'wide_sem_0_00786', 'wide_sem_0_00787', 'wide_sem_0_00788', 'wide_sem_0_00789', 'wide_sem_0_00790', 'wide_sem_0_00791', 'wide_sem_0_00792', 'wide_sem_0_00793', 'wide_sem_0_00794', 'wide_sem_0_00795', 'wide_sem_0_00796', 'wide_sem_0_00797', 'wide_sem_0_00798', 'wide_sem_0_00799', 'wide_sem_0_00800', 'wide_sem_0_00801', 'wide_sem_0_00802'])"
      ]
     },
     "execution_count": 8,
     "metadata": {},
     "output_type": "execute_result"
    }
   ],
   "source": [
    "dataset.keys()\n"
   ]
  },
  {
   "cell_type": "code",
   "execution_count": null,
   "id": "cb941784-b8b4-4f8c-95a6-f7aa5dd2ab89",
   "metadata": {
    "collapsed": false,
    "jupyter": {
     "outputs_hidden": false
    },
    "pycharm": {
     "name": "#%%\n"
    }
   },
   "outputs": [],
   "source": [
    "seg = decode_frame(550)['segmentation']\n",
    "print(np.unique(seg))\n",
    "print(seg[50:100,230:250])\n",
    "plt.imshow(seg)"
   ]
  },
  {
   "cell_type": "code",
   "execution_count": null,
   "id": "44aa3160",
   "metadata": {
    "collapsed": false,
    "jupyter": {
     "outputs_hidden": false
    },
    "pycharm": {
     "name": "#%%\n"
    }
   },
   "outputs": [],
   "source": [
    "print(len(n_red_frames_t)/sum(n_frames_t))\n",
    "print(sum(n_red_frames_v)/sum(n_frames_v))"
   ]
  },
  {
   "cell_type": "code",
   "execution_count": null,
   "id": "2a471b1a",
   "metadata": {
    "collapsed": false,
    "jupyter": {
     "outputs_hidden": false
    },
    "pycharm": {
     "name": "#%%\n"
    }
   },
   "outputs": [],
   "source": [
    "n_red_frames_t"
   ]
  },
  {
   "cell_type": "code",
   "execution_count": null,
   "id": "4b37a99a",
   "metadata": {
    "collapsed": false,
    "jupyter": {
     "outputs_hidden": false
    },
    "pycharm": {
     "name": "#%%\n"
    }
   },
   "outputs": [],
   "source": [
    "avg_tl = np.mean(tl)\n",
    "avg_rate = np.mean(tl_frames_percentage)\n",
    "print(avg_tl, avg_rate)"
   ]
  },
  {
   "cell_type": "code",
   "execution_count": null,
   "id": "4b8f009d",
   "metadata": {
    "collapsed": false,
    "jupyter": {
     "outputs_hidden": false
    },
    "pycharm": {
     "name": "#%%\n"
    }
   },
   "outputs": [],
   "source": [
    "import seaborn as sns\n",
    "plt.figure(figsize=(10, 8))\n",
    "ax = sns.boxplot(data=[tl_t.astype('float'), tl_v.astype('float')])\n",
    "ax = sns.boxplot(..., labels=[\"Metric\", \"Length\"])\n",
    "plt.ylabel(\"Red traffic lights per episode\", size=14)\n",
    "plt.xlabel(\"Dataset\", size=14)\n",
    "plt.title(\"Repartition of red traffic lights in train and val dataset\", size=18)\n",
    "plt.savefig(\"comprtl.png\")"
   ]
  },
  {
   "cell_type": "code",
   "execution_count": null,
   "id": "e7aac2f9",
   "metadata": {
    "collapsed": false,
    "jupyter": {
     "outputs_hidden": false
    },
    "pycharm": {
     "name": "#%%\n"
    }
   },
   "outputs": [],
   "source": [
    "data = [tl_t, tl_t]\n",
    "fig7, ax7 = plt.subplots()\n",
    "ax7.set_title('Multiple Samples with Different sizes')\n",
    "ax7.boxplot(data)\n",
    "ax7.legend(labels=['dsdssd','dssd'])\n",
    "plt.show()"
   ]
  },
  {
   "cell_type": "code",
   "execution_count": null,
   "id": "07eca673",
   "metadata": {
    "collapsed": false,
    "jupyter": {
     "outputs_hidden": false
    },
    "pycharm": {
     "name": "#%%\n"
    }
   },
   "outputs": [],
   "source": [
    "tl_perc_t"
   ]
  },
  {
   "cell_type": "markdown",
   "id": "ac8caa82",
   "metadata": {},
   "source": [
    "### 1.2 Explore dataset"
   ]
  },
  {
   "cell_type": "markdown",
   "id": "2b2e58dc",
   "metadata": {},
   "source": [
    "### 1.2 Inspect traffic lights state"
   ]
  },
  {
   "cell_type": "code",
   "execution_count": null,
   "id": "fab9e4ab",
   "metadata": {
    "collapsed": false,
    "jupyter": {
     "outputs_hidden": false
    },
    "pycharm": {
     "name": "#%%\n"
    }
   },
   "outputs": [],
   "source": [
    "is_red_tl = []\n",
    "speed = []\n",
    "for i in range(int(out['len'].decode())):\n",
    "    is_red_tl.append(decode_frame(i)['trafficlights'])\n",
    "    meas = decode_frame(i)['measurements']\n",
    "    # Measurements: [ox, oy, oz, ori_ox, ori_oy, vx, vy, vz, _, _, _, _, _, _, ax, ay, az, cmd, steer, throttle, brake, manual, gear]\n",
    "    vel = meas[5:8]\n",
    "    speed.append(np.linalg.norm(vel))\n",
    "\n",
    "c = Counter(is_red_tl)\n",
    "total = sum(c.values())\n",
    "mapping = {1: 'Red', 0:'Green/Yellow/None'}\n",
    "print([\"{}: {} ({})%\".format(mapping.get(k, k), round(v / total * 100, 1), v) for k, v in c.items()])"
   ]
  },
  {
   "cell_type": "code",
   "execution_count": null,
   "id": "5c11ff08",
   "metadata": {
    "collapsed": false,
    "jupyter": {
     "outputs_hidden": false
    },
    "pycharm": {
     "name": "#%%\n"
    }
   },
   "outputs": [],
   "source": [
    "fig,ax=plt.subplots()\n",
    "ax.plot(range(len(is_red_tl)),is_red_tl, 'r--')\n",
    "ax.set_xlabel(\"Frame\")\n",
    "ax.set_ylabel(\"Red light\", color='red')\n",
    "\n",
    "ax2=ax.twinx()\n",
    "ax2.plot(range(len(is_red_tl)), speed, 'b')\n",
    "ax2.set_ylabel(\"Speed [m/s]\", color='blue')\n",
    "plt.show()"
   ]
  },
  {
   "cell_type": "code",
   "execution_count": null,
   "id": "03db78a5",
   "metadata": {
    "collapsed": false,
    "jupyter": {
     "outputs_hidden": false
    },
    "pycharm": {
     "name": "#%%\n"
    }
   },
   "outputs": [],
   "source": [
    "frames_with_red = []\n",
    "for i in range(len(is_red_tl)):\n",
    "    if(is_red_tl[i]==1):\n",
    "        frames_with_red.append(i)\n",
    "frames_with_red"
   ]
  },
  {
   "cell_type": "code",
   "execution_count": null,
   "id": "94449893",
   "metadata": {
    "collapsed": false,
    "jupyter": {
     "outputs_hidden": false
    },
    "pycharm": {
     "name": "#%%\n"
    }
   },
   "outputs": [],
   "source": [
    "frame_of_interest = decode_frame(700)"
   ]
  },
  {
   "cell_type": "code",
   "execution_count": null,
   "id": "e04bfc36",
   "metadata": {
    "collapsed": false,
    "jupyter": {
     "outputs_hidden": false
    },
    "pycharm": {
     "name": "#%%\n"
    }
   },
   "outputs": [],
   "source": [
    "rgb=frame_of_interest['rgb']\n",
    "resized = cv2.resize(rgb, (int(rgb.shape[1]/2), int(rgb.shape[0]/2)), interpolation = cv2.INTER_AREA)\n",
    "cv2.imwrite('a.png', cv2.cvtColor(resized, cv2.COLOR_RGB2BGR))"
   ]
  },
  {
   "cell_type": "code",
   "execution_count": null,
   "id": "354515f6",
   "metadata": {
    "collapsed": false,
    "jupyter": {
     "outputs_hidden": false
    },
    "pycharm": {
     "name": "#%%\n"
    }
   },
   "outputs": [],
   "source": [
    "plt.imshow(frame_of_interest['segmentation'][:,:,0]==12) # Carla TL semantic seg channel"
   ]
  },
  {
   "cell_type": "code",
   "execution_count": null,
   "id": "60fa488d",
   "metadata": {
    "collapsed": false,
    "jupyter": {
     "outputs_hidden": false
    },
    "pycharm": {
     "name": "#%%\n"
    }
   },
   "outputs": [],
   "source": [
    "plt.imshow(rgb)\n",
    "plt.axis('off')\n",
    "plt.savefig('rgb.png', bbox_inches='tight', pad_inches=0)"
   ]
  },
  {
   "cell_type": "code",
   "execution_count": null,
   "id": "3410f7b6",
   "metadata": {
    "collapsed": false,
    "jupyter": {
     "outputs_hidden": false
    },
    "pycharm": {
     "name": "#%%\n"
    }
   },
   "outputs": [],
   "source": [
    "a=frame_of_interest['segmentation'][:, :, 0]\n",
    "plt.imshow(a)\n",
    "plt.axis('off')\n",
    "plt.savefig('seg.png', bbox_inches='tight', pad_inches=0)"
   ]
  },
  {
   "cell_type": "code",
   "execution_count": null,
   "id": "3b417686",
   "metadata": {
    "collapsed": false,
    "jupyter": {
     "outputs_hidden": false
    },
    "pycharm": {
     "name": "#%%\n"
    }
   },
   "outputs": [],
   "source": [
    "bv=frame_of_interest['birdview']\n",
    "print(bv.shape[0:2])\n",
    "b=np.zeros(bv.shape[0:2])\n",
    "for k in range(bv.shape[2]):\n",
    "    b[bv[:,:,k] != 0] = k\n",
    "    #mask[..., i][seg == i] = 1\n",
    "plt.imshow(b)\n",
    "plt.axis('off')\n",
    "plt.savefig('bv.png', bbox_inches='tight', pad_inches=0)"
   ]
  },
  {
   "cell_type": "code",
   "execution_count": null,
   "id": "3662600a",
   "metadata": {
    "collapsed": false,
    "jupyter": {
     "outputs_hidden": false
    },
    "pycharm": {
     "name": "#%%\n"
    }
   },
   "outputs": [],
   "source": [
    "# Red Traffic light birdview binary mask\n",
    "plt.imshow(frame_of_interest['birdview'][:,:,2])\n",
    "plt.axis('off')\n",
    "plt.savefig('bvtl.png', bbox_inches='tight', pad_inches=0)"
   ]
  },
  {
   "cell_type": "code",
   "execution_count": null,
   "id": "3f1d2ad0",
   "metadata": {
    "collapsed": false,
    "jupyter": {
     "outputs_hidden": false
    },
    "pycharm": {
     "name": "#%%\n"
    }
   },
   "outputs": [],
   "source": [
    "def draw_frame(frame, i):\n",
    "    font                   = cv2.FONT_HERSHEY_SIMPLEX\n",
    "    bottomLeftCornerOfText = (int(0.1*frame.shape[0]), int(0.9*frame.shape[0]))\n",
    "    fontScale              = 1\n",
    "    fontColor              = [0,255,0]\n",
    "    fontColor2              = [255,0,0]\n",
    "    lineType               = 2\n",
    "    printed_frame = cv2.putText(frame.copy(),'Frame: '+str(i), \n",
    "            bottomLeftCornerOfText, font, fontScale, fontColor, lineType);\n",
    "    return printed_frame\n",
    "\n",
    "video = cv2.VideoWriter('videos/dataset_23_09_overview.avi', 0, 10, (384, 160))\n",
    "for i in range(int(out['len'].decode())):\n",
    "    drawn_frame = draw_frame(decode_frame(i)['rgb'], i)\n",
    "    video.write(drawn_frame)\n",
    "video.release()"
   ]
  },
  {
   "cell_type": "code",
   "execution_count": null,
   "id": "7fb49370",
   "metadata": {
    "collapsed": false,
    "jupyter": {
     "outputs_hidden": false
    },
    "pycharm": {
     "name": "#%%\n"
    }
   },
   "outputs": [],
   "source": [
    "#from IPython.core.display import Video\n",
    "#Video(\"videos/dataset_23_09_overview.mp4\", embed=True)"
   ]
  }
 ],
 "metadata": {
  "kernelspec": {
   "display_name": "Python 3 (ipykernel)",
   "language": "python",
   "name": "python3"
  },
  "language_info": {
   "codemirror_mode": {
    "name": "ipython",
    "version": 3
   },
   "file_extension": ".py",
   "mimetype": "text/x-python",
   "name": "python",
   "nbconvert_exporter": "python",
   "pygments_lexer": "ipython3",
   "version": "3.7.9"
  }
 },
 "nbformat": 4,
 "nbformat_minor": 5
}
