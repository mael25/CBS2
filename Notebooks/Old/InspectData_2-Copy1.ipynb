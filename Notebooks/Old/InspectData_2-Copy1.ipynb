{
 "cells": [
  {
   "cell_type": "code",
   "execution_count": 1,
   "metadata": {
    "pycharm": {
     "name": "#%%\n"
    }
   },
   "outputs": [],
   "source": [
    "import lmdb\n",
    "import numpy as np\n",
    "import matplotlib.pyplot as plt\n",
    "from PIL import Image\n",
    "import os\n",
    "from tqdm import tqdm\n",
    "import random\n",
    "from collections import Counter\n",
    "import cv2\n",
    "from tqdm import tqdm\n",
    "from bird_view.utils.image_utils import CoordinateConverter"
   ]
  },
  {
   "cell_type": "markdown",
   "metadata": {},
   "source": [
    "## Helper functions"
   ]
  },
  {
   "cell_type": "code",
   "execution_count": 2,
   "metadata": {
    "pycharm": {
     "name": "#%%\n"
    }
   },
   "outputs": [],
   "source": [
    "def decode_dataset(path):\n",
    "    lmdb_env = lmdb.open(path)\n",
    "    lmdb_txn = lmdb_env.begin()\n",
    "    lmdb_cursor = lmdb_txn.cursor()\n",
    "\n",
    "    out = dict()\n",
    "    for key, value in tqdm(lmdb_cursor):\n",
    "        out[key.decode(\"utf-8\")] = value\n",
    "\n",
    "    lmdb_cursor.close()\n",
    "    return out"
   ]
  },
  {
   "cell_type": "code",
   "execution_count": 3,
   "metadata": {
    "pycharm": {
     "name": "#%%\n"
    }
   },
   "outputs": [],
   "source": [
    "def decode_data(data, kind='rgb'):\n",
    "    if kind == 'control' or kind == 'measurements':\n",
    "        return np.frombuffer(data, dtype=np.float32)\n",
    "\n",
    "    img = np.frombuffer(data, dtype=np.uint8)\n",
    "\n",
    "    if kind == 'trafficlights':\n",
    "        return int.from_bytes(data, 'little')\n",
    "\n",
    "    if kind == 'rgb' or kind == 'segmentation':\n",
    "        img = img.reshape((160, 384, 3))\n",
    "    elif kind == 'birdview':\n",
    "        img = img.reshape((320, 320, 7))\n",
    "    else:\n",
    "        raise ValueError(f\"Not known type {kind}. Choose from: rgb, birdview, segmentation.\")\n",
    "\n",
    "    return img\n",
    "\n",
    "def decode_frame(step):\n",
    "    data = {'rgb':None, 'birdview':None, 'control': None, 'measurements': None, 'segmentation': None, 'trafficlights': None}\n",
    "\n",
    "    for t in data.keys():\n",
    "        d = out[f\"{t}_{step:04d}\"]\n",
    "        data[t] = decode_data(d, kind=t)\n",
    "\n",
    "    return data"
   ]
  },
  {
   "cell_type": "code",
   "execution_count": 4,
   "metadata": {
    "pycharm": {
     "name": "#%%\n"
    }
   },
   "outputs": [],
   "source": [
    "# def bird_to_color(img):\n",
    "#     colors = [[158, 151, 130], [255, 191, 0], [255, 0, 0], [185, 44, 245], [0, 255, 0], [255, 255, 0], [66, 115, 237]]\n",
    "#     temp = np.zeros((192, 192, 3), dtype=np.uint)\n",
    "\n",
    "#     for i in range(7):\n",
    "#         m = bird[:, :, i]==255\n",
    "#         temp[:, :, 0][m] = colors[i][0]\n",
    "#         temp[:, :, 1][m] = colors[i][1]\n",
    "#         temp[:, :, 2][m] = colors[i][2]\n",
    "\n",
    "#     return temp"
   ]
  },
  {
   "cell_type": "markdown",
   "metadata": {},
   "source": [
    "## Read dataset"
   ]
  },
  {
   "cell_type": "code",
   "execution_count": 7,
   "metadata": {
    "pycharm": {
     "name": "#%%\n"
    }
   },
   "outputs": [
    {
     "name": "stderr",
     "output_type": "stream",
     "text": [
      "15338it [00:49, 311.10it/s]\n"
     ]
    }
   ],
   "source": [
    "path = \"datasets/dataset_LBS_28mei/final/train/000\"\n",
    "out = decode_dataset(path)\n",
    "assert len(out) != 0, \"No data found\""
   ]
  },
  {
   "cell_type": "code",
   "execution_count": 8,
   "metadata": {
    "pycharm": {
     "name": "#%%\n"
    }
   },
   "outputs": [
    {
     "name": "stdout",
     "output_type": "stream",
     "text": [
      "['Green/Yellow/None: 98.3 (2153)%', 'Red: 1.7 (38)%']\n"
     ]
    }
   ],
   "source": [
    "a = []\n",
    "for i in range(int(out['len'].decode())):\n",
    "    a.append(decode_frame(i)['trafficlights'])\n",
    "\n",
    "c = Counter(a)\n",
    "total = sum(c.values())\n",
    "mapping = {1: 'Red', 0:'Green/Yellow/None'}\n",
    "print([\"{}: {} ({})%\".format(mapping.get(k, k), round(v / total * 100, 1), v) for k, v in c.items()])"
   ]
  },
  {
   "cell_type": "code",
   "execution_count": 9,
   "metadata": {
    "pycharm": {
     "name": "#%%\n"
    }
   },
   "outputs": [],
   "source": [
    "# N = 0\n",
    "# plt.figure(figsize=(12,6))\n",
    "# plt.imshow(decode_frame(N)['rgb'])\n",
    "# plt.axis('off')\n",
    "# plt.savefig('rgb_example.png', bbox_inches='tight')\n",
    "# plt.show()"
   ]
  },
  {
   "cell_type": "code",
   "execution_count": 10,
   "metadata": {
    "pycharm": {
     "name": "#%%\n"
    }
   },
   "outputs": [],
   "source": [
    "# plt.figure(figsize=(12,6))\n",
    "# seg = decode_frame(N)['segmentation']\n",
    "\n",
    "# seg = seg[:, :, 0]\n",
    "# print(seg.shape)\n",
    "# plt.axis('off')\n",
    "# plt.imshow(seg)\n",
    "# plt.savefig('seg_example.png', bbox_inches='tight')\n",
    "# plt.show()"
   ]
  },
  {
   "cell_type": "markdown",
   "metadata": {},
   "source": [
    "# World to sensor coordinates"
   ]
  },
  {
   "cell_type": "code",
   "execution_count": 11,
   "metadata": {
    "pycharm": {
     "name": "#%%\n"
    }
   },
   "outputs": [],
   "source": [
    "class Location():\n",
    "    def __init__(self, x, y, z):\n",
    "        self.x = x\n",
    "        self.y = y\n",
    "        self.z = z\n",
    "\n",
    "    def __repr__(self,):\n",
    "        return self.__str__()\n",
    "\n",
    "    def __str__(self,):\n",
    "        return f\"Location(x={self.x}, y={self.y}, z={self.z})\"\n",
    "\n",
    "class Rotation():\n",
    "    def __init__(self, p, y, r):\n",
    "        self.pitch = p\n",
    "        self.yaw = y\n",
    "        self.roll = r\n",
    "\n",
    "    def __repr__(self,):\n",
    "        return self.__str__()\n",
    "\n",
    "    def __str__(self):\n",
    "        return f\"Rotation(pitch={self.pitch}, yaw={self.yaw}, roll={self.roll})\"\n",
    "\n",
    "class Transform():\n",
    "    def __init__(self, loc, rot):\n",
    "        self.location = loc\n",
    "        self.rotation = rot\n",
    "\n",
    "    def __repr__(self,):\n",
    "        return self.__str__()\n",
    "\n",
    "    def __str__(self,):\n",
    "        return f\"Transform({self.location}, {self.rotation})\"\n",
    "\n",
    "\n",
    "# class ConverterWrapper():\n",
    "#     def __init__(self, sen_transform):\n",
    "#         self.sensor_transform = sen_transform\n",
    "#         self.converter = ClientSideBoundingBoxes()\n",
    "#         self.K = [[192, 0, 192],\n",
    "#                   [0, 192, 80],\n",
    "#                   [0, 0, 1]]\n",
    "\n",
    "#     @staticmethod\n",
    "#     def camera_coords_downscale(coords):\n",
    "#         coords[:, 0] -= 192\n",
    "#         coords[:, 1] += 80\n",
    "\n",
    "#         return coords\n",
    "\n",
    "#     def convert(self, world_coords):\n",
    "#         # Convert to homogenous coordinates\n",
    "#         world_coords = np.hstack((world_coords, np.ones((world_coords.shape[0], 1))))\n",
    "\n",
    "#         # Convert world to sensor\n",
    "#         cords_x_y_z = self.converter._world_to_sensor(world_coords, self.sensor_transform).T\n",
    "\n",
    "#         # Convert sensor to camera\n",
    "#         cords_y_minus_z_x = np.concatenate([cords_x_y_z[:, 1], -cords_x_y_z[:, 2], cords_x_y_z[:, 0]], axis=1).T\n",
    "#         temp = np.transpose(np.dot(self.K, cords_y_minus_z_x))\n",
    "#         camera_coords = np.concatenate([temp[:, 0] / temp[:, 2], temp[:, 1] / temp[:, 2], temp[:, 2]], axis=1)\n",
    "#         camera_coords = np.array(camera_coords)\n",
    "\n",
    "#         # Mask invalid coordinates\n",
    "#         mask = np.all([np.all(camera_coords >= 0, axis=1), camera_coords[:, 0] <= 384, camera_coords[:, 1] <= 160], axis=0)\n",
    "#         return camera_coords[mask]"
   ]
  },
  {
   "cell_type": "code",
   "execution_count": 12,
   "metadata": {
    "pycharm": {
     "name": "#%%\n"
    }
   },
   "outputs": [],
   "source": [
    "# def project_to_image(world_x, world_y, tran=[0.,0.,0.], rot=[0.,0.,0.], fov=90, w=384, h=160, camera_world_z=1.4, crop_size_x=192, crop_size_y=80):\n",
    "#     xyz = np.zeros((1,3))\n",
    "#     xyz[0,0] = world_x\n",
    "#     xyz[0,1] = camera_world_z\n",
    "#     xyz[0,2] = world_y\n",
    "\n",
    "#     f = w /(2 * np.tan(fov * np.pi / 360))\n",
    "#     A = np.array([\n",
    "#         [f, 0., w/2],\n",
    "#         [0, f, h/2],\n",
    "#         [0., 0., 1.]\n",
    "#     ])\n",
    "\n",
    "#     image_xy, _ = cv2.projectPoints(xyz, np.array(tran), np.array(rot), A, None)\n",
    "# #     image_xy[...,0] = np.clip(image_xy[...,0], 0, w)\n",
    "# #     image_xy[...,1] = np.clip(image_xy[...,1], 0, h)\n",
    "\n",
    "#     return image_xy[0,0]"
   ]
  },
  {
   "cell_type": "code",
   "execution_count": 13,
   "metadata": {
    "pycharm": {
     "name": "#%%\n"
    }
   },
   "outputs": [],
   "source": [
    "# CROP_SIZE = 384\n",
    "# N_STEP = 5\n",
    "\n",
    "# class CoordConverter():\n",
    "#     def __init__(self, w=384, h=160, fov=90, world_y=1.4, fixed_offset=0.0, device='cuda'):\n",
    "#         self._w = w\n",
    "#         self._h = h\n",
    "#         self._fov = fov\n",
    "#         self._world_y = world_y\n",
    "#         self._fixed_offset = fixed_offset\n",
    "\n",
    "#         self._tran = np.array([0.,0.,0.])\n",
    "#         self._rot  = np.array([0.,0.,0.])\n",
    "#         f = self._w /(2 * np.tan(self._fov * np.pi / 360))\n",
    "#         self._A = np.array([\n",
    "#             [f, 0., self._w/2],\n",
    "#             [0, f, self._h/2],\n",
    "#             [0., 0., 1.]\n",
    "#         ])\n",
    "\n",
    "#     def _project_image_xy(self, xy):\n",
    "#         N = len(xy)\n",
    "#         xyz = np.zeros((N,3))\n",
    "#         xyz[:,0] = xy[:,0]\n",
    "#         xyz[:,1] = 1.4\n",
    "#         xyz[:,2] = xy[:,1]\n",
    "\n",
    "#         image_xy, _ = cv2.projectPoints(xyz, self._tran, self._rot, self._A, None)\n",
    "# #         image_xy[...,0] = np.clip(image_xy[...,0], 0, self._w)\n",
    "# #         image_xy[...,1] = np.clip(image_xy[...,1], 0, self._h)\n",
    "#         return image_xy[:,0]\n",
    "\n",
    "# #     def test(self, map_locations):\n",
    "# #         teacher_locations = map_locations.detach().cpu().numpy()\n",
    "# #         teacher_locations = (map_locations + 1) * CROP_SIZE / 2\n",
    "# #         N = teacher_locations.shape[0]\n",
    "# #         teacher_locations[:,1] = CROP_SIZE - teacher_locations[:,1]\n",
    "# #         teacher_locations[:,0] -= CROP_SIZE/2\n",
    "# #         teacher_locations = teacher_locations / PIXELS_PER_METER\n",
    "# #         teacher_locations[:,1] += self._fixed_offset\n",
    "# #         teacher_locations = self._project_image_xy(np.reshape(teacher_locations, (N*N_STEP, 2)))\n",
    "# #         teacher_locations = np.reshape(teacher_locations, (N,N_STEP,2))\n",
    "# #         teacher_locations = torch.FloatTensor(teacher_locations)\n",
    "# #         return teacher_locations"
   ]
  },
  {
   "cell_type": "code",
   "execution_count": 14,
   "metadata": {
    "pycharm": {
     "name": "#%%\n"
    }
   },
   "outputs": [],
   "source": [
    "def plot_results(ref_frame_id, next_frame_id, locations):\n",
    "    plt.title(\"NEXT FRAME\")\n",
    "    plt.imshow(decode_frame(next_frame_id)['segmentation'][:, :, 0])\n",
    "    plt.show()\n",
    "\n",
    "    plt.figure(figsize=(20,12))\n",
    "    plt.title(\"REF FRAME WITH PROJECTIONS\")\n",
    "    plt.imshow(decode_frame(ref_frame_id)['segmentation'][:, :, 0])\n",
    "    for i, location in enumerate(locations):\n",
    "        plt.scatter(location[:, 0], location[:, 1], label=f\"projection {i}\")\n",
    "\n",
    "    plt.legend()\n",
    "    plt.show()"
   ]
  },
  {
   "cell_type": "code",
   "execution_count": 15,
   "metadata": {
    "pycharm": {
     "name": "#%%\n"
    }
   },
   "outputs": [
    {
     "data": {
      "text/plain": [
       "<matplotlib.collections.PathCollection at 0x7f7740536d30>"
      ]
     },
     "execution_count": 15,
     "metadata": {},
     "output_type": "execute_result"
    },
    {
     "data": {
      "image/png": "[encoded data removed]",
      "text/plain": [
       "<Figure size 432x288 with 1 Axes>"
      ]
     },
     "metadata": {},
     "output_type": "display_data"
    }
   ],
   "source": [
    "# interp2d([0, 1, 2], [1, 2, 3], [0.5, 1.5], kind='cubic')\n",
    "\n",
    "\n",
    "from scipy.optimize import curve_fit\n",
    "x = [0, 1, 2]\n",
    "y = [1, 2, 3]\n",
    "plt.gca().invert_yaxis()\n",
    "z = np.polyfit(x, y, 1)\n",
    "p = np.poly1d(z)\n",
    "\n",
    "plt.scatter(x, y)\n",
    "plt.scatter([0.5, 1.5], p([0.5, 1.5]))"
   ]
  },
  {
   "cell_type": "code",
   "execution_count": 16,
   "metadata": {
    "pycharm": {
     "name": "#%%\n"
    }
   },
   "outputs": [],
   "source": [
    "def project_vehicle(x, y, z, ori_x, ori_y, ori_z):\n",
    "    pos = np.array([x,y,z])\n",
    "    ori = np.array([ori_x, ori_y, ori_z])\n",
    "    ori /= np.linalg.norm(ori)  # Make unit vector\n",
    "\n",
    "    new_pos = pos + 4 * ori\n",
    "    return converter.convert(np.array([new_pos]))\n",
    "\n",
    "def interpolate_waypoints(points):\n",
    "    points = points[:, :2]\n",
    "\n",
    "    # Fit cubic function through points\n",
    "    z = np.polyfit(points[:, 0], points[:, 1], 2)\n",
    "    p = np.poly1d(z)\n",
    "\n",
    "    # Keep interpolating until we have 5 points\n",
    "    while points.shape[0] < 5:\n",
    "        points_2 = np.vstack([points[0], points[:-1]])\n",
    "        max_id = np.argmax(np.linalg.norm(points-points_2, axis=1))\n",
    "        _x = np.mean([points[max_id], points_2[max_id]], axis=0)[0]\n",
    "        points = np.insert(points, max_id, np.array([_x, p(_x)]), 0)\n",
    "\n",
    "    return points\n",
    "\n",
    "def get_waypoints(REF_FRAME, world_x, world_y, world_z, ori_x, ori_y, ori_z, GAP=5):\n",
    "    if decode_frame(REF_FRAME)['trafficlights']:\n",
    "        vehicle_proj = project_vehicle(world_x, world_y, world_z, ori_x, ori_y, ori_z)\n",
    "        output = np.array([vehicle_proj[0] for _ in range(5)])\n",
    "        return output\n",
    "\n",
    "    output = []\n",
    "    for i in range(REF_FRAME, (REF_FRAME + (N_STEP+1+BUFFER*GAP)), GAP):\n",
    "        if len(output) == N_STEP:\n",
    "            break\n",
    "\n",
    "        x, y, z = decode_frame(i)['measurements'][:3]\n",
    "        image_coords = converter.convert(np.array([[x, y, z]]))\n",
    "        if len(image_coords) > 0:\n",
    "            output.append(image_coords[0])\n",
    "\n",
    "    if len(output) < 2:\n",
    "        # First try with smaller GAP\n",
    "        if GAP == 5:\n",
    "            return get_waypoints(REF_FRAME, world_x, world_y, world_z, ori_x, ori_y, ori_z, GAP=1)\n",
    "\n",
    "        vehicle_proj = project_vehicle(world_x, world_y, world_z, ori_x, ori_y, ori_z)\n",
    "        output = np.array([vehicle_proj[0] for _ in range(5)])\n",
    "        return output\n",
    "\n",
    "    if len(output) >= 2 and len(output) < 5:\n",
    "        return interpolate_waypoints(np.array(output))\n",
    "\n",
    "    return np.array(output)"
   ]
  },
  {
   "cell_type": "code",
   "execution_count": 17,
   "metadata": {
    "pycharm": {
     "name": "#%%\n"
    }
   },
   "outputs": [
    {
     "name": "stderr",
     "output_type": "stream",
     "text": [
      "100%|██████████| 1990/1990 [00:06<00:00, 315.64it/s]\n"
     ]
    }
   ],
   "source": [
    "# REF_FRAME = 800\n",
    "N_STEP = 5\n",
    "BUFFER = 40\n",
    "\n",
    "np.set_printoptions(suppress=True)\n",
    "\n",
    "all_wp = []\n",
    "N = int((len(out)-1)/ 7)\n",
    "\n",
    "for frame in tqdm(range(N - (N_STEP * BUFFER) - 1)):\n",
    "        # Extract world coordinates from dataset\n",
    "        world_coords = decode_frame(frame)['measurements']\n",
    "        world_x, world_y, world_z, ori_x, ori_y, ori_z, _, _, _, cam_x, cam_y, cam_z, cam_yaw, cam_roll, cam_pitch = world_coords[:15]\n",
    "\n",
    "        sensor_transform = Transform(Location(cam_x, cam_y, cam_z), Rotation(cam_yaw, cam_roll, cam_pitch))\n",
    "        converter = CoordinateConverter(sensor_transform, fov=120)\n",
    "\n",
    "        image_coord_wp = get_waypoints(frame, world_x, world_y, world_z, ori_x, ori_y, ori_z)\n",
    "\n",
    "        all_wp.append(image_coord_wp[:, :2])"
   ]
  },
  {
   "cell_type": "markdown",
   "metadata": {},
   "source": [
    "## Results"
   ]
  },
  {
   "cell_type": "code",
   "execution_count": 67,
   "metadata": {
    "pycharm": {
     "name": "#%%\n"
    }
   },
   "outputs": [
    {
     "data": {
      "image/png": "[encoded data removed]",
      "text/plain": [
       "<Figure size 432x288 with 1 Axes>"
      ]
     },
     "metadata": {},
     "output_type": "display_data"
    }
   ],
   "source": [
    "N = 1989\n",
    "# plot_results(N, i, [all_wp[N]])\n",
    "\n",
    "plt.imshow(down_scale(decode_frame(N)['segmentation'][:, :, 0]))\n",
    "temp_wp = all_wp[N].copy()\n",
    "\n",
    "temp_wp /= 2\n",
    "# temp_wp[:, 0] /= 2\n",
    "# temp_wp[:, 1] /= 2\n",
    "\n",
    "\n",
    "plt.scatter(temp_wp[:, 0], temp_wp[:, 1], s=1)\n",
    "plt.scatter(temp_wp[:, 0], temp_wp[:, 1]-2, s=1)\n",
    "plt.show()"
   ]
  },
  {
   "cell_type": "markdown",
   "metadata": {},
   "source": [
    "## Create video"
   ]
  },
  {
   "cell_type": "code",
   "execution_count": 20,
   "metadata": {},
   "outputs": [
    {
     "name": "stderr",
     "output_type": "stream",
     "text": [
      "2329it [00:01, 1358.06it/s]\n"
     ]
    }
   ],
   "source": [
    "R = 1\n",
    "\n",
    "\n",
    "video = cv2.VideoWriter('imgs_noise_test/test_video_noise_2.avi', 0, 10, (192, 80))\n",
    "\n",
    "for i, wp in tqdm(enumerate(all_wp)):\n",
    "    img = down_scale(decode_frame(i)['segmentation'][:, :, 0])\n",
    "    for x, y in wp:\n",
    "        x = int(x/2)\n",
    "        y = int(y/2)\n",
    "        img[y - R: y + R + 1, x - R: x + R + 1] = 12\n",
    "    \n",
    "    norm_image = cv2.normalize(img, None, alpha=0, beta=250, norm_type=cv2.NORM_MINMAX, dtype=cv2.CV_8UC1)\n",
    "    imgC = cv2.applyColorMap(norm_image, cv2.COLORMAP_JET)\n",
    "#     plt.imshow(imgC)\n",
    "#     plt.show()\n",
    "    video.write(imgC)\n",
    "#     cv2.imwrite(f'imgs_noise_test/frame_{i}.png',  imgC)\n",
    "    \n",
    "video.release()"
   ]
  },
  {
   "cell_type": "markdown",
   "metadata": {},
   "source": [
    "# Augmentations"
   ]
  },
  {
   "cell_type": "code",
   "execution_count": 22,
   "metadata": {
    "pycharm": {
     "name": "#%%\n"
    }
   },
   "outputs": [],
   "source": [
    "def plot_augmentation(original, augmented):\n",
    "    plt.figure(figsize=(12,6))\n",
    "    plt.title(\"Original\")\n",
    "    plt.imshow(original)\n",
    "    plt.show()\n",
    "\n",
    "    plt.figure(figsize=(12,6))\n",
    "    plt.title(\"Augmented\")\n",
    "    plt.imshow(augmented)\n",
    "    plt.show()"
   ]
  },
  {
   "cell_type": "code",
   "execution_count": 23,
   "metadata": {
    "pycharm": {
     "name": "#%%\n"
    }
   },
   "outputs": [],
   "source": [
    "import imgaug.augmenters as iaa\n",
    "import imgaug as ia\n",
    "from imgaug.augmentables import Keypoint, KeypointsOnImage\n",
    "\n",
    "\n",
    "def affine(image):\n",
    "    aug = iaa.Affine(translate_px={\"x\": (-30, 30), \"y\": (0, -5)}, scale={\"x\": (1, 1.15), \"y\": (1, 1.15)}, mode='reflect')\n",
    "\n",
    "\n",
    "    return aug(images=image)\n",
    "\n",
    "# def dropout(image):\n",
    "#     aug = iaa.Dropout(p=(0, 0.1), per_channel=0.5)\n",
    "#     return aug(images=image)\n",
    "\n",
    "# def blur(image):\n",
    "#     aug = iaa.MotionBlur(k=5, angle=[-90, 0, 90])\n",
    "#     return aug(images=image)\n",
    "\n",
    "\n",
    "sometimes = lambda aug: iaa.Sometimes(0.33, aug)\n",
    "seq = iaa.Sequential(\n",
    "        [\n",
    "            sometimes(\n",
    "                iaa.Affine(\n",
    "                    translate_px={\"x\": (-15, 15), \"y\": (0, -5)},\n",
    "                    scale={\"x\": (1, 1.15), \"y\": (1, 1.15)},\n",
    "                    mode='reflect')\n",
    "            ),\n",
    "            sometimes(\n",
    "                iaa.Dropout(\n",
    "                    p=(0, 0.1),\n",
    "                    per_channel=0.5)\n",
    "            ),\n",
    "            sometimes(\n",
    "                iaa.MotionBlur(\n",
    "                    k=(3,5),\n",
    "                    angle=[-90, 0, 90])\n",
    "            )\n",
    "        ],\n",
    "    random_order=True)\n",
    "\n",
    "\n",
    "# seq = iaa.Affine(translate_px={\"x\": (-15, 15), \"y\": (0, -5)}, scale={\"x\": (1, 1.15), \"y\": (1, 1.15)}, mode='reflect')"
   ]
  },
  {
   "cell_type": "code",
   "execution_count": 65,
   "metadata": {},
   "outputs": [
    {
     "name": "stdout",
     "output_type": "stream",
     "text": [
      "759\n"
     ]
    },
    {
     "data": {
      "image/png": "[encoded data removed]",
      "text/plain": [
       "<Figure size 432x288 with 1 Axes>"
      ]
     },
     "metadata": {},
     "output_type": "display_data"
    },
    {
     "data": {
      "image/png": "[encoded data removed]",
      "text/plain": [
       "<Figure size 432x288 with 1 Axes>"
      ]
     },
     "metadata": {},
     "output_type": "display_data"
    },
    {
     "data": {
      "image/png": "[encoded data removed]",
      "text/plain": [
       "<Figure size 432x288 with 1 Axes>"
      ]
     },
     "metadata": {},
     "output_type": "display_data"
    },
    {
     "data": {
      "image/png": "[encoded data removed]",
      "text/plain": [
       "<Figure size 432x288 with 1 Axes>"
      ]
     },
     "metadata": {},
     "output_type": "display_data"
    },
    {
     "data": {
      "image/png": "[encoded data removed]",
      "text/plain": [
       "<Figure size 432x288 with 1 Axes>"
      ]
     },
     "metadata": {},
     "output_type": "display_data"
    }
   ],
   "source": [
    "for i in range(1000):\n",
    "    temp_img = decode_frame(i)['segmentation']\n",
    "    temp_tl = decode_frame(i)['trafficlights']\n",
    "    \n",
    "    if temp_tl:\n",
    "        print(i)\n",
    "        break\n",
    "    \n",
    "\n",
    "temp_img = decode_frame(759)['segmentation']\n",
    "temp_tl = decode_frame(759)['trafficlights']\n",
    "\n",
    "plt.title(\"Original\")\n",
    "plt.imshow(temp_img[:, :, 0])\n",
    "plt.show()\n",
    "\n",
    "plt.title(\"OLD TL state channel\")\n",
    "plt.imshow(seg2D_to_ND(temp_img, 1)[:, :, 13:14])\n",
    "plt.show()\n",
    "\n",
    "plt.title(\"OLD TL channel\")\n",
    "plt.imshow(seg2D_to_ND(temp_img, 1)[:, :, 12:13])\n",
    "plt.show()\n",
    "\n",
    "\n",
    "\n",
    "plt.title(\"NEW TL (state) channel\")\n",
    "plt.imshow(seg2D_to_ND_new(temp_img, 0)[:, :, 12:13])\n",
    "plt.show()\n",
    "\n",
    "\n",
    "plt.imshow(seg2D_to_ND_new(temp_img, 0)[:, :, 10:13])\n",
    "plt.show()"
   ]
  },
  {
   "cell_type": "code",
   "execution_count": null,
   "metadata": {},
   "outputs": [],
   "source": []
  },
  {
   "cell_type": "code",
   "execution_count": null,
   "metadata": {},
   "outputs": [],
   "source": []
  },
  {
   "cell_type": "code",
   "execution_count": 27,
   "metadata": {
    "pycharm": {
     "name": "#%%\n"
    }
   },
   "outputs": [
    {
     "ename": "TypeError",
     "evalue": "Invalid shape (160, 384, 14) for image data",
     "output_type": "error",
     "traceback": [
      "\u001b[0;31m---------------------------------------------------------------------------\u001b[0m",
      "\u001b[0;31mTypeError\u001b[0m                                 Traceback (most recent call last)",
      "\u001b[0;32m<ipython-input-27-ca6815b59832>\u001b[0m in \u001b[0;36m<module>\u001b[0;34m()\u001b[0m\n\u001b[1;32m     26\u001b[0m     \u001b[0mtemp_img\u001b[0m \u001b[0;34m=\u001b[0m \u001b[0mdecode_frame\u001b[0m\u001b[0;34m(\u001b[0m\u001b[0mi\u001b[0m\u001b[0;34m)\u001b[0m\u001b[0;34m[\u001b[0m\u001b[0;34m'segmentation'\u001b[0m\u001b[0;34m]\u001b[0m\u001b[0;34m\u001b[0m\u001b[0;34m\u001b[0m\u001b[0m\n\u001b[1;32m     27\u001b[0m     \u001b[0mtemp_img\u001b[0m \u001b[0;34m=\u001b[0m \u001b[0mseg2D_to_ND\u001b[0m\u001b[0;34m(\u001b[0m\u001b[0mtemp_img\u001b[0m\u001b[0;34m,\u001b[0m \u001b[0;36m0\u001b[0m\u001b[0;34m)\u001b[0m\u001b[0;34m\u001b[0m\u001b[0;34m\u001b[0m\u001b[0m\n\u001b[0;32m---> 28\u001b[0;31m     \u001b[0mplt\u001b[0m\u001b[0;34m.\u001b[0m\u001b[0mimshow\u001b[0m\u001b[0;34m(\u001b[0m\u001b[0mtemp_img\u001b[0m\u001b[0;34m)\u001b[0m\u001b[0;34m\u001b[0m\u001b[0;34m\u001b[0m\u001b[0m\n\u001b[0m\u001b[1;32m     29\u001b[0m     \u001b[0mplt\u001b[0m\u001b[0;34m.\u001b[0m\u001b[0mshow\u001b[0m\u001b[0;34m(\u001b[0m\u001b[0;34m)\u001b[0m\u001b[0;34m\u001b[0m\u001b[0;34m\u001b[0m\u001b[0m\n\u001b[1;32m     30\u001b[0m     \u001b[0;32mbreak\u001b[0m\u001b[0;34m\u001b[0m\u001b[0;34m\u001b[0m\u001b[0m\n",
      "\u001b[0;32m/home/tvorden/.local/lib/python3.6/site-packages/matplotlib/pyplot.py\u001b[0m in \u001b[0;36mimshow\u001b[0;34m(X, cmap, norm, aspect, interpolation, alpha, vmin, vmax, origin, extent, filternorm, filterrad, resample, url, data, **kwargs)\u001b[0m\n\u001b[1;32m   2728\u001b[0m         \u001b[0mfilternorm\u001b[0m\u001b[0;34m=\u001b[0m\u001b[0mfilternorm\u001b[0m\u001b[0;34m,\u001b[0m \u001b[0mfilterrad\u001b[0m\u001b[0;34m=\u001b[0m\u001b[0mfilterrad\u001b[0m\u001b[0;34m,\u001b[0m \u001b[0mresample\u001b[0m\u001b[0;34m=\u001b[0m\u001b[0mresample\u001b[0m\u001b[0;34m,\u001b[0m\u001b[0;34m\u001b[0m\u001b[0;34m\u001b[0m\u001b[0m\n\u001b[1;32m   2729\u001b[0m         \u001b[0murl\u001b[0m\u001b[0;34m=\u001b[0m\u001b[0murl\u001b[0m\u001b[0;34m,\u001b[0m \u001b[0;34m**\u001b[0m\u001b[0;34m(\u001b[0m\u001b[0;34m{\u001b[0m\u001b[0;34m\"data\"\u001b[0m\u001b[0;34m:\u001b[0m \u001b[0mdata\u001b[0m\u001b[0;34m}\u001b[0m \u001b[0;32mif\u001b[0m \u001b[0mdata\u001b[0m \u001b[0;32mis\u001b[0m \u001b[0;32mnot\u001b[0m \u001b[0;32mNone\u001b[0m \u001b[0;32melse\u001b[0m \u001b[0;34m{\u001b[0m\u001b[0;34m}\u001b[0m\u001b[0;34m)\u001b[0m\u001b[0;34m,\u001b[0m\u001b[0;34m\u001b[0m\u001b[0;34m\u001b[0m\u001b[0m\n\u001b[0;32m-> 2730\u001b[0;31m         **kwargs)\n\u001b[0m\u001b[1;32m   2731\u001b[0m     \u001b[0msci\u001b[0m\u001b[0;34m(\u001b[0m\u001b[0m__ret\u001b[0m\u001b[0;34m)\u001b[0m\u001b[0;34m\u001b[0m\u001b[0;34m\u001b[0m\u001b[0m\n\u001b[1;32m   2732\u001b[0m     \u001b[0;32mreturn\u001b[0m \u001b[0m__ret\u001b[0m\u001b[0;34m\u001b[0m\u001b[0;34m\u001b[0m\u001b[0m\n",
      "\u001b[0;32m/home/tvorden/.local/lib/python3.6/site-packages/matplotlib/__init__.py\u001b[0m in \u001b[0;36minner\u001b[0;34m(ax, data, *args, **kwargs)\u001b[0m\n\u001b[1;32m   1445\u001b[0m     \u001b[0;32mdef\u001b[0m \u001b[0minner\u001b[0m\u001b[0;34m(\u001b[0m\u001b[0max\u001b[0m\u001b[0;34m,\u001b[0m \u001b[0;34m*\u001b[0m\u001b[0margs\u001b[0m\u001b[0;34m,\u001b[0m \u001b[0mdata\u001b[0m\u001b[0;34m=\u001b[0m\u001b[0;32mNone\u001b[0m\u001b[0;34m,\u001b[0m \u001b[0;34m**\u001b[0m\u001b[0mkwargs\u001b[0m\u001b[0;34m)\u001b[0m\u001b[0;34m:\u001b[0m\u001b[0;34m\u001b[0m\u001b[0;34m\u001b[0m\u001b[0m\n\u001b[1;32m   1446\u001b[0m         \u001b[0;32mif\u001b[0m \u001b[0mdata\u001b[0m \u001b[0;32mis\u001b[0m \u001b[0;32mNone\u001b[0m\u001b[0;34m:\u001b[0m\u001b[0;34m\u001b[0m\u001b[0;34m\u001b[0m\u001b[0m\n\u001b[0;32m-> 1447\u001b[0;31m             \u001b[0;32mreturn\u001b[0m \u001b[0mfunc\u001b[0m\u001b[0;34m(\u001b[0m\u001b[0max\u001b[0m\u001b[0;34m,\u001b[0m \u001b[0;34m*\u001b[0m\u001b[0mmap\u001b[0m\u001b[0;34m(\u001b[0m\u001b[0msanitize_sequence\u001b[0m\u001b[0;34m,\u001b[0m \u001b[0margs\u001b[0m\u001b[0;34m)\u001b[0m\u001b[0;34m,\u001b[0m \u001b[0;34m**\u001b[0m\u001b[0mkwargs\u001b[0m\u001b[0;34m)\u001b[0m\u001b[0;34m\u001b[0m\u001b[0;34m\u001b[0m\u001b[0m\n\u001b[0m\u001b[1;32m   1448\u001b[0m \u001b[0;34m\u001b[0m\u001b[0m\n\u001b[1;32m   1449\u001b[0m         \u001b[0mbound\u001b[0m \u001b[0;34m=\u001b[0m \u001b[0mnew_sig\u001b[0m\u001b[0;34m.\u001b[0m\u001b[0mbind\u001b[0m\u001b[0;34m(\u001b[0m\u001b[0max\u001b[0m\u001b[0;34m,\u001b[0m \u001b[0;34m*\u001b[0m\u001b[0margs\u001b[0m\u001b[0;34m,\u001b[0m \u001b[0;34m**\u001b[0m\u001b[0mkwargs\u001b[0m\u001b[0;34m)\u001b[0m\u001b[0;34m\u001b[0m\u001b[0;34m\u001b[0m\u001b[0m\n",
      "\u001b[0;32m/home/tvorden/.local/lib/python3.6/site-packages/matplotlib/axes/_axes.py\u001b[0m in \u001b[0;36mimshow\u001b[0;34m(self, X, cmap, norm, aspect, interpolation, alpha, vmin, vmax, origin, extent, filternorm, filterrad, resample, url, **kwargs)\u001b[0m\n\u001b[1;32m   5521\u001b[0m                               resample=resample, **kwargs)\n\u001b[1;32m   5522\u001b[0m \u001b[0;34m\u001b[0m\u001b[0m\n\u001b[0;32m-> 5523\u001b[0;31m         \u001b[0mim\u001b[0m\u001b[0;34m.\u001b[0m\u001b[0mset_data\u001b[0m\u001b[0;34m(\u001b[0m\u001b[0mX\u001b[0m\u001b[0;34m)\u001b[0m\u001b[0;34m\u001b[0m\u001b[0;34m\u001b[0m\u001b[0m\n\u001b[0m\u001b[1;32m   5524\u001b[0m         \u001b[0mim\u001b[0m\u001b[0;34m.\u001b[0m\u001b[0mset_alpha\u001b[0m\u001b[0;34m(\u001b[0m\u001b[0malpha\u001b[0m\u001b[0;34m)\u001b[0m\u001b[0;34m\u001b[0m\u001b[0;34m\u001b[0m\u001b[0m\n\u001b[1;32m   5525\u001b[0m         \u001b[0;32mif\u001b[0m \u001b[0mim\u001b[0m\u001b[0;34m.\u001b[0m\u001b[0mget_clip_path\u001b[0m\u001b[0;34m(\u001b[0m\u001b[0;34m)\u001b[0m \u001b[0;32mis\u001b[0m \u001b[0;32mNone\u001b[0m\u001b[0;34m:\u001b[0m\u001b[0;34m\u001b[0m\u001b[0;34m\u001b[0m\u001b[0m\n",
      "\u001b[0;32m/home/tvorden/.local/lib/python3.6/site-packages/matplotlib/image.py\u001b[0m in \u001b[0;36mset_data\u001b[0;34m(self, A)\u001b[0m\n\u001b[1;32m    710\u001b[0m                 or self._A.ndim == 3 and self._A.shape[-1] in [3, 4]):\n\u001b[1;32m    711\u001b[0m             raise TypeError(\"Invalid shape {} for image data\"\n\u001b[0;32m--> 712\u001b[0;31m                             .format(self._A.shape))\n\u001b[0m\u001b[1;32m    713\u001b[0m \u001b[0;34m\u001b[0m\u001b[0m\n\u001b[1;32m    714\u001b[0m         \u001b[0;32mif\u001b[0m \u001b[0mself\u001b[0m\u001b[0;34m.\u001b[0m\u001b[0m_A\u001b[0m\u001b[0;34m.\u001b[0m\u001b[0mndim\u001b[0m \u001b[0;34m==\u001b[0m \u001b[0;36m3\u001b[0m\u001b[0;34m:\u001b[0m\u001b[0;34m\u001b[0m\u001b[0;34m\u001b[0m\u001b[0m\n",
      "\u001b[0;31mTypeError\u001b[0m: Invalid shape (160, 384, 14) for image data"
     ]
    },
    {
     "data": {
      "image/png": "[encoded data removed]",
      "text/plain": [
       "<Figure size 432x288 with 1 Axes>"
      ]
     },
     "metadata": {},
     "output_type": "display_data"
    }
   ],
   "source": [
    "def points_to_keypoints(points, shape):\n",
    "    kps = KeypointsOnImage([\n",
    "        Keypoint(x=points[0][0], y=points[0][1]),\n",
    "        Keypoint(x=points[1][0], y=points[1][1]),\n",
    "        Keypoint(x=points[2][0], y=points[2][1]),\n",
    "        Keypoint(x=points[3][0], y=points[3][1]),\n",
    "        Keypoint(x=points[4][0], y=points[4][1])\n",
    "        ], shape=shape)\n",
    "\n",
    "    return kps\n",
    "\n",
    "\n",
    "def augment_image(image, points, redo=0):\n",
    "    if redo >= 5:\n",
    "        print(\"J\")\n",
    "        return image, points\n",
    "\n",
    "    image_aug, p_aug = seq(image=down_scale(image), keypoints=points_to_keypoints(points/2, (80, 192)))\n",
    "    temp = p_aug.to_xy_array()\n",
    "    if not np.all((temp[:, 0] <= 192) & (temp[:, 1] <= 80)):\n",
    "        return augment_image(image, points, redo=redo+1)\n",
    "\n",
    "    return image_aug, temp\n",
    "\n",
    "for i in range(0, 500, 100):\n",
    "    temp_img = decode_frame(i)['segmentation']\n",
    "    temp_img = seg2D_to_ND(temp_img, 0)\n",
    "    img_aug, points_aug = augment_image(temp_img, all_wp[i])\n",
    "    plt.scatter(points_aug[:, 0], points_aug[:, 1])\n",
    "    plt.show()"
   ]
  },
  {
   "cell_type": "code",
   "execution_count": null,
   "metadata": {
    "pycharm": {
     "name": "#%%\n"
    }
   },
   "outputs": [],
   "source": [
    "def points_to_keypoints(points, shape):\n",
    "    kps = KeypointsOnImage([\n",
    "        Keypoint(x=points[0][0], y=points[0][1]),\n",
    "        Keypoint(x=points[1][0], y=points[1][1]),\n",
    "        Keypoint(x=points[2][0], y=points[2][1]),\n",
    "        Keypoint(x=points[3][0], y=points[3][1]),\n",
    "        Keypoint(x=points[4][0], y=points[4][1])\n",
    "        ], shape=shape)\n",
    "\n",
    "    return kps\n",
    "\n",
    "\n",
    "\n",
    "imgs, new_kps = seq(images=[down_scale(decode_frame(i)['segmentation'][:, :, 0]) for i in range(0, 500, 50)], keypoints=[points_to_keypoints(all_wp[i]/2, (80, 192)) for i in range(0, 500, 50)])\n",
    "for img, new_kp in zip(imgs, new_kps):\n",
    "    plt.imshow(img)\n",
    "    points_temp = new_kp.to_xy_array()\n",
    "    plt.scatter(points_temp[:, 0], points_temp[:, 1])\n",
    "    plt.show()"
   ]
  },
  {
   "cell_type": "code",
   "execution_count": 19,
   "metadata": {
    "pycharm": {
     "name": "#%%\n"
    }
   },
   "outputs": [
    {
     "ename": "NameError",
     "evalue": "name 'seg2D_to_ND' is not defined",
     "output_type": "error",
     "traceback": [
      "\u001b[0;31m---------------------------------------------------------------------------\u001b[0m",
      "\u001b[0;31mNameError\u001b[0m                                 Traceback (most recent call last)",
      "\u001b[0;32m<ipython-input-19-0e111bf46c25>\u001b[0m in \u001b[0;36m<module>\u001b[0;34m()\u001b[0m\n\u001b[1;32m      8\u001b[0m \u001b[0;34m\u001b[0m\u001b[0m\n\u001b[1;32m      9\u001b[0m \u001b[0mb\u001b[0m \u001b[0;34m=\u001b[0m \u001b[0mdecode_frame\u001b[0m\u001b[0;34m(\u001b[0m\u001b[0;36m1\u001b[0m\u001b[0;34m)\u001b[0m\u001b[0;34m[\u001b[0m\u001b[0;34m'segmentation'\u001b[0m\u001b[0;34m]\u001b[0m\u001b[0;34m\u001b[0m\u001b[0;34m\u001b[0m\u001b[0m\n\u001b[0;32m---> 10\u001b[0;31m \u001b[0mb\u001b[0m \u001b[0;34m=\u001b[0m \u001b[0mseg2D_to_ND\u001b[0m\u001b[0;34m(\u001b[0m\u001b[0mb\u001b[0m\u001b[0;34m,\u001b[0m \u001b[0;36m0\u001b[0m\u001b[0;34m)\u001b[0m\u001b[0;34m\u001b[0m\u001b[0;34m\u001b[0m\u001b[0m\n\u001b[0m\u001b[1;32m     11\u001b[0m \u001b[0mb\u001b[0m \u001b[0;34m=\u001b[0m \u001b[0mdown_scale\u001b[0m\u001b[0;34m(\u001b[0m\u001b[0mb\u001b[0m\u001b[0;34m)\u001b[0m\u001b[0;34m\u001b[0m\u001b[0;34m\u001b[0m\u001b[0m\n\u001b[1;32m     12\u001b[0m \u001b[0;34m\u001b[0m\u001b[0m\n",
      "\u001b[0;31mNameError\u001b[0m: name 'seg2D_to_ND' is not defined"
     ]
    }
   ],
   "source": [
    "def down_scale(img):\n",
    "    new_shape = (img.shape[0]//2, img.shape[1]//2)\n",
    "    img = np.moveaxis(img, 1, 0)\n",
    "    img = cv2.resize(img.astype(np.float32), new_shape)\n",
    "    img = np.moveaxis(img, 1, 0)\n",
    "\n",
    "    return img\n",
    "\n",
    "b = decode_frame(1)['segmentation']\n",
    "b = seg2D_to_ND(b, 0)\n",
    "b = down_scale(b)\n",
    "\n",
    "plt.imshow(b[:, :, 6:9])\n",
    "plt.show()\n",
    "\n",
    "\n",
    "plot_augmentation(b[:, :, 6:9], seq(image=b)[:, : ,6:9])"
   ]
  },
  {
   "cell_type": "code",
   "execution_count": 51,
   "metadata": {
    "pycharm": {
     "name": "#%%\n"
    }
   },
   "outputs": [],
   "source": [
    "def seg2D_to_ND_new(seg, tl_info, combine=False):\n",
    "    \"\"\"Converts 2D segmentation image to ND array with N boolean masks.\n",
    "    Where N corresponds to number of segmentation classes.\"\"\"\n",
    "    if combine:\n",
    "        return seg2D_to_ND_combined(seg, tl_info)\n",
    "\n",
    "    seg = seg[:, :, 0]  # CARLA stores segmentation values in R channel\n",
    "    mask = np.zeros((*seg.shape, N_CLASSES))\n",
    "\n",
    "    # Do not add traffic light state yet\n",
    "    for i in range(N_CLASSES-1):\n",
    "        mask[..., i][seg == i] = 1\n",
    "\n",
    "    # Add traffic light state, 12 is traffic sign class\n",
    "    mask[..., 12][seg == 12] = tl_info\n",
    "\n",
    "    return mask"
   ]
  },
  {
   "cell_type": "code",
   "execution_count": null,
   "metadata": {
    "pycharm": {
     "name": "#%%\n"
    }
   },
   "outputs": [],
   "source": []
  },
  {
   "cell_type": "code",
   "execution_count": null,
   "metadata": {
    "pycharm": {
     "name": "#%%\n"
    }
   },
   "outputs": [],
   "source": []
  },
  {
   "cell_type": "markdown",
   "metadata": {},
   "source": [
    "# Playground"
   ]
  },
  {
   "cell_type": "code",
   "execution_count": 25,
   "metadata": {
    "pycharm": {
     "name": "#%%\n"
    }
   },
   "outputs": [],
   "source": [
    "N_CLASSES = 13\n",
    "N_CLASSES_COMBINED = 6\n",
    "KEEP_CLASSES = {4,6,7,10,12}\n",
    "N_TRAFFIC_LIGHT_STATES = 1\n",
    "\n",
    "def seg2D_to_ND_combined(seg, tl_info):\n",
    "    seg = seg[:, :, 0]  # CARLA stores segmentation values in R channel\n",
    "    mask = np.zeros((*seg.shape, N_CLASSES_COMBINED + N_TRAFFIC_LIGHT_STATES))\n",
    "\n",
    "    for i, seg_class in enumerate(KEEP_CLASSES):\n",
    "        mask[..., i][seg == seg_class] = 1\n",
    "\n",
    "    TO_COMBINE = set(range(N_CLASSES))-KEEP_CLASSES\n",
    "    for i in TO_COMBINE:\n",
    "        mask[..., len(KEEP_CLASSES)] += seg==i\n",
    "\n",
    "    if tl_info == 0:\n",
    "        return mask\n",
    "\n",
    "    # Select channel and set binary mask, 12 is traffic sign class\n",
    "    mask[..., N_CLASSES_COMBINED][seg == 12] = 1\n",
    "\n",
    "    return mask\n",
    "\n",
    "def seg2D_to_ND(seg, tl_info, combine=False):\n",
    "    \"\"\"Converts 2D segmentation image to ND array with N boolean masks.\n",
    "    Where N corresponds to number of segmentation classes.\"\"\"\n",
    "    if combine:\n",
    "        return seg2D_to_ND_combined(seg, tl_info)\n",
    "\n",
    "    seg = seg[:, :, 0]  # CARLA stores segmentation values in R channel\n",
    "    mask = np.zeros((*seg.shape, N_CLASSES + N_TRAFFIC_LIGHT_STATES))\n",
    "\n",
    "    for i in range(N_CLASSES):\n",
    "        mask[..., i][seg == i] = 1\n",
    "\n",
    "    if tl_info == 0:\n",
    "        return mask\n",
    "\n",
    "    # Select channel and set binary mask, 12 is traffic sign class\n",
    "    mask[..., N_CLASSES][seg == 12] = 1\n",
    "\n",
    "    return mask"
   ]
  },
  {
   "cell_type": "code",
   "execution_count": null,
   "metadata": {
    "pycharm": {
     "name": "#%%\n"
    }
   },
   "outputs": [],
   "source": [
    "t = seg2D_to_ND(decode_frame(N)['segmentation'], decode_frame(N)['trafficlights'], combine=True)\n",
    "print(t[-2].shape)\n",
    "plt.imshow(t[..., -2])\n",
    "plt.show()"
   ]
  },
  {
   "cell_type": "code",
   "execution_count": null,
   "metadata": {
    "pycharm": {
     "name": "#%%\n"
    }
   },
   "outputs": [],
   "source": [
    "PIXEL_OFFSET = 10\n",
    "\n",
    "def draw_msra_gaussian(heatmap, center, sigma):\n",
    "    tmp_size = sigma * 3\n",
    "    mu_x = int(center[0] + 0.5)\n",
    "    mu_y = int(center[1] + 0.5)\n",
    "    w, h = heatmap.shape[0], heatmap.shape[1]\n",
    "    ul = [int(mu_x - tmp_size), int(mu_y - tmp_size)]\n",
    "    br = [int(mu_x + tmp_size + 1), int(mu_y + tmp_size + 1)]\n",
    "    if ul[0] >= h or ul[1] >= w or br[0] < 0 or br[1] < 0:\n",
    "        return heatmap\n",
    "    size = 2 * tmp_size + 1\n",
    "    x = np.arange(0, size, 1, np.float32)\n",
    "    y = x[:, np.newaxis]\n",
    "    x0 = y0 = size // 2\n",
    "    g = np.exp(- ((x - x0) ** 2 + (y - y0) ** 2) / (2 * sigma ** 2))\n",
    "    g_x = max(0, -ul[0]), min(br[0], h) - ul[0]\n",
    "    g_y = max(0, -ul[1]), min(br[1], w) - ul[1]\n",
    "    img_x = max(0, ul[0]), min(br[0], h)\n",
    "    img_y = max(0, ul[1]), min(br[1], w)\n",
    "    heatmap[img_y[0]:img_y[1], img_x[0]:img_x[1]] = np.maximum(\n",
    "      heatmap[img_y[0]:img_y[1], img_x[0]:img_x[1]],\n",
    "      g[g_y[0]:g_y[1], g_x[0]:g_x[1]])\n",
    "    return heatmap\n",
    "\n",
    "\n",
    "def world_to_pixel(\n",
    "        x,y,ox,oy,ori_ox, ori_oy,\n",
    "        pixels_per_meter=5, offset=(-80,160), size=320, angle_jitter=15):\n",
    "    pixel_dx, pixel_dy = (x-ox)*pixels_per_meter, (y-oy)*pixels_per_meter\n",
    "\n",
    "    pixel_x = pixel_dx*ori_ox+pixel_dy*ori_oy\n",
    "    pixel_y = -pixel_dx*ori_oy+pixel_dy*ori_ox\n",
    "\n",
    "    pixel_x = size-pixel_x\n",
    "\n",
    "    return np.array([pixel_x, pixel_y]) + offset\n",
    "\n",
    "def test_get_item(bird_view, segmentation, tl_info, measurement, segs=False):\n",
    "    crop_x_jitter = 5\n",
    "    crop_y_jitter = 0\n",
    "    angle_jitter =  5\n",
    "    img_size = 320\n",
    "    crop_size = 192\n",
    "    crop_size_y = 80\n",
    "    down_ratio = 4\n",
    "    gap = 5\n",
    "    gaussian_radius = 1.0\n",
    "    n_step = 5\n",
    "    segmentation = seg2D_to_ND(segmentation, tl_info, combine=False)\n",
    "    rgb_image = None\n",
    "\n",
    "    ox, oy, oz, ori_ox, ori_oy, vx, vy, vz, _, _, _, _, _, _, ax, ay, az, cmd, steer, throttle, brake, manual, gear  = measurement\n",
    "    speed = np.linalg.norm([vx,vy,vz])\n",
    "\n",
    "    oangle = np.arctan2(ori_oy, ori_ox)\n",
    "    delta_angle = np.random.randint(-angle_jitter,angle_jitter+1)\n",
    "    dx = np.random.randint(-crop_x_jitter,crop_x_jitter+1)\n",
    "    dy = np.random.randint(0,crop_y_jitter+1) - PIXEL_OFFSET\n",
    "\n",
    "    o_camx = ox + ori_ox*2\n",
    "    o_camy = oy + ori_oy*2\n",
    "\n",
    "#     if segs:\n",
    "    pixel_ox = 192\n",
    "    pixel_oy = 130\n",
    "\n",
    "    # RANDOM WARPING\n",
    "    segmentation = cv2.warpAffine(\n",
    "            segmentation,\n",
    "            cv2.getRotationMatrix2D((pixel_ox,pixel_oy), delta_angle, 1.0),\n",
    "            segmentation.shape[1::-1], flags=cv2.INTER_LINEAR)\n",
    "\n",
    "    center_x, center_y = pixel_ox, pixel_oy-crop_size_y//2\n",
    "    segmentation = segmentation[\n",
    "            dy+center_y-crop_size_y//2:dy+center_y+crop_size_y//2,\n",
    "            dx+center_x-crop_size//2:dx+center_x+crop_size//2]\n",
    "\n",
    "    angle = np.arctan2(ori_oy, ori_ox) + np.deg2rad(delta_angle)\n",
    "    ori_ox, ori_oy = np.cos(angle), np.sin(angle)\n",
    "\n",
    "    locations = []\n",
    "    orientations = []\n",
    "\n",
    "    # LOCATION MODIFICATION\n",
    "    for dt in range(gap, gap*(n_step+1), gap):\n",
    "        f_measurement = decode_frame(N+dt)['measurements']\n",
    "        x, y, z, ori_x, ori_y = f_measurement[:5]\n",
    "#         x, y, z, ori_x, ori_y, ori_z = f_measurement[:6]\n",
    "#         rot, loc = rotation(ori_x, ori_y, ori_z), np.array([x, y, z])\n",
    "#         inv_m = get_inv_matrix(rot, loc)\n",
    "\n",
    "        pixel_y, pixel_x = world_to_pixel(x,y,ox,oy,ori_ox,ori_oy,size=160, offset=(-80,192))\n",
    "        pixel_x = pixel_x - (384-crop_size)//2\n",
    "        pixel_y = crop_size_y - (160-pixel_y)+70\n",
    "\n",
    "        pixel_x -= dx\n",
    "        pixel_y -= dy\n",
    "\n",
    "        angle = np.arctan2(ori_y, ori_x) - np.arctan2(ori_oy, ori_ox)\n",
    "        ori_dx, ori_dy = np.cos(angle), np.sin(angle)\n",
    "\n",
    "        locations.append([x, y, z])\n",
    "        orientations.append([ori_dx, ori_dy])\n",
    "\n",
    "\n",
    "    # Create mask\n",
    "    output_size = crop_size // down_ratio\n",
    "    heatmap_mask = np.zeros((n_step, output_size, output_size), dtype=np.float32)\n",
    "    regression_offset = np.zeros((n_step,2), np.float32)\n",
    "    indices = np.zeros((n_step), dtype=np.int64)\n",
    "\n",
    "    for i, (pixel_x, pixel_y, _) in enumerate(locations):\n",
    "        center = np.array(\n",
    "                [pixel_x / down_ratio, pixel_y / down_ratio],\n",
    "                dtype=np.float32)\n",
    "        center = np.clip(center, 0, output_size-1)\n",
    "        center_int = np.rint(center)\n",
    "\n",
    "        draw_msra_gaussian(heatmap_mask[i], center_int, gaussian_radius)\n",
    "        regression_offset[i] = center - center_int\n",
    "        indices[i] = center_int[1] * output_size + center_int[0]\n",
    "    out = []\n",
    "    out.append([segmentation, bird_view, np.array(locations), cmd, speed])\n",
    "#     else:\n",
    "    pixel_ox = 160\n",
    "    pixel_oy = 260\n",
    "\n",
    "\n",
    "    # RANDOM WARPING\n",
    "    bird_view = cv2.warpAffine(\n",
    "            bird_view,\n",
    "            cv2.getRotationMatrix2D((pixel_ox,pixel_oy), delta_angle, 1.0),\n",
    "            bird_view.shape[1::-1], flags=cv2.INTER_LINEAR)\n",
    "\n",
    "\n",
    "    # RANDOM CROPPING\n",
    "    center_x, center_y = 160, 260-crop_size//2\n",
    "    bird_view = bird_view[\n",
    "            dy+center_y-crop_size//2:dy+center_y+crop_size//2,\n",
    "            dx+center_x-crop_size//2:dx+center_x+crop_size//2]\n",
    "\n",
    "    angle = np.arctan2(ori_oy, ori_ox) + np.deg2rad(delta_angle)\n",
    "    ori_ox, ori_oy = np.cos(angle), np.sin(angle)\n",
    "\n",
    "    locations = []\n",
    "    orientations = []\n",
    "\n",
    "    # LOCATION MODIFICATION\n",
    "    for dt in range(gap, gap*(n_step+1), gap):\n",
    "        f_measurement = decode_frame(N+dt)['measurements']\n",
    "        x, y, z, ori_x, ori_y = f_measurement[:5]\n",
    "\n",
    "#         x, y, z, ori_x, ori_y, ori_z = f_measurement[:6]\n",
    "#         rot, loc = rotation(ori_x, ori_y, ori_z), np.array([x, y, z])\n",
    "#         inv_m = get_inv_matrix(rot, loc)\n",
    "\n",
    "        pixel_y, pixel_x = world_to_pixel(x,y,ox,oy,ori_ox,ori_oy,size=img_size)\n",
    "        pixel_x = pixel_x - (img_size-crop_size)//2\n",
    "        pixel_y = crop_size - (img_size-pixel_y)+70\n",
    "\n",
    "        pixel_x -= dx\n",
    "        pixel_y -= dy\n",
    "\n",
    "        angle = np.arctan2(ori_y, ori_x) - np.arctan2(ori_oy, ori_ox)\n",
    "        ori_dx, ori_dy = np.cos(angle), np.sin(angle)\n",
    "\n",
    "        locations.append([x, y, z])\n",
    "        orientations.append([ori_dx, ori_dy])\n",
    "\n",
    "\n",
    "    # Create mask\n",
    "    output_size = crop_size // down_ratio\n",
    "    heatmap_mask = np.zeros((n_step, output_size, output_size), dtype=np.float32)\n",
    "    regression_offset = np.zeros((n_step,2), np.float32)\n",
    "    indices = np.zeros((n_step), dtype=np.int64)\n",
    "\n",
    "    for i, (pixel_x, pixel_y, _) in enumerate(locations):\n",
    "        center = np.array(\n",
    "                [pixel_x / down_ratio, pixel_y / down_ratio],\n",
    "                dtype=np.float32)\n",
    "        center = np.clip(center, 0, output_size-1)\n",
    "        center_int = np.rint(center)\n",
    "\n",
    "        draw_msra_gaussian(heatmap_mask[i], center_int, gaussian_radius)\n",
    "        regression_offset[i] = center - center_int\n",
    "        indices[i] = center_int[1] * output_size + center_int[0]\n",
    "\n",
    "    out.append([segmentation, bird_view, np.array(locations), cmd, speed])\n",
    "    return np.array(out)"
   ]
  },
  {
   "cell_type": "code",
   "execution_count": null,
   "metadata": {
    "pycharm": {
     "name": "#%%\n"
    }
   },
   "outputs": [],
   "source": [
    "N_FIG = 6\n",
    "out_temp = []\n",
    "for i in range(N_FIG):\n",
    "    N = i + 10\n",
    "    temp = test_get_item(decode_frame(N)['birdview'], decode_frame(N)['segmentation'], decode_frame(N)['trafficlights'], decode_frame(N)['measurements'])\n",
    "    out_temp.append(temp)\n",
    "\n",
    "out_temp = np.array(out_temp)"
   ]
  },
  {
   "cell_type": "code",
   "execution_count": null,
   "metadata": {
    "pycharm": {
     "name": "#%%\n"
    }
   },
   "outputs": [],
   "source": [
    "REF_FRAME = 0\n",
    "NEXT_FRAME = 2"
   ]
  },
  {
   "cell_type": "code",
   "execution_count": null,
   "metadata": {
    "pycharm": {
     "name": "#%%\n"
    }
   },
   "outputs": [],
   "source": [
    "# Extract world coordinates from dataset\n",
    "world_coords = decode_frame(REF_FRAME)['measurements']\n",
    "world_x, world_y, world_z, _, _, _, _, _, cam_x, cam_y, cam_z, cam_yaw, cam_roll, cam_pitch = world_coords[:14]\n",
    "\n",
    "print(\"CURRENT LOCATION:\", world_x, world_y, world_z)\n",
    "# Get sensor transform\n",
    "sensor_transform = Transform(Location(cam_x, cam_y, cam_z), Rotation(cam_yaw, cam_roll, cam_pitch))"
   ]
  },
  {
   "cell_type": "code",
   "execution_count": null,
   "metadata": {
    "pycharm": {
     "name": "#%%\n"
    }
   },
   "outputs": [],
   "source": [
    "plt.figure(figsize=(12,60))\n",
    "\n",
    "for i in range(N_FIG):\n",
    "    # NEW SEG\n",
    "    plt.subplot(N_FIG, 2, (i*2)+1)\n",
    "    plt.imshow(out_temp[i][0][0][..., 6:9])\n",
    "    plt.scatter(out_temp[i][0][2][:,0], out_temp[i][0][2][:,1])\n",
    "\n",
    "    # OLD BIRDVIEW\n",
    "    plt.subplot(N_FIG, 2, (i*2)+2)\n",
    "    plt.imshow(out_temp[i][1][1][:, :, :3])\n",
    "    plt.scatter(out_temp[i][1][2][:,0], out_temp[i][1][2][:,1])\n",
    "\n",
    "plt.show()"
   ]
  },
  {
   "cell_type": "code",
   "execution_count": null,
   "metadata": {
    "pycharm": {
     "name": "#%%\n"
    }
   },
   "outputs": [],
   "source": [
    "plt.figure(figsize=(12,20))\n",
    "\n",
    "for i in range(N_FIG):\n",
    "    # NEW SEG\n",
    "    plt.subplot(N_FIG, 2, (i*2)+1)\n",
    "    plt.imshow(out_temp[i][0][0][..., 6:9])\n",
    "    plt.scatter(out_temp[i][0][2][:,0], out_temp[i][0][2][:,1])\n",
    "\n",
    "    # OLD BIRDVIEW\n",
    "    plt.subplot(N_FIG, 2, (i*2)+2)\n",
    "    plt.imshow(out_temp[i][1][1][:, :, :3])\n",
    "    plt.scatter(out_temp[i][1][2][:,0], out_temp[i][1][2][:,1])\n",
    "\n",
    "plt.show()"
   ]
  }
 ],
 "metadata": {
  "kernelspec": {
   "display_name": "Python 3 (ipykernel)",
   "language": "python",
   "name": "python3"
  },
  "language_info": {
   "codemirror_mode": {
    "name": "ipython",
    "version": 3
   },
   "file_extension": ".py",
   "mimetype": "text/x-python",
   "name": "python",
   "nbconvert_exporter": "python",
   "pygments_lexer": "ipython3",
   "version": "3.7.9"
  }
 },
 "nbformat": 4,
 "nbformat_minor": 4
}
