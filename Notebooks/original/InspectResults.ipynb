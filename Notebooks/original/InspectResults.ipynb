{
 "cells": [
  {
   "cell_type": "code",
   "execution_count": 150,
   "metadata": {},
   "outputs": [],
   "source": [
    "import numpy as np\n",
    "import csv\n",
    "import pandas as pd"
   ]
  },
  {
   "cell_type": "code",
   "execution_count": 151,
   "metadata": {},
   "outputs": [],
   "source": [
    "file = '30apr_stage0/benchmark/model-148/FullTown01-v1_seed0/summary.csv'\n",
    "\n",
    "\n",
    "def get_success_rate(df, timeout_failure=True):\n",
    "    if timeout_failure:\n",
    "        return len(df[df['success']==1.0]) / len(df)\n",
    "    \n",
    "    # check tick maximum\n",
    "    filtered_df = df[df['t'] < 10000]\n",
    "    \n",
    "    # check collisions\n",
    "    filtered_df = filtered_df[filtered_df['collided']==0.0]\n",
    "    global b \n",
    "    b = set(filtered_df.index)\n",
    "    return len(filtered_df) / len(df)"
   ]
  },
  {
   "cell_type": "code",
   "execution_count": 152,
   "metadata": {},
   "outputs": [],
   "source": [
    "df = pd.read_csv(file)\n",
    "df_fails = df[df['success'] == 0.0]\n",
    "a = set(df_fails.index)"
   ]
  },
  {
   "cell_type": "code",
   "execution_count": 153,
   "metadata": {},
   "outputs": [
    {
     "name": "stdout",
     "output_type": "stream",
     "text": [
      "0.75\n",
      "0.75\n"
     ]
    }
   ],
   "source": [
    "print(get_success_rate(df, timeout_failure=False))\n",
    "print(get_success_rate(df, timeout_failure=True))"
   ]
  },
  {
   "cell_type": "code",
   "execution_count": 154,
   "metadata": {},
   "outputs": [
    {
     "data": {
      "text/plain": [
       "0"
      ]
     },
     "execution_count": 154,
     "metadata": {},
     "output_type": "execute_result"
    }
   ],
   "source": [
    "interst = a.intersection(b)\n",
    "len(interst)"
   ]
  },
  {
   "cell_type": "code",
   "execution_count": 149,
   "metadata": {},
   "outputs": [
    {
     "data": {
      "text/plain": [
       "[]"
      ]
     },
     "execution_count": 149,
     "metadata": {},
     "output_type": "execute_result"
    }
   ],
   "source": [
    "sorted([(i ,\"_t{}_w{}\".format(int(df.iloc[i]['target']), int(df.iloc[i]['weather']))) for i in interst])"
   ]
  },
  {
   "cell_type": "code",
   "execution_count": null,
   "metadata": {},
   "outputs": [],
   "source": [
    "# 13, 40, 43, 51, 61, 63: waited for traffic light, even when turned green "
   ]
  },
  {
   "cell_type": "code",
   "execution_count": null,
   "metadata": {},
   "outputs": [],
   "source": [
    "# 56, 57, 58, 59, 68, 69, 70, 71: did not move from the start"
   ]
  },
  {
   "cell_type": "code",
   "execution_count": null,
   "metadata": {},
   "outputs": [],
   "source": [
    "# 94: stuck at side of road, but not collided"
   ]
  }
 ],
 "metadata": {
  "kernelspec": {
   "display_name": "Python 3",
   "language": "python",
   "name": "python3"
  },
  "language_info": {
   "codemirror_mode": {
    "name": "ipython",
    "version": 3
   },
   "file_extension": ".py",
   "mimetype": "text/x-python",
   "name": "python",
   "nbconvert_exporter": "python",
   "pygments_lexer": "ipython3",
   "version": "3.6.6"
  }
 },
 "nbformat": 4,
 "nbformat_minor": 4
}
